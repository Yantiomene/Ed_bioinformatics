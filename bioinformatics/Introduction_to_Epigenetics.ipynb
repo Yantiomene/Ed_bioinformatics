{
 "cells": [
  {
   "cell_type": "markdown",
   "metadata": {
    "id": "SKbjiq-fnUfC"
   },
   "source": [
    "<img src=\"materials/images/introduction-to-epigenetics-cover.png\"/>"
   ]
  },
  {
   "cell_type": "markdown",
   "metadata": {
    "id": "tBpCRdlqq9HZ"
   },
   "source": [
    "# **Introduction to Epigenetics**"
   ]
  },
  {
   "cell_type": "markdown",
   "metadata": {
    "id": "7p4oX5NvnUfG"
   },
   "source": [
    "`🕒 This module should take less than 1 hour to complete.`\n",
    "\n",
    "`✍️ This notebook is written using Python.`"
   ]
  },
  {
   "cell_type": "markdown",
   "metadata": {
    "id": "u08oWxC2rEmJ"
   },
   "source": [
    "Epigenetics is a field of study focused on changes in DNA that do not involve alterations to the underlying sequence. In comparison to static nature of the genome, epigenetics is dynamic, and change substantially during development, aging, cancers and in response to environmental exposure.\n",
    "\n",
    "Chemical modification of DNA and the protein that interact with DNA can change the degrees to which genes are switched **ON** or **OFF**, causing an effect on the phenotype. The most common epigenetic regulation include DNA methylation, histone modifications, and non-coding RNAs.\n",
    "\n",
    "The collection of all epigenetic changes in a genome is called an epigenome. In this module, you will learn approaches to study epigenomes, and interpret them."
   ]
  },
  {
   "cell_type": "markdown",
   "metadata": {
    "id": "3zQs1wVPnUfH"
   },
   "source": [
    "<img src=\"materials/images/epigenetic-regulation.png\"/>"
   ]
  },
  {
   "cell_type": "markdown",
   "metadata": {
    "id": "x-fhKf8bnUfH"
   },
   "source": [
    "<div class=\"alert alert-block alert-info\">\n",
    "<h3>⌨️ Keyboard shortcut</h3>\n",
    "\n",
    "These common shortcut could save your time going through this notebook:\n",
    "- Run the current cell: **`Enter + Shift`**.\n",
    "- Add a cell above the current cell: Press **`A`**.\n",
    "- Add a cell below the current cell: Press **`B`**.\n",
    "- Change a code cell to markdown cell: Select the cell, and then press **`M`**.\n",
    "- Delete a cell: Press **`D`** twice.\n",
    "\n",
    "Need more help with keyboard shortcut? Press **`H`** to look it up.\n",
    "</div>"
   ]
  },
  {
   "cell_type": "markdown",
   "metadata": {
    "id": "isXVBuMpnUfI"
   },
   "source": [
    "---"
   ]
  },
  {
   "cell_type": "markdown",
   "metadata": {
    "id": "S-Yi_R0IIEWO"
   },
   "source": [
    "## **Epigenetic regulation in development and disease**"
   ]
  },
  {
   "cell_type": "markdown",
   "metadata": {
    "id": "wq-ZyezhnUfJ"
   },
   "source": [
    "Here we have two examples around epigenetics regulation:\n",
    "\n",
    "1. The first example shows a stem cell uses epigenetic factors in the cell differentiation process."
   ]
  },
  {
   "cell_type": "markdown",
   "metadata": {
    "id": "h9gdjs7pnUfK"
   },
   "source": [
    "<img src=\"materials/images/epigenetic-regulation-development.png\"/>"
   ]
  },
  {
   "cell_type": "markdown",
   "metadata": {
    "id": "D0-rijsvIb9i"
   },
   "source": [
    "2. The second example indicates our lifestyle can switch ON or OFF genes. Studies show smoking and drinking turn on genes that are associated with the development of addiction."
   ]
  },
  {
   "cell_type": "markdown",
   "metadata": {
    "id": "riFW1b6JnUfK"
   },
   "source": [
    "<img src=\"materials/images/epigenetic-regulation-disease.png\"/>"
   ]
  },
  {
   "cell_type": "markdown",
   "metadata": {
    "id": "EO_UqDXlnUfK"
   },
   "source": [
    "---"
   ]
  },
  {
   "cell_type": "markdown",
   "metadata": {
    "id": "TrmeOrW1JUM1"
   },
   "source": [
    "## Epigenetic assays"
   ]
  },
  {
   "cell_type": "markdown",
   "metadata": {
    "id": "0Odpk0fpMCPc"
   },
   "source": [
    "**DNA methylation analysis**\n",
    "\n",
    "Cytosine methylation (5-methylcytosine, 5mC) is one of the main covalent base modifications in eukaryotic genomes, generally observed on CpG dinucleotides.  Once methyl compounds are present on a gene, the gene is muted, or turned off. As a result, no protein is generated. That is how DNA methylation regulates gene expression.\n",
    "\n",
    "Genome-wide DNA methylation can be mapped using either Whole Genome Bisulphite Sequencing (WBGS), Reduced-Representation Bisulfite Sequencing (RRBS), Methylation-sensitive Restriction Enzyme (MRE) and immunoprecipitation based assays."
   ]
  },
  {
   "cell_type": "markdown",
   "metadata": {
    "id": "8pTkP3vYnUfM"
   },
   "source": [
    "<img src=\"materials/images/dna-methylation.png\"/>"
   ]
  },
  {
   "cell_type": "markdown",
   "metadata": {
    "id": "A4QLQ18K-e4p"
   },
   "source": [
    "**Histone modification analysis**\n",
    "\n",
    "DNA is wrapped around a protein complex called the histone complex. Histones form a chain of beads along the DNA. Histone modifications at specific locations (e.g., lysine acetylation and methylation) can affect whether a gene is wrapped or unwrapped (\"ON\" versus \"OFF\"). This alters the expression of genes.\n",
    "\n",
    "Proteins that read genes cannot reach DNA wrapped tightly around histones. Consequently, this mechanism switches some genes off because the DNA is wrapped around the histone proteins, and is inaccessible to the proteins that read DNA to make RNA, whereas other genes get expressed because they are not wrapped around histones.\n",
    "\n",
    "Genome-wide histone modifications can be measured using ChIP-Sequencing. ChIP-Seq, a combination of chromatin immunoprecipitation (ChIP), and massively parallel sequencing, delves into the interactions between proteins, DNA, and RNA, revealing critical regulatory events in many biological processes and disease states. ChIP-Seq is used to identify transcription factor binding sites, track histone modifications across the genome, and constrain chromatin structure and function."
   ]
  },
  {
   "cell_type": "markdown",
   "metadata": {
    "id": "5-RXniaGnUfM"
   },
   "source": [
    "<img src=\"materials/images/histone-modification.png\"/>"
   ]
  },
  {
   "cell_type": "markdown",
   "metadata": {
    "id": "VX2TvFJ8nUfN"
   },
   "source": [
    "---"
   ]
  },
  {
   "cell_type": "markdown",
   "metadata": {
    "id": "z40Ie-cgM93G"
   },
   "source": [
    "## The data\n",
    "\n",
    "In this module we will take a look at the epigenome data (DNA methylation and histone modifications) from human reference epigenomes generated as part of **NIH Roadmap Epigenomics Program**. You can learn more at: https://egg2.wustl.edu/roadmap/web_portal/index.html\n",
    "\n",
    "\n",
    "**Differentially Methylated Region (DMR) calls across reference epigenomes**\n",
    "\n",
    "As a general resource for epigenomic comparisons across all epigenomes, Differentially Methylated Region (DMR) were defined using the Lister et al method (Lister et al., 2013), combining all Differentially Methylated Sites (DMSs) within 250bp of one another into a single DMR, and excluding any DMR with less than 3 DMSs.\n",
    "\n",
    "For each DMR in each sample, average methylation level was computed, weighted by the number of reads overlapping it (Schultz et al., 2012). This resulted in a methylation level matrix with rows of DMRs and columns of samples.\n",
    "\n",
    "**ChIP-seq peak calls**\n",
    "\n",
    "For each gene, a region of 10.000bp around the transcription start site of the gene is extracted (5000bp upstream and 5000bp downstream). This region is binned in 100 bins of 100bp. For each bin, five core histone modification marks are counted."
   ]
  },
  {
   "cell_type": "markdown",
   "metadata": {
    "id": "9Zo-qjbChjmL"
   },
   "source": [
    "**Whole Genome Bisulphite Sequencing data from 111 reference epigenomes**\n"
   ]
  },
  {
   "cell_type": "code",
   "execution_count": 1,
   "metadata": {
    "id": "QfrOTxQo0jax"
   },
   "outputs": [],
   "source": [
    "import sys\n",
    "import os\n",
    "# import pyathena\n",
    "import pandas as pd\n",
    "from pathlib import Path"
   ]
  },
  {
   "cell_type": "code",
   "execution_count": 2,
   "metadata": {
    "id": "xj1dx1YWDied"
   },
   "outputs": [
    {
     "name": "stderr",
     "output_type": "stream",
     "text": [
      "/tmp/ipykernel_125/3063898476.py:2: DtypeWarning: Columns (0) have mixed types. Specify dtype option on import or set low_memory=False.\n",
      "  wgbs = pd.read_csv(file_path, sep=\"\\t\")\n"
     ]
    }
   ],
   "source": [
    "file_path = Path(\"data\") / \"WGBS_DMRs_v2.tsv\"\n",
    "wgbs = pd.read_csv(file_path, sep=\"\\t\")"
   ]
  },
  {
   "cell_type": "code",
   "execution_count": 3,
   "metadata": {
    "id": "S7V1N53dGzzb"
   },
   "outputs": [
    {
     "name": "stdout",
     "output_type": "stream",
     "text": [
      "  chr  start    end  methylation_level_E003  methylation_level_E004  \\\n",
      "0   1  10469  10525                0.858447                0.900000   \n",
      "1   1  10577  10620                0.918367                0.944444   \n",
      "2   1  10641  10776                     NaN                     NaN   \n",
      "3   1  10931  11184                     NaN                     NaN   \n",
      "4   1  13417  13537                0.882353                1.000000   \n",
      "5   1  13823  14062                     NaN                     NaN   \n",
      "6   1  14553  15189                0.666667                0.912281   \n",
      "7   1  17406  17492                0.907216                0.904762   \n",
      "8   1  19132  19189                     NaN                     NaN   \n",
      "9   1  26790  27026                0.200000                0.733333   \n",
      "\n",
      "   methylation_level_E005  methylation_level_E006  methylation_level_E007  \\\n",
      "0                0.939236                0.952862                0.956916   \n",
      "1                0.943662                0.944785                0.910180   \n",
      "2                     NaN                0.843137                0.777778   \n",
      "3                     NaN                     NaN                     NaN   \n",
      "4                0.976562                0.968421                0.893204   \n",
      "5                     NaN                     NaN                     NaN   \n",
      "6                0.920000                0.912409                0.948905   \n",
      "7                0.935728                0.974026                0.961326   \n",
      "8                     NaN                     NaN                1.000000   \n",
      "9                0.638889                     NaN                0.625000   \n",
      "\n",
      "   methylation_level_E008  methylation_level_E011  ...  \\\n",
      "0                0.943662                0.957043  ...   \n",
      "1                0.653061                0.777778  ...   \n",
      "2                0.169811                0.390533  ...   \n",
      "3                     NaN                     NaN  ...   \n",
      "4                0.921986                0.917808  ...   \n",
      "5                     NaN                     NaN  ...   \n",
      "6                0.865772                0.843854  ...   \n",
      "7                0.928315                0.881089  ...   \n",
      "8                0.857143                0.722222  ...   \n",
      "9                0.590164                0.640000  ...   \n",
      "\n",
      "   methylation_level_E097  methylation_level_E098  methylation_level_E100  \\\n",
      "0                0.766798                0.822034                0.815094   \n",
      "1                0.526786                0.575342                0.687500   \n",
      "2                0.372093                0.280000                0.000000   \n",
      "3                0.000000                     NaN                0.000000   \n",
      "4                0.674419                0.491228                0.411765   \n",
      "5                0.375000                0.750000                0.250000   \n",
      "6                0.824324                0.797386                0.832061   \n",
      "7                0.857143                0.926724                0.950820   \n",
      "8                1.000000                0.916667                1.000000   \n",
      "9                0.422222                0.696970                0.540000   \n",
      "\n",
      "   methylation_level_E104  methylation_level_E105  \\\n",
      "0                0.809160                0.867347   \n",
      "1                0.645833                0.550725   \n",
      "2                0.054795                0.245283   \n",
      "3                0.000000                0.000000   \n",
      "4                0.543860                0.646154   \n",
      "5                0.428571                0.571429   \n",
      "6                0.651515                0.807229   \n",
      "7                0.923077                0.923077   \n",
      "8                1.000000                0.000000   \n",
      "9                0.750000                0.480000   \n",
      "\n",
      "   methylation_level_E106_STL001  methylation_level_E106_STL003  \\\n",
      "0                       0.829882                       0.922297   \n",
      "1                       0.616393                       0.680723   \n",
      "2                       0.785276                       0.705128   \n",
      "3                       0.565891                            NaN   \n",
      "4                       0.450382                       0.373737   \n",
      "5                       0.500000                            NaN   \n",
      "6                       0.911854                       0.881890   \n",
      "7                       0.968254                       0.945525   \n",
      "8                       0.937500                       1.000000   \n",
      "9                       0.791304                       0.705882   \n",
      "\n",
      "   methylation_level_E109  methylation_level_E112  methylation_level_E113  \n",
      "0                0.829787                0.884615                0.857741  \n",
      "1                0.676806                0.540000                0.662745  \n",
      "2                0.757303                0.868421                0.782918  \n",
      "3                0.604651                     NaN                0.473684  \n",
      "4                0.550000                0.425532                0.260870  \n",
      "5                0.666667                1.000000                0.900000  \n",
      "6                0.887147                0.977778                0.888268  \n",
      "7                0.926984                0.975000                0.972050  \n",
      "8                0.941176                     NaN                1.000000  \n",
      "9                0.918605                0.883721                0.666667  \n",
      "\n",
      "[10 rows x 43 columns]\n"
     ]
    }
   ],
   "source": [
    "print(wgbs.head(10))"
   ]
  },
  {
   "cell_type": "markdown",
   "metadata": {
    "id": "ZPDi-O93HAQh"
   },
   "source": [
    "The data matrix shows rows of DMRs and columns of samples including chromosome number, location 'start' and 'end'.\n",
    "\n",
    "1. `chr`: Chromosome.\n",
    "2. `start`: Start of the location.\n",
    "3. `end`: End of the location.\n",
    "\n",
    "Metadata on the samples used in the analysis are available for downloading below: https://docs.google.com/spreadsheets/d/1yikGx4MsO9Ei36b64yOy9Vb6oPC5IBGlFbYEt-N6gOM/edit#gid=15\n",
    "\n",
    "If the meta data link above doesn't work, you could download the file to your local:"
   ]
  },
  {
   "cell_type": "code",
   "execution_count": 4,
   "metadata": {
    "id": "ce65Xdy9VDP3"
   },
   "outputs": [
    {
     "data": {
      "text/html": [
       "\n",
       "<a download href=\"data/Roadmap.metadata.qc.jul2013.xlsx\"\n",
       "   style=\"font-family:system-ui;padding:8px 14px;border:1px solid #ccc;\n",
       "          border-radius:6px;text-decoration:none;\">\n",
       "  ⬇️ Download Roadmap.metadata.qc.jul2013.xlsx\n",
       "</a>\n"
      ],
      "text/plain": [
       "<IPython.core.display.HTML object>"
      ]
     },
     "execution_count": 4,
     "metadata": {},
     "output_type": "execute_result"
    }
   ],
   "source": [
    "from IPython.display import FileLink, HTML\n",
    "\n",
    "# absolute or relative path to the Excel file inside the notebook’s workspace\n",
    "file_path = \"data/Roadmap.metadata.qc.jul2013.xlsx\"\n",
    "\n",
    "# 1-click download link (renders as a hyperlink in the output cell)\n",
    "FileLink(file_path)\n",
    "\n",
    "# ――― optional: make it look like a button ―――\n",
    "HTML(f\"\"\"\n",
    "<a download href=\"{file_path}\"\n",
    "   style=\"font-family:system-ui;padding:8px 14px;border:1px solid #ccc;\n",
    "          border-radius:6px;text-decoration:none;\">\n",
    "  ⬇️ Download Roadmap.metadata.qc.jul2013.xlsx\n",
    "</a>\n",
    "\"\"\")\n"
   ]
  },
  {
   "cell_type": "markdown",
   "metadata": {
    "id": "eZP5b-nubun-"
   },
   "source": [
    "**Querying DNA methylation and histone modification states of genes in UCSC genome Browser**\n",
    "\n",
    "`FractionMethylation.tar.gz` files are used for visualization of DNA methylation states, and provides fractional methylation calls at CpG. It contains 25 files. One for each chromosome.\n",
    "\n",
    "Format of each file: Tab separated table CpGs (rows) X epigenomes (columns)\n",
    "Methylation calls are round to two decimal digits.\n",
    "\n",
    "Each file has the same matrix format:\n",
    "- The first column is a position of C or G in the CpG\n",
    "- The rest of the columns are epigenomes.\n",
    "\n",
    "Only CpG info is present (as it came from EDACC files); for those CpG where coverage was <=3 we - for both coverage and Methylation (as missing data)\n",
    "\n",
    "\n",
    "For ChIP-Seq data visualization, negative log10 of the Poisson p-value of ChIP-seq counts relative to expected background counts local were used. These signal confidence scores provides a measure of statistical significance of the observed enrichment.\n"
   ]
  },
  {
   "cell_type": "markdown",
   "metadata": {
    "id": "PZKoAswtV1b0"
   },
   "source": [
    "The NCBI RefSeq Genes composite track shows human protein-coding and non-protein-coding genes taken from the NCBI RNA reference sequences collection (RefSeq) [hg19 refGene]. You could learn more at the following:\n",
    "- https://hgdownload.cse.ucsc.edu/goldenPath/hg19/database/\n",
    "- https://genome.ucsc.edu/cgi-bin/hgTables?db=hg19&hgta_group=genes&hgta_track=refSeqComposite&hgta_table=refGene&hgta_doSchema=describe+table+schema (Schema for NCBI RefSeq - RefSeq genes from NCBI)"
   ]
  },
  {
   "cell_type": "markdown",
   "metadata": {
    "id": "7UtPkVopsDvB"
   },
   "source": [
    "Visualize DNA methylation and histone modification (an active marker-H3K4me3) here. http://genome.ucsc.edu/cgi-bin/hgTracks?db=hg19&lastVirtModeType=default&lastVirtModeExtraState=&virtModeType=default&virtMode=0&nonVirtPosition=&position=chr6%3A31128153%2D31142413&hgsid=1467202695_p1HPrLZa2tMzJREfrrGplnR1tNsc\n",
    "\n",
    "Compare Pou5f1 promoter methylation and H3K4me3 levels between ESCs and neuronal progenitor cultured cells. You could query other crucial genes in ESC maintenance for e.g., Nanog, Sox2. TDGF1, LEFTY1, GDF3, FOXD3 and in neuronal progenitor cells, PAX6, SIX3, LHX2, OTX2, PLZF, SOX1, FOXG1."
   ]
  },
  {
   "cell_type": "markdown",
   "metadata": {
    "id": "w5_9GYIUnUfR"
   },
   "source": [
    "<img src=\"materials/images/visualization.png\"/>"
   ]
  },
  {
   "cell_type": "markdown",
   "metadata": {
    "id": "_So-PcignUfS"
   },
   "source": [
    "---"
   ]
  },
  {
   "cell_type": "markdown",
   "metadata": {
    "id": "0tgywlN-erfg"
   },
   "source": [
    "**Reference**\n",
    "\n",
    "- Roadmap Epigenomics Consortium., Kundaje, A., Meuleman, W. et al. Integrative analysis of 111 reference human epigenomes. Nature 518, 317–330 (2015). https://doi.org/10.1038/nature14248.\n",
    "https://www.illumina.com/content/dam/illumina-marketing/documents/products/appnotes/appnote-methylseq-wgbs.pdf"
   ]
  },
  {
   "cell_type": "markdown",
   "metadata": {
    "id": "bdy7JX5lnUfT"
   },
   "source": [
    "---"
   ]
  },
  {
   "cell_type": "markdown",
   "metadata": {
    "id": "hRZHTuHhJcJv"
   },
   "source": [
    "# Contributions & acknowledgment\n",
    "\n",
    "Thank the following team to work on this module:\n",
    "\n",
    "- **Module Content:** Abtin Tondar, Mohan Babu\n",
    "- **Engineering:** Amit Dixit\n",
    "- **UX/UI Design & Illustration:** Kexin Cha\n",
    "- **Video Production:** Francesca Goncalves\n",
    "- **Project Management:** Amir Bahmani, Kexin Cha"
   ]
  },
  {
   "cell_type": "markdown",
   "metadata": {
    "id": "vaeM2qmvnUfV"
   },
   "source": [
    "---"
   ]
  },
  {
   "cell_type": "markdown",
   "metadata": {
    "id": "rSbRm64LJnhY"
   },
   "source": [
    "Copyright (c) 2022 Stanford Data Ocean (SDO)\n",
    "\n",
    "All rights reserved."
   ]
  }
 ],
 "metadata": {
  "colab": {
   "provenance": []
  },
  "kernelspec": {
   "display_name": "Python 3 (ipykernel)",
   "language": "python",
   "name": "python3"
  },
  "language_info": {
   "codemirror_mode": {
    "name": "ipython",
    "version": 3
   },
   "file_extension": ".py",
   "mimetype": "text/x-python",
   "name": "python",
   "nbconvert_exporter": "python",
   "pygments_lexer": "ipython3",
   "version": "3.12.10"
  }
 },
 "nbformat": 4,
 "nbformat_minor": 4
}
