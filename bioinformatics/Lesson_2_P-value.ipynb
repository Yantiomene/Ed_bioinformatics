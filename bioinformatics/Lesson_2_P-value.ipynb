{
 "cells": [
  {
   "cell_type": "markdown",
   "id": "5bde2b6a",
   "metadata": {
    "id": "5bde2b6a"
   },
   "source": [
    "<img src=\"materials/images/introduction-to-statistics-II-cover.png\"/>"
   ]
  },
  {
   "cell_type": "markdown",
   "id": "9e20d48a",
   "metadata": {
    "id": "9e20d48a"
   },
   "source": [
    "\n",
    "# 👋 Welcome, before you start\n",
    "<br>\n",
    "\n",
    "### 📚 Module overview\n",
    "\n",
    "We will go through eleven lessons with you:\n",
    "    \n",
    "- [**Lesson 1: Z-score**](Lesson_1_Z-score.ipynb)\n",
    "\n",
    "- <font color=#E98300>**Lesson 2: P-value**</font>    `📍You are here.`\n",
    "\n",
    "- [**Lesson 3: Welchs T-test**](Lesson_3_Welchs_T-test.ipynb)\n",
    "\n",
    "- [**Lesson 4: Log2 Fold Change**](Lesson_4_Log2_Fold_Change.ipynb)\n",
    "\n",
    "- [**Lesson 5: Pearson Correlation**](Lesson_5_Pearson_Correlation.ipynb)\n",
    "\n",
    "- [**Lesson 6: Spearman Correlation**](Lesson_6_Spearman_Correlation.ipynb)\n",
    "\n",
    "- [**Lesson 7: False Discovery Rate**](Lesson_7_False_Discovery_Rate.ipynb)\n",
    "\n",
    "- [**Lesson 8: Benjamini Hochberg**](Lesson_8_Benjamini_Hochberg.ipynb)\n",
    "\n",
    "- [**Lesson 9: Dimensionality Reduction Methods: Principal Component Analysis**](Lesson_9_Dimensionality_Reduction_Methods_Principal_Component_Analysis.ipynb)\n",
    "\n",
    "- [**Lesson 10: Dimensionality Reduction Methods: t-SNE**](Lesson_10_Dimensionality_Reduction_Methods_t-SNE.ipynb)\n",
    "\n",
    "- [**Lesson 11: UMAP**](Lesson_11_UMAP.ipynb)\n",
    "</br>\n",
    "\n",
    "\n",
    "\n",
    "<div class=\"alert alert-block alert-info\">\n",
    "<h3>⌨️ Keyboard shortcut</h3>\n",
    "\n",
    "These common shortcut could save your time going through this notebook:\n",
    "- Run the current cell: **`Enter + Shift`**.\n",
    "- Add a cell above the current cell: Press **`A`**.\n",
    "- Add a cell below the current cell: Press **`B`**.\n",
    "- Change a code cell to markdown cell: Select the cell, and then press **`M`**.\n",
    "- Delete a cell: Press **`D`** twice.\n",
    "\n",
    "Need more help with keyboard shortcut? Press **`H`** to look it up.\n",
    "</div>"
   ]
  },
  {
   "cell_type": "markdown",
   "id": "7ec27c23",
   "metadata": {
    "id": "7ec27c23"
   },
   "source": [
    "---"
   ]
  },
  {
   "cell_type": "markdown",
   "id": "c83f4ca9",
   "metadata": {
    "id": "c83f4ca9"
   },
   "source": [
    "# Lesson 2: P-value "
   ]
  },
  {
   "cell_type": "markdown",
   "id": "cc03dd85",
   "metadata": {
    "id": "cc03dd85"
   },
   "source": [
    "The term <mark>**p-value**</mark> is used when you want to test a hypothesis. Let's look at an example."
   ]
  },
  {
   "cell_type": "markdown",
   "id": "44be8ba1",
   "metadata": {
    "id": "44be8ba1"
   },
   "source": [
    "`🕒 This module should take about 15 minutes to complete.`\n",
    "\n",
    "`✍️ This notebook is written using Python.`"
   ]
  },
  {
   "cell_type": "markdown",
   "id": "5e094339",
   "metadata": {
    "id": "5e094339"
   },
   "source": [
    "---"
   ]
  },
  {
   "cell_type": "markdown",
   "id": "d2615cdb",
   "metadata": {
    "id": "d2615cdb"
   },
   "source": [
    "<img src=\"materials/images/images_p-value/delivery_service.png\"/>"
   ]
  },
  {
   "cell_type": "markdown",
   "id": "e2f86468",
   "metadata": {
    "id": "e2f86468"
   },
   "source": [
    "Let's say that you believe that your food delivery service has gotten slower recently. You determine that previous delivery times averaged right at about 30 minutes, but you believe that it has slowed significantly over the last month or so. \n",
    "\n",
    "You decide to test your hypothesis. Over the next month, you decide to time each of your food deliveries. You are able to collect about 20 samples, and it turns out that the average delivery time is 37 minutes. Can you say that the previous average of 30 minutes and the average of 37 minutes that you recently collected are significantly different? \n",
    "\n",
    "In other words, are the delivery times actually slower, or did you just happen to get a few slower delivery persons by chance while, on the whole, the delivery times actually remain at the 30-minute average?"
   ]
  },
  {
   "cell_type": "markdown",
   "id": "882d1bfb",
   "metadata": {
    "id": "882d1bfb"
   },
   "source": [
    "## Null Hypothesis versus Alternative Hypothesis\n",
    "\n",
    "When you establish a hypothesis, it's typically stated in the form of the status quo. For example, in this case, you would state that there is no difference in average delivery times between the current deliveries and previous deliveries (known as the **null hypothesis**). \n",
    "\n",
    "You will try to gather evidence against this hypothesis in order to support your belief (**alternative hypothesis**) that there is a significant difference between the time it takes to have food delivered currently versus a few months ago. "
   ]
  },
  {
   "cell_type": "markdown",
   "id": "9a5bea91",
   "metadata": {
    "id": "9a5bea91"
   },
   "source": [
    "<img src=\"materials/images/images_p-value/hypothesis.png\"/>"
   ]
  },
  {
   "cell_type": "markdown",
   "id": "52cab973",
   "metadata": {
    "id": "52cab973"
   },
   "source": [
    "You will use your gathered results to test whether the null hypothesis or alternative hypothesis is most likely. However, technically, you are only testing the evidence against the null hypothesis."
   ]
  },
  {
   "cell_type": "markdown",
   "id": "3c0bd88b",
   "metadata": {
    "id": "3c0bd88b"
   },
   "source": [
    "## Hypothesis Testing"
   ]
  },
  {
   "cell_type": "markdown",
   "id": "b207675e",
   "metadata": {
    "id": "b207675e"
   },
   "source": [
    "You would like to test the significance of your observed difference between previous and current delivery times. Is the 7-minute difference (30 minutes previously versus your recently obtained average of 37 minutes) significant, or is it just **<mark> due to randomness in your 20 samples**?"
   ]
  },
  {
   "cell_type": "markdown",
   "id": "dfd39a68",
   "metadata": {
    "id": "dfd39a68"
   },
   "source": [
    "### Significance levels\n",
    "The level of statistical significance is often expressed as the so-called **p-value** (probability value). You will calculate the probability of observing your sample results (or more extreme), given that the null hypothesis is true. In other words, if there really is no difference between previous and current delivery times, how likely would it be to see a difference as large as (or larger than) that which you observed in your samples? "
   ]
  },
  {
   "cell_type": "markdown",
   "id": "7b2955c3",
   "metadata": {
    "id": "7b2955c3"
   },
   "source": [
    "### p-value"
   ]
  },
  {
   "cell_type": "markdown",
   "id": "ccdb5c5c",
   "metadata": {
    "id": "ccdb5c5c"
   },
   "source": [
    "Let's say that, after evaluating your results, you get a p-value of 0.04 (p = .04). This means that there is a 4% chance of finding a difference as large as (or larger than) the one that you obtained, given that the null hypothesis is true. In terms of significance, typically a p-value of 0.05 is used as the threshold. This is interpreted as, assuming that the null hypothesis is true, if there is a 5% chance or less of observing a difference as extreme (or larger) as you observed, you would reject the null hypothesis, and accept the alternative hypothesis. Alternately, if the probability was greater than 0.05, you would fail to reject the null hypothesis. This is because the result that you obtained could happen too frequently by chance to be confident that the current delivery times are truly different from previous deliveries."
   ]
  },
  {
   "cell_type": "markdown",
   "id": "ba0aac74",
   "metadata": {
    "id": "ba0aac74"
   },
   "source": [
    "<div class=\"alert alert-block alert-warning\">\n",
    "    <b>Alert:</b> Note that you cannot accept the null hypothesis, but only <mark>reject</mark>, and find evidence against it.\n",
    "</div>"
   ]
  },
  {
   "cell_type": "markdown",
   "id": "f986f115",
   "metadata": {
    "id": "f986f115"
   },
   "source": [
    "In our example, where p = .04, you would **reject the null hypothesis, and accept the alternative hypothesis** that current delivery times are significantly slower than previous deliveries. "
   ]
  },
  {
   "cell_type": "markdown",
   "id": "5ac136e9",
   "metadata": {
    "id": "5ac136e9"
   },
   "source": [
    "<div class=\"alert alert-block alert-info\">\n",
    "<b>Tip:</b> A p-value of 0.05 is commonly used as the threshold for significance. However, when increased confidence is desired, a more stringent p-value of 0.01 may be used.\n",
    "</div>"
   ]
  },
  {
   "cell_type": "markdown",
   "id": "2652ecb2",
   "metadata": {
    "id": "2652ecb2"
   },
   "source": [
    "# Understanding the p-value"
   ]
  },
  {
   "cell_type": "markdown",
   "id": "8d90b793",
   "metadata": {
    "id": "8d90b793"
   },
   "source": [
    "- The p-value or calculated probability provides a universal language to interpret test results.\n",
    "- The p-value is a number between 0 and 1 that provides the statistical significance of hypothesis testing.\n",
    "- The p-value tests whether there is enough evidence to reject the null hypothesis.\n",
    "\n",
    "## Interpreting significance\n",
    "\n",
    "#### p-value less than 0.05\n",
    "- A small p-value (< 0.05) indicates that the result is possible, but not very likely under the null hypothesis.\n",
    "- Thus, for a hypothesis with a p-value less than 0.05, the null hypothesis is rejected, and the alternative hypothesis is accepted.\n",
    "- This suggests that the results of the study are statistically significant.\n",
    "\n",
    "#### p-value greater than 0.05\n",
    "-  If the p-value is large (> 0.05), it indicates weak evidence against the null hypothesis.\n",
    "- Thus, for a hypothesis with a p-value greater than 0.05, the null hypothesis is not rejected, and the alternative hypothesis is not accepted.\n",
    "- This indicates that the results of the study are not statistically significant."
   ]
  },
  {
   "cell_type": "markdown",
   "id": "c70c7455",
   "metadata": {
    "id": "c70c7455"
   },
   "source": [
    "---"
   ]
  },
  {
   "cell_type": "markdown",
   "id": "d0391d02",
   "metadata": {
    "id": "d0391d02"
   },
   "source": [
    "# 🌟 Ready for the next one?\n",
    "<br>\n",
    "\n",
    "    \n",
    "- [**Lesson 3: Welchs T-test**](Lesson_3_Welchs_T-test.ipynb)\n",
    "\n",
    "- [**Lesson 4: Log2 Fold Change**](Lesson_4_Log2_Fold_Change.ipynb)\n",
    "\n",
    "- [**Lesson 5: Pearson Correlation**](Lesson_5_Pearson_Correlation.ipynb)\n",
    "\n",
    "- [**Lesson 6: Spearman Correlation**](Lesson_6_Spearman_Correlation.ipynb)\n",
    "\n",
    "- [**Lesson 7: False Discovery Rate**](Lesson_7_False_Discovery_Rate.ipynb)\n",
    "\n",
    "- [**Lesson 8: Benjamini Hochberg**](Lesson_8_Benjamini_Hochberg.ipynb)\n",
    "\n",
    "- [**Lesson 9: Dimensionality Reduction Methods: Principal Component Analysis**](Lesson_9_Dimensionality_Reduction_Methods_Principal_Component_Analysis.ipynb)\n",
    "\n",
    "- [**Lesson 10: Dimensionality Reduction Methods: t-SNE**](Lesson_10_Dimensionality_Reduction_Methods_t-SNE.ipynb)\n",
    "\n",
    "- [**Lesson 11: UMAP**](Lesson_11_UMAP.ipynb)\n",
    "</br>"
   ]
  },
  {
   "cell_type": "markdown",
   "id": "6f81f89f",
   "metadata": {
    "id": "6f81f89f"
   },
   "source": [
    "---"
   ]
  },
  {
   "cell_type": "markdown",
   "id": "afe68e99",
   "metadata": {
    "id": "afe68e99"
   },
   "source": [
    "# Contributions & acknowledgment"
   ]
  },
  {
   "cell_type": "markdown",
   "id": "190726d9",
   "metadata": {
    "id": "190726d9"
   },
   "source": [
    "Thanks Antony Ross for contributing the content for this notebook."
   ]
  },
  {
   "cell_type": "markdown",
   "id": "2a6a7461",
   "metadata": {
    "id": "2a6a7461"
   },
   "source": [
    "---"
   ]
  },
  {
   "cell_type": "markdown",
   "id": "971e31d1",
   "metadata": {
    "id": "971e31d1"
   },
   "source": [
    "Copyright (c) 2022 Stanford Data Ocean (SDO)\n",
    "\n",
    "All rights reserved."
   ]
  }
 ],
 "metadata": {
  "colab": {
   "provenance": []
  },
  "kernelspec": {
   "display_name": "Python 3 (ipykernel)",
   "language": "python",
   "name": "python3"
  },
  "language_info": {
   "codemirror_mode": {
    "name": "ipython",
    "version": 3
   },
   "file_extension": ".py",
   "mimetype": "text/x-python",
   "name": "python",
   "nbconvert_exporter": "python",
   "pygments_lexer": "ipython3",
   "version": "3.10.9"
  }
 },
 "nbformat": 4,
 "nbformat_minor": 5
}
