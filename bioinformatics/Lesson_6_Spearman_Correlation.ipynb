{
 "cells": [
  {
   "cell_type": "markdown",
   "id": "5bde2b6a",
   "metadata": {
    "id": "5bde2b6a"
   },
   "source": [
    "<img src=\"materials/images/introduction-to-statistics-II-cover.png\"/>"
   ]
  },
  {
   "cell_type": "markdown",
   "id": "5c746beb",
   "metadata": {
    "id": "5c746beb"
   },
   "source": [
    "\n",
    "# 👋 Welcome, before you start\n",
    "<br>\n",
    "\n",
    "### 📚 Module overview\n",
    "\n",
    "We will go through eleven lessons with you:\n",
    "    \n",
    "- [**Lesson 1: Z-score**](Lesson_1_Z-score.ipynb)\n",
    "\n",
    "- [**Lesson 2: P-value**](Lesson_2_P-value.ipynb)\n",
    "\n",
    "- [**Lesson 3: Lesson 3: Welchs T-test**](Lesson_3_Welchs_T-test.ipynb)\n",
    "\n",
    "- [**Lesson 4: Log2 Fold Change**](Lesson_4_Log2_Fold_Change.ipynb)\n",
    "\n",
    "- [**Lesson 5: Pearson Correlation**](Lesson_5_Pearson_Correlation.ipynb)\n",
    "\n",
    "- <font color=#E98300>**Lesson 6: Spearman Correlation**</font>    `📍You are here.`\n",
    "\n",
    "- [**Lesson 7: False Discovery Rate**](Lesson_7_False_Discovery_Rate.ipynb)\n",
    "\n",
    "- [**Lesson 8: Benjamini Hochberg**](Lesson_8_Benjamini_Hochberg.ipynb)\n",
    "\n",
    "- [**Lesson 9: Dimensionality Reduction Methods: Principal Component Analysis**](Lesson_9_Dimensionality_Reduction_Methods_Principal_Component_Analysis.ipynb)\n",
    "\n",
    "- [**Lesson 10: Dimensionality Reduction Methods: t-SNE**](Lesson_10_Dimensionality_Reduction_Methods_t-SNE.ipynb)\n",
    "\n",
    "- [**Lesson 11: UMAP**](Lesson_11_UMAP.ipynb)\n",
    "</br>\n",
    "\n",
    "\n",
    "\n",
    "<div class=\"alert alert-block alert-info\">\n",
    "<h3>⌨️ Keyboard shortcut</h3>\n",
    "\n",
    "These common shortcut could save your time going through this notebook:\n",
    "- Run the current cell: **`Enter + Shift`**.\n",
    "- Add a cell above the current cell: Press **`A`**.\n",
    "- Add a cell below the current cell: Press **`B`**.\n",
    "- Change a code cell to markdown cell: Select the cell, and then press **`M`**.\n",
    "- Delete a cell: Press **`D`** twice.\n",
    "\n",
    "Need more help with keyboard shortcut? Press **`H`** to look it up.\n",
    "</div>"
   ]
  },
  {
   "cell_type": "markdown",
   "id": "12d0784b",
   "metadata": {
    "id": "12d0784b"
   },
   "source": [
    "---"
   ]
  },
  {
   "cell_type": "markdown",
   "id": "07d161db",
   "metadata": {
    "id": "07d161db"
   },
   "source": [
    "# Lesson 6: Spearman Correlation"
   ]
  },
  {
   "cell_type": "markdown",
   "id": "dfc0eb89",
   "metadata": {
    "id": "dfc0eb89"
   },
   "source": [
    "`🕒 This module should take about 15 minutes to complete.`\n",
    "\n",
    "`✍️ This notebook is written using Python.`"
   ]
  },
  {
   "cell_type": "markdown",
   "id": "f86f5e09",
   "metadata": {
    "id": "f86f5e09"
   },
   "source": [
    "Correlation between two variables is a measure of the extent to which they tend to change together. The <mark>**Spearman's rank-order correlation coefficient** </mark> (or Spearman's correlation) is a measure of the strength and direction of association that exists between two ranked variables assumed to be monotonic (i.e. the direction of the relationship remains unchanged). The figure below illustrates a monotonic relationship."
   ]
  },
  {
   "cell_type": "markdown",
   "id": "ebc95608",
   "metadata": {
    "id": "ebc95608"
   },
   "source": [
    "<img src=\"materials/images/images_spearman_correlation/monotonic.png\"/>"
   ]
  },
  {
   "cell_type": "markdown",
   "id": "7e4274da",
   "metadata": {
    "id": "7e4274da"
   },
   "source": [
    "Spearman's correlation measures the strength and direction of the monotonic relationship between two variables. (Pearson's correlation measures the strength and direction of the linear relationship, when a change in one variable is proportional to the change in another). Monotonicity is not as restrictive as that of a linear relationship. For example, the middle image above shows a relationship that is monotonic but not linear. In a monotonic relationship, the variables tend to change together, but not necessarily at a constant rate. The Spearman's correlation coefficient is based on the ranked values for each variable rather than the raw data."
   ]
  },
  {
   "cell_type": "markdown",
   "id": "268ed000",
   "metadata": {
    "id": "268ed000"
   },
   "source": [
    "## When to use Spearman's correlation"
   ]
  },
  {
   "cell_type": "markdown",
   "id": "74659aa2",
   "metadata": {
    "id": "74659aa2"
   },
   "source": [
    "In order to use Spearman's correlation, the two variables should be be measured on an ordinal, interval or ratio scale. However, both variables do not need to be measured on the same scale (one variable can be ratio and one can be ordinal). The test may also be used for data that has failed the assumptions necessary for conducting Pearson's correlation (e.g., if the data is not normally distributed)."
   ]
  },
  {
   "cell_type": "markdown",
   "id": "8cd29d3b",
   "metadata": {
    "id": "8cd29d3b"
   },
   "source": [
    "## Guidelines for interpreting Spearman's correlation coefficient:"
   ]
  },
  {
   "cell_type": "markdown",
   "id": "9a5bea91",
   "metadata": {
    "id": "9a5bea91"
   },
   "source": [
    "<img src=\"materials/images/images_spearman_correlation/corr.png\"/>"
   ]
  },
  {
   "cell_type": "markdown",
   "id": "9e086b38",
   "metadata": {
    "id": "9e086b38"
   },
   "source": [
    "The Spearman's correlation coefficient can take values from +1 to -1. A correlation of +1 indicates a perfect positive association of ranks (as the rank of one variable increases, so does the rank of the other variable). A correlation score of zero indicates no association between ranks. And a correlation of -1 indicates a perfect negative association of ranks (as the rank of one variable increases, the rank of the other variable decreases). The further the correlation is from zero, the stronger the association between the ranks."
   ]
  },
  {
   "cell_type": "markdown",
   "id": "de93c59c",
   "metadata": {
    "id": "de93c59c"
   },
   "source": [
    "---"
   ]
  },
  {
   "cell_type": "markdown",
   "id": "3b6f2e59",
   "metadata": {
    "id": "3b6f2e59"
   },
   "source": [
    "# Correlation Example"
   ]
  },
  {
   "cell_type": "markdown",
   "id": "49b36dd7",
   "metadata": {
    "id": "49b36dd7"
   },
   "source": [
    "<img src=\"materials/images/images_spearman_correlation/gre_univrating.png\"/>"
   ]
  },
  {
   "cell_type": "markdown",
   "id": "4ba1a012",
   "metadata": {
    "id": "4ba1a012"
   },
   "source": [
    "To explore Spearman's correlation, we will import data of students, who applied to a university graduate program. Spearman's correlation is often used to evaluate relationships involving ordinal variables. For example, we can use Spearman's to explore the correlation between  **GRE Score** (a continuous variable) and **University Rating** (an ordinal variable). "
   ]
  },
  {
   "cell_type": "markdown",
   "id": "9c4bb99d",
   "metadata": {
    "id": "9c4bb99d"
   },
   "source": [
    "### ✅ `Run` each of the cells below:"
   ]
  },
  {
   "cell_type": "code",
   "execution_count": null,
   "id": "c6722834",
   "metadata": {
    "id": "c6722834"
   },
   "outputs": [],
   "source": [
    "import pandas as pd\n",
    "import matplotlib.pyplot as plt\n",
    "import seaborn as sns"
   ]
  },
  {
   "cell_type": "code",
   "execution_count": null,
   "id": "babded53",
   "metadata": {
    "id": "babded53"
   },
   "outputs": [],
   "source": [
    "df = pd.read_csv(\"data/data_spearman_correlation/grad_admit.csv\")\n",
    "df = df.drop([\"Serial No.\", \"Research\"], axis=1)\n",
    "\n",
    "# Preview the first 5 rows\n",
    "df.head()"
   ]
  },
  {
   "cell_type": "markdown",
   "id": "03ab6337",
   "metadata": {
    "id": "03ab6337"
   },
   "source": [
    "### Spearman's correlation coefficient"
   ]
  },
  {
   "cell_type": "markdown",
   "id": "de1d27ba",
   "metadata": {
    "id": "de1d27ba"
   },
   "source": [
    "Let's run a Spearman's correlation between GRE Score and University Rating."
   ]
  },
  {
   "cell_type": "code",
   "execution_count": null,
   "id": "03fefff4",
   "metadata": {
    "id": "03fefff4"
   },
   "outputs": [],
   "source": [
    "df[[\"GRE Score\", \"University Rating\"]].corr(method=\"spearman\")"
   ]
  },
  {
   "cell_type": "markdown",
   "id": "aba55ae8",
   "metadata": {
    "id": "aba55ae8"
   },
   "source": [
    "The <mark>**correlation of 0.676**</mark> indicates that there is a farily strong relationship between the rating of the university attended and an applicant's GRE score."
   ]
  },
  {
   "cell_type": "markdown",
   "id": "6d9f9c42",
   "metadata": {
    "id": "6d9f9c42"
   },
   "source": [
    "---"
   ]
  },
  {
   "cell_type": "markdown",
   "id": "13bc0546",
   "metadata": {
    "id": "13bc0546"
   },
   "source": [
    "# Other relationships\n",
    "\n",
    "**Pearson** correlation coefficients measure only <mark>linear relationships</mark>. **Spearman's** correlation coefficients measure only <mark>monotonic relationships</mark>. Thus, a meaningful relationship can exist even if the correlation coefficients are 0. This happens when the relationship is nonlinear. See the example below:"
   ]
  },
  {
   "cell_type": "markdown",
   "id": "9aaef038",
   "metadata": {
    "id": "9aaef038"
   },
   "source": [
    "<img src=\"materials/images/images_spearman_correlation/nonlinear.png\"/>"
   ]
  },
  {
   "cell_type": "markdown",
   "id": "148e53ca",
   "metadata": {
    "id": "148e53ca"
   },
   "source": [
    "The relationship illustarated in the figure above is not linear so the Pearson and Spearman correlations will be approximately 0 even though the relationship appears to be significant. It is often useful to examine a scatterplot or pairplot to determine the form of any relationships that may be present."
   ]
  },
  {
   "cell_type": "markdown",
   "id": "67882c26",
   "metadata": {
    "id": "67882c26"
   },
   "source": [
    "### Pairplot"
   ]
  },
  {
   "cell_type": "code",
   "execution_count": null,
   "id": "bf1e0834",
   "metadata": {
    "id": "bf1e0834"
   },
   "outputs": [],
   "source": [
    "import seaborn as sns\n",
    "\n",
    "sns.set_palette(\"Set1\")\n",
    "sns.pairplot(data=df, hue=\"Admitted\");\n",
    "plt.show()"
   ]
  },
  {
   "cell_type": "markdown",
   "id": "f52d9cbf",
   "metadata": {
    "id": "f52d9cbf"
   },
   "source": [
    "---"
   ]
  },
  {
   "cell_type": "markdown",
   "id": "56ee5595",
   "metadata": {
    "id": "56ee5595"
   },
   "source": [
    "# 🌟 Ready for the next one?\n",
    "<br>\n",
    "\n",
    "- [**Lesson 7: False Discovery Rate**](Lesson_7_False_Discovery_Rate.ipynb)\n",
    "\n",
    "- [**Lesson 8: Benjamini Hochberg**](Lesson_8_Benjamini_Hochberg.ipynb)\n",
    "\n",
    "- [**Lesson 9: Dimensionality Reduction Methods: Principal Component Analysis**](Lesson_9_Dimensionality_Reduction_Methods_Principal_Component_Analysis.ipynb)\n",
    "\n",
    "- [**Lesson 10: Dimensionality Reduction Methods: t-SNE**](Lesson_10_Dimensionality_Reduction_Methods_t-SNE.ipynb)\n",
    "\n",
    "- [**Lesson 11: UMAP**](Lesson_11_UMAP.ipynb)\n",
    "</br>"
   ]
  },
  {
   "cell_type": "markdown",
   "id": "001556c0",
   "metadata": {
    "id": "001556c0"
   },
   "source": [
    "---"
   ]
  },
  {
   "cell_type": "markdown",
   "id": "afe68e99",
   "metadata": {
    "id": "afe68e99"
   },
   "source": [
    "# Contributions & acknowledgment"
   ]
  },
  {
   "cell_type": "markdown",
   "id": "190726d9",
   "metadata": {
    "id": "190726d9"
   },
   "source": [
    "Thanks Antony Ross for contributing the content for this notebook."
   ]
  },
  {
   "cell_type": "markdown",
   "id": "2a6a7461",
   "metadata": {
    "id": "2a6a7461"
   },
   "source": [
    "---"
   ]
  },
  {
   "cell_type": "markdown",
   "id": "971e31d1",
   "metadata": {
    "id": "971e31d1"
   },
   "source": [
    "Copyright (c) 2022 Stanford Data Ocean (SDO)\n",
    "\n",
    "All rights reserved."
   ]
  }
 ],
 "metadata": {
  "colab": {
   "provenance": []
  },
  "kernelspec": {
   "display_name": "Python 3 (ipykernel)",
   "language": "python",
   "name": "python3"
  },
  "language_info": {
   "codemirror_mode": {
    "name": "ipython",
    "version": 3
   },
   "file_extension": ".py",
   "mimetype": "text/x-python",
   "name": "python",
   "nbconvert_exporter": "python",
   "pygments_lexer": "ipython3",
   "version": "3.10.9"
  }
 },
 "nbformat": 4,
 "nbformat_minor": 5
}
