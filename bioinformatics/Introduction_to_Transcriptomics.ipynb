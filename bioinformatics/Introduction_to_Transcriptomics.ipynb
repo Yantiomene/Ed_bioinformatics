{
 "cells": [
  {
   "cell_type": "markdown",
   "id": "5567cbe2",
   "metadata": {
    "id": "5567cbe2"
   },
   "source": [
    "<img src=\"materials/images/introduction-to-transcriptomics-cover.png\"/>"
   ]
  },
  {
   "cell_type": "markdown",
   "id": "d9155c62",
   "metadata": {
    "id": "d9155c62"
   },
   "source": [
    "# Introduction to Transcriptomics"
   ]
  },
  {
   "cell_type": "markdown",
   "id": "aa239f04",
   "metadata": {
    "id": "aa239f04"
   },
   "source": [
    "`🕒 This module should take less than 1 hour to complete.`\n",
    "\n",
    "`✍️ This notebook is written using R.`"
   ]
  },
  {
   "cell_type": "markdown",
   "id": "e32d983f",
   "metadata": {
    "id": "e32d983f"
   },
   "source": [
    "<img src=\"materials/images/central-dogma.png\"/>\n"
   ]
  },
  {
   "cell_type": "markdown",
   "id": "d870743f",
   "metadata": {
    "id": "d870743f"
   },
   "source": [
    "# What is the transcriptome?\n",
    "\n",
    "The **transcriptome** is the complete set of RNA transcripts and their quantity that are produced by the genome, under specific circumstances, e.g., specific developmental stage or physiological condition, or in a specific cell."
   ]
  },
  {
   "cell_type": "markdown",
   "id": "3779419a",
   "metadata": {
    "id": "3779419a"
   },
   "source": [
    "<img src=\"materials/images/types_of_rna.png\"/>"
   ]
  },
  {
   "cell_type": "markdown",
   "id": "41ad5c34",
   "metadata": {
    "id": "41ad5c34"
   },
   "source": [
    "# What is transcriptomics?\n",
    "\n",
    "**Transcriptomics** is the study of the transcriptome using high-throughput sequencing (HTS) methods, such as next-generation sequencing (NGS).\n",
    "\n"
   ]
  },
  {
   "cell_type": "markdown",
   "id": "41b64d41",
   "metadata": {
    "id": "41b64d41"
   },
   "source": [
    "# What is RNA-Seq?\n",
    "\n",
    "**RNA-Seq** (RNA Sequencing) is a revolutionary tool for transcriptomics that enables transcriptome-profiling.\n",
    "\n",
    "**Bulk RNA-Seq** captures only an “average” of the expression profiles of thousands of cells. \n",
    "\n",
    "**Single-cell RNA-Seq (scRNA-Seq)** allows the capture of individual measurements across thousands of isolated single cells.\n",
    "\n",
    "**Single-nucleus RNA-Seq (snRNA-Seq)** profiles gene expression in cells which are difficult to isolate, such as those from tissues that are archived or which are hard to be dissociated. It is an alternative to scRNA-Seq as it analyzes nuclei instead of intact cells. "
   ]
  },
  {
   "cell_type": "markdown",
   "id": "ef68db26",
   "metadata": {
    "id": "ef68db26"
   },
   "source": [
    "<img src=\"materials/images/rnaseq_overview.png\"/>"
   ]
  },
  {
   "cell_type": "markdown",
   "id": "66735725",
   "metadata": {
    "id": "66735725"
   },
   "source": [
    "# Common RNA-Seq Analysis Goals\n",
    "\n",
    "* Transcriptome assembly and profiling\n",
    "* Novel transcript discovery\n",
    "* Quantify alternative splicing\n",
    "* Precise measurement of levels of transcripts (genes and isoforms)\n",
    "* Identification of differentially-expressed genes (DEGs) between treatments or cell populations\n",
    "* Single-cell transcriptomics (scRNA-Seq) to identify novel cell types"
   ]
  },
  {
   "cell_type": "markdown",
   "id": "05a0babb",
   "metadata": {
    "id": "05a0babb"
   },
   "source": [
    "<img src=\"materials/images/bulk_sc_rnaseq_contrasts.png\"/>\n",
    "\n",
    "**Bulk RNA-Seq** shows no change in expression of *Gene X* between the two samples.\n",
    "\n",
    "**scRNA-Seq** detects a change in expression of *Gene X* between the two samples in *Cell type b* but not in *Cell type c*."
   ]
  },
  {
   "cell_type": "markdown",
   "id": "ca165eed",
   "metadata": {
    "id": "ca165eed"
   },
   "source": [
    "<img src=\"materials/images/pros_cons.png\"/>"
   ]
  },
  {
   "cell_type": "markdown",
   "id": "f4467d82",
   "metadata": {
    "id": "f4467d82"
   },
   "source": [
    "<img src=\"materials/images/sc_vs_sn_rnaseq.png\"/>"
   ]
  },
  {
   "cell_type": "markdown",
   "id": "8bcbbd41",
   "metadata": {
    "id": "8bcbbd41"
   },
   "source": [
    "<img src=\"materials/images/bulk_rnaseq_workflow.png\"/>"
   ]
  },
  {
   "cell_type": "markdown",
   "id": "806608ce",
   "metadata": {
    "id": "806608ce"
   },
   "source": [
    "<img src=\"materials/images/scrnaseq_workflow.png\"/>"
   ]
  },
  {
   "cell_type": "markdown",
   "id": "2ebea390",
   "metadata": {
    "id": "2ebea390"
   },
   "source": [
    "<img src=\"materials/images/file_formats.png\"/>\n",
    "\n",
    "The reference genome sequence is typically represented in FASTA format (file suffix *.fa* or *.fasta*).\n",
    "\n",
    "The Gene Transfer Format (GTF) is a file format used to hold information about the gene structure of the reference genome (file suffix *.gtf*).\n",
    "\n",
    "The RNA-Seq reads (sequences) from sequenced samples are typically represented in the FASTQ format (file suffix *.fq* or *.fastq*).\n",
    "\n",
    "FASTQ files are mapped (aligned) to the reference genome to yield Sequence Alignment Map (SAM) files. Compressed binary versions of SAM files used to represent aligned sequences are referred to as BAM files (file suffix *.bam*)."
   ]
  },
  {
   "cell_type": "markdown",
   "id": "3796d6c0",
   "metadata": {
    "id": "3796d6c0"
   },
   "source": [
    "<img src=\"materials/images/demo_background.png\"/>"
   ]
  },
  {
   "cell_type": "markdown",
   "id": "91c5ffda",
   "metadata": {
    "id": "91c5ffda"
   },
   "source": [
    "<img src=\"materials/images/demo_dataset.png\"/>"
   ]
  },
  {
   "cell_type": "markdown",
   "id": "2b81b763",
   "metadata": {
    "id": "2b81b763"
   },
   "source": [
    "<img src=\"materials/images/star_rsem_deseq2_pipeline.png\"/>\n",
    "\n",
    "**STAR** splice-aware mapper was used to map sample FASTQs against the human hg38 reference.\n",
    "\n",
    "**RSEM** was used for transcript quantification to yield the gene counts file *rsem.merged.gene_counts.tsv*.\n",
    "\n",
    "Sample metadata is in file *coldata.tsv*."
   ]
  },
  {
   "cell_type": "markdown",
   "id": "31a33521",
   "metadata": {
    "id": "31a33521"
   },
   "source": [
    "# Exercise\n",
    "\n",
    "Let us proceed to find differentially-expressed genes (DEGs) for OHT vs. Control and DPN vs. Control contrasts using the **DESeq2** R package and generate Heatmaps and Volcano Plots for the most significant DEGs.\n",
    "\n",
    "A **Heatmap** is a data visualization technique that shows magnitude of a phenomenon as color in two dimensions. \n",
    "\n",
    "A **Volcano Plot** is a type of scatterplot that shows statistical significance (P-value) versus magnitude of change (Fold Change). It is useful for identifying DEGs that differ significantly between two groups of experimental subjects."
   ]
  },
  {
   "cell_type": "code",
   "execution_count": null,
   "id": "8Np5RfrY4Sp3",
   "metadata": {
    "id": "8Np5RfrY4Sp3"
   },
   "outputs": [],
   "source": [
    "# R package imports\n",
    "library(\"DESeq2\")\n",
    "library(\"pheatmap\")\n",
    "library(\"ggplot2\")\n",
    "library(\"EnhancedVolcano\")"
   ]
  },
  {
   "cell_type": "code",
   "execution_count": null,
   "id": "3dfb168e",
   "metadata": {
    "id": "3dfb168e"
   },
   "outputs": [],
   "source": [
    "# Set plot dimensions\n",
    "options(repr.plot.width=20, repr.plot.height=10)"
   ]
  },
  {
   "cell_type": "code",
   "execution_count": null,
   "id": "4110b464",
   "metadata": {
    "id": "4110b464"
   },
   "outputs": [],
   "source": [
    "# Read and process count matrix\n",
    "countdata <- read.table('data/rsem.merged.gene_counts.tsv', header = TRUE, sep = \"\\t\", row.names = 1) #start at column 1\n",
    "countdata <- subset(countdata, select = -transcript_id.s.) #remove 'transcript_id.s.' column\n",
    "countdata <- round(countdata,0) #round to integers\n",
    "dim(countdata)\n",
    "head(countdata)"
   ]
  },
  {
   "cell_type": "code",
   "execution_count": null,
   "id": "5606e094",
   "metadata": {
    "id": "5606e094"
   },
   "outputs": [],
   "source": [
    "# Read and process sample metadata table\n",
    "coldata <- read.table('data/coldata.tsv', header = TRUE, sep = \"\\t\", row.names = 1) #start at column 1\n",
    "coldata$condition <- factor(coldata$condition)\n",
    "coldata$patient <- factor(coldata$patient)\n",
    "dim(coldata)\n",
    "coldata"
   ]
  },
  {
   "cell_type": "code",
   "execution_count": null,
   "id": "19ff36ba",
   "metadata": {
    "id": "19ff36ba"
   },
   "outputs": [],
   "source": [
    "# CHECK: columns of the count matrix and the rows of the column data are in the same order\n",
    "all(colnames(countdata) == rownames(coldata))"
   ]
  },
  {
   "cell_type": "code",
   "execution_count": null,
   "id": "5b2b0dab",
   "metadata": {
    "id": "5b2b0dab"
   },
   "outputs": [],
   "source": [
    "# Differential Expression Analysis using DESeq2\n",
    "dds <- DESeqDataSetFromMatrix(countData = countdata, colData = coldata, design = ~ patient + condition) #measure the effect of the condition controlling for patient differences\n",
    "keep <- rowSums(counts(dds)) > 0 #pre-filter to remove rows that have no counts\n",
    "dds <- dds[keep,]\n",
    "dds <- DESeq(dds)\n",
    "resultsNames(dds)\n",
    "levels(dds$condition)\n",
    "levels(dds$patient)\n",
    "dim(dds)"
   ]
  },
  {
   "cell_type": "code",
   "execution_count": null,
   "id": "185114d2",
   "metadata": {
    "id": "185114d2"
   },
   "outputs": [],
   "source": [
    "# Variance stabilizing transformation (VST)\n",
    "vsd <- vst(dds, blind=FALSE)\n",
    "head(assay(vsd))"
   ]
  },
  {
   "cell_type": "code",
   "execution_count": null,
   "id": "1d838787",
   "metadata": {
    "id": "1d838787",
    "scrolled": false
   },
   "outputs": [],
   "source": [
    "# Principal Component Analysis (PCA) of the samples\n",
    "pcaData <- plotPCA(vsd, intgroup=c(\"condition\", \"patient\"), returnData=TRUE)\n",
    "percentVar <- round(100 * attr(pcaData, \"percentVar\"))\n",
    "ggplot(pcaData, aes(PC1, PC2, color=patient, shape=condition)) +\n",
    "  geom_point(size=3) +\n",
    "  geom_text_repel(aes(label = rownames(pcaData))) +\n",
    "  xlab(paste0(\"PC1: \",percentVar[1],\"% variance\")) +\n",
    "  ylab(paste0(\"PC2: \",percentVar[2],\"% variance\")) + \n",
    "  coord_fixed()"
   ]
  },
  {
   "cell_type": "code",
   "execution_count": null,
   "id": "a5d4a05d",
   "metadata": {
    "id": "a5d4a05d"
   },
   "outputs": [],
   "source": [
    "# Set test and control cases\n",
    "test <- \"OHT\"\n",
    "control <- \"Control\""
   ]
  },
  {
   "cell_type": "code",
   "execution_count": null,
   "id": "884b6718",
   "metadata": {
    "id": "884b6718",
    "scrolled": true
   },
   "outputs": [],
   "source": [
    "# Run differential expression for selected contrast\n",
    "res <- results(dds, contrast=c(\"condition\",test,control))\n",
    "resOrdered <- res[order(res$padj),] #order by adjusted pvalue (FDR)\n",
    "head(resOrdered)"
   ]
  },
  {
   "cell_type": "code",
   "execution_count": null,
   "id": "f6a415bb",
   "metadata": {
    "id": "f6a415bb"
   },
   "outputs": [],
   "source": [
    "# Define annotation columns\n",
    "df <- as.data.frame(colData(dds)[,c(\"condition\",\"patient\")])"
   ]
  },
  {
   "cell_type": "code",
   "execution_count": null,
   "id": "7e9cd943",
   "metadata": {
    "id": "7e9cd943"
   },
   "outputs": [],
   "source": [
    "# Heatmap of top N=20 genes by adjusted pvalue (FDR)\n",
    "N <- 20\n",
    "sigGenes <- head(row.names(resOrdered), N)\n",
    "mat  <- assay(vsd)[sigGenes,]\n",
    "selectedSamples <- rownames(subset(coldata, coldata$condition %in% c(test, control)))\n",
    "mat <- mat[,colnames(mat) %in% selectedSamples]\n",
    "mat <- mat - rowMeans(mat) #row mean centering\n",
    "paste(test,'vs.',control,'Heatmap top',N,'genes sorted by FDR')\n",
    "pheatmap(mat, cluster_rows=TRUE, show_rownames=TRUE, cluster_cols=TRUE, annotation_col=df)"
   ]
  },
  {
   "cell_type": "code",
   "execution_count": null,
   "id": "c115314e",
   "metadata": {
    "id": "c115314e"
   },
   "outputs": [],
   "source": [
    "# Volcano Plot\n",
    "EnhancedVolcano(res,\n",
    "    lab = rownames(res),\n",
    "    x = 'log2FoldChange',\n",
    "    y = 'padj',\n",
    "    xlim = c(-2, 2),\n",
    "    ylim = c(0, -log10(10e-5)),\n",
    "    title = paste(test,'vs.',control,'Volcano Plot'),\n",
    "    pCutoff = 0.05,\n",
    "    FCcutoff = 0.2,\n",
    "    pointSize = 4.0,\n",
    "    labSize = 6.0,\n",
    "    legendPosition = \"right\",\n",
    "    legendLabSize = 12,\n",
    "    legendIconSize = 4.0,\n",
    "    drawConnectors = TRUE,\n",
    "    widthConnectors = 0.75,\n",
    "    boxedLabels = TRUE)"
   ]
  },
  {
   "cell_type": "code",
   "execution_count": null,
   "id": "58af854e",
   "metadata": {
    "id": "58af854e"
   },
   "outputs": [],
   "source": [
    "# Set test and control cases\n",
    "test <- \"DPN\"\n",
    "control <- \"Control\""
   ]
  },
  {
   "cell_type": "code",
   "execution_count": null,
   "id": "3b817015",
   "metadata": {
    "id": "3b817015"
   },
   "outputs": [],
   "source": [
    "# Run differential expression for selected contrast\n",
    "res <- results(dds, contrast=c(\"condition\",test,control))\n",
    "resOrdered <- res[order(res$padj),] #order by adjusted pvalue (FDR)\n",
    "head(resOrdered)"
   ]
  },
  {
   "cell_type": "code",
   "execution_count": null,
   "id": "4abea002",
   "metadata": {
    "id": "4abea002"
   },
   "outputs": [],
   "source": [
    "# Heatmap of top N=20 genes by adjusted pvalue (FDR)\n",
    "N <- 20\n",
    "sigGenes <- head(row.names(resOrdered), N)\n",
    "mat  <- assay(vsd)[sigGenes,]\n",
    "selectedSamples <- rownames(subset(coldata, coldata$condition %in% c(test, control)))\n",
    "mat <- mat[,colnames(mat) %in% selectedSamples]\n",
    "mat <- mat - rowMeans(mat) #row mean centering\n",
    "paste(test,'vs.',control,'Heatmap top',N,'genes sorted by FDR')\n",
    "pheatmap(mat, cluster_rows=TRUE, show_rownames=TRUE, cluster_cols=TRUE, annotation_col=df)"
   ]
  },
  {
   "cell_type": "code",
   "execution_count": null,
   "id": "3cfe9abf",
   "metadata": {
    "id": "3cfe9abf"
   },
   "outputs": [],
   "source": [
    "# Volcano Plot\n",
    "EnhancedVolcano(res,\n",
    "    lab = rownames(res),\n",
    "    x = 'log2FoldChange',\n",
    "    y = 'padj',\n",
    "    xlim = c(-2, 2),\n",
    "    ylim = c(0, -log10(10e-12)),\n",
    "    title = paste(test,'vs.',control,'Volcano Plot'),\n",
    "    pCutoff = 0.05,\n",
    "    FCcutoff = 0.2,\n",
    "    pointSize = 4.0,\n",
    "    labSize = 6.0,\n",
    "    legendPosition = \"right\",\n",
    "    legendLabSize = 12,\n",
    "    legendIconSize = 4.0,\n",
    "    drawConnectors = TRUE,\n",
    "    widthConnectors = 0.75,\n",
    "    boxedLabels = TRUE)"
   ]
  },
  {
   "cell_type": "markdown",
   "id": "125f1580",
   "metadata": {
    "id": "125f1580"
   },
   "source": [
    "# References\n",
    "\n",
    "[1] Palazzo and Lee. doi: 10.3389/fgene.2015.00002\n",
    "\n",
    "[2] Kukurba and Montgomery. (2015) Cold Spring Harb Protoc 2015(11):951–969\n",
    "\n",
    "[3] Dmitry Velmeshev, UCSF\n",
    "\n",
    "[4] Iqbal et al. Arteriosclerosis, Thrombosis, and Vascular Biology. 2021;41:585–600\n",
    "\n",
    "[5] Method of the Year 2013. Nat Methods 11, 1 (2014)\n",
    "\n",
    "[6] https://lizard.bio/blog/single-cell-vs-bulk/\n",
    "\n",
    "[7] https://hbctraining.github.io/Intro-to-rnaseq-hpc-O2/lessons/03_alignment.html\n",
    "\n",
    "[8] https://www.bioinformatics.babraham.ac.uk/projects/fastqc/\n",
    "\n",
    "[9] Ewels et al. Bioinformatics (2016) doi: 10.1093/bioinformatics/btw354\n",
    "\n",
    "[10] https://www.bioinformatics.babraham.ac.uk/projects/trim_galore/\n",
    "\n",
    "[11] Dobin et al. Bioinformatics, 2013 Jan; 29(1): 15–21\n",
    "\n",
    "[12] Kim et al. Nature Biotechnology 37, 907–915 (2019)\n",
    "\n",
    "[13] Patro et al. Nature Methods volume 14, 417–419 (2017)\n",
    "\n",
    "[14] Bray et al. Nature Biotechnology 34, 525–527 (2016)\n",
    "\n",
    "[15] Anders and Huber. Genome Biol 11, R106 (2010)\n",
    "\n",
    "[16] Robinson and Oshlack. Genome Biol 11, R25 (2010)\n",
    "\n",
    "[17] Liao et al. Bioinformatics, 30(7):923-30 (2014)\n",
    "\n",
    "[18] Anders et al. bioRxiv 2014. doi: 10.1101/002824\n",
    "\n",
    "[19] Korotkevich et al. bioRxiv 2019. doi: 10.1101/060012\n",
    "\n",
    "[20] Li et al. (2009). 25(16):2078-9\n",
    "\n",
    "[21] Robinson et al. Nature Biotechnology 29:24–26 (2011)\n",
    "\n",
    "[22] https://samtools.github.io/hts-specs/SAMv1.pdf\n",
    "\n",
    "[23] Luecken and Theis. Mol Syst Biol (2019)15:e8746\n",
    "\n",
    "[24] Djebali et al. Methods Mol Biol 2017 1468:201-219\n",
    "\n",
    "[25] Haglund et al. J Clin Endocrinol Metab, December 2012, 97(12):4631–4639\n",
    "\n",
    "[26] https://www.labpedia.net/parathyroid-hormone-pth/"
   ]
  },
  {
   "cell_type": "markdown",
   "id": "M7RHaxbfEGM3",
   "metadata": {
    "id": "M7RHaxbfEGM3"
   },
   "source": [
    "---"
   ]
  },
  {
   "cell_type": "markdown",
   "id": "fXI9ESEAEHsv",
   "metadata": {
    "id": "fXI9ESEAEHsv"
   },
   "source": [
    "# Contributions & acknowledgment\n",
    "\n",
    "Thank the following team to work on this module:\n",
    "\n",
    "- **Module Content:** Ramesh V Nair\n",
    "- **Engineering:** Amit Dixit\n",
    "- **UX/UI Design & Illustration:** Ramesh V Nair, Kexin Cha\n",
    "- **Video Production:** Francesca Goncalves\n",
    "- **Project Management:** Amir Bahmani, Kexin Cha"
   ]
  },
  {
   "cell_type": "markdown",
   "id": "49-lZv7HEVb8",
   "metadata": {
    "id": "49-lZv7HEVb8"
   },
   "source": [
    "---"
   ]
  },
  {
   "cell_type": "markdown",
   "id": "KWKvPyt4EWgr",
   "metadata": {
    "id": "KWKvPyt4EWgr"
   },
   "source": [
    "Copyright (c) 2022 Stanford Data Ocean (SDO)\n",
    "\n",
    "All rights reserved."
   ]
  }
 ],
 "metadata": {
  "colab": {
   "provenance": []
  },
  "kernelspec": {
   "display_name": "R",
   "language": "R",
   "name": "ir"
  },
  "language_info": {
   "codemirror_mode": "r",
   "file_extension": ".r",
   "mimetype": "text/x-r-source",
   "name": "R",
   "pygments_lexer": "r",
   "version": "4.2.2"
  }
 },
 "nbformat": 4,
 "nbformat_minor": 5
}
