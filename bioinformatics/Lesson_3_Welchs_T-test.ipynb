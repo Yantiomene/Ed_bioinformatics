{
 "cells": [
  {
   "cell_type": "markdown",
   "id": "5bde2b6a",
   "metadata": {
    "id": "5bde2b6a"
   },
   "source": [
    "<img src=\"materials/images/introduction-to-statistics-II-cover.png\"/>"
   ]
  },
  {
   "cell_type": "markdown",
   "id": "82a280a7",
   "metadata": {
    "id": "82a280a7"
   },
   "source": [
    "\n",
    "# 👋 Welcome, before you start\n",
    "<br>\n",
    "\n",
    "### 📚 Module overview\n",
    "\n",
    "We will go through eleven lessons with you:\n",
    "    \n",
    "- [**Lesson 1: Z-score**](Lesson_1_Z-score.ipynb)\n",
    "\n",
    "- [**Lesson 2: P-value**](Lesson_2_P-value.ipynb)\n",
    "\n",
    "- <font color=#E98300>**Lesson 3: Welchs T-test**</font>    `📍You are here.`\n",
    "\n",
    "- [**Lesson 4: Log2 Fold Change**](Lesson_4_Log2_Fold_Change.ipynb)\n",
    "\n",
    "- [**Lesson 5: Pearson Correlation**](Lesson_5_Pearson_Correlation.ipynb)\n",
    "\n",
    "- [**Lesson 6: Spearman Correlation**](Lesson_6_Spearman_Correlation.ipynb)\n",
    "\n",
    "- [**Lesson 7: False Discovery Rate**](Lesson_7_False_Discovery_Rate.ipynb)\n",
    "\n",
    "- [**Lesson 8: Benjamini Hochberg**](Lesson_8_Benjamini_Hochberg.ipynb)\n",
    "\n",
    "- [**Lesson 9: Dimensionality Reduction Methods: Principal Component Analysis**](Lesson_9_Dimensionality_Reduction_Methods_Principal_Component_Analysis.ipynb)\n",
    "\n",
    "- [**Lesson 10: Dimensionality Reduction Methods: t-SNE**](Lesson_10_Dimensionality_Reduction_Methods_t-SNE.ipynb)\n",
    "\n",
    "- [**Lesson 11: UMAP**](Lesson_11_UMAP.ipynb)\n",
    "</br>\n",
    "\n",
    "\n",
    "\n",
    "<div class=\"alert alert-block alert-info\">\n",
    "<h3>⌨️ Keyboard shortcut</h3>\n",
    "\n",
    "These common shortcut could save your time going through this notebook:\n",
    "- Run the current cell: **`Enter + Shift`**.\n",
    "- Add a cell above the current cell: Press **`A`**.\n",
    "- Add a cell below the current cell: Press **`B`**.\n",
    "- Change a code cell to markdown cell: Select the cell, and then press **`M`**.\n",
    "- Delete a cell: Press **`D`** twice.\n",
    "\n",
    "Need more help with keyboard shortcut? Press **`H`** to look it up.\n",
    "</div>"
   ]
  },
  {
   "cell_type": "markdown",
   "id": "0cd12a26",
   "metadata": {
    "id": "0cd12a26"
   },
   "source": [
    "---"
   ]
  },
  {
   "cell_type": "markdown",
   "id": "4344e4e2",
   "metadata": {
    "id": "4344e4e2"
   },
   "source": [
    "# Lesson 3: Welchs T-test"
   ]
  },
  {
   "cell_type": "markdown",
   "id": "cc03dd85",
   "metadata": {
    "id": "cc03dd85"
   },
   "source": [
    "<mark>**Welch’s t-test**</mark> (also called Welch’s t-test for unequal variances) is a modification of the commonly used Student's t-test to see if two sample means are significantly different. The modification tends to increase the test power for samples with unequal variances."
   ]
  },
  {
   "cell_type": "markdown",
   "id": "62eb35d5",
   "metadata": {
    "id": "62eb35d5"
   },
   "source": [
    "`🕒 This module should take about 15 minutes to complete.`\n",
    "\n",
    "`✍️ This notebook is written using Python.`"
   ]
  },
  {
   "cell_type": "markdown",
   "id": "13e1ad77",
   "metadata": {
    "id": "13e1ad77"
   },
   "source": [
    "---"
   ]
  },
  {
   "cell_type": "markdown",
   "id": "edae6669",
   "metadata": {
    "id": "edae6669"
   },
   "source": [
    "# Comparing the means of two independent groups\n",
    "Let's use Welch's t-test to evaluate a hypothesis about how different study groups perform on a test."
   ]
  },
  {
   "cell_type": "markdown",
   "id": "62bf7fba",
   "metadata": {
    "id": "62bf7fba"
   },
   "source": [
    "<img src=\"materials/images/images_welchs_t-test/study_group.png\"/>"
   ]
  },
  {
   "cell_type": "markdown",
   "id": "bab39ac9",
   "metadata": {
    "id": "bab39ac9"
   },
   "source": [
    "Consider an example where we have two independent study groups preparing for an upcoming exam. One group meets in person to prepare for the exam. The other group meets virtually over the Internet to prepare. Subsequently, we evaluate their exam scores to determine if there is a significant difference between the two groups' performances on the exam."
   ]
  },
  {
   "cell_type": "markdown",
   "id": "429e4f51",
   "metadata": {
    "id": "429e4f51"
   },
   "source": [
    "We would like to test the following hypothesis:"
   ]
  },
  {
   "cell_type": "markdown",
   "id": "0c0c75ba",
   "metadata": {
    "id": "0c0c75ba"
   },
   "source": [
    "<img src=\"materials/images/images_welchs_t-test/hypothesis.png\"/>"
   ]
  },
  {
   "cell_type": "markdown",
   "id": "027a6e37",
   "metadata": {
    "id": "027a6e37"
   },
   "source": [
    "### ✅ `Run` each of the cells below:"
   ]
  },
  {
   "cell_type": "code",
   "execution_count": null,
   "id": "bMnmaJww5DpO",
   "metadata": {
    "id": "bMnmaJww5DpO"
   },
   "outputs": [],
   "source": [
    "import scipy.stats as stats\n",
    "import numpy as np"
   ]
  },
  {
   "cell_type": "markdown",
   "id": "f82709d4",
   "metadata": {
    "id": "f82709d4"
   },
   "source": [
    "### Exam scores for the two groups\n",
    "Let's say that the following scores are how each group performed on the exam:"
   ]
  },
  {
   "cell_type": "code",
   "execution_count": null,
   "id": "65462797",
   "metadata": {
    "id": "65462797"
   },
   "outputs": [],
   "source": [
    "in_person_group = np.array([64, 75, 79, 86, 73, 88, 65, 87, 82, 74, 79, 90, 91, 84, 76])\n",
    "virtual_group = np.array([66, 57, 74, 67, 54, 68, 78, 89, 79, 74, 87, 92, 64, 66, 93])"
   ]
  },
  {
   "cell_type": "markdown",
   "id": "fbaa2971",
   "metadata": {
    "id": "fbaa2971"
   },
   "source": [
    "### The in-person group's mean and variance:"
   ]
  },
  {
   "cell_type": "code",
   "execution_count": null,
   "id": "d66ec425",
   "metadata": {
    "id": "d66ec425"
   },
   "outputs": [],
   "source": [
    "in_person_group.mean()"
   ]
  },
  {
   "cell_type": "code",
   "execution_count": null,
   "id": "39c45774",
   "metadata": {
    "id": "39c45774"
   },
   "outputs": [],
   "source": [
    "in_person_group.var()"
   ]
  },
  {
   "cell_type": "markdown",
   "id": "f8b549d7",
   "metadata": {
    "id": "f8b549d7"
   },
   "source": [
    "### The virtual group's mean and variance:"
   ]
  },
  {
   "cell_type": "code",
   "execution_count": null,
   "id": "f5aa4cd2",
   "metadata": {
    "id": "f5aa4cd2"
   },
   "outputs": [],
   "source": [
    "virtual_group.mean()"
   ]
  },
  {
   "cell_type": "code",
   "execution_count": null,
   "id": "4cdcf92f",
   "metadata": {
    "id": "4cdcf92f"
   },
   "outputs": [],
   "source": [
    "virtual_group.var()"
   ]
  },
  {
   "cell_type": "markdown",
   "id": "36ca679b",
   "metadata": {
    "id": "36ca679b"
   },
   "source": [
    "The two groups' variances look to be different. We would like to test whether the average exam score of **79.5** from the in-person study group is significantly better than the average exam score of **73.8** from the virtual study group (or whether this difference could occur by chance). We'll conduct Welch's t-test to evaluate our hypothesis."
   ]
  },
  {
   "cell_type": "markdown",
   "id": "512a63ee",
   "metadata": {
    "id": "512a63ee"
   },
   "source": [
    "## Conduct Welch's t-test"
   ]
  },
  {
   "cell_type": "code",
   "execution_count": null,
   "id": "6e146266",
   "metadata": {
    "id": "6e146266"
   },
   "outputs": [],
   "source": [
    "# By setting equal_var to False, the Welch’s t-test will be conducted\n",
    "\n",
    "stats.ttest_ind(in_person_group, virtual_group, equal_var = False)"
   ]
  },
  {
   "cell_type": "markdown",
   "id": "a088c771",
   "metadata": {
    "id": "a088c771"
   },
   "source": [
    "### Interpretation of the Output:"
   ]
  },
  {
   "cell_type": "markdown",
   "id": "081c7666",
   "metadata": {
    "id": "081c7666"
   },
   "source": [
    "The test statistic turns out to be 1.47 and the corresponding p-value is 0.15. Here, the p-value is not less than typically sought after 0.05 so we fail to reject the null hypothesis and conclude that, from these samples, the difference between the in-person and virtual study groups' mean exam scores is not significant. (See p-value for more information.)"
   ]
  },
  {
   "cell_type": "markdown",
   "id": "ae54f7c6",
   "metadata": {
    "id": "ae54f7c6"
   },
   "source": [
    "---"
   ]
  },
  {
   "cell_type": "markdown",
   "id": "d81511eb",
   "metadata": {
    "id": "d81511eb"
   },
   "source": [
    "# 🌟 Ready for the next one?\n",
    "<br>\n",
    "\n",
    "- [**Lesson 4: Log2 Fold Change**](Lesson_4_Log2_Fold_Change.ipynb)\n",
    "\n",
    "- [**Lesson 5: Pearson Correlation**](Lesson_5_Pearson_Correlation.ipynb)\n",
    "\n",
    "- [**Lesson 6: Spearman Correlation**](Lesson_6_Spearman_Correlation.ipynb)\n",
    "\n",
    "- [**Lesson 7: False Discovery Rate**](Lesson_7_False_Discovery_Rate.ipynb)\n",
    "\n",
    "- [**Lesson 8: Benjamini Hochberg**](Lesson_8_Benjamini_Hochberg.ipynb)\n",
    "\n",
    "- [**Lesson 9: Dimensionality Reduction Methods: Principal Component Analysis**](Lesson_9_Dimensionality_Reduction_Methods_Principal_Component_Analysis.ipynb)\n",
    "\n",
    "- [**Lesson 10: Dimensionality Reduction Methods: t-SNE**](Lesson_10_Dimensionality_Reduction_Methods_t-SNE.ipynb)\n",
    "\n",
    "- [**Lesson 11: UMAP**](Lesson_11_UMAP.ipynb)\n",
    "</br>"
   ]
  },
  {
   "cell_type": "markdown",
   "id": "001556c0",
   "metadata": {
    "id": "001556c0"
   },
   "source": [
    "---"
   ]
  },
  {
   "cell_type": "markdown",
   "id": "afe68e99",
   "metadata": {
    "id": "afe68e99"
   },
   "source": [
    "# Contributions & acknowledgment"
   ]
  },
  {
   "cell_type": "markdown",
   "id": "190726d9",
   "metadata": {
    "id": "190726d9"
   },
   "source": [
    "Thanks Antony Ross for contributing the content for this notebook."
   ]
  },
  {
   "cell_type": "markdown",
   "id": "2a6a7461",
   "metadata": {
    "id": "2a6a7461"
   },
   "source": [
    "---"
   ]
  },
  {
   "cell_type": "markdown",
   "id": "971e31d1",
   "metadata": {
    "id": "971e31d1"
   },
   "source": [
    "Copyright (c) 2022 Stanford Data Ocean (SDO)\n",
    "\n",
    "All rights reserved."
   ]
  }
 ],
 "metadata": {
  "colab": {
   "provenance": []
  },
  "kernelspec": {
   "display_name": "Python 3 (ipykernel)",
   "language": "python",
   "name": "python3"
  },
  "language_info": {
   "codemirror_mode": {
    "name": "ipython",
    "version": 3
   },
   "file_extension": ".py",
   "mimetype": "text/x-python",
   "name": "python",
   "nbconvert_exporter": "python",
   "pygments_lexer": "ipython3",
   "version": "3.10.11"
  }
 },
 "nbformat": 4,
 "nbformat_minor": 5
}
