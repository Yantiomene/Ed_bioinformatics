{
 "cells": [
  {
   "cell_type": "markdown",
   "id": "5bde2b6a",
   "metadata": {
    "id": "5bde2b6a"
   },
   "source": [
    "<img src=\"materials/images/introduction-to-statistics-II-cover.png\"/>"
   ]
  },
  {
   "cell_type": "markdown",
   "id": "cee81398",
   "metadata": {
    "id": "cee81398"
   },
   "source": [
    "\n",
    "# 👋 Welcome, before you start\n",
    "<br>\n",
    "\n",
    "### 📚 Module overview\n",
    "\n",
    "We will go through eleven lessons with you:\n",
    "    \n",
    "- [**Lesson 1: Z-score**](Lesson_1_Z-score.ipynb)\n",
    "\n",
    "- [**Lesson 2: P-value**](Lesson_2_P-value.ipynb)\n",
    "\n",
    "- [**Lesson 3: Lesson 3: Welchs T-test**](Lesson_3_Welchs_T-test.ipynb)\n",
    "\n",
    "- [**Lesson 4: Log2 Fold Change**](Lesson_4_Log2_Fold_Change.ipynb)\n",
    "\n",
    "- [**Lesson 5: Pearson Correlation**](Lesson_5_Pearson_Correlation.ipynb)\n",
    "\n",
    "- [**Lesson 6: Spearman Correlation**](Lesson_6_Spearman_Correlation.ipynb)\n",
    "\n",
    "- <font color=#E98300>**Lesson 7: False Discovery Rate**</font>    `📍You are here.`\n",
    "\n",
    "- [**Lesson 8: Benjamini Hochberg**](Lesson_8_Benjamini_Hochberg.ipynb)\n",
    "\n",
    "- [**Lesson 9: Dimensionality Reduction Methods: Principal Component Analysis**](Lesson_9_Dimensionality_Reduction_Methods_Principal_Component_Analysis.ipynb)\n",
    "\n",
    "- [**Lesson 10: Dimensionality Reduction Methods: t-SNE**](Lesson_10_Dimensionality_Reduction_Methods_t-SNE.ipynb)\n",
    "\n",
    "- [**Lesson 11: UMAP**](Lesson_11_UMAP.ipynb)\n",
    "</br>\n",
    "\n",
    "\n",
    "\n",
    "<div class=\"alert alert-block alert-info\">\n",
    "<h3>⌨️ Keyboard shortcut</h3>\n",
    "\n",
    "These common shortcut could save your time going through this notebook:\n",
    "- Run the current cell: **`Enter + Shift`**.\n",
    "- Add a cell above the current cell: Press **`A`**.\n",
    "- Add a cell below the current cell: Press **`B`**.\n",
    "- Change a code cell to markdown cell: Select the cell, and then press **`M`**.\n",
    "- Delete a cell: Press **`D`** twice.\n",
    "\n",
    "Need more help with keyboard shortcut? Press **`H`** to look it up.\n",
    "</div>"
   ]
  },
  {
   "cell_type": "markdown",
   "id": "ac3349f7",
   "metadata": {
    "id": "ac3349f7"
   },
   "source": [
    "---"
   ]
  },
  {
   "cell_type": "markdown",
   "id": "8d1c07a7",
   "metadata": {
    "id": "8d1c07a7"
   },
   "source": [
    "# Lesson 7: False Discovery Rate"
   ]
  },
  {
   "cell_type": "markdown",
   "id": "b481f5d1",
   "metadata": {
    "id": "b481f5d1"
   },
   "source": [
    "`🕒 This module should take about 15 minutes to complete.`\n",
    "\n",
    "`✍️ This notebook is written using Python.`"
   ]
  },
  {
   "cell_type": "markdown",
   "id": "cb371d3f",
   "metadata": {
    "id": "cb371d3f"
   },
   "source": [
    "<mark>**False Discovery Rate (FDR)**</mark> is a measure of accuracy when multiple hypotheses are being tested at once. "
   ]
  },
  {
   "cell_type": "markdown",
   "id": "4c1f7cc4",
   "metadata": {
    "id": "4c1f7cc4"
   },
   "source": [
    "In classical statistical testing, we begin with the **null hypothesis** as the formal basis for testing statistical significance. The null hypothesis states that there is no association between the predictor and outcome variables in the population. By starting with the proposition that there is no association, statistical tests can estimate the probability that an observed association could be due to chance. \n",
    "\n",
    "After a study is completed, based on the data collected, the investigator uses statistical tests to determine whether there is sufficient evidence to reject the null hypothesis in favor of the **alternative hypothesis** that there is an association in the population.\n",
    "\n",
    "When running a statistical test, any time a null hypothesis is rejected, it can be considered to be a \"significant\" finding since we can conclude that the measured difference is highly unlikely to be due to random chance alone and the treatment is likely directly influencing the metric. Alternatively, outcomes that do not reach significance are not considered a \"discovery\" since we aren't able to reject the null hypothesis."
   ]
  },
  {
   "cell_type": "markdown",
   "id": "50ba68f4",
   "metadata": {
    "id": "50ba68f4"
   },
   "source": [
    "<div class=\"alert alert-block alert-warning\">\n",
    "    <b>Alert:</b>  The alternative hypothesis cannot be tested directly. It is implicitly accepted when the test of statistical significance rejects the null hypothesis.\n",
    "</div>"
   ]
  },
  {
   "cell_type": "markdown",
   "id": "c475b590",
   "metadata": {
    "id": "c475b590"
   },
   "source": [
    "Importantly, an investigator’s conclusion may be wrong. Sometimes, by chance alone, a sample is not representative of the population. Thus, the results in the sample do not reflect reality in the population, and the random error leads to an erroneous inference. A false positive (type I error) occurs if an investigator rejects a null hypothesis that is actually true."
   ]
  },
  {
   "cell_type": "markdown",
   "id": "85e077b0",
   "metadata": {
    "id": "85e077b0"
   },
   "source": [
    "## Level of statistical significance "
   ]
  },
  {
   "cell_type": "markdown",
   "id": "07222d00",
   "metadata": {
    "id": "07222d00"
   },
   "source": [
    "When conducting hypothesis tests, for example to see whether two means are significantly different, we calculate a p-value, which is the probability of obtaining a test statistic that is as, or more extreme than the observed one, assuming the null hypothesis is true.\n",
    "\n",
    "The level of statistical significance for rejecting the null hypothesis is typically set at 0.05. This states that we can reject the null hypothesis when the probability of rejecting it (p-value), when it is actually true, is less than 5%. In other words, we've set <mark> 5% as the maximum chance of **incorrectly rejecting the null hypothesis - having a false positive</mark>**.\n",
    "\n",
    "The **False Discovery Rate** is the proportion of all outcomes deemed to be significant that are <mark>falsely significant</mark>. Only the positive outcomes matter for the false discovery rate. False negatives don't influence the false discovery rate."
   ]
  },
  {
   "cell_type": "markdown",
   "id": "7425a644",
   "metadata": {
    "id": "7425a644"
   },
   "source": [
    "## The multiple testing problem"
   ]
  },
  {
   "cell_type": "markdown",
   "id": "d2615cdb",
   "metadata": {
    "id": "d2615cdb"
   },
   "source": [
    "<img src=\"materials/images/images_false_discovery_rate/genomic_testing.png\"/>"
   ]
  },
  {
   "cell_type": "markdown",
   "id": "6c6ae374",
   "metadata": {
    "id": "6c6ae374"
   },
   "source": [
    "False Discovery Rate comes into play particularly when lots of hypothesis tests are being conducted. For example, when analyzing results from genome-wide studies, a typical microarray experiment might result in performing 10,000 separate hypothesis tests. If we use a p-value of 0.05 as our threshold, we’d expect 500 genes to be deemed as “significant” by chance. The implication is that if you repeat a test enough times, you’re going to find an effect even though an effect may not actually exist. This is called **the multiple testing problem**."
   ]
  },
  {
   "cell_type": "markdown",
   "id": "5a9dbc5a",
   "metadata": {
    "id": "5a9dbc5a"
   },
   "source": [
    "---"
   ]
  },
  {
   "cell_type": "markdown",
   "id": "4913d6a2",
   "metadata": {
    "id": "4913d6a2"
   },
   "source": [
    "## Example calculation of the false discovery rate (FDR)"
   ]
  },
  {
   "cell_type": "markdown",
   "id": "3dbc6931",
   "metadata": {
    "id": "3dbc6931"
   },
   "source": [
    "<img src=\"materials/images/images_false_discovery_rate/fdr_equation.png\"/>"
   ]
  },
  {
   "cell_type": "markdown",
   "id": "f2fb1f76",
   "metadata": {
    "id": "f2fb1f76"
   },
   "source": [
    "Imagine that we are doing a genome-wide study looking at differential gene expression between tumor tissue and healthy tissue, and we tested 1000 genes. The image below shows that 950 (95%) of the null hypotheses are actually true, and 50 (5%) of the null hypotheses are actually false (\"significant\")."
   ]
  },
  {
   "cell_type": "markdown",
   "id": "63cb37bb",
   "metadata": {
    "id": "63cb37bb"
   },
   "source": [
    "Of the 950 observations where the null hypothesis was actually true, 19 were incorrectly rejected, or deemed as significant (box at bottom left). \n",
    "\n",
    "Of the 50 observations that were truly significant, 45 were correctly identified as significant (box at bottom right). "
   ]
  },
  {
   "cell_type": "markdown",
   "id": "a5ed51fd",
   "metadata": {
    "id": "a5ed51fd"
   },
   "source": [
    "<img src=\"materials/images/images_false_discovery_rate/fdr_figure.png\"/>"
   ]
  },
  {
   "cell_type": "markdown",
   "id": "180cb055",
   "metadata": {
    "id": "180cb055"
   },
   "source": [
    "Therefore, out of the 1000 experiments, our analysis identified 45 true positive results and 19 false positive results for a total of 64 positive results. Of these results, 19/64 are false positives so the false discovery rate is **30%**, the percentage of the rejected null hypotheses that were erroneously rejected."
   ]
  },
  {
   "cell_type": "markdown",
   "id": "79b37a92",
   "metadata": {
    "id": "79b37a92"
   },
   "source": [
    "Once again, the **False Discovery Rate** is the proportion of all outcomes deemed to be significant that are <mark>falsely significant</mark>. "
   ]
  },
  {
   "cell_type": "markdown",
   "id": "ba49df2a",
   "metadata": {
    "id": "ba49df2a"
   },
   "source": [
    "<div class=\"alert alert-block alert-warning\">\n",
    "    <b>Alert:</b> Only the positive outcomes matter for the false discovery rate--only false positives or true positives. False negatives don't influence the false discovery rate.\n",
    "</div>"
   ]
  },
  {
   "cell_type": "markdown",
   "id": "85fd1429",
   "metadata": {
    "id": "85fd1429"
   },
   "source": [
    "<div class=\"alert alert-block alert-success\">\n",
    "    <b>Note:</b> There are various ways to control the False Discover Rate. A common approach is known as the <b>Benjamini-Hochberg procedure</b>.\n",
    "</div>"
   ]
  },
  {
   "cell_type": "markdown",
   "id": "6f81f89f",
   "metadata": {
    "id": "6f81f89f"
   },
   "source": [
    "---"
   ]
  },
  {
   "cell_type": "markdown",
   "id": "691ed0f3",
   "metadata": {
    "id": "691ed0f3"
   },
   "source": [
    "# 🌟 Ready for the next one?\n",
    "<br>\n",
    "\n",
    "- [**Lesson 8: Benjamini Hochberg**](Lesson_8_Benjamini_Hochberg.ipynb)\n",
    "\n",
    "- [**Lesson 9: Dimensionality Reduction Methods: Principal Component Analysis**](Lesson_9_Dimensionality_Reduction_Methods_Principal_Component_Analysis.ipynb)\n",
    "\n",
    "- [**Lesson 10: Dimensionality Reduction Methods: t-SNE**](Lesson_10_Dimensionality_Reduction_Methods_t-SNE.ipynb)\n",
    "\n",
    "- [**Lesson 11: UMAP**](Lesson_11_UMAP.ipynb)\n",
    "</br>"
   ]
  },
  {
   "cell_type": "markdown",
   "id": "afe68e99",
   "metadata": {
    "id": "afe68e99"
   },
   "source": [
    "# Contributions & acknowledgment"
   ]
  },
  {
   "cell_type": "markdown",
   "id": "190726d9",
   "metadata": {
    "id": "190726d9"
   },
   "source": [
    "Thanks Antony Ross for contributing the content for this notebook."
   ]
  },
  {
   "cell_type": "markdown",
   "id": "2a6a7461",
   "metadata": {
    "id": "2a6a7461"
   },
   "source": [
    "---"
   ]
  },
  {
   "cell_type": "markdown",
   "id": "971e31d1",
   "metadata": {
    "id": "971e31d1"
   },
   "source": [
    "Copyright (c) 2022 Stanford Data Ocean (SDO)\n",
    "\n",
    "All rights reserved."
   ]
  }
 ],
 "metadata": {
  "colab": {
   "provenance": []
  },
  "kernelspec": {
   "display_name": "Python 3 (ipykernel)",
   "language": "python",
   "name": "python3"
  },
  "language_info": {
   "codemirror_mode": {
    "name": "ipython",
    "version": 3
   },
   "file_extension": ".py",
   "mimetype": "text/x-python",
   "name": "python",
   "nbconvert_exporter": "python",
   "pygments_lexer": "ipython3",
   "version": "3.10.11"
  }
 },
 "nbformat": 4,
 "nbformat_minor": 5
}
