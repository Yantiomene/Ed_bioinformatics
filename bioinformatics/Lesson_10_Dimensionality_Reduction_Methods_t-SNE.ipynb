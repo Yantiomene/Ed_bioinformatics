{
 "cells": [
  {
   "cell_type": "markdown",
   "id": "a0936534",
   "metadata": {
    "id": "a0936534"
   },
   "source": [
    "<img src=\"materials/images/introduction-to-statistics-II-cover.png\"/>"
   ]
  },
  {
   "cell_type": "markdown",
   "id": "dqqwGnjYFg00",
   "metadata": {
    "id": "dqqwGnjYFg00"
   },
   "source": [
    "\n",
    "# 👋 Welcome, before you start\n",
    "<br>\n",
    "\n",
    "### 📚 Module overview\n",
    "\n",
    "We will go through eleven lessons with you:\n",
    "    \n",
    "- [**Lesson 1: Z-score**](Lesson_1_Z-score.ipynb)\n",
    "\n",
    "- [**Lesson 2: P-value**](Lesson_2_P-value.ipynb)\n",
    "\n",
    "- [**Lesson 3: Lesson 3: Welchs T-test**](Lesson_3_Welchs_T-test.ipynb)\n",
    "\n",
    "- [**Lesson 4: Log2 Fold Change**](Lesson_4_Log2_Fold_Change.ipynb)\n",
    "\n",
    "- [**Lesson 5: Pearson Correlation**](Lesson_5_Pearson_Correlation.ipynb)\n",
    "\n",
    "- [**Lesson 6: Spearman Correlation**](Lesson_6_Spearman_Correlation.ipynb)\n",
    "\n",
    "- [**Lesson 7: False Discovery Rate**](Lesson_7_False_Discovery_Rate.ipynb)\n",
    "\n",
    "- [**Lesson 8: Benjamini Hochberg**](Lesson_8_Benjamini_Hochberg.ipynb)\n",
    "\n",
    "- [**Lesson 9: Dimensionality Reduction Methods: Principal Component Analysis**](Lesson_9_Dimensionality_Reduction_Methods_Principal_Component_Analysis.ipynb)\n",
    "\n",
    "- <font color=#E98300>**Lesson 10: Dimensionality Reduction Methods: t-SNE**</font>    `📍You are here.`\n",
    "\n",
    "- [**Lesson 11: UMAP**](Lesson_11_UMAP.ipynb)\n",
    "</br>\n",
    "\n",
    "\n",
    "\n",
    "<div class=\"alert alert-block alert-info\">\n",
    "<h3>⌨️ Keyboard shortcut</h3>\n",
    "\n",
    "These common shortcut could save your time going through this notebook:\n",
    "- Run the current cell: **`Enter + Shift`**.\n",
    "- Add a cell above the current cell: Press **`A`**.\n",
    "- Add a cell below the current cell: Press **`B`**.\n",
    "- Change a code cell to markdown cell: Select the cell, and then press **`M`**.\n",
    "- Delete a cell: Press **`D`** twice.\n",
    "\n",
    "Need more help with keyboard shortcut? Press **`H`** to look it up.\n",
    "</div>"
   ]
  },
  {
   "cell_type": "markdown",
   "id": "J6IQnc6uFxmf",
   "metadata": {
    "id": "J6IQnc6uFxmf"
   },
   "source": [
    "\n",
    "\n",
    "---\n",
    "\n"
   ]
  },
  {
   "cell_type": "markdown",
   "id": "ghmnhepmFzII",
   "metadata": {
    "id": "ghmnhepmFzII"
   },
   "source": [
    "# Lesson 10: Dimensionality Reduction Methods: t-SNE"
   ]
  },
  {
   "cell_type": "markdown",
   "id": "ri0WzAyaF7Tm",
   "metadata": {
    "id": "ri0WzAyaF7Tm"
   },
   "source": [
    "`🕒 This module should take about 15 minutes to complete.`\n",
    "\n",
    "`✍️ This notebook is written using Python.`"
   ]
  },
  {
   "cell_type": "markdown",
   "id": "f74fe55c",
   "metadata": {
    "id": "f74fe55c"
   },
   "source": [
    "<mark>**T-distributed Stochastic Neighbor Embedding (t-SNE)**</mark> is a dimensionality reduction algorithm that has become widely used to visualize high-dimensional genomic or proteomic data sets in a low-dimensional space (e.g., 2D or 3D). T-SNE has an incredible ability to take a set of points in a high-dimensional space (usually with hundreds or even thousands of variables) and find a faithful representation of those points in a lower-dimensional space, typically 2D, allowing the results to be plotted in a simple scatter plot.\n",
    "\n",
    "T-SNE is similar to PCA but, unlike PCA, it allows us to separate data that cannot be separated by any straight line, known as nonlinear dimensionality reduction.\n",
    "\n",
    "T-SNE is mostly used for visualization purposes and not for detailed quantitative analysis."
   ]
  },
  {
   "cell_type": "markdown",
   "id": "8c7020bc",
   "metadata": {
    "id": "8c7020bc"
   },
   "source": [
    "<img src=\"materials/images/images_dimensionality_reduction_t-SNE/tsne_viz.png\"/>"
   ]
  },
  {
   "cell_type": "markdown",
   "id": "c54b7090",
   "metadata": {
    "id": "c54b7090"
   },
   "source": [
    "---"
   ]
  },
  {
   "cell_type": "markdown",
   "id": "cf23a742",
   "metadata": {
    "id": "cf23a742"
   },
   "source": [
    "### ✅ `Run` each of the cells below:"
   ]
  },
  {
   "cell_type": "markdown",
   "id": "e93de6a1",
   "metadata": {
    "id": "e93de6a1"
   },
   "source": [
    "# Sample high-dimensional data set"
   ]
  },
  {
   "cell_type": "code",
   "execution_count": null,
   "id": "69e8bc9d",
   "metadata": {
    "id": "69e8bc9d"
   },
   "outputs": [],
   "source": [
    "from bioinfokit.analys import get_data\n",
    "df = get_data('digits').data\n",
    "df.head(2)"
   ]
  },
  {
   "cell_type": "markdown",
   "id": "192b9fae",
   "metadata": {
    "id": "192b9fae"
   },
   "source": [
    "### 1797 rows, 65 columns"
   ]
  },
  {
   "cell_type": "code",
   "execution_count": null,
   "id": "256d0214",
   "metadata": {
    "id": "256d0214"
   },
   "outputs": [],
   "source": [
    "df.shape"
   ]
  },
  {
   "cell_type": "markdown",
   "id": "86ce278d",
   "metadata": {
    "id": "86ce278d"
   },
   "source": [
    "## Run t-SNE"
   ]
  },
  {
   "cell_type": "code",
   "execution_count": null,
   "id": "b2af5747",
   "metadata": {
    "id": "b2af5747"
   },
   "outputs": [],
   "source": [
    "from sklearn.manifold import TSNE\n",
    "\n",
    "tsne_em = TSNE(n_components=2, perplexity=30.0, n_iter=1000, verbose=1).fit_transform(df)"
   ]
  },
  {
   "cell_type": "markdown",
   "id": "705eb2ee",
   "metadata": {
    "id": "705eb2ee"
   },
   "source": [
    "## Plot t-SNE clusters\n",
    "View high-dimensional data as 2D clusters"
   ]
  },
  {
   "cell_type": "code",
   "execution_count": null,
   "id": "156db90e",
   "metadata": {
    "id": "156db90e"
   },
   "outputs": [],
   "source": [
    "from bioinfokit.visuz import cluster\n",
    "cluster.tsneplot(score=tsne_em, show=True)"
   ]
  },
  {
   "cell_type": "markdown",
   "id": "db4825ca",
   "metadata": {
    "id": "db4825ca"
   },
   "source": [
    "## Add colors to the clusters\n",
    "This will help to color and visualize clusters of similar data points. Get a list of categories."
   ]
  },
  {
   "cell_type": "code",
   "execution_count": null,
   "id": "ae218d63",
   "metadata": {
    "id": "ae218d63"
   },
   "outputs": [],
   "source": [
    "color_class = df['class'].to_numpy()\n",
    "cluster.tsneplot(score=tsne_em, colorlist=color_class, legendpos='upper right', legendanchor=(1.15, 1), show=True )"
   ]
  },
  {
   "cell_type": "markdown",
   "id": "15283411",
   "metadata": {
    "id": "15283411"
   },
   "source": [
    "## Interpretation\n",
    "The points within the individual clusters are very similar to each other and are less similar to points in other clusters. A similar pattern likely is present in the original, high-dimensional data set. \n",
    "\n",
    "In the context of scRNA-seq, for example, these clusters would represent the cell types with similar transcriptional profiles."
   ]
  },
  {
   "cell_type": "markdown",
   "id": "57d29f9f",
   "metadata": {
    "id": "57d29f9f"
   },
   "source": [
    "## NOTES:\n",
    "\n",
    "- t-SNE is a stochastic method and produces slightly different embeddings if run multiple times. These different results could affect the numeric values on the axis but do not affect the clustering of the points. \n",
    "\n",
    "\n",
    "- t-SNE has a parameter called perplexity that measures the effective number of neighbors and controls the trade-off between global high-dimensional and local low-dimensional space. We can tune the perplexity parameter to influence the structure of the clusters and how they are displayed."
   ]
  },
  {
   "cell_type": "markdown",
   "id": "5d702e10",
   "metadata": {
    "id": "5d702e10"
   },
   "source": [
    "<div class=\"alert alert-block alert-warning\">\n",
    "<b>Tip: </b>t-SNE is computationally expensive and can take several hours on large datasets. PCA is much faster and can be run before running t-SNE to reduce the number of original variables.</div>"
   ]
  },
  {
   "cell_type": "markdown",
   "id": "1RI97oOhGAxm",
   "metadata": {
    "id": "1RI97oOhGAxm"
   },
   "source": [
    "\n",
    "\n",
    "---\n",
    "\n"
   ]
  },
  {
   "cell_type": "markdown",
   "id": "REOReMOvGBzK",
   "metadata": {
    "id": "REOReMOvGBzK"
   },
   "source": [
    "# 🌟 Ready for the next one?\n",
    "<br>\n",
    "\n",
    "- [**Lesson 11: UMAP**](Lesson_11_UMAP.ipynb)\n",
    "</br>"
   ]
  },
  {
   "cell_type": "markdown",
   "id": "a1e2669d",
   "metadata": {
    "id": "a1e2669d"
   },
   "source": [
    "---"
   ]
  },
  {
   "cell_type": "markdown",
   "id": "afe68e99",
   "metadata": {
    "id": "afe68e99"
   },
   "source": [
    "# Contributions & acknowledgment"
   ]
  },
  {
   "cell_type": "markdown",
   "id": "190726d9",
   "metadata": {
    "id": "190726d9"
   },
   "source": [
    "Thanks Antony Ross for contributing the content for this notebook."
   ]
  },
  {
   "cell_type": "markdown",
   "id": "2a6a7461",
   "metadata": {
    "id": "2a6a7461"
   },
   "source": [
    "---"
   ]
  },
  {
   "cell_type": "markdown",
   "id": "8deef928",
   "metadata": {
    "id": "8deef928"
   },
   "source": [
    "Copyright (c) 2022 Stanford Data Ocean (SDO)\n",
    "\n",
    "All rights reserved."
   ]
  }
 ],
 "metadata": {
  "colab": {
   "provenance": []
  },
  "kernelspec": {
   "display_name": "Python 3 (ipykernel)",
   "language": "python",
   "name": "python3"
  },
  "language_info": {
   "codemirror_mode": {
    "name": "ipython",
    "version": 3
   },
   "file_extension": ".py",
   "mimetype": "text/x-python",
   "name": "python",
   "nbconvert_exporter": "python",
   "pygments_lexer": "ipython3",
   "version": "3.7.10"
  }
 },
 "nbformat": 4,
 "nbformat_minor": 5
}
