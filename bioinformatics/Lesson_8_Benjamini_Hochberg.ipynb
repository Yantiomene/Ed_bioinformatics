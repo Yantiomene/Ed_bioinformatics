{
 "cells": [
  {
   "cell_type": "markdown",
   "id": "5bde2b6a",
   "metadata": {
    "id": "5bde2b6a"
   },
   "source": [
    "<img src=\"materials/images/introduction-to-statistics-II-cover.png\"/>"
   ]
  },
  {
   "cell_type": "markdown",
   "id": "3c1f0d30",
   "metadata": {
    "id": "3c1f0d30"
   },
   "source": [
    "\n",
    "# 👋 Welcome, before you start\n",
    "<br>\n",
    "\n",
    "### 📚 Module overview\n",
    "\n",
    "We will go through eleven lessons with you:\n",
    "    \n",
    "- [**Lesson 1: Z-score**](Lesson_1_Z-score.ipynb)\n",
    "\n",
    "- [**Lesson 2: P-value**](Lesson_2_P-value.ipynb)\n",
    "\n",
    "- [**Lesson 3: Lesson 3: Welchs T-test**](Lesson_3_Welchs_T-test.ipynb)\n",
    "\n",
    "- [**Lesson 4: Log2 Fold Change**](Lesson_4_Log2_Fold_Change.ipynb)\n",
    "\n",
    "- [**Lesson 5: Pearson Correlation**](Lesson_5_Pearson_Correlation.ipynb)\n",
    "\n",
    "- [**Lesson 6: Spearman Correlation**](Lesson_6_Spearman_Correlation.ipynb)\n",
    "\n",
    "- [**Lesson 7: False Discovery Rate**](Lesson_7_False_Discovery_Rate.ipynb)\n",
    "\n",
    "- <font color=#E98300>**Lesson 8: Benjamini Hochberg**</font>    `📍You are here.`\n",
    "\n",
    "- [**Lesson 9: Dimensionality Reduction Methods: Principal Component Analysis**](Lesson_9_Dimensionality_Reduction_Methods_Principal_Component_Analysis.ipynb)\n",
    "\n",
    "- [**Lesson 10: Dimensionality Reduction Methods: t-SNE**](Lesson_10_Dimensionality_Reduction_Methods_t-SNE.ipynb)\n",
    "\n",
    "- [**Lesson 11: UMAP**](Lesson_11_UMAP.ipynb)\n",
    "</br>\n",
    "\n",
    "\n",
    "\n",
    "<div class=\"alert alert-block alert-info\">\n",
    "<h3>⌨️ Keyboard shortcut</h3>\n",
    "\n",
    "These common shortcut could save your time going through this notebook:\n",
    "- Run the current cell: **`Enter + Shift`**.\n",
    "- Add a cell above the current cell: Press **`A`**.\n",
    "- Add a cell below the current cell: Press **`B`**.\n",
    "- Change a code cell to markdown cell: Select the cell, and then press **`M`**.\n",
    "- Delete a cell: Press **`D`** twice.\n",
    "\n",
    "Need more help with keyboard shortcut? Press **`H`** to look it up.\n",
    "</div>"
   ]
  },
  {
   "cell_type": "markdown",
   "id": "1c141c96",
   "metadata": {
    "id": "1c141c96"
   },
   "source": [
    "---"
   ]
  },
  {
   "cell_type": "markdown",
   "id": "2cf02998",
   "metadata": {
    "id": "2cf02998"
   },
   "source": [
    "# Lesson 8: Benjamini Hochberg"
   ]
  },
  {
   "cell_type": "markdown",
   "id": "9c7a8ab0",
   "metadata": {
    "id": "9c7a8ab0"
   },
   "source": [
    "`🕒 This module should take about 15 minutes to complete.`\n",
    "\n",
    "`✍️ This notebook is written using Python.`"
   ]
  },
  {
   "cell_type": "markdown",
   "id": "2c5357e6",
   "metadata": {
    "id": "2c5357e6"
   },
   "source": [
    "One powerful tool to decrease the false discovery rate is called the **Benjamini-Hochberg Procedure**. In hypothesis testing, the **false discovery rate (FDR)** is the proportion of the <mark>falsely significant</mark> outcomes among all the outcomes that are deemed significant. \n",
    "\n",
    "It is a measure of accuracy when multiple hypotheses are being tested at once. "
   ]
  },
  {
   "cell_type": "markdown",
   "id": "42baf0ca",
   "metadata": {
    "id": "42baf0ca"
   },
   "source": [
    "<img src=\"materials/images/images_benjamini_hochberg/fdr_equation.png\"/>"
   ]
  },
  {
   "cell_type": "markdown",
   "id": "9fc12476",
   "metadata": {
    "id": "9fc12476"
   },
   "source": [
    "The more hypotheses that are being tested, the higher the chances of a null hypothesis being falsely identified as significant. A p-value of 0.05 means that there’s only a 5% chance that you would get your observed result if the null hypothesis were true, but it’s only a probability. \n",
    "\n",
    "For example, let’s say you have a group of 1000 genes that you know are free of a certain condition. Your null hypothesis is that the genes are free of the condition, and your alternative hypothesis is that the condition is present. If you ran 1000 statistical tests at the 0.05 significance level, roughly 50 (5%) of your results would falsely be identified as significant."
   ]
  },
  {
   "cell_type": "markdown",
   "id": "298581a0",
   "metadata": {
    "id": "298581a0"
   },
   "source": [
    "<img src=\"materials/images/images_benjamini_hochberg/hypothesis_testing.png\"/>"
   ]
  },
  {
   "cell_type": "markdown",
   "id": "1e92a925",
   "metadata": {
    "id": "1e92a925"
   },
   "source": [
    "Thus, some amount of false positives are unavoidable, and will occur because of the randomness of results. However, it's important to control the proportion of false positives among the set of rejected hypotheses. It is vital to utilize a method that enables the investigator to identify as many significant comparisons as possible, while still maintaining a low false discovery rate. "
   ]
  },
  {
   "cell_type": "markdown",
   "id": "1942ae2c",
   "metadata": {
    "id": "1942ae2c"
   },
   "source": [
    "<mark>**Benjamini-Hochberg Procedure**</mark> calculates a critical value for each test's p-value. This is known as the **q-value**. Q-values usually result in much smaller numbers of false positives."
   ]
  },
  {
   "cell_type": "markdown",
   "id": "3cfab644",
   "metadata": {
    "id": "3cfab644"
   },
   "source": [
    "---"
   ]
  },
  {
   "cell_type": "markdown",
   "id": "979e62cb",
   "metadata": {
    "id": "979e62cb"
   },
   "source": [
    "## The Benjamini-Hochberg procedure is performed as follows:"
   ]
  },
  {
   "cell_type": "markdown",
   "id": "85fa1b00",
   "metadata": {
    "id": "85fa1b00"
   },
   "source": [
    "**To control FDR at level Q** (your chosen false discovery rate):\n",
    "\n",
    "**Step 1**: Conduct all of your statistical tests, and find the p-value for each test."
   ]
  },
  {
   "cell_type": "markdown",
   "id": "9131fc7b",
   "metadata": {
    "id": "9131fc7b"
   },
   "source": [
    "<img src=\"materials/images/images_benjamini_hochberg/chart_1.png\"/>"
   ]
  },
  {
   "cell_type": "markdown",
   "id": "e3b7f817",
   "metadata": {
    "id": "e3b7f817"
   },
   "source": [
    "**Step 2**: Arrange the p-values in order <mark>**from smallest to largest**</mark>, assigning a rank to each one with <mark>**the smallest p-value having a rank of 1**</mark>, etc."
   ]
  },
  {
   "cell_type": "markdown",
   "id": "9f9e63f8",
   "metadata": {
    "id": "9f9e63f8"
   },
   "source": [
    "<img src=\"materials/images/images_benjamini_hochberg/chart_2.png\"/>"
   ]
  },
  {
   "cell_type": "markdown",
   "id": "8ea5360d",
   "metadata": {
    "id": "8ea5360d"
   },
   "source": [
    "**Step 3**: Calculate the Benjamini-Hochberg critical value for each p-value, using the formula <mark>**(i/m)*Q**</mark>\n",
    "\n",
    "\n",
    ">   i = the individual p-value’s rank\n",
    "\n",
    ">   m = total number of tests\n",
    "\n",
    ">   Q = your chosen false discovery rate"
   ]
  },
  {
   "cell_type": "markdown",
   "id": "0cd72c95",
   "metadata": {
    "id": "0cd72c95"
   },
   "source": [
    "Below, we used 10 tests with Q set to a desired False Discovery Rate of 10% (.1)."
   ]
  },
  {
   "cell_type": "markdown",
   "id": "12e196f1",
   "metadata": {
    "id": "12e196f1"
   },
   "source": [
    "<img src=\"materials/images/images_benjamini_hochberg/chart_3.png\"/>"
   ]
  },
  {
   "cell_type": "markdown",
   "id": "9c596f32",
   "metadata": {
    "id": "9c596f32"
   },
   "source": [
    "**Step 4**: Find the largest p-value that is less than, or equal to the B-H critical value."
   ]
  },
  {
   "cell_type": "markdown",
   "id": "42d27b7d",
   "metadata": {
    "id": "42d27b7d"
   },
   "source": [
    "<img src=\"materials/images/images_benjamini_hochberg/chart_4.png\"/>"
   ]
  },
  {
   "cell_type": "markdown",
   "id": "39cda494",
   "metadata": {
    "id": "39cda494"
   },
   "source": [
    "**Step 5**: Designate every p-value that is smaller than or equal to the p-value identified above to be significant (the null hypothesis can be rejected)."
   ]
  },
  {
   "cell_type": "markdown",
   "id": "5b2fc321",
   "metadata": {
    "id": "5b2fc321"
   },
   "source": [
    "<img src=\"materials/images/images_benjamini_hochberg/chart_5.png\"/>"
   ]
  },
  {
   "cell_type": "markdown",
   "id": "6eda0403",
   "metadata": {
    "id": "6eda0403"
   },
   "source": [
    "The Benjamini-Hochberg procedure controls the false discovery rate so that FDR ≤ Q. Using q-values allows us to decide how many false positives we are willing to accept among all of the tests that we call significant. Q-values usually result in much smaller numbers of false positives."
   ]
  },
  {
   "cell_type": "markdown",
   "id": "56ada46e",
   "metadata": {
    "id": "56ada46e"
   },
   "source": [
    "---"
   ]
  },
  {
   "cell_type": "markdown",
   "id": "6131e72b",
   "metadata": {
    "id": "6131e72b"
   },
   "source": [
    "## P-values vs. Q-values"
   ]
  },
  {
   "cell_type": "markdown",
   "id": "1b62f0b7",
   "metadata": {
    "id": "1b62f0b7"
   },
   "source": [
    "<div class=\"alert alert-block alert-warning\">\n",
    "    <b>Alert:</b> The <b>q-value</b> can be interpreted as, for example, in an array study testing genes for differential expression, if gene X has a q-value of 0.028 it means that 2.8% of genes that show <b>p-values</b> at least as small as gene X are false positives.\n",
    "</div>"
   ]
  },
  {
   "cell_type": "markdown",
   "id": "da157765",
   "metadata": {
    "id": "da157765"
   },
   "source": [
    "<div class=\"alert alert-block alert-success\">\n",
    "    <b>Note:</b> When we set the threshold for statistical significance of our <mark>p-value</mark>, that's what controls what is know as our <b>False Positive Rate</b> (the expected proportion of all truly null hypotheses that are falsely identified to be significant).\n",
    "    \n",
    "Similarly, we set a threshold for our <mark>q-value</mark> which controls our <b>False Discovery Rate</b> (the expected proportion of all hypotheses deemed to be significant that are falsely identified to be significant).\n",
    "</div>"
   ]
  },
  {
   "cell_type": "markdown",
   "id": "6fd6720a",
   "metadata": {
    "id": "6fd6720a"
   },
   "source": [
    "---"
   ]
  },
  {
   "cell_type": "markdown",
   "id": "a96f6728",
   "metadata": {
    "id": "a96f6728"
   },
   "source": [
    "# 🌟 Ready for the next one?\n",
    "<br>\n",
    "\n",
    "\n",
    "- [**Lesson 9: Dimensionality Reduction Methods: Principal Component Analysis**](Lesson_9_Dimensionality_Reduction_Methods_Principal_Component_Analysis.ipynb)\n",
    "\n",
    "- [**Lesson 10: Dimensionality Reduction Methods: t-SNE**](Lesson_10_Dimensionality_Reduction_Methods_t-SNE.ipynb)\n",
    "\n",
    "- [**Lesson 11: UMAP**](Lesson_11_UMAP.ipynb)\n",
    "</br>"
   ]
  },
  {
   "cell_type": "markdown",
   "id": "001556c0",
   "metadata": {
    "id": "001556c0"
   },
   "source": [
    "---"
   ]
  },
  {
   "cell_type": "markdown",
   "id": "afe68e99",
   "metadata": {
    "id": "afe68e99"
   },
   "source": [
    "# Contributions & acknowledgment"
   ]
  },
  {
   "cell_type": "markdown",
   "id": "190726d9",
   "metadata": {
    "id": "190726d9"
   },
   "source": [
    "Thanks Antony Ross for contributing the content for this notebook."
   ]
  },
  {
   "cell_type": "markdown",
   "id": "2a6a7461",
   "metadata": {
    "id": "2a6a7461"
   },
   "source": [
    "---"
   ]
  },
  {
   "cell_type": "markdown",
   "id": "971e31d1",
   "metadata": {
    "id": "971e31d1"
   },
   "source": [
    "Copyright (c) 2022 Stanford Data Ocean (SDO)\n",
    "\n",
    "All rights reserved."
   ]
  }
 ],
 "metadata": {
  "colab": {
   "provenance": []
  },
  "kernelspec": {
   "display_name": "Python 3 (ipykernel)",
   "language": "python",
   "name": "python3"
  },
  "language_info": {
   "codemirror_mode": {
    "name": "ipython",
    "version": 3
   },
   "file_extension": ".py",
   "mimetype": "text/x-python",
   "name": "python",
   "nbconvert_exporter": "python",
   "pygments_lexer": "ipython3",
   "version": "3.10.9"
  }
 },
 "nbformat": 4,
 "nbformat_minor": 5
}
