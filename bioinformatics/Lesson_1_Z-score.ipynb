{
 "cells": [
  {
   "cell_type": "markdown",
   "id": "5bde2b6a",
   "metadata": {
    "id": "5bde2b6a"
   },
   "source": [
    "<img src=\"materials/images/introduction-to-statistics-II-cover.png\"/>"
   ]
  },
  {
   "cell_type": "markdown",
   "id": "0f7e8286",
   "metadata": {
    "id": "0f7e8286"
   },
   "source": [
    "\n",
    "# 👋 Welcome, before you start\n",
    "<br>\n",
    "\n",
    "### 📚 Module overview\n",
    "\n",
    "We will go through eleven lessons with you:\n",
    "\n",
    "- <font color=#E98300>**Lesson 1: Z-score**</font>    `📍You are here.`\n",
    "    \n",
    "- [**Lesson 2: P-value**](Lesson_2_P-value.ipynb)\n",
    "    \n",
    "- [**Lesson 3: Welchs T-test**](Lesson_3_Welchs_T-test.ipynb)\n",
    "\n",
    "- [**Lesson 4: Log2 Fold Change**](Lesson_4_Log2_Fold_Change.ipynb)\n",
    "\n",
    "- [**Lesson 5: Pearson Correlation**](Lesson_5_Pearson_Correlation.ipynb)\n",
    "\n",
    "- [**Lesson 6: Spearman Correlation**](Lesson_6_Spearman_Correlation.ipynb)\n",
    "\n",
    "- [**Lesson 7: False Discovery Rate**](Lesson_7_False_Discovery_Rate.ipynb)\n",
    "\n",
    "- [**Lesson 8: Benjamini Hochberg**](Lesson_8_Benjamini_Hochberg.ipynb)\n",
    "\n",
    "- [**Lesson 9: Dimensionality Reduction Methods: Principal Component Analysis**](Lesson_9_Dimensionality_Reduction_Methods_Principal_Component_Analysis.ipynb)\n",
    "\n",
    "- [**Lesson 10: Dimensionality Reduction Methods: t-SNE**](Lesson_10_Dimensionality_Reduction_Methods_t-SNE.ipynb)\n",
    "\n",
    "- [**Lesson 11: UMAP**](Lesson_11_UMAP.ipynb)\n",
    "</br>\n",
    "\n",
    "\n",
    "\n",
    "<div class=\"alert alert-block alert-info\">\n",
    "<h3>⌨️ Keyboard shortcut</h3>\n",
    "\n",
    "These common shortcut could save your time going through this notebook:\n",
    "- Run the current cell: **`Enter + Shift`**.\n",
    "- Add a cell above the current cell: Press **`A`**.\n",
    "- Add a cell below the current cell: Press **`B`**.\n",
    "- Change a code cell to markdown cell: Select the cell, and then press **`M`**.\n",
    "- Delete a cell: Press **`D`** twice.\n",
    "\n",
    "Need more help with keyboard shortcut? Press **`H`** to look it up.\n",
    "</div>"
   ]
  },
  {
   "cell_type": "markdown",
   "id": "c45d01e1",
   "metadata": {
    "id": "c45d01e1"
   },
   "source": [
    "---"
   ]
  },
  {
   "cell_type": "markdown",
   "id": "3177c442",
   "metadata": {
    "id": "3177c442"
   },
   "source": [
    "# Lesson 1: Z-score"
   ]
  },
  {
   "cell_type": "markdown",
   "id": "dd7d3ad4",
   "metadata": {
    "id": "dd7d3ad4"
   },
   "source": [
    "To understand what a <mark>**z-score**</mark> is, we must first become familiar with what a <mark>**normal distribution**</mark> is."
   ]
  },
  {
   "cell_type": "markdown",
   "id": "4daa97b5",
   "metadata": {
    "id": "4daa97b5"
   },
   "source": [
    "`🕒 This module should take about 15 minutes to complete.`\n",
    "\n",
    "`✍️ This notebook is written using Python.`"
   ]
  },
  {
   "cell_type": "markdown",
   "id": "bbeaf919",
   "metadata": {
    "id": "bbeaf919"
   },
   "source": [
    "---"
   ]
  },
  {
   "cell_type": "markdown",
   "id": "54692140",
   "metadata": {
    "id": "54692140"
   },
   "source": [
    "# Normal Distribution"
   ]
  },
  {
   "cell_type": "markdown",
   "id": "fe5b5779",
   "metadata": {
    "id": "fe5b5779"
   },
   "source": [
    "<img src=\"materials/images/images_z-score/normal.png\"/>"
   ]
  },
  {
   "cell_type": "markdown",
   "id": "ff59d62a",
   "metadata": {
    "id": "ff59d62a"
   },
   "source": [
    "We say that a dataset has a normal distribution if its values fall into a smooth (continuous), bell-shaped curve with a symmetric pattern--each side looks the same when cut down the middle. The normal distribution is extremely important to statistics. One reason that it's so useful is  that it enables us to determine the probability of something occuring due to chance. For example, it enables us to determine the probability that a given data point will fall a given distance from the distribution's mean."
   ]
  },
  {
   "cell_type": "markdown",
   "id": "7fcef27c",
   "metadata": {
    "id": "7fcef27c"
   },
   "source": [
    "## The Empirical Rule ( also known as \"68-95-99.7 Rule\")"
   ]
  },
  {
   "cell_type": "markdown",
   "id": "636f84cf",
   "metadata": {
    "id": "636f84cf"
   },
   "source": [
    "The standard normal (Z) distribution has a mean of zero and a standard deviation of 1. You can think of the **standard deviation** as roughly **the average distance of a data point from the mean**. A value on the Z-distribution represents the number of standard deviations the data is above or below the mean; these are called <mark>**z-scores**</mark>. \n",
    "\n",
    "A z-score tells us how different a value is from what we would expect--how far a value is from the mean in standard deviations. For example, if a score in a distribution is equivalent to the mean score, it is zero distance from the mean, hence its z-score will be zero. Therefore, z = 1 on the Z-distribution represents a value that is 1 standard deviation above the mean. Similarly, z = -1 represents a value that is one standard deviation below the mean."
   ]
  },
  {
   "cell_type": "markdown",
   "id": "c39ab2a7",
   "metadata": {
    "id": "c39ab2a7"
   },
   "source": [
    " In a normal distribution, there are approximately <mark>**68%**</mark> of values within $\\pm$ 1 standard deviation of the mean. Approximately <mark>**95%**</mark> of the values fall within $\\pm$ 2 standard deviations of the mean. And virtually all values (<mark>**99.7%**</mark>) will fall within $\\pm$ 3 standard deviations of the mean. \n",
    " \n",
    "This is known as the Empirical Rule. This characteristic of the normal distribution is what enables us to generate probabilities about the likelihood of selecting a data point a certain distance from the mean of the distribution: it's z-score."
   ]
  },
  {
   "cell_type": "markdown",
   "id": "612e7062",
   "metadata": {
    "id": "612e7062"
   },
   "source": [
    "<img src=\"materials/images/images_z-score/emperical_rule.png\"/>"
   ]
  },
  {
   "cell_type": "markdown",
   "id": "82701860",
   "metadata": {
    "id": "82701860"
   },
   "source": [
    "Before we go on to specifically discuss how the z-score is calculated, let's make sure that we can envision the key characteristic of a normal distribution."
   ]
  },
  {
   "cell_type": "markdown",
   "id": "1930e362",
   "metadata": {
    "id": "1930e362"
   },
   "source": [
    "<img src=\"materials/images/images_z-score/68-95-99.png\"/>"
   ]
  },
  {
   "cell_type": "markdown",
   "id": "fb0fc5c2",
   "metadata": {
    "id": "fb0fc5c2"
   },
   "source": [
    "Each normal distribution has its own mean, $\\mu$, and its own standard deviation, $\\sigma$, and the total area under the curve is 1. "
   ]
  },
  {
   "cell_type": "markdown",
   "id": "bd323723",
   "metadata": {
    "id": "bd323723"
   },
   "source": [
    "### 68% of values, in a normal distribution, will fall within 1 standard deviation of the mean."
   ]
  },
  {
   "cell_type": "markdown",
   "id": "51e05806",
   "metadata": {
    "id": "51e05806"
   },
   "source": [
    "<img src=\"materials/images/images_z-score/68.png\"/>"
   ]
  },
  {
   "cell_type": "markdown",
   "id": "5b22a95f",
   "metadata": {
    "id": "5b22a95f"
   },
   "source": [
    "### 27% of values will fall between 1 and 2 standard deviations above and below the mean."
   ]
  },
  {
   "cell_type": "markdown",
   "id": "0c36e278",
   "metadata": {
    "id": "0c36e278"
   },
   "source": [
    "<img src=\"materials/images/images_z-score/27.png\"/>"
   ]
  },
  {
   "cell_type": "markdown",
   "id": "51112209",
   "metadata": {
    "id": "51112209"
   },
   "source": [
    "### Approximately 4.7% of values will fall between 2 and 3 standard deviations above and below the mean."
   ]
  },
  {
   "cell_type": "markdown",
   "id": "f9f8a1af",
   "metadata": {
    "id": "f9f8a1af"
   },
   "source": [
    "<img src=\"materials/images/images_z-score/5.png\"/>"
   ]
  },
  {
   "cell_type": "markdown",
   "id": "8b6c6bc7",
   "metadata": {
    "id": "8b6c6bc7"
   },
   "source": [
    "### Only about .3% of values will fall beyond 3 standard deviations away from the mean."
   ]
  },
  {
   "cell_type": "markdown",
   "id": "6c4e99e5",
   "metadata": {
    "id": "6c4e99e5"
   },
   "source": [
    "<img src=\"materials/images/images_z-score/3.png\"/>"
   ]
  },
  {
   "cell_type": "markdown",
   "id": "ec30ba40",
   "metadata": {
    "id": "ec30ba40"
   },
   "source": [
    "We will now use the above information to understand the usefulness of the z-score."
   ]
  },
  {
   "cell_type": "markdown",
   "id": "db1f0783",
   "metadata": {
    "id": "db1f0783"
   },
   "source": [
    "---"
   ]
  },
  {
   "cell_type": "markdown",
   "id": "a1a4ef47",
   "metadata": {
    "id": "a1a4ef47"
   },
   "source": [
    "# Standardization"
   ]
  },
  {
   "cell_type": "markdown",
   "id": "fe4ba747",
   "metadata": {
    "id": "fe4ba747"
   },
   "source": [
    "Using the mean and standard deviation, we are able to convert a score into what's called a z-score. A z-score, also known as a standard score, helps us to understand where an individual score falls in relation to other scores in a distribution. Standardization is simply the process of converting each score in a distribution to a z-score."
   ]
  },
  {
   "cell_type": "markdown",
   "id": "5b2db1a8",
   "metadata": {
    "id": "5b2db1a8"
   },
   "source": [
    "<img src=\"materials/images/images_z-score/standardization.png\"/>"
   ]
  },
  {
   "cell_type": "markdown",
   "id": "28496385",
   "metadata": {
    "id": "28496385"
   },
   "source": [
    "$$\\large \\mu = mean\\\\ $$\n",
    "$$\\large \\sigma = standard\\ deviation $$"
   ]
  },
  {
   "cell_type": "markdown",
   "id": "6f4cfaed",
   "metadata": {
    "id": "6f4cfaed"
   },
   "source": [
    "$$\\huge\\ z = \\frac{x-\\mu}{\\sigma}$$"
   ]
  },
  {
   "cell_type": "markdown",
   "id": "0aa77992",
   "metadata": {
    "id": "0aa77992"
   },
   "source": [
    "You can think of the z-score as communicating how far away from the expected value (mean) each value in a distribution is, in standard deviation units. Therefore, standardization is simply the process of converting individual raw scores into standard deviation units. Let's look at an example."
   ]
  },
  {
   "cell_type": "markdown",
   "id": "7137ab4e",
   "metadata": {
    "id": "7137ab4e"
   },
   "source": [
    "Suppose that you took a final exam in your biology class, and scored a 75 out of 100. Let's say that the mean score on the exam was 70 with a standard deviation of 5. Let's convert your score to a z-score. Using the mean and standard deviation, we are able to generate a z-score to help us understand where an individual score falls in relation to other scores in the distribution."
   ]
  },
  {
   "cell_type": "markdown",
   "id": "7662b9c3",
   "metadata": {
    "id": "7662b9c3"
   },
   "source": [
    "$$\\huge\\ z = \\frac{75-\\ 70}{\\ 5}$$"
   ]
  },
  {
   "cell_type": "markdown",
   "id": "2bd12aca",
   "metadata": {
    "id": "2bd12aca"
   },
   "source": [
    "$$\\huge\\ z = 1 $$"
   ]
  },
  {
   "cell_type": "markdown",
   "id": "900e1311",
   "metadata": {
    "id": "900e1311"
   },
   "source": [
    "---"
   ]
  },
  {
   "cell_type": "markdown",
   "id": "4fb23bee",
   "metadata": {
    "id": "4fb23bee"
   },
   "source": [
    "# Estimating probabilities and percentiles"
   ]
  },
  {
   "cell_type": "markdown",
   "id": "3ec5d487",
   "metadata": {
    "id": "3ec5d487"
   },
   "source": [
    "Your test score of 75 minus the mean score of 70 gives you a value of 5. We then divide that result by the standard deviation of 5 to return a z-score of 1 (1 standard deviation above the mean). Let's interpret your z-score. "
   ]
  },
  {
   "cell_type": "markdown",
   "id": "d546a200",
   "metadata": {
    "id": "d546a200"
   },
   "source": [
    "<img src=\"materials/images/images_z-score/prob_1stdev.png\"/>"
   ]
  },
  {
   "cell_type": "markdown",
   "id": "e67e9a65",
   "metadata": {
    "id": "e67e9a65"
   },
   "source": [
    "From the earlier illustration of the normal distribution, we know that 50% of values are below and above a z-score of zero (i.e. when the raw score is equal to the mean score). This is because the normal distribution is symmetrical with half the values above the mean, and the other half below. We also saw that approximately 34% of values lie between the mean and the 1 standard deviation above the mean. Therefore, we can use this information to estimate the quality of your test score in relation to the other students in your class, who took the exam. \n",
    "\n",
    "To get an estimation of the likelihood that a score was less than your score, we can add the 50% and the 34% to get the total area under the curve, which is 84%. On the other hand, there is a 16% chance (1 - .84) that someone scored better than you did on the exam. As a result, relative to the other students who took the exam, you did pretty well--achieving the 84th percentile."
   ]
  },
  {
   "cell_type": "markdown",
   "id": "bc546155",
   "metadata": {
    "id": "bc546155"
   },
   "source": [
    "## Z-table\n",
    "Because probabilities for any normal distribution are nearly impossible to calculate by hand, we can use the Z-table to find the probability you need. **To use the Z-table to find probabilities, do the following:**\n",
    "\n",
    "1. Go to the row that represents the leading digit of your z-value and the first digit after the decimal point.\n",
    "2. Go to the column that represents the second digit after the decimal point of your z-value.\n",
    "3. Intersect the row and column.\n",
    "\n",
    "That number represents the probability that a score from this distribution will fall below this z-score.\n",
    "\n",
    "For example, the Z-table below displays the probabilities for z-scores 1 standard deviation below and 1 standard deviation above the mean. We can see that, as we estimated previously, our test score, which falls 1 standard deviation above the mean, is calculated to be above 84.13 percent of scores on this exam."
   ]
  },
  {
   "cell_type": "markdown",
   "id": "7a010183",
   "metadata": {
    "id": "7a010183"
   },
   "source": [
    "<img src=\"materials/images/images_z-score/z_table.png\"/>"
   ]
  },
  {
   "cell_type": "markdown",
   "id": "02714071",
   "metadata": {
    "id": "02714071"
   },
   "source": [
    "<div class=\"alert alert-block alert-warning\">\n",
    "<b>Alert:</b> You need not worry about whether to include an “equal to” in a greater-than probability because the probability of a continuous random variable equaling one number exactly is zero. (There is no area under the curve at one specific point.)\n",
    "</div>"
   ]
  },
  {
   "cell_type": "markdown",
   "id": "e246d22d",
   "metadata": {
    "id": "e246d22d"
   },
   "source": [
    "---"
   ]
  },
  {
   "cell_type": "markdown",
   "id": "2f7e1cbc",
   "metadata": {
    "id": "2f7e1cbc"
   },
   "source": [
    "# Comparing different variables"
   ]
  },
  {
   "cell_type": "markdown",
   "id": "929303f7",
   "metadata": {
    "id": "929303f7"
   },
   "source": [
    "When we standardize values (convert them to z-scores) we've put them into standard terms. We've put them on the same scale. So, standardizing values is extremely useful for comparing different variables to each other, especially when they are on completely different scales. \n",
    "\n",
    "For example, let's say that we wanted to compare a student's GRE score of <mark>**325**</mark>, TOEFL score of <mark>**104**</mark> and GPA of <mark>**3.89**</mark> to determine which score was the most impressive. Presently, they each are on different scales, so it's difficult to compare them without specific domain knowledge. But if we standardize them, they can then be fairly compared. Let's do that."
   ]
  },
  {
   "cell_type": "markdown",
   "id": "a415beee",
   "metadata": {
    "id": "a415beee"
   },
   "source": [
    "<img src=\"materials/images/images_z-score/comp_1.png\"/>"
   ]
  },
  {
   "cell_type": "markdown",
   "id": "04843ccd",
   "metadata": {
    "id": "04843ccd"
   },
   "source": [
    "---"
   ]
  },
  {
   "cell_type": "markdown",
   "id": "907d2e56",
   "metadata": {
    "id": "907d2e56"
   },
   "source": [
    "First, we'll standardize the GRE score. Remember, in order to standardize a score, we subtract the mean from the score, and then divide by the standard deviation. \n",
    "\n",
    "Assuming we already know the mean and standard deviation of the GRE score, we can see below that the mean GRE score is 316 and the standard deviation is 11. We can now standardize the raw score as shown below."
   ]
  },
  {
   "cell_type": "markdown",
   "id": "db06b210",
   "metadata": {
    "id": "db06b210"
   },
   "source": [
    "<img src=\"materials/images/images_z-score/comp_2a.png\"/>"
   ]
  },
  {
   "cell_type": "markdown",
   "id": "b1fc3326",
   "metadata": {
    "id": "b1fc3326"
   },
   "source": [
    "$$\\huge\\ z = \\frac{325-316}{11}$$"
   ]
  },
  {
   "cell_type": "markdown",
   "id": "dc106c31",
   "metadata": {
    "id": "dc106c31"
   },
   "source": [
    "$$\\huge\\ z = .81 $$"
   ]
  },
  {
   "cell_type": "markdown",
   "id": "c42da542",
   "metadata": {
    "id": "c42da542"
   },
   "source": [
    "<img src=\"materials/images/images_z-score/comp_2b.png\"/>"
   ]
  },
  {
   "cell_type": "markdown",
   "id": "e849d655",
   "metadata": {
    "id": "e849d655"
   },
   "source": [
    "We can see that the GRE score is above the mean value but, importantly, we are able to quantify how much greater it is than the mean value in standard deviation units."
   ]
  },
  {
   "cell_type": "markdown",
   "id": "8d431369",
   "metadata": {
    "id": "8d431369"
   },
   "source": [
    "---"
   ]
  },
  {
   "cell_type": "markdown",
   "id": "d978a378",
   "metadata": {
    "id": "d978a378"
   },
   "source": [
    "Now, let's standardize the TOEFL score. It has a mean score of 107, and a standard deviation of 6."
   ]
  },
  {
   "cell_type": "markdown",
   "id": "efcb9479",
   "metadata": {
    "id": "efcb9479"
   },
   "source": [
    "<img src=\"materials/images/images_z-score/comp_3a.png\"/>"
   ]
  },
  {
   "cell_type": "markdown",
   "id": "60291a6f",
   "metadata": {
    "id": "60291a6f"
   },
   "source": [
    "$$\\huge\\ z = \\frac{104-107}{6}$$"
   ]
  },
  {
   "cell_type": "markdown",
   "id": "35b14553",
   "metadata": {
    "id": "35b14553"
   },
   "source": [
    "$$\\huge\\ z = -.50 $$"
   ]
  },
  {
   "cell_type": "markdown",
   "id": "dd08cf12",
   "metadata": {
    "id": "dd08cf12"
   },
   "source": [
    "<img src=\"materials/images/images_z-score/comp_3b.png\"/>"
   ]
  },
  {
   "cell_type": "markdown",
   "id": "1082a4c5",
   "metadata": {
    "id": "1082a4c5"
   },
   "source": [
    "The TOEFL score is below the mean but, again, we can quantify this measure in standard deviation units."
   ]
  },
  {
   "cell_type": "markdown",
   "id": "a9d667b4",
   "metadata": {
    "id": "a9d667b4"
   },
   "source": [
    "---"
   ]
  },
  {
   "cell_type": "markdown",
   "id": "827f57ab",
   "metadata": {
    "id": "827f57ab"
   },
   "source": [
    "Finally, we'll standardize the GPA score. It has a mean score of 3.46 and a standard deviation of .26."
   ]
  },
  {
   "cell_type": "markdown",
   "id": "9f44a993",
   "metadata": {
    "id": "9f44a993"
   },
   "source": [
    "<img src=\"materials/images/images_z-score/comp_4a.png\"/>"
   ]
  },
  {
   "cell_type": "markdown",
   "id": "c19e1777",
   "metadata": {
    "id": "c19e1777"
   },
   "source": [
    "$$\\huge\\ z = \\frac{3.89-3.46}{.26}$$"
   ]
  },
  {
   "cell_type": "markdown",
   "id": "fb6e7cad",
   "metadata": {
    "id": "fb6e7cad"
   },
   "source": [
    "$$\\huge\\ z = 1.65 $$"
   ]
  },
  {
   "cell_type": "markdown",
   "id": "8c5e7114",
   "metadata": {
    "id": "8c5e7114"
   },
   "source": [
    "<img src=\"materials/images/images_z-score/comp_4b.png\"/>"
   ]
  },
  {
   "cell_type": "markdown",
   "id": "c604cbf9",
   "metadata": {
    "id": "c604cbf9"
   },
   "source": [
    "Similar to the GRE score, the GPA is above the mean value. However, by standardizing this distance, we are able to compare their distances (deviations) from their respective means. "
   ]
  },
  {
   "cell_type": "markdown",
   "id": "32a30c70",
   "metadata": {
    "id": "32a30c70"
   },
   "source": [
    "After standardizing the scores (converting them to z-scores), we can see that the student's GPA is the most impressive of the scores--the most significantly above its respective mean. \n",
    "\n",
    "By standardizing values (putting them on the same scale, in terms of standard deviations), we can compare just about any variable to another. This is especially important when they natively are on completely different scales. "
   ]
  },
  {
   "cell_type": "markdown",
   "id": "a1926299",
   "metadata": {
    "id": "a1926299"
   },
   "source": [
    "<img src=\"materials/images/images_z-score/comp_5.png\"/>\n",
    "<img src=\"materials/images/images_z-score/comp_6.png\"/>"
   ]
  },
  {
   "cell_type": "markdown",
   "id": "c50b2934",
   "metadata": {
    "id": "c50b2934"
   },
   "source": [
    "It should now be clear why standardizing raw scores into z-scores is so important. It's an effective way of determining where a raw score falls relative to other scores in a distribution. Further, it's an important method used to compare different variables to each other, especially when they are measured using disparate scales. "
   ]
  },
  {
   "cell_type": "markdown",
   "id": "46a0effd",
   "metadata": {
    "id": "46a0effd"
   },
   "source": [
    "---"
   ]
  },
  {
   "cell_type": "markdown",
   "id": "369434e6",
   "metadata": {
    "id": "369434e6"
   },
   "source": [
    "# 🌟 Ready for the next one?\n",
    "<br>\n",
    "\n",
    "- [**Lesson 2: P-value**](Lesson_2_P-value.ipynb)\n",
    "    \n",
    "- [**Lesson 3: Welchs T-test**](Lesson_3_Welchs_T-test.ipynb)\n",
    "\n",
    "- [**Lesson 4: Log2 Fold Change**](Lesson_4_Log2_Fold_Change.ipynb)\n",
    "\n",
    "- [**Lesson 5: Pearson Correlation**](Lesson_5_Pearson_Correlation.ipynb)\n",
    "\n",
    "- [**Lesson 6: Spearman Correlation**](Lesson_6_Spearman_Correlation.ipynb)\n",
    "\n",
    "- [**Lesson 7: False Discovery Rate**](Lesson_7_False_Discovery_Rate.ipynb)\n",
    "\n",
    "- [**Lesson 8: Benjamini Hochberg**](Lesson_8_Benjamini_Hochberg.ipynb)\n",
    "\n",
    "- [**Lesson 9: Dimensionality Reduction Methods: Principal Component Analysis**](Lesson_9_Dimensionality_Reduction_Methods_Principal_Component_Analysis.ipynb)\n",
    "\n",
    "- [**Lesson 10: Dimensionality Reduction Methods: t-SNE**](Lesson_10_Dimensionality_Reduction_Methods_t-SNE.ipynb)\n",
    "\n",
    "- [**Lesson 11: UMAP**](Lesson_11_UMAP.ipynb)\n",
    "</br>"
   ]
  },
  {
   "cell_type": "markdown",
   "id": "001556c0",
   "metadata": {
    "id": "001556c0"
   },
   "source": [
    "---"
   ]
  },
  {
   "cell_type": "markdown",
   "id": "afe68e99",
   "metadata": {
    "id": "afe68e99"
   },
   "source": [
    "# Contributions & acknowledgment"
   ]
  },
  {
   "cell_type": "markdown",
   "id": "190726d9",
   "metadata": {
    "id": "190726d9"
   },
   "source": [
    "Thanks Antony Ross for contributing the content for this notebook."
   ]
  },
  {
   "cell_type": "markdown",
   "id": "2a6a7461",
   "metadata": {
    "id": "2a6a7461"
   },
   "source": [
    "---"
   ]
  },
  {
   "cell_type": "markdown",
   "id": "971e31d1",
   "metadata": {
    "id": "971e31d1"
   },
   "source": [
    "Copyright (c) 2022 Stanford Data Ocean (SDO)\n",
    "\n",
    "All rights reserved."
   ]
  }
 ],
 "metadata": {
  "colab": {
   "collapsed_sections": [
    "51112209",
    "8b6c6bc7",
    "bc546155"
   ],
   "provenance": []
  },
  "kernelspec": {
   "display_name": "Python 3 (ipykernel)",
   "language": "python",
   "name": "python3"
  },
  "language_info": {
   "codemirror_mode": {
    "name": "ipython",
    "version": 3
   },
   "file_extension": ".py",
   "mimetype": "text/x-python",
   "name": "python",
   "nbconvert_exporter": "python",
   "pygments_lexer": "ipython3",
   "version": "3.10.11"
  }
 },
 "nbformat": 4,
 "nbformat_minor": 5
}
