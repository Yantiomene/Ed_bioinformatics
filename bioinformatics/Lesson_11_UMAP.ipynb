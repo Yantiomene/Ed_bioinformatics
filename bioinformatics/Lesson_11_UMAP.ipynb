{
 "cells": [
  {
   "cell_type": "markdown",
   "id": "a0936534",
   "metadata": {
    "id": "a0936534"
   },
   "source": [
    "<img src=\"materials/images/introduction-to-statistics-II-cover.png\"/>"
   ]
  },
  {
   "cell_type": "markdown",
   "id": "9ew5MYBXGWFC",
   "metadata": {
    "id": "9ew5MYBXGWFC"
   },
   "source": [
    "\n",
    "# 👋 Welcome, before you start\n",
    "<br>\n",
    "\n",
    "### 📚 Module overview\n",
    "\n",
    "We will go through eleven lessons with you:\n",
    "    \n",
    "- [**Lesson 1: Z-score**](Lesson_1_Z-score.ipynb)\n",
    "\n",
    "- [**Lesson 2: P-value**](Lesson_2_P-value.ipynb)\n",
    "\n",
    "- [**Lesson 3: Lesson 3: Welchs T-test**](Lesson_3_Welchs_T-test.ipynb)\n",
    "\n",
    "- [**Lesson 4: Log2 Fold Change**](Lesson_4_Log2_Fold_Change.ipynb)\n",
    "\n",
    "- [**Lesson 5: Pearson Correlation**](Lesson_5_Pearson_Correlation.ipynb)\n",
    "\n",
    "- [**Lesson 6: Spearman Correlation**](Lesson_6_Spearman_Correlation.ipynb)\n",
    "\n",
    "- [**Lesson 7: False Discovery Rate**](Lesson_7_False_Discovery_Rate.ipynb)\n",
    "\n",
    "- [**Lesson 8: Benjamini Hochberg**](Lesson_8_Benjamini_Hochberg.ipynb)\n",
    "\n",
    "- [**Lesson 9: Dimensionality Reduction Methods: Principal Component Analysis**](Lesson_9_Dimensionality_Reduction_Methods_Principal_Component_Analysis.ipynb)\n",
    "\n",
    "- [**Lesson 10: Dimensionality Reduction Methods: t-SNE**](Lesson_10_Dimensionality_Reduction_Methods_t-SNE.ipynb)\n",
    "\n",
    "- <font color=#E98300>**Lesson 11: UMAP**</font>    `📍You are here.`\n",
    "</br>\n",
    "\n",
    "\n",
    "\n",
    "<div class=\"alert alert-block alert-info\">\n",
    "<h3>⌨️ Keyboard shortcut</h3>\n",
    "\n",
    "These common shortcut could save your time going through this notebook:\n",
    "- Run the current cell: **`Enter + Shift`**.\n",
    "- Add a cell above the current cell: Press **`A`**.\n",
    "- Add a cell below the current cell: Press **`B`**.\n",
    "- Change a code cell to markdown cell: Select the cell, and then press **`M`**.\n",
    "- Delete a cell: Press **`D`** twice.\n",
    "\n",
    "Need more help with keyboard shortcut? Press **`H`** to look it up.\n",
    "</div>"
   ]
  },
  {
   "cell_type": "markdown",
   "id": "ZIro-8edGmCZ",
   "metadata": {
    "id": "ZIro-8edGmCZ"
   },
   "source": [
    "\n",
    "\n",
    "---\n",
    "\n"
   ]
  },
  {
   "cell_type": "markdown",
   "id": "0Fcvg1VEGng1",
   "metadata": {
    "id": "0Fcvg1VEGng1"
   },
   "source": [
    "# Lesson 11: UMAP"
   ]
  },
  {
   "cell_type": "markdown",
   "id": "lo1EB164Gtjz",
   "metadata": {
    "id": "lo1EB164Gtjz"
   },
   "source": [
    "`🕒 This module should take about 15 minutes to complete.`\n",
    "\n",
    "`✍️ This notebook is written using Python.`"
   ]
  },
  {
   "cell_type": "markdown",
   "id": "f74fe55c",
   "metadata": {
    "id": "f74fe55c"
   },
   "source": [
    "<mark>**Uniform Manifold Approximation and Projection (UMAP)**</mark> is an increasingly popular dimensionality reduction technique used to visualize high-dimensional data, such as genomic or proteomic data sets, in a lower-dimensional space. The technique can identify critical features in high-dimensional space (e.g., hundreds or thousands of variables) and preserve them in a lower-dimensional embedding (e.g., 2D or 3D) from which they can be visualized. One of the most widely used techniques for visualizing high-dimensional data is t-SNE, but its performance suffers with large datasets. **UMAP** offers a number of advantages over t-SNE, most notably increased speed and better preservation of the data's global structure. \n",
    "\n",
    "UMAP is primarily used as a dimensionality-reduction technique to visualize high-dimensional data rather than for quantitative analysis.\n",
    "\n",
    "\n",
    "\n",
    "\n",
    "\n",
    "\n",
    "\n",
    "\n",
    "\n",
    "\n"
   ]
  },
  {
   "cell_type": "markdown",
   "id": "027cb078",
   "metadata": {
    "id": "027cb078"
   },
   "source": [
    "<img src=\"materials/images/images_umap/umap_viz.png\"/>"
   ]
  },
  {
   "cell_type": "markdown",
   "id": "c54b7090",
   "metadata": {
    "id": "c54b7090"
   },
   "source": [
    "---"
   ]
  },
  {
   "cell_type": "markdown",
   "id": "cf23a742",
   "metadata": {
    "id": "cf23a742"
   },
   "source": [
    "### ✅ `Run` each of the cells below:"
   ]
  },
  {
   "cell_type": "markdown",
   "id": "e93de6a1",
   "metadata": {
    "id": "e93de6a1"
   },
   "source": [
    "# Import a sample high-dimensional dataset\n"
   ]
  },
  {
   "cell_type": "code",
   "execution_count": null,
   "id": "7d46a0ee",
   "metadata": {
    "id": "7d46a0ee"
   },
   "outputs": [],
   "source": [
    "import pandas as pd\n",
    "import numpy as np\n",
    "import matplotlib.pyplot as plt\n",
    "from sklearn.datasets import load_digits"
   ]
  },
  {
   "cell_type": "markdown",
   "id": "13bb792e",
   "metadata": {
    "id": "13bb792e"
   },
   "source": [
    "### Preview the dimensionality of the dataset\n",
    "The following sample dataset has 64 dimensions (1797 rows x 64 columns)."
   ]
  },
  {
   "cell_type": "code",
   "execution_count": null,
   "id": "4a54b5c6",
   "metadata": {
    "id": "4a54b5c6"
   },
   "outputs": [],
   "source": [
    "# Import sample high-dimensional dataset\n",
    "digits, labels = load_digits(return_X_y=True)\n",
    "\n",
    "# Display the dimensionality of the dataset\n",
    "digits.data.shape"
   ]
  },
  {
   "cell_type": "markdown",
   "id": "c80b61a1",
   "metadata": {
    "id": "c80b61a1"
   },
   "source": [
    "### Preview the sample dataset"
   ]
  },
  {
   "cell_type": "code",
   "execution_count": null,
   "id": "c6c4b887",
   "metadata": {
    "id": "c6c4b887"
   },
   "outputs": [],
   "source": [
    "digits.data.obj"
   ]
  },
  {
   "cell_type": "markdown",
   "id": "f691f7bf",
   "metadata": {
    "id": "f691f7bf"
   },
   "source": [
    "---"
   ]
  },
  {
   "cell_type": "markdown",
   "id": "FqNm4OVoHR5W",
   "metadata": {
    "id": "FqNm4OVoHR5W"
   },
   "source": [
    "# Apply UMAP to the dataset"
   ]
  },
  {
   "cell_type": "code",
   "execution_count": null,
   "id": "LXs6DFKGFWPx",
   "metadata": {
    "id": "LXs6DFKGFWPx"
   },
   "outputs": [],
   "source": [
    "#pip install umap-learn\n",
    "from umap import UMAP\n",
    "\n",
    "embedding = UMAP(n_neighbors=5,\n",
    "                      min_dist=0.3,\n",
    "                      metric='correlation').fit_transform(digits.data)"
   ]
  },
  {
   "cell_type": "markdown",
   "id": "8yeH1EZ2HWdT",
   "metadata": {
    "id": "8yeH1EZ2HWdT"
   },
   "source": [
    "### View the dimensionality of the dataset following the UMAP procedure\n",
    "The sample datset has been reduced to a 2D representation. (1797 rows with two variables/columns each.)"
   ]
  },
  {
   "cell_type": "code",
   "execution_count": null,
   "id": "d0ae2d16",
   "metadata": {
    "id": "d0ae2d16"
   },
   "outputs": [],
   "source": [
    "embedding.shape"
   ]
  },
  {
   "cell_type": "markdown",
   "id": "LiCUZzeCHiWb",
   "metadata": {
    "id": "LiCUZzeCHiWb"
   },
   "source": [
    "### Visualize the low-dimensional representation of the data as clusters"
   ]
  },
  {
   "cell_type": "code",
   "execution_count": null,
   "id": "AmUg7tQCGXwz",
   "metadata": {
    "id": "AmUg7tQCGXwz"
   },
   "outputs": [],
   "source": [
    "plt.scatter(embedding[:,0], embedding[:,1], c=labels)\n",
    "plt.show();"
   ]
  },
  {
   "cell_type": "markdown",
   "id": "RhGHZ5fWRos6",
   "metadata": {
    "id": "RhGHZ5fWRos6"
   },
   "source": [
    "## Interpretation\n",
    "The points within the individual clusters are very similar to each other and are less similar to points in other clusters. A similar pattern is likely present in the original, high-dimensional dataset. \n",
    "\n",
    "It's important to note that the size of the clusters, relative to each other, have little meaning. UMAP uses considerations of local distance to construct its high-dimensional representation.\n",
    "\n",
    "Similarly, the distances between clusters is likely to have little meaning. Although the global positions of clusters are better preserved in UMAP, the distances between them are not meaningful due to its consideration of local distances when constructing the representation."
   ]
  },
  {
   "cell_type": "markdown",
   "id": "57d29f9f",
   "metadata": {
    "id": "57d29f9f"
   },
   "source": [
    "## NOTES:\n",
    "\n",
    "- UMAP has a parameter called **n_neighbors**. This determines the number of neighboring points used in local approximations of structure. Larger values will result in more global structure being preserved at the loss of detailed local structure. In general this parameter should often be in the range 5 to 50, with a choice of 10 to 15 being a sensible default.\n",
    " \n",
    "\n",
    "\n",
    "- UMAP has a parameter called **min_dist**. This controls how tightly the embedding is allowed to compress points together. Larger values ensure embedded points are more evenly distributed while smaller values allow the algorithm to optimize more accurately with regard to local structure. Sensible values are in the range 0.001 to 0.5, with 0.1 being a reasonable default.\n",
    "\n",
    "\n",
    "- UMAP has a parameter called **metric**. This determines the choice of metric used to measure distance in the input space. "
   ]
  },
  {
   "cell_type": "markdown",
   "id": "5d702e10",
   "metadata": {
    "id": "5d702e10"
   },
   "source": [
    "<div class=\"alert alert-block alert-warning\">\n",
    "<b>Tip: </b>UMAP is typically much faster than t-SNE and scales well in terms of both dataset size and dimensionality.</div>"
   ]
  },
  {
   "cell_type": "markdown",
   "id": "a1e2669d",
   "metadata": {
    "id": "a1e2669d"
   },
   "source": [
    "---"
   ]
  },
  {
   "cell_type": "markdown",
   "id": "EphOXjcyHDZA",
   "metadata": {
    "id": "EphOXjcyHDZA"
   },
   "source": [
    "# 🌟 You are done!\n",
    "<br>\n",
    "Review previous lessons often to consolidate the learnings.\n",
    "\n",
    "    \n",
    "- [**Lesson 1: Z-score**](Lesson_1_Z-score.ipynb)\n",
    "\n",
    "- [**Lesson 2: P-value**](Lesson_2_P-value.ipynb)\n",
    "\n",
    "- [**Lesson 3: Lesson 3: Welchs T-test**](Lesson_3_Welchs_T-test.ipynb)\n",
    "\n",
    "- [**Lesson 4: Log2 Fold Change**](Lesson_4_Log2_Fold_Change.ipynb)\n",
    "\n",
    "- [**Lesson 5: Pearson Correlation**](Lesson_5_Pearson_Correlation.ipynb)\n",
    "\n",
    "- [**Lesson 6: Spearman Correlation**](Lesson_6_Spearman_Correlation.ipynb)\n",
    "\n",
    "- [**Lesson 7: False Discovery Rate**](Lesson_7_False_Discovery_Rate.ipynb)\n",
    "\n",
    "- [**Lesson 8: Benjamini Hochberg**](Lesson_8_Benjamini_Hochberg.ipynb)\n",
    "\n",
    "- [**Lesson 9: Dimensionality Reduction Methods: Principal Component Analysis**](Lesson_9_Dimensionality_Reduction_Methods_Principal_Component_Analysis.ipynb)\n",
    "\n",
    "- [**Lesson 10: Dimensionality Reduction Methods: t-SNE**](Lesson_10_Dimensionality_Reduction_Methods_t-SNE.ipynb)"
   ]
  },
  {
   "cell_type": "markdown",
   "id": "MqrwHorlHAh1",
   "metadata": {
    "id": "MqrwHorlHAh1"
   },
   "source": [
    "\n",
    "\n",
    "---\n"
   ]
  },
  {
   "cell_type": "markdown",
   "id": "afe68e99",
   "metadata": {
    "id": "afe68e99"
   },
   "source": [
    "# Contributions & acknowledgment"
   ]
  },
  {
   "cell_type": "markdown",
   "id": "190726d9",
   "metadata": {
    "id": "190726d9"
   },
   "source": [
    "Thanks Antony Ross for contributing the content for this notebook."
   ]
  },
  {
   "cell_type": "markdown",
   "id": "c1642081",
   "metadata": {
    "id": "c1642081"
   },
   "source": [
    "---"
   ]
  },
  {
   "cell_type": "markdown",
   "id": "8deef928",
   "metadata": {
    "id": "8deef928"
   },
   "source": [
    "Copyright (c) 2022 Stanford Data Ocean (SDO)\n",
    "\n",
    "All rights reserved."
   ]
  }
 ],
 "metadata": {
  "colab": {
   "provenance": []
  },
  "kernelspec": {
   "display_name": "Python 3 (ipykernel)",
   "language": "python",
   "name": "python3"
  },
  "language_info": {
   "codemirror_mode": {
    "name": "ipython",
    "version": 3
   },
   "file_extension": ".py",
   "mimetype": "text/x-python",
   "name": "python",
   "nbconvert_exporter": "python",
   "pygments_lexer": "ipython3",
   "version": "3.10.11"
  }
 },
 "nbformat": 4,
 "nbformat_minor": 5
}
