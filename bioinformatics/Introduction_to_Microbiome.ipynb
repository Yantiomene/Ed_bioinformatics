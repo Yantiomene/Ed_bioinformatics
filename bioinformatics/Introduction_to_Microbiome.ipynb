{
 "cells": [
  {
   "cell_type": "markdown",
   "metadata": {
    "id": "3UxBtZrKnfoq"
   },
   "source": [
    "<img src=\"materials/images/introduction-to-microbiome-cover.png\"/>"
   ]
  },
  {
   "cell_type": "markdown",
   "metadata": {
    "id": "ByZeWba5RWLg"
   },
   "source": [
    "# Introduction to Microbiome"
   ]
  },
  {
   "cell_type": "markdown",
   "metadata": {
    "id": "uOo7agKtRWLg"
   },
   "source": [
    "`🕒 This module should take less than 1 hour to complete.`\n",
    "\n",
    "`✍️ This notebook is written using Python.`"
   ]
  },
  {
   "cell_type": "markdown",
   "metadata": {
    "id": "nY_HsTf1RWLh"
   },
   "source": [
    "<div class=\"alert alert-block alert-info\">\n",
    "<h3>⌨️ Keyboard shortcut</h3>\n",
    "\n",
    "These common shortcut could save your time going through this notebook:\n",
    "- Run the current cell: **`Enter + Shift`**.\n",
    "- Add a cell above the current cell: Press **`A`**.\n",
    "- Add a cell below the current cell: Press **`B`**.\n",
    "- Change a code cell to markdown cell: Select the cell, and then press **`M`**.\n",
    "- Delete a cell: Press **`D`** twice.\n",
    "\n",
    "Need more help with keyboard shortcut? Press **`H`** to look it up.\n",
    "</div>"
   ]
  },
  {
   "cell_type": "markdown",
   "metadata": {
    "id": "WIZmPjqvRWLi"
   },
   "source": [
    "---"
   ]
  },
  {
   "cell_type": "markdown",
   "metadata": {
    "id": "weebRUOFyJDs"
   },
   "source": [
    "## What is human microbiome?\n",
    "\n",
    "Human microbiome is the collection of microbes, such as fungi, bacteria and viruses, that live together on any human body sites, such as the mouth, skin, colon, and vagina.\n",
    "\n",
    "There are **10 to 1,000 trillion microbes** living on and in our body. There are so many of them that the weight of our microbes is about 3% of our total body weight. Besides, the volume of microbes is 1 to 10 times more than human cells. To dive deeper, our body contains between 30-40 trillion cells with genetic codes in each cell that are composed of approximately 3 or 6 billion base pairs of DNA in the germ and somatic cells, respectively [1]. \n",
    "\n",
    "If you can take away any message by now, it is that microbiome is very important for humans."
   ]
  },
  {
   "cell_type": "markdown",
   "metadata": {
    "id": "4fDPT2ui-ZXb"
   },
   "source": [
    "## Why is microbiome important for us?\n",
    "\n",
    "The human gut microbiome has been an increasingly popular research topic nowadays. Scientists have discovered gut microbiome comprises over 39 trillion microbes, bacteria, and fungi, whose favorable compositions are essential to our continued health. \n",
    "\n",
    "Gut microbiome impacts our digestion, extracting nutrients from food, development of the immune system, and mood regulation. How does microbiome do this?\n",
    "\n",
    "The bacteria in the microbiome help digest our food, regulate our metabolism and immune system, protect us against other bacteria that cause disease, and produce vitamins including vitamin B12, thiamine, riboflavin, and Vitamin K, which are needed for blood coagulation [2]. They also manufacture about 95% of the body’s supply of serotonin, which influences both mood and GI activity [3]. \n",
    "\n",
    "In addition, studies show that the microbiome makes chemicals that travel to the brain, and affect how we think and feel. This is called the gut-brain axis. It is related to Parkinson's disease, Alzheimer's disease, Autism, depression, and schizophrenia.\n",
    "\n"
   ]
  },
  {
   "cell_type": "markdown",
   "metadata": {
    "id": "p3XQuPYQnthd"
   },
   "source": [
    "<img src=\"materials/images/gut-brain-axis.png\"/>"
   ]
  },
  {
   "cell_type": "markdown",
   "metadata": {
    "id": "PDNGDslY8hhA"
   },
   "source": [
    "#### Reference:\n",
    "[1] Snyder, M. (2016). Genomics and personalized medicine: what everyone needs to know. Oxford University Press.\n",
    "\n",
    "[2]  University of Washington. (2014). Fast Facts About The Human Microbiome [Brochure]. https://depts.washington.edu/ceeh/downloads/FF_Microbiome.pdf\n",
    "\n",
    "[3] Dehhaghi, M., Kazemi Shariat Panahi, H., & Guillemin, G. J. (2019). Microorganisms, tryptophan metabolism, and kynurenine pathway: A complex interconnected loop influencing human health status. International Journal of Tryptophan Research, 12, 1178646919852996.\n",
    "\n",
    "[4] The Integrative HMP (iHMP) Research Network Consortium. The Integrative Human Microbiome Project. Nature 569, 641–648 (2019). https://doi.org/10.1038/s41586-019-1238-8\n",
    "\n",
    "[5] Turnbaugh, P., Hamady, M., Yatsunenko, T. et al. A core gut microbiome in obese and lean twins. Nature 457, 480–484 (2009). https://doi-org.stanford.idm.oclc.org/10.1038/nature07540\n",
    "\n",
    "[6] Qin, J., Li, Y., Cai, Z. et al. A metagenome-wide association study of gut microbiota in type 2 diabetes. Nature 490, 55–60 (2012). https://doi-org.stanford.idm.oclc.org/10.1038/nature11450"
   ]
  },
  {
   "cell_type": "markdown",
   "metadata": {
    "id": "hnv4jBb68v3O"
   },
   "source": [
    "---"
   ]
  },
  {
   "cell_type": "markdown",
   "metadata": {
    "id": "9xYHxn49ZwCy"
   },
   "source": [
    "# Microbiome\n",
    "\n",
    "In this module, we will use data collected from the Human Microbiome Project (HMP) by the National Institutes of Health (NIH). The project has been carried out for over ten years to provide resources, methods, and discoveries that link interactions between humans and their microbiomes to health-related outcomes. [4]\n",
    "\n",
    "Let's start by fetching our data, and loading the Python `scikit-bio` package!"
   ]
  },
  {
   "cell_type": "markdown",
   "metadata": {
    "id": "knSCqsaMZ6Y_"
   },
   "source": [
    "### Load data\n",
    "\n",
    "As with our proteomics and metabolomics data, our row names are the sample names. Here, each column represents different taxonomical classifications of the microbes."
   ]
  },
  {
   "cell_type": "code",
   "execution_count": null,
   "metadata": {
    "id": "wSeGBZeCZ3Oc"
   },
   "outputs": [],
   "source": [
    "import pandas as pd\n",
    "\n",
    "data = pd.read_csv('data/gut_16s_abundance.txt', sep='\\t', index_col=0)\n",
    "data.iloc[0:8, 0:5]"
   ]
  },
  {
   "cell_type": "markdown",
   "metadata": {
    "id": "foidHPWa4d5j"
   },
   "source": [
    "## Filter data\n",
    "\n",
    "Let us focus on the microbiome data of the same patient (ID: ZOZOW1T) we looked at in proteomics module."
   ]
  },
  {
   "cell_type": "code",
   "execution_count": null,
   "metadata": {
    "id": "GFOnp_714bqd"
   },
   "outputs": [],
   "source": [
    "patientID = 'ZOZOW1T'\n",
    "patientData = data.filter(like=patientID, axis=0)\n",
    "patientData.iloc[0:10, 0:6]"
   ]
  },
  {
   "cell_type": "code",
   "execution_count": null,
   "metadata": {
    "id": "PH_YlIRT4mVQ"
   },
   "outputs": [],
   "source": [
    "(nRows, nCols) = patientData.shape\n",
    "print('Our dataset contains the relative abundance data for', nCols, 'taxa from', nRows, 'samples from Patient ZOZOW1T.')"
   ]
  },
  {
   "cell_type": "markdown",
   "metadata": {
    "id": "2NNY9JVpDr3_"
   },
   "source": [
    "There are several different taxonomic ranks (i.e. Kingdom, Phylum, Class, Order, Family, Genus, Species).\n",
    "\n",
    "Here, we define a helper function that groups our taxa (columns) by a specified taxonomic rank (ex. Phylum). "
   ]
  },
  {
   "cell_type": "code",
   "execution_count": null,
   "metadata": {
    "id": "O_1jFVF6aa9T"
   },
   "outputs": [],
   "source": [
    "import numpy as np\n",
    "\n",
    "def group(level):\n",
    "  hits = []\n",
    "  for col in data.columns:\n",
    "    if level + \"_\" in col:\n",
    "      hits.append(col)\n",
    "  return hits"
   ]
  },
  {
   "cell_type": "markdown",
   "metadata": {
    "id": "_wJ-HiBQGip0"
   },
   "source": [
    "To test that our helper function works, let us print all of the included phyla (plural form of phylum)."
   ]
  },
  {
   "cell_type": "code",
   "execution_count": null,
   "metadata": {
    "id": "Ug0rV7X6Gifl"
   },
   "outputs": [],
   "source": [
    "phyla = group('phylum')\n",
    "print('Phyla:', phyla)"
   ]
  },
  {
   "cell_type": "code",
   "execution_count": null,
   "metadata": {
    "id": "XihYWiGL8oBM"
   },
   "outputs": [],
   "source": [
    "import seaborn as sns\n",
    "import matplotlib.pyplot as plt\n",
    "\n",
    "sns.set_theme(style=\"white\", palette=\"muted\")\n",
    "sns.despine()\n",
    "\n",
    "plt.rcParams['figure.figsize'] = [20, 10] \n",
    "\n",
    "def plot(level):\n",
    "  hits = group(level)\n",
    "  patientData.loc[:, hits].plot(kind='bar', stacked=True, edgecolor='none')\n",
    "  plt.ylabel('Relative Abundance')\n",
    "  plt.title('Relative Abundance by ' + level.capitalize())\n",
    "  plt.show()\n",
    "\n",
    "plot('phylum')"
   ]
  },
  {
   "cell_type": "code",
   "execution_count": null,
   "metadata": {
    "id": "s-k2SQul-X8w"
   },
   "outputs": [],
   "source": [
    "plot('class')"
   ]
  },
  {
   "cell_type": "code",
   "execution_count": null,
   "metadata": {
    "id": "17-mysXMBYf6"
   },
   "outputs": [],
   "source": [
    "plot('order')"
   ]
  },
  {
   "cell_type": "markdown",
   "metadata": {
    "id": "9FsLZiHMBzxp"
   },
   "source": [
    "### Shannon Diversity Index\n"
   ]
  },
  {
   "cell_type": "markdown",
   "metadata": {
    "id": "_ienkvPWRWLs"
   },
   "source": [
    "The Shannon diversity index is a measure of the information content (entropy) within a community. More specifically, the index quantifies how diverse the community is with a greater value indicating greater diversity. A Shannon diversity index of 0 indicates a community is dominated by a single microbe. As additional taxa are included (at a more equal distribution), the Shannon diversity index increases. Measuring gut diversity is of great interest, because greater diversity has been shown to reduce obesity [5], diabetes [6], and other health conditions."
   ]
  },
  {
   "cell_type": "code",
   "execution_count": null,
   "metadata": {
    "id": "b_PQFuHDXymM"
   },
   "outputs": [],
   "source": [
    "import skbio\n",
    "\n",
    "shannonDiversity = []\n",
    "for i in range(nRows):\n",
    "  shannonDiversity.append(skbio.diversity.alpha.shannon(patientData.iloc[i, :]))"
   ]
  },
  {
   "cell_type": "code",
   "execution_count": null,
   "metadata": {
    "id": "mFisNMImhI3a"
   },
   "outputs": [],
   "source": [
    "import matplotlib.pyplot as plt\n",
    "\n",
    "plt.plot(shannonDiversity)\n",
    "plt.title('Shannon Diversity across Samples')\n",
    "plt.xlabel('Sample')\n",
    "plt.ylabel('Shannon Diversity')\n",
    "plt.show()"
   ]
  },
  {
   "cell_type": "markdown",
   "metadata": {
    "id": "nlye9pVQsqq2"
   },
   "source": [
    "---"
   ]
  },
  {
   "cell_type": "markdown",
   "metadata": {
    "id": "jgB7bhkUssQS"
   },
   "source": [
    "## Contributions & acknowledgement\n",
    "\n",
    "- **Module Content:** Ryan Park\n",
    "- **Engineering:** Amit Dixit\n",
    "- **UX/UI Design & Illustration:** Kexin Cha\n",
    "- **Video Production:** Francesca Goncalves\n",
    "- **Project Management:** Amir Bahmani, Kexin Cha"
   ]
  },
  {
   "cell_type": "markdown",
   "metadata": {
    "id": "75T6mQupswab"
   },
   "source": [
    "---"
   ]
  },
  {
   "cell_type": "markdown",
   "metadata": {
    "id": "AYe5x5Hrs3co"
   },
   "source": [
    "Copyright (c) 2022 Stanford Data Ocean (SDO)\n",
    "\n",
    "All rights reserved."
   ]
  }
 ],
 "metadata": {
  "colab": {
   "provenance": []
  },
  "kernelspec": {
   "display_name": "Python 3 (ipykernel)",
   "language": "python",
   "name": "python3"
  },
  "language_info": {
   "codemirror_mode": {
    "name": "ipython",
    "version": 3
   },
   "file_extension": ".py",
   "mimetype": "text/x-python",
   "name": "python",
   "nbconvert_exporter": "python",
   "pygments_lexer": "ipython3",
   "version": "3.10.9"
  }
 },
 "nbformat": 4,
 "nbformat_minor": 0
}
