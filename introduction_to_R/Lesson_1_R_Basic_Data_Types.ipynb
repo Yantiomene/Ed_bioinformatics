{
 "cells": [
  {
   "cell_type": "markdown",
   "id": "884c204c",
   "metadata": {
    "id": "884c204c"
   },
   "source": [
    "<img src=\"materials/images/introduction-to-r-programming-cover.png\"/>"
   ]
  },
  {
   "cell_type": "markdown",
   "id": "fa775cbc-12b8-4ea3-bf98-608408bcfc2b",
   "metadata": {
    "id": "fa775cbc-12b8-4ea3-bf98-608408bcfc2b"
   },
   "source": [
    "\n",
    "# 👋 Welcome, before you start\n",
    "<br>\n",
    "\n",
    "### 📚 Module overview\n",
    "\n",
    "R is a statistical programming language that is very effective for computation and high-level graphics. It is commonly used for data analytics and data science.\n",
    "\n",
    "We are going through five lessons in this module:\n",
    "\n",
    "- <font color=#E98300>**Lesson 1: R Basic Data Types**</font>    `📍You are here.`\n",
    "    \n",
    "- [**Lesson 2: R Data Structures**](Lesson_2_R_Data_Structures.ipynb)\n",
    "    \n",
    "- [**Lesson 3: Importing Data**](Lesson_3_Importing_Data.ipynb)\n",
    "\n",
    "- [**Lesson 4: Conditionals and Loops**](Lesson_4_Conditionals_and_Loops.ipynb)\n",
    "\n",
    "- [**Lesson 5: Functions**](Lesson_5_Functions.ipynb)\n",
    "\n",
    "\n",
    "</br>\n",
    "\n",
    "### ✅ Exercises\n",
    "We encourage you to try the exercise questions in this module, and use the [**solutions to the exercises**](Exercise_solutions.ipynb) to help you study.\n",
    "\n",
    "</br>\n",
    "\n",
    "<div class=\"alert alert-block alert-info\">\n",
    "<h3>⌨️ Keyboard shortcut</h3>\n",
    "\n",
    "These common shortcut could save your time going through this notebook:\n",
    "- Run the current cell: **`Enter + Shift`**.\n",
    "- Add a cell above the current cell: Press **`A`**.\n",
    "- Add a cell below the current cell: Press **`B`**.\n",
    "- Change a code cell to markdown cell: Select the cell, and then press **`M`**.\n",
    "- Delete a cell: Press **`D`** twice.\n",
    "\n",
    "Need more help with keyboard shortcut? Press **`H`** to look it up.\n",
    "</div>"
   ]
  },
  {
   "cell_type": "markdown",
   "id": "f1c1bbbe-df19-470f-a21d-eb4b94042f61",
   "metadata": {
    "id": "f1c1bbbe-df19-470f-a21d-eb4b94042f61"
   },
   "source": [
    "---"
   ]
  },
  {
   "cell_type": "markdown",
   "id": "3bcf3058",
   "metadata": {
    "id": "3bcf3058"
   },
   "source": [
    "# Lesson 1: R Basic Data Types\n",
    "\n",
    "You’ll learn about some of the different types of data you can work with in R:\n",
    "\n",
    "- [Numbers](#Numbers-(Integer,-Numeric))\n",
    "- [Character](#Character)\n",
    "- [Variables](#Variables)\n",
    "- [Logicals](#Logicals)\n",
    "\n",
    "\n",
    "`🕒 This module should take about 30 minutes to complete.`\n",
    "\n",
    "`✍️ This notebook is written using R.`"
   ]
  },
  {
   "cell_type": "markdown",
   "id": "508ad158",
   "metadata": {
    "id": "508ad158"
   },
   "source": [
    "## Numbers (Integer, Numeric)"
   ]
  },
  {
   "cell_type": "markdown",
   "id": "fd3c4064",
   "metadata": {
    "id": "fd3c4064"
   },
   "source": [
    "- **Integers** are whole numbers.\n",
    "- **Numerics** are decimal numbers.\n",
    "\n",
    "\n",
    "\n",
    "Expression |<p style='text-align:center'>Description</p> | Result\n",
    ":------------: |------------ | :-------------\n",
    "3 + 2 |<p style='text-align:center'>Addition</p> | <p style='text-align:center'>5</p>\n",
    "3 - 2 |<p style='text-align:center'>Subtraction</p> | <p style='text-align:center'>1</p>\n",
    "3 * 2|<p style='text-align:center'>Multiplication</p> | <p style='text-align:center'>6</p>\n",
    "3 / 2|<p style='text-align:center'>Division</p> | <p style='text-align:center'>1.5</p>\n",
    "3 %% 2|<p style='text-align:center'>Modulus/Remainder</p> | <p style='text-align:center'>1</p>\n",
    "3 ^ 2|<p style='text-align:center'>Exponent</p>| <p style='text-align:center'>9</p>"
   ]
  },
  {
   "cell_type": "markdown",
   "id": "07c9fa62",
   "metadata": {
    "id": "07c9fa62"
   },
   "source": [
    "### ✅ `Run` each of the cells below:"
   ]
  },
  {
   "cell_type": "code",
   "execution_count": null,
   "id": "c816b195",
   "metadata": {
    "id": "c816b195"
   },
   "outputs": [],
   "source": [
    "3+2"
   ]
  },
  {
   "cell_type": "code",
   "execution_count": null,
   "id": "c328b785",
   "metadata": {
    "id": "c328b785"
   },
   "outputs": [],
   "source": [
    "3-2"
   ]
  },
  {
   "cell_type": "code",
   "execution_count": null,
   "id": "de947e61",
   "metadata": {
    "id": "de947e61"
   },
   "outputs": [],
   "source": [
    "3*2"
   ]
  },
  {
   "cell_type": "code",
   "execution_count": null,
   "id": "ffd30ea4",
   "metadata": {
    "id": "ffd30ea4"
   },
   "outputs": [],
   "source": [
    "3/2"
   ]
  },
  {
   "cell_type": "code",
   "execution_count": null,
   "id": "b0dfe759",
   "metadata": {
    "id": "b0dfe759"
   },
   "outputs": [],
   "source": [
    "# Modulus: returns the remainder after division\n",
    "\n",
    "3%%2"
   ]
  },
  {
   "cell_type": "code",
   "execution_count": null,
   "id": "e551f92c",
   "metadata": {
    "id": "e551f92c"
   },
   "outputs": [],
   "source": [
    "# Exponent\n",
    "\n",
    "3^2"
   ]
  },
  {
   "cell_type": "markdown",
   "id": "e494dd60",
   "metadata": {
    "id": "e494dd60"
   },
   "source": [
    "#### ✅ Add a new cell below this one, and `Run` the following mathematical operation: \n",
    "```4 raised to the power of 2, times 3```\n",
    "\n",
    "```The output should be: 48```"
   ]
  },
  {
   "cell_type": "code",
   "execution_count": null,
   "id": "dff453d3",
   "metadata": {
    "id": "dff453d3"
   },
   "outputs": [],
   "source": [
    "4^2*3"
   ]
  },
  {
   "cell_type": "markdown",
   "id": "ec8c78b9",
   "metadata": {
    "id": "ec8c78b9"
   },
   "source": [
    "<div class=\"alert alert-block alert-success\">\n",
    "<b>Note:</b> You may have noticed the use of comments in the cells above. A comment is text in a code cell that is to be ignored. A comment, in R, is preceded by a hash symbol. Comments are useful for annotating your code in plain English. It's a good habit to frequently add notes to your code that describe your thinking, your approach to solving a problem, or even as a to-do list. \n",
    "</div>\n",
    "\n",
    "\n",
    "<div class=\"alert alert-block alert-info\">\n",
    "<b>Tip:</b> As you're learning R, use comments to take notes in order to remember key concepts \n",
    "    and to enhance your understanding.\n",
    "</div>"
   ]
  },
  {
   "cell_type": "markdown",
   "id": "890d3c02",
   "metadata": {
    "id": "890d3c02"
   },
   "source": [
    "---"
   ]
  },
  {
   "cell_type": "markdown",
   "id": "8dfcc632",
   "metadata": {
    "id": "8dfcc632"
   },
   "source": [
    "## Character\n",
    "A **character** type is a piece of text represented as a sequence of characters (letters, numbers, and symbols) within either single or double quotes."
   ]
  },
  {
   "cell_type": "code",
   "execution_count": null,
   "id": "c127779f",
   "metadata": {
    "id": "c127779f"
   },
   "outputs": [],
   "source": [
    "# Single or double quotes are fine...\n",
    "\n",
    "'This is fun!'"
   ]
  },
  {
   "cell_type": "code",
   "execution_count": null,
   "id": "5b9f0706",
   "metadata": {
    "id": "5b9f0706"
   },
   "outputs": [],
   "source": [
    "# If an apostrophe is used, then double quotes are required.\n",
    "\n",
    "\"Isn’t this fun?\""
   ]
  },
  {
   "cell_type": "markdown",
   "id": "95b3fecd",
   "metadata": {
    "id": "95b3fecd"
   },
   "source": [
    "#### Concatenation of Character Types\n",
    "\n",
    "You can concatenate (or combine) character types by using the **paste()** function."
   ]
  },
  {
   "cell_type": "code",
   "execution_count": null,
   "id": "0a103cd8",
   "metadata": {
    "id": "0a103cd8"
   },
   "outputs": [],
   "source": [
    "paste(\"Here we go\", \"again!\")"
   ]
  },
  {
   "cell_type": "markdown",
   "id": "a0b4850e",
   "metadata": {
    "id": "a0b4850e"
   },
   "source": [
    "The default separator is a space, but you can declare your desired separator by using the \"sep\" parameter:"
   ]
  },
  {
   "cell_type": "code",
   "execution_count": null,
   "id": "f358ce5a",
   "metadata": {
    "id": "f358ce5a"
   },
   "outputs": [],
   "source": [
    "paste(\"look\", \"here\", sep=\"_\")"
   ]
  },
  {
   "cell_type": "markdown",
   "id": "32d4c1c1",
   "metadata": {
    "id": "32d4c1c1"
   },
   "source": [
    "---"
   ]
  },
  {
   "cell_type": "markdown",
   "id": "627b74b2",
   "metadata": {
    "id": "627b74b2"
   },
   "source": [
    "## Print\n",
    "So far, the result of the code that we've written was automatically returned as output for us to see. This is because Jupyter Notebook is an interactive environment and, by default, sends its results to the output to be viewed. However, as you write more code, there will be times when this won't be the case. That's when you'll formally want to request that results be output to the screen. The **print()** function is one way to accomplish this."
   ]
  },
  {
   "cell_type": "code",
   "execution_count": null,
   "id": "5657359f",
   "metadata": {
    "id": "5657359f"
   },
   "outputs": [],
   "source": [
    "print(\"Let's print some R!\")"
   ]
  },
  {
   "cell_type": "code",
   "execution_count": null,
   "id": "348474c0",
   "metadata": {
    "id": "348474c0"
   },
   "outputs": [],
   "source": [
    "# Setting the quote parameter to FALSE removes the quotes from the output.\n",
    "\n",
    "print(\"Let's print some R!\", quote = FALSE)"
   ]
  },
  {
   "cell_type": "code",
   "execution_count": null,
   "id": "1f5f314b",
   "metadata": {
    "id": "1f5f314b"
   },
   "outputs": [],
   "source": [
    "# Using the noquote() function prevents quotes from being output.\n",
    "\n",
    "noquote(\"Let's print some R!\")"
   ]
  },
  {
   "cell_type": "markdown",
   "id": "869c3c99",
   "metadata": {
    "id": "869c3c99"
   },
   "source": [
    "---"
   ]
  },
  {
   "cell_type": "markdown",
   "id": "10821a52",
   "metadata": {
    "id": "10821a52"
   },
   "source": [
    "## Variables\n",
    "A variable is a named value. In other words, if we create a variable named **_introduction_** and assign the value \"R here!\" to it, we can then type **_introduction_** to have the value \"R here!\" returned:"
   ]
  },
  {
   "cell_type": "markdown",
   "id": "f2114f01",
   "metadata": {
    "id": "f2114f01"
   },
   "source": [
    "<div class=\"alert alert-block alert-warning\">\n",
    "<b>Alert:</b> Assignment, in R, generally uses the leftward assignment operator (i.e., <- ). The equals operator (i.e., = ) can be used in some circumstances but not all. The <- operator can be used anywhere for assignment.\n",
    "\n",
    "</div>\n",
    "\n",
    "\n",
    "\n"
   ]
  },
  {
   "cell_type": "code",
   "execution_count": null,
   "id": "c26a0592",
   "metadata": {
    "id": "c26a0592"
   },
   "outputs": [],
   "source": [
    "# Assigning a value to a variable:\n",
    "\n",
    "introduction <- \"R here!\"\n",
    "print(introduction)"
   ]
  },
  {
   "cell_type": "markdown",
   "id": "fd2c5430",
   "metadata": {
    "id": "fd2c5430"
   },
   "source": [
    "You can change the value of a variable at any time, and R will always keep track of its current value."
   ]
  },
  {
   "cell_type": "code",
   "execution_count": null,
   "id": "8db94f54",
   "metadata": {
    "id": "8db94f54"
   },
   "outputs": [],
   "source": [
    "introduction <- \"Hiya, I'm R!\"\n",
    "print(introduction)"
   ]
  },
  {
   "cell_type": "markdown",
   "id": "84247932",
   "metadata": {
    "id": "84247932"
   },
   "source": [
    "The following shortcuts will insert the leftward assignment operator (<-):\n",
    " \n",
    "- Win: `alt` + `-`\n",
    "\n",
    "- Mac: `option` + `-`\n"
   ]
  },
  {
   "cell_type": "code",
   "execution_count": null,
   "id": "e81e47bd",
   "metadata": {
    "id": "e81e47bd"
   },
   "outputs": [],
   "source": [
    "# Try the shortcut here.\n",
    " <- "
   ]
  },
  {
   "cell_type": "markdown",
   "id": "69367273",
   "metadata": {
    "id": "69367273"
   },
   "source": [
    "### Naming variables\n",
    "\n",
    "When naming variables in R you must keep a few rules and guidelines in mind:\n",
    "\n",
    "**Variables:**\n",
    "   - should begin with a letter. \n",
    "   - can use only letters, numbers, and the underscore (_) character.\n",
    "   - are case-sensitive (data, Data and DATA would be different variable names).\n",
    "   \n",
    "   For example:\n",
    "   \n",
    "```\n",
    "    first_name <- \"Elon\"\n",
    "    lastName <- \"Musk\"\n",
    "```"
   ]
  },
  {
   "cell_type": "markdown",
   "id": "1842179f",
   "metadata": {
    "id": "1842179f"
   },
   "source": [
    "### Formatted printing\n",
    "\n",
    "The **cat()** function can be used to concatenate and format character output."
   ]
  },
  {
   "cell_type": "code",
   "execution_count": null,
   "id": "c6da4b3f",
   "metadata": {
    "id": "c6da4b3f"
   },
   "outputs": [],
   "source": [
    "# Format output (spaces are automatically added between items)\n",
    "\n",
    "men <- 32\n",
    "women <- 27\n",
    "\n",
    "# Assigning the sum of the variables men and women to the variable num_participants.\n",
    "num_participants <- men+women\n",
    "\n",
    "\n",
    "# Concatenating the variable num_participants with two character strings and returning the output.\n",
    "cat(\"There are\", num_participants, \"individuals currently participating in the study.\")"
   ]
  },
  {
   "cell_type": "markdown",
   "id": "6df69386",
   "metadata": {
    "id": "6df69386"
   },
   "source": [
    "<div class=\"alert alert-block alert-success\">\n",
    "<b>Note:</b> When a value is returned using print(), a number is presented to the left of the value. Otherwise (e.g., when using paste() or cat() ), only the value is returned. \n",
    "</div>"
   ]
  },
  {
   "cell_type": "markdown",
   "id": "0e46ad1c",
   "metadata": {
    "id": "0e46ad1c"
   },
   "source": [
    "---"
   ]
  },
  {
   "cell_type": "markdown",
   "id": "41f59168",
   "metadata": {
    "id": "41f59168"
   },
   "source": [
    "## Logicals\n",
    "The logical data type can either be **TRUE** or **FALSE** (must be in all caps). Logicals are typically used with conditional expressions. If the condition is true then TRUE is returned, otherwise FALSE is returned. Later, you will learn how logicals enable you to access specific parts of your data.\n",
    "\n",
    "`TRUE` and `FALSE` are reserved words in R. (T and F can be substituted, respectively.)"
   ]
  },
  {
   "cell_type": "code",
   "execution_count": null,
   "id": "a52fe3b0",
   "metadata": {
    "id": "a52fe3b0"
   },
   "outputs": [],
   "source": [
    "TRUE"
   ]
  },
  {
   "cell_type": "code",
   "execution_count": null,
   "id": "eec3f82e",
   "metadata": {
    "id": "eec3f82e"
   },
   "outputs": [],
   "source": [
    "T"
   ]
  },
  {
   "cell_type": "code",
   "execution_count": null,
   "id": "6429c3b2",
   "metadata": {
    "id": "6429c3b2"
   },
   "outputs": [],
   "source": [
    "# Must be in all caps. True or False will return an error.\n",
    "\n",
    "FALSE"
   ]
  },
  {
   "cell_type": "code",
   "execution_count": null,
   "id": "d6af4b06",
   "metadata": {
    "id": "d6af4b06"
   },
   "outputs": [],
   "source": [
    "F"
   ]
  },
  {
   "cell_type": "markdown",
   "id": "596b3045",
   "metadata": {
    "id": "596b3045"
   },
   "source": [
    "### Comparison Operators\n",
    "\n",
    "Expression |Description | Result\n",
    ":------------: |------------ | :-------------\n",
    "1 < 2 |Less Than | True\n",
    "1 > 2 |Greater Than | False\n",
    "1 <= 2|Less Than Or Equal To | True\n",
    "1 >= 2|Greater Than Or Equal To | False\n",
    "1 == 2|Equivalent To | False\n",
    "1 != 2|Not Equal To | True"
   ]
  },
  {
   "cell_type": "markdown",
   "id": "9bf15707",
   "metadata": {
    "id": "9bf15707"
   },
   "source": [
    "Numerical comparison:"
   ]
  },
  {
   "cell_type": "code",
   "execution_count": null,
   "id": "35deb8fc",
   "metadata": {
    "id": "35deb8fc"
   },
   "outputs": [],
   "source": [
    "5 < 2"
   ]
  },
  {
   "cell_type": "code",
   "execution_count": null,
   "id": "4839a3aa",
   "metadata": {
    "id": "4839a3aa"
   },
   "outputs": [],
   "source": [
    "5 > 2"
   ]
  },
  {
   "cell_type": "code",
   "execution_count": null,
   "id": "1d01332a",
   "metadata": {
    "id": "1d01332a"
   },
   "outputs": [],
   "source": [
    "5 <= 2"
   ]
  },
  {
   "cell_type": "code",
   "execution_count": null,
   "id": "184f9261",
   "metadata": {
    "id": "184f9261"
   },
   "outputs": [],
   "source": [
    "5 >= 2"
   ]
  },
  {
   "cell_type": "code",
   "execution_count": null,
   "id": "f581504f",
   "metadata": {
    "id": "f581504f"
   },
   "outputs": [],
   "source": [
    "5 == 2"
   ]
  },
  {
   "cell_type": "code",
   "execution_count": null,
   "id": "e2925edb",
   "metadata": {
    "id": "e2925edb"
   },
   "outputs": [],
   "source": [
    "5 != 2"
   ]
  },
  {
   "cell_type": "code",
   "execution_count": null,
   "id": "f000d8ad",
   "metadata": {
    "id": "f000d8ad"
   },
   "outputs": [],
   "source": [
    "# Not FALSE\n",
    "\n",
    "!FALSE"
   ]
  },
  {
   "cell_type": "markdown",
   "id": "f1ff3c52",
   "metadata": {
    "id": "f1ff3c52"
   },
   "source": [
    "Character comparison:"
   ]
  },
  {
   "cell_type": "code",
   "execution_count": null,
   "id": "9d37b4c0",
   "metadata": {
    "id": "9d37b4c0"
   },
   "outputs": [],
   "source": [
    "\"meme\" == \"meme\""
   ]
  },
  {
   "cell_type": "code",
   "execution_count": null,
   "id": "1620a9eb",
   "metadata": {
    "id": "1620a9eb"
   },
   "outputs": [],
   "source": [
    "\"meme\" == \"memo\""
   ]
  },
  {
   "cell_type": "markdown",
   "id": "edc3c11b",
   "metadata": {
    "id": "edc3c11b"
   },
   "source": [
    "### Logical Operators (&, |)\n",
    "When working with compound conditions, if \"and\" (&) is used, then both tests must be TRUE for the statement to return TRUE. If \"or\" (|) is used then only one of the conditions must be TRUE."
   ]
  },
  {
   "cell_type": "markdown",
   "id": "228927a3",
   "metadata": {
    "id": "228927a3"
   },
   "source": [
    "#### Compound logicals"
   ]
  },
  {
   "cell_type": "code",
   "execution_count": null,
   "id": "affcda01",
   "metadata": {
    "id": "affcda01"
   },
   "outputs": [],
   "source": [
    "# True and True\n",
    "\n",
    "TRUE & TRUE"
   ]
  },
  {
   "cell_type": "code",
   "execution_count": null,
   "id": "fa78a8b5",
   "metadata": {
    "id": "fa78a8b5"
   },
   "outputs": [],
   "source": [
    "# True and False\n",
    "\n",
    "TRUE & FALSE"
   ]
  },
  {
   "cell_type": "code",
   "execution_count": null,
   "id": "9edebe52",
   "metadata": {
    "id": "9edebe52"
   },
   "outputs": [],
   "source": [
    "# False and False\n",
    "\n",
    "F & F"
   ]
  },
  {
   "cell_type": "code",
   "execution_count": null,
   "id": "bb3a4ca0",
   "metadata": {
    "id": "bb3a4ca0"
   },
   "outputs": [],
   "source": [
    "# True or False\n",
    "\n",
    "T | F"
   ]
  },
  {
   "cell_type": "code",
   "execution_count": null,
   "id": "6574085a",
   "metadata": {
    "id": "6574085a"
   },
   "outputs": [],
   "source": [
    "# TRUE  &  TRUE\n",
    "\n",
    "(5 > 2) & (2 < 5)"
   ]
  },
  {
   "cell_type": "code",
   "execution_count": null,
   "id": "f1060ad7",
   "metadata": {
    "id": "f1060ad7"
   },
   "outputs": [],
   "source": [
    "# FALSE   |    FALSE\n",
    "\n",
    "(3 > 10)  |  (3 > 20)"
   ]
  },
  {
   "cell_type": "code",
   "execution_count": null,
   "id": "e70362ae",
   "metadata": {
    "id": "e70362ae"
   },
   "outputs": [],
   "source": [
    "# FALSE    |  TRUE\n",
    "\n",
    "(12 == 8)  |  13"
   ]
  },
  {
   "cell_type": "markdown",
   "id": "866fd51e",
   "metadata": {
    "id": "866fd51e"
   },
   "source": [
    "<div class=\"alert alert-block alert-success\">\n",
    "<b>Note:</b> Any non-zero value is considered TRUE.\n",
    "</div>"
   ]
  },
  {
   "cell_type": "markdown",
   "id": "61b22311",
   "metadata": {
    "id": "61b22311"
   },
   "source": [
    "### ✅ Exercise 1\n",
    "\n",
    "- Create a variable named **cats** and assign the value 2 to it. \n",
    "- Create a variable named **dogs** and assign the value 3 to it. \n",
    "- Create a variable named **pets**. \n",
    "- Assign **cats** plus **dogs** to the variable **pets**. \n",
    "- Print out the variable **pets**.\n"
   ]
  },
  {
   "cell_type": "code",
   "execution_count": null,
   "id": "547b866b",
   "metadata": {
    "id": "547b866b"
   },
   "outputs": [],
   "source": []
  },
  {
   "cell_type": "markdown",
   "id": "2f98b59f",
   "metadata": {
    "id": "2f98b59f"
   },
   "source": [
    "<div class=\"alert alert-block alert-warning\">\n",
    "<b>Alert:</b> Remember to use the leftward assignment operator (i.e., <- ).\n",
    "                                                                         \n",
    "Assignment operator shortcut:\n",
    "- Win: `alt` + `-`\n",
    "- Mac: `option` + `-` \n",
    "\n",
    "</div>"
   ]
  },
  {
   "cell_type": "markdown",
   "id": "98ddc962",
   "metadata": {
    "id": "98ddc962"
   },
   "source": [
    "### ✅ Exercise 2\n",
    "\n",
    "Using the three variables that you created above and the **_cat()_** function, output the following formatted sentence:\n",
    "  \n",
    "\"We have 5 pets: 2 cats and 3 dogs.\"\n"
   ]
  },
  {
   "cell_type": "code",
   "execution_count": null,
   "id": "91082751",
   "metadata": {
    "id": "91082751"
   },
   "outputs": [],
   "source": []
  },
  {
   "cell_type": "markdown",
   "id": "96f6d7fc",
   "metadata": {
    "id": "96f6d7fc"
   },
   "source": [
    "### ✅ Exercise 3\n",
    "\n",
    "- Create a variable named **length_of_sides** and assign the value 8 to it.\n",
    "- Then create a variable named **area** and assign **length_of_sides** squared to it.\n",
    "- Then create a variable named **perimeter** and assign **length_of_sides** times 4 to it.\n",
    "- Print out the variables **area** and **perimeter**."
   ]
  },
  {
   "cell_type": "code",
   "execution_count": null,
   "id": "bb1f1247",
   "metadata": {
    "id": "bb1f1247"
   },
   "outputs": [],
   "source": []
  },
  {
   "cell_type": "markdown",
   "id": "969e16ed-cdf3-48e9-8f63-e2bcb557802b",
   "metadata": {
    "id": "969e16ed-cdf3-48e9-8f63-e2bcb557802b"
   },
   "source": [
    "---"
   ]
  },
  {
   "cell_type": "markdown",
   "id": "317b7220-351a-47e6-bc27-f3aa474ba538",
   "metadata": {
    "id": "317b7220-351a-47e6-bc27-f3aa474ba538",
    "tags": []
   },
   "source": [
    "# 🌟 Ready for the next one?\n",
    "<br>\n",
    "\n",
    "- [**Lesson 2: R Data Structures**](Lesson_2_R_Data_Structures.ipynb)\n",
    "    \n",
    "- [**Lesson 3: Importing Data**](Lesson_3_Importing_Data.ipynb)\n",
    "\n",
    "- [**Lesson 4: Conditionals and Loops**](Lesson_4_Conditionals_and_Loops.ipynb)\n",
    "\n",
    "- [**Lesson 5: Functions**](Lesson_5_Functions.ipynb)"
   ]
  },
  {
   "cell_type": "markdown",
   "id": "a078eea4",
   "metadata": {
    "id": "a078eea4"
   },
   "source": [
    "---"
   ]
  },
  {
   "cell_type": "markdown",
   "id": "6417d0b1",
   "metadata": {
    "id": "6417d0b1"
   },
   "source": [
    "# Contributions & acknowledgment"
   ]
  },
  {
   "cell_type": "markdown",
   "id": "f8a28fa0",
   "metadata": {
    "id": "f8a28fa0"
   },
   "source": [
    "Thanks Antony Ross for contributing the content for this notebook."
   ]
  },
  {
   "cell_type": "markdown",
   "id": "d366f518",
   "metadata": {
    "id": "d366f518"
   },
   "source": [
    "---"
   ]
  },
  {
   "cell_type": "markdown",
   "id": "8e2cf8c6",
   "metadata": {
    "id": "8e2cf8c6"
   },
   "source": [
    "Copyright (c) 2022 Stanford Data Ocean (SDO)\n",
    "\n",
    "All rights reserved."
   ]
  }
 ],
 "metadata": {
  "colab": {
   "provenance": []
  },
  "kernelspec": {
   "display_name": "R",
   "language": "R",
   "name": "ir"
  },
  "language_info": {
   "codemirror_mode": "r",
   "file_extension": ".r",
   "mimetype": "text/x-r-source",
   "name": "R",
   "pygments_lexer": "r",
   "version": "4.2.2"
  }
 },
 "nbformat": 4,
 "nbformat_minor": 5
}
