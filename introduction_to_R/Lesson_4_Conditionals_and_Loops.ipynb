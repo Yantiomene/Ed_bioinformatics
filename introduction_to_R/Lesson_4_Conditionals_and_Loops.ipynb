{
 "cells": [
  {
   "cell_type": "markdown",
   "id": "884c204c",
   "metadata": {
    "id": "884c204c"
   },
   "source": [
    "<img src=\"materials/images/introduction-to-r-programming-cover.png\"/>"
   ]
  },
  {
   "cell_type": "markdown",
   "id": "8e095fa4-c5e8-4266-b5d3-1d454b23784b",
   "metadata": {
    "id": "8e095fa4-c5e8-4266-b5d3-1d454b23784b"
   },
   "source": [
    "\n",
    "# 👋 Welcome, before you start\n",
    "<br>\n",
    "\n",
    "### 📚 Module overview\n",
    "\n",
    "R is a statistical programming language that is very effective for computation and high-level graphics. It is commonly used for data analytics and data science.\n",
    "\n",
    "We are going through five lessons in this module:\n",
    "\n",
    "- [**Lesson 1: R Basic Data Types**](Lesson_1_R_Basic_Data_Types.ipynb)\n",
    "\n",
    "- [**Lesson 2: R Data Structures**](Lesson_2_R_Data_Structures.ipynb)\n",
    "\n",
    "- [**Lesson 3: Importing Data**](Lesson_3_Importing_Data.ipynb)\n",
    "\n",
    "- <font color=#E98300>**Lesson 4: Conditionals and Loops**</font>    `📍You are here.`\n",
    "\n",
    "- [**Lesson 5: Functions**](Lesson_5_Functions.ipynb)\n",
    "\n",
    "</br>\n",
    "\n",
    "### ✅ Exercises\n",
    "We encourage you to try the exercise questions in this module, and use the [**solutions to the exercises**](Exercise_solutions.ipynb) to help you study.\n",
    "\n",
    "</br>\n",
    "\n",
    "<div class=\"alert alert-block alert-info\">\n",
    "<h3>⌨️ Keyboard shortcut</h3>\n",
    "\n",
    "These common shortcut could save your time going through this notebook:\n",
    "- Run the current cell: **`Enter + Shift`**.\n",
    "- Add a cell above the current cell: Press **`A`**.\n",
    "- Add a cell below the current cell: Press **`B`**.\n",
    "- Change a code cell to markdown cell: Select the cell, and then press **`M`**.\n",
    "- Delete a cell: Press **`D`** twice.\n",
    "\n",
    "Need more help with keyboard shortcut? Press **`H`** to look it up.\n",
    "</div>"
   ]
  },
  {
   "cell_type": "markdown",
   "id": "674f2733-5071-46fc-a5e9-7b1fecff1780",
   "metadata": {
    "id": "674f2733-5071-46fc-a5e9-7b1fecff1780"
   },
   "source": [
    "---"
   ]
  },
  {
   "cell_type": "markdown",
   "id": "b4f86a9a",
   "metadata": {
    "id": "b4f86a9a"
   },
   "source": [
    "# Lesson 4: Conditionals and Loops\n",
    "\n",
    "- [If Statements](#If-Statements)\n",
    "- [For Loops](#For-Loops)\n",
    "\n",
    "`🕒 This module should take about 30 minutes to complete.`\n",
    "\n",
    "`✍️ This notebook is written using R.`"
   ]
  },
  {
   "cell_type": "markdown",
   "id": "682ce0fa",
   "metadata": {
    "id": "682ce0fa"
   },
   "source": [
    "## If Statements\n",
    "\n",
    "If statements enable you to write conditional tests and decide which action to take based upon the results of those conditions."
   ]
  },
  {
   "cell_type": "markdown",
   "id": "3f6aaa28",
   "metadata": {
    "id": "3f6aaa28"
   },
   "source": [
    "### Conditional tests\n",
    "\n",
    "Every **_if_** statement has an expression that can be evaluated as either TRUE or FALSE (`Logicals`) and is called a conditional test. R uses the results of the conditional test to decide whether the code within an if statement should be executed. If a conditional test evaluates to TRUE, then R executes the indented code block following the if statement. If the test evaluates to FALSE, R will ignore the code following that if statement."
   ]
  },
  {
   "cell_type": "markdown",
   "id": "710e535a",
   "metadata": {
    "id": "710e535a"
   },
   "source": [
    "#### The basic structure of an if statement:\n",
    "\n",
    "``` R\n",
    "if (<condition>) {\n",
    "  <block of code>\n",
    "}\n",
    "```\n",
    "\n",
    "The `if` statement is followed by a conditional test placed within parentheses. Curly braces are then used to encapsulate the code block to be run in the case that the if statement is TRUE.\n",
    "\n",
    "For example:"
   ]
  },
  {
   "cell_type": "code",
   "execution_count": null,
   "id": "ae1d493e",
   "metadata": {
    "id": "ae1d493e"
   },
   "outputs": [],
   "source": [
    "x <- 12\n",
    "\n",
    "if(x > 0) {\n",
    "  print(\"x is a positive number\")\n",
    "}"
   ]
  },
  {
   "cell_type": "code",
   "execution_count": null,
   "id": "08a7867c",
   "metadata": {
    "id": "08a7867c"
   },
   "outputs": [],
   "source": [
    "username = \"Samantha\"\n",
    "password = \"sams_pass\"\n",
    "\n",
    "if(username==\"Samantha\") {\n",
    "    if(password==\"sams_pass\") {\n",
    "        cat(\"Welcome back, \", username, \"!\")\n",
    "    }\n",
    "}"
   ]
  },
  {
   "cell_type": "markdown",
   "id": "f778bf87",
   "metadata": {
    "id": "f778bf87"
   },
   "source": [
    "## If-else if statement\n",
    "\n",
    "Often, you’ll desire to test multiple possible conditions. To accomplish this, you can use R’s `else if` syntax. R runs each conditional test in order until one passes. If no condition returns TRUE, then nothing will be executed.\n",
    "\n",
    "``` R\n",
    "\n",
    "if (<condition>) {\n",
    "    <block of code>\n",
    "} else if (<condition>) {\n",
    "    <block of code>\n",
    "}\n",
    "```\n",
    "\n",
    "For example:"
   ]
  },
  {
   "cell_type": "code",
   "execution_count": null,
   "id": "babce780",
   "metadata": {
    "id": "babce780"
   },
   "outputs": [],
   "source": [
    "# The first condition to return TRUE will have its code block run and then the if statement will be exited:\n",
    "\n",
    "age <- 9\n",
    "\n",
    "if(age < 10) {\n",
    "  \n",
    "  print(\"Just a kid.\")\n",
    "  \n",
    "} else if (age < 16) {\n",
    "  \n",
    "  print(\"Can't drive yet!\")\n",
    "  \n",
    "} else if (age < 21) {\n",
    "  \n",
    "  print(\"No drinking for you!\")\n",
    "  \n",
    "}"
   ]
  },
  {
   "cell_type": "markdown",
   "id": "1a7adbd0",
   "metadata": {
    "id": "1a7adbd0"
   },
   "source": [
    "<div class=\"alert alert-block alert-warning\">\n",
    "<b>Alert:</b> For an if-else if statement, only one of the conditions will be able to return TRUE (if any). The first condition to return TRUE will have its code block run and then the if statement will be exited. Therefore, it's important to consider the order in which you place your if statements. If no condition returns TRUE, no code will be executed. </div>"
   ]
  },
  {
   "cell_type": "markdown",
   "id": "ac659ccc",
   "metadata": {
    "id": "ac659ccc"
   },
   "source": [
    "## If-else statement\n",
    "\n",
    "Often, you’ll want to guarantee that some action is taken regardless of the result of each condition. For example, if the age above was 25, no code block would get executed as each condition would return FALSE. Adding an `else` statement allows you to define a default action that will get executed if all of the conditional tests fail.\n",
    "\n",
    "``` R\n",
    "if (<condition>) {\n",
    "    <block of code>\n",
    "} else if (<condition>) {\n",
    "    <block of code>\n",
    "} else {\n",
    "    <block of code>\n",
    "}\n",
    "```\n",
    "\n",
    "For example:"
   ]
  },
  {
   "cell_type": "code",
   "execution_count": null,
   "id": "71bb4991",
   "metadata": {
    "id": "71bb4991"
   },
   "outputs": [],
   "source": [
    "age <- 25\n",
    "\n",
    "if (age < 10) {\n",
    "    \n",
    "  print(\"Just a kid.\")\n",
    "\n",
    "} else if (age < 16) {\n",
    "  \n",
    "  print(\"Can't drive yet!\")\n",
    "  \n",
    "} else if (age < 21) {\n",
    "  \n",
    "  print(\"No drinking for you!\")\n",
    "  \n",
    "} else {\n",
    "    \n",
    "  print(\"You're good to go!\")\n",
    "    \n",
    "}"
   ]
  },
  {
   "cell_type": "markdown",
   "id": "c7db1073",
   "metadata": {
    "id": "c7db1073"
   },
   "source": [
    "---"
   ]
  },
  {
   "cell_type": "markdown",
   "id": "0266745e",
   "metadata": {
    "id": "0266745e"
   },
   "source": [
    "## For Loops\n",
    "\n",
    "You’ll often want to perform some task multiple times. A `for` loop enables the repetition of a block of code."
   ]
  },
  {
   "cell_type": "markdown",
   "id": "e637c763",
   "metadata": {
    "id": "e637c763"
   },
   "source": [
    "#### The basic structure of a for loop:\n",
    "\n",
    "``` R\n",
    "for (item in some_vector) {\n",
    "    <block of code>\n",
    "}\n",
    "```\n",
    "In the code above, we have a vector named ``some_vector``. We then define a variable (named ``item``) that will successively hold each item in ``some_vector``. The first line tells R to pull an item from some_vector and store it in the variable item. The code block between the curly braces will then be executed for as many items as there are in `some_vector`. \n",
    "\n",
    "The above `for` loop can be read as, “For every ``item`` in ``some_vector``, execute the following code.\"\n",
    "\n",
    "For example:"
   ]
  },
  {
   "cell_type": "code",
   "execution_count": null,
   "id": "a6784bd3",
   "metadata": {
    "id": "a6784bd3"
   },
   "outputs": [],
   "source": [
    "for(number in c(2,4,6,8)) {\n",
    "  print(number)\n",
    "}"
   ]
  },
  {
   "cell_type": "code",
   "execution_count": null,
   "id": "7db9c87f",
   "metadata": {
    "id": "7db9c87f"
   },
   "outputs": [],
   "source": [
    "# You are not required to use the items from the vector. \n",
    "# You can simply execute your code block for as many items as there are in the vector.\n",
    "\n",
    "for(number in c(2,4,6,8)){\n",
    "  print(\"Hello!\")\n",
    "}"
   ]
  },
  {
   "cell_type": "code",
   "execution_count": null,
   "id": "c68b23d2",
   "metadata": {
    "id": "c68b23d2"
   },
   "outputs": [],
   "source": [
    "# Using the vector's index:\n",
    "\n",
    "vec = c(5,10,15,20)\n",
    "\n",
    "for(i in 1:length(vec)) {\n",
    "  cat(\"Item at index\", i, \"is\", vec[i], \"\\n\")  # \"\\n\" is the new-line character. Try delete it to see what it does.\n",
    "}"
   ]
  },
  {
   "cell_type": "code",
   "execution_count": null,
   "id": "b69f4f4d",
   "metadata": {
    "id": "b69f4f4d"
   },
   "outputs": [],
   "source": [
    "# An alternative to the above is to use the function seq_along() which returns the index of each item in the vector:\n",
    "\n",
    "vec = c(5,10,15,20)\n",
    "\n",
    "for(i in seq_along(vec)){\n",
    "  cat(\"Item at index\", i, \"is\", vec[i], \"\\n\")\n",
    "}"
   ]
  },
  {
   "cell_type": "markdown",
   "id": "688f3839",
   "metadata": {
    "id": "688f3839"
   },
   "source": [
    "### ✅ Exercise 8\n",
    "Create a for loop that prints out \"Yes!\" ten times."
   ]
  },
  {
   "cell_type": "code",
   "execution_count": null,
   "id": "1e435cd7",
   "metadata": {
    "id": "1e435cd7"
   },
   "outputs": [],
   "source": []
  },
  {
   "cell_type": "markdown",
   "id": "cb340fd4",
   "metadata": {
    "id": "cb340fd4"
   },
   "source": [
    "### ✅ Exercise 9\n",
    "- Create a vector with the following numbers: 63, 81, 72, 56, 92, 75. \n",
    "- Loop through each number in the vector. \n",
    "- If the number is less than 75 print \"Fail\". If the number is 75 or greater print \"Pass\"."
   ]
  },
  {
   "cell_type": "code",
   "execution_count": null,
   "id": "73dc8396",
   "metadata": {
    "id": "73dc8396"
   },
   "outputs": [],
   "source": []
  },
  {
   "cell_type": "markdown",
   "id": "75f23a99",
   "metadata": {
    "id": "75f23a99"
   },
   "source": [
    "---"
   ]
  },
  {
   "cell_type": "markdown",
   "id": "47aeb7ae",
   "metadata": {
    "id": "47aeb7ae"
   },
   "source": [
    "# 🌟 Ready for the next one?\n",
    "<br>\n",
    "\n",
    "- [**Lesson 5: Functions**](Lesson_5_Functions.ipynb)"
   ]
  },
  {
   "cell_type": "markdown",
   "id": "a078eea4",
   "metadata": {
    "id": "a078eea4"
   },
   "source": [
    "---"
   ]
  },
  {
   "cell_type": "markdown",
   "id": "6417d0b1",
   "metadata": {
    "id": "6417d0b1"
   },
   "source": [
    "# Contributions & acknowledgment"
   ]
  },
  {
   "cell_type": "markdown",
   "id": "f8a28fa0",
   "metadata": {
    "id": "f8a28fa0"
   },
   "source": [
    "Thanks Antony Ross for contributing the content for this notebook."
   ]
  },
  {
   "cell_type": "markdown",
   "id": "d366f518",
   "metadata": {
    "id": "d366f518"
   },
   "source": [
    "---"
   ]
  },
  {
   "cell_type": "markdown",
   "id": "8e2cf8c6",
   "metadata": {
    "id": "8e2cf8c6"
   },
   "source": [
    "Copyright (c) 2022 Stanford Data Ocean (SDO)\n",
    "\n",
    "All rights reserved."
   ]
  }
 ],
 "metadata": {
  "colab": {
   "provenance": []
  },
  "kernelspec": {
   "display_name": "R",
   "language": "R",
   "name": "ir"
  },
  "language_info": {
   "codemirror_mode": "r",
   "file_extension": ".r",
   "mimetype": "text/x-r-source",
   "name": "R",
   "pygments_lexer": "r",
   "version": "4.2.2"
  }
 },
 "nbformat": 4,
 "nbformat_minor": 5
}
