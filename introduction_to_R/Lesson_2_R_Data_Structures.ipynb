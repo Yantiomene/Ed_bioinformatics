{
 "cells": [
  {
   "cell_type": "markdown",
   "id": "884c204c",
   "metadata": {
    "id": "884c204c"
   },
   "source": [
    "<img src=\"materials/images/introduction-to-r-programming-cover.png\"/>"
   ]
  },
  {
   "cell_type": "markdown",
   "id": "6ed38f55",
   "metadata": {
    "id": "6ed38f55"
   },
   "source": [
    "\n",
    "# 👋 Welcome, before you start\n",
    "<br>\n",
    "\n",
    "### 📚 Module overview\n",
    "\n",
    "R is a statistical programming language that is very effective for computation and high-level graphics. It is commonly used for data analytics and data science.\n",
    "\n",
    "We are going through five lessons in this module:\n",
    "\n",
    "- [**Lesson 1: R Basic Data Types**](Lesson_1_R_Basic_Data_Types.ipynb)\n",
    "\n",
    "- <font color=#E98300>**Lesson 2: R Data Structures**</font>    `📍You are here.`\n",
    "    \n",
    "- [**Lesson 3: Importing Data**](Lesson_3_Importing_Data.ipynb)\n",
    "\n",
    "- [**Lesson 4: Conditionals and Loops**](Lesson_4_Conditionals_and_Loops.ipynb)\n",
    "\n",
    "- [**Lesson 5: Functions**](Lesson_5_Functions.ipynb)\n",
    "\n",
    "</br>\n",
    "\n",
    "### ✅ Exercises\n",
    "We encourage you to try the exercise questions in this module, and use the [**solutions to the exercises**](Exercise_solutions.ipynb) to help you study.\n",
    "\n",
    "</br>\n",
    "\n",
    "<div class=\"alert alert-block alert-info\">\n",
    "<h3>⌨️ Keyboard shortcut</h3>\n",
    "\n",
    "These common shortcut could save your time going through this notebook:\n",
    "- Run the current cell: **`Enter + Shift`**.\n",
    "- Add a cell above the current cell: Press **`A`**.\n",
    "- Add a cell below the current cell: Press **`B`**.\n",
    "- Change a code cell to markdown cell: Select the cell, and then press **`M`**.\n",
    "- Delete a cell: Press **`D`** twice.\n",
    "\n",
    "Need more help with keyboard shortcut? Press **`H`** to look it up.\n",
    "</div>"
   ]
  },
  {
   "cell_type": "markdown",
   "id": "47765783-58e5-4856-a34b-894cf712cbaa",
   "metadata": {
    "id": "47765783-58e5-4856-a34b-894cf712cbaa"
   },
   "source": [
    "---"
   ]
  },
  {
   "cell_type": "markdown",
   "id": "41a7c9eb",
   "metadata": {
    "id": "41a7c9eb"
   },
   "source": [
    "# Lesson 2: R Data Structures\n",
    "\n",
    "A data structure is a format or object for storing data. We are going to go through these concepts:\n",
    "\n",
    "- [Vectors](#Vectors)\n",
    "- [Lists](#Lists)\n",
    "- [Matrix](#Matrix)\n",
    "- [Data Frame](#Data-Frame)\n",
    "\n",
    "`🕒 This module should take about 40 minutes to complete.`\n",
    "\n",
    "`✍️ This notebook is written using R.`"
   ]
  },
  {
   "cell_type": "markdown",
   "id": "f7d62c79",
   "metadata": {
    "id": "f7d62c79"
   },
   "source": [
    "## Vectors\n",
    "The fundamental data structure in R is the vector. A vector is a one-dimensional sequence of data elements, of the same type, stored in a sequence. The elements are most commonly of type character, logical, integer or numeric."
   ]
  },
  {
   "cell_type": "markdown",
   "id": "55afa584",
   "metadata": {
    "id": "55afa584"
   },
   "source": [
    "A common way to create a vector is by directly specifying its content. The c() function can be used to \"combine\" the specified values:"
   ]
  },
  {
   "cell_type": "code",
   "execution_count": null,
   "id": "142d71dc",
   "metadata": {
    "id": "142d71dc"
   },
   "outputs": [],
   "source": [
    "v1  <-  c(1,2,3,4)\n",
    "v1"
   ]
  },
  {
   "cell_type": "code",
   "execution_count": null,
   "id": "e08aafb7",
   "metadata": {
    "id": "e08aafb7"
   },
   "outputs": [],
   "source": [
    "v2 <- c(\"This\", \"is\", \"absolutely\", \"fantastic\")\n",
    "v2"
   ]
  },
  {
   "cell_type": "code",
   "execution_count": null,
   "id": "fe0c2193",
   "metadata": {
    "id": "fe0c2193"
   },
   "outputs": [],
   "source": [
    "v3  <-  c(TRUE, FALSE, TRUE, FALSE)\n",
    "print(v3)"
   ]
  },
  {
   "cell_type": "markdown",
   "id": "afd501f4",
   "metadata": {
    "id": "afd501f4"
   },
   "source": [
    "**Note that if you mix data types, R will coerce the vector to a single data type:**"
   ]
  },
  {
   "cell_type": "code",
   "execution_count": null,
   "id": "560de41c",
   "metadata": {
    "id": "560de41c"
   },
   "outputs": [],
   "source": [
    "v4  <-  c(TRUE, FALSE, TRUE, \"FALSE\")\n",
    "print(v4)"
   ]
  },
  {
   "cell_type": "markdown",
   "id": "abbec426",
   "metadata": {
    "id": "abbec426"
   },
   "source": [
    "<div class=\"alert alert-block alert-warning\">\n",
    "<b>Alert:</b> A vector is a data structure that contains only a single data type (e.g., integers, logicals).\n",
    "</div>"
   ]
  },
  {
   "cell_type": "markdown",
   "id": "fedb9fc2",
   "metadata": {
    "id": "fedb9fc2"
   },
   "source": [
    "### Creating Vectors from a Sequence of Numbers\n",
    "\n",
    "A vector can be constructed from  a sequence of numbers:"
   ]
  },
  {
   "cell_type": "code",
   "execution_count": null,
   "id": "07039642",
   "metadata": {
    "id": "07039642"
   },
   "outputs": [],
   "source": [
    "# Create a vector from the sequence of numbers 1 through 10 (inclusive):\n",
    "\n",
    "seq1 <- 1:10\n",
    "print(seq1)"
   ]
  },
  {
   "cell_type": "code",
   "execution_count": null,
   "id": "4128d54b",
   "metadata": {
    "id": "4128d54b"
   },
   "outputs": [],
   "source": [
    "# Create a vector of numbers beginning from 5 and counting down through (and including) -5:\n",
    "\n",
    "seq1 <- 5:-5\n",
    "print(seq1)"
   ]
  },
  {
   "cell_type": "markdown",
   "id": "1040d28c",
   "metadata": {
    "id": "1040d28c"
   },
   "source": [
    "### A Vector Created using the seq() Function"
   ]
  },
  {
   "cell_type": "markdown",
   "id": "3173468d",
   "metadata": {
    "id": "3173468d"
   },
   "source": [
    "The seq() (\"sequence\") function can be used to construct a vector from a sequence of numbers:"
   ]
  },
  {
   "cell_type": "code",
   "execution_count": null,
   "id": "0d130da5",
   "metadata": {
    "id": "0d130da5"
   },
   "outputs": [],
   "source": [
    "# Create a vector of 10 numbers beginning from 1:\n",
    "\n",
    "seq(10)"
   ]
  },
  {
   "cell_type": "code",
   "execution_count": null,
   "id": "6ab18858",
   "metadata": {
    "id": "6ab18858"
   },
   "outputs": [],
   "source": [
    "# Create a vector of numbers from 1 through 10, but skipping every second number:\n",
    "\n",
    "seq(1, 10, 2)"
   ]
  },
  {
   "cell_type": "code",
   "execution_count": null,
   "id": "e91be57b",
   "metadata": {
    "id": "e91be57b"
   },
   "outputs": [],
   "source": [
    "# Create a vector of 20 numbers, evenly spaced between the numbers 1 through 10:\n",
    "\n",
    "seq(1, 10, length=20)"
   ]
  },
  {
   "cell_type": "code",
   "execution_count": null,
   "id": "7d01340c",
   "metadata": {
    "id": "7d01340c"
   },
   "outputs": [],
   "source": [
    "# Create a vector of numbers from 1 through 10, stepping every 0.1:\n",
    "\n",
    "seq(from = 1, to = 10, by = 0.1)"
   ]
  },
  {
   "cell_type": "markdown",
   "id": "3d1325ab",
   "metadata": {
    "id": "3d1325ab"
   },
   "source": [
    "### A Vector Created from a Sample of Numbers"
   ]
  },
  {
   "cell_type": "code",
   "execution_count": null,
   "id": "be405ad9",
   "metadata": {
    "id": "be405ad9"
   },
   "outputs": [],
   "source": [
    "# Create a vector by drawing from a sample of numbers from 1 through 10, without replacement:\n",
    "\n",
    "sample(1:10)"
   ]
  },
  {
   "cell_type": "markdown",
   "id": "528d4469",
   "metadata": {
    "id": "528d4469"
   },
   "source": [
    "### Examining Vectors"
   ]
  },
  {
   "cell_type": "markdown",
   "id": "fe6a6bcf",
   "metadata": {
    "id": "fe6a6bcf"
   },
   "source": [
    "#### typeof()\n",
    "The typeof() function can be used to evaluate the data type that a vector contains:"
   ]
  },
  {
   "cell_type": "code",
   "execution_count": null,
   "id": "8a6c8346",
   "metadata": {
    "id": "8a6c8346"
   },
   "outputs": [],
   "source": [
    "# Mixed data types coerced to a single data type:\n",
    "\n",
    "v4  <-  c(TRUE, FALSE, TRUE, \"FALSE\")\n",
    "\n",
    "typeof(v4)"
   ]
  },
  {
   "cell_type": "markdown",
   "id": "e96d10c8",
   "metadata": {
    "id": "e96d10c8"
   },
   "source": [
    "#### length()\n",
    "The length() function can be used to determine the number of elements that a vector contains:"
   ]
  },
  {
   "cell_type": "code",
   "execution_count": null,
   "id": "58e9f7b5",
   "metadata": {
    "id": "58e9f7b5"
   },
   "outputs": [],
   "source": [
    "length(v4)"
   ]
  },
  {
   "cell_type": "markdown",
   "id": "d5b1f37f",
   "metadata": {
    "id": "d5b1f37f"
   },
   "source": [
    "### Missing Data\n",
    "\n",
    "Missing values in R are indicated by NA (Not Available):"
   ]
  },
  {
   "cell_type": "code",
   "execution_count": null,
   "id": "674005b0",
   "metadata": {
    "id": "674005b0"
   },
   "outputs": [],
   "source": [
    "x <- c(0.5, 0.7, NA)\n",
    "\n",
    "# Variable containing a vector with a misssing value\n",
    "x"
   ]
  },
  {
   "cell_type": "code",
   "execution_count": null,
   "id": "12082705",
   "metadata": {
    "id": "12082705"
   },
   "outputs": [],
   "source": [
    "# Try this.\n",
    "\n",
    "x <- c(\"a\", NA, \"c\", \"d\", \"e\")\n",
    "\n",
    "# Variable containing a vector with a misssing value\n",
    "x"
   ]
  },
  {
   "cell_type": "markdown",
   "id": "73debe9a",
   "metadata": {
    "id": "73debe9a"
   },
   "source": [
    "#### is.na() \n",
    "is.na() can be used to test whether a value is missing. It returns a logical vector:"
   ]
  },
  {
   "cell_type": "code",
   "execution_count": null,
   "id": "976fe87e",
   "metadata": {
    "id": "976fe87e"
   },
   "outputs": [],
   "source": [
    "# Test each value in a vector as to whether it is missing or not:\n",
    "\n",
    "x <- c(\"a\", NA, \"c\", \"d\", \"e\")\n",
    "\n",
    "# x is the variable containing a vector with a missing value\n",
    "is.na(x)"
   ]
  },
  {
   "cell_type": "markdown",
   "id": "e409f43c",
   "metadata": {
    "id": "e409f43c"
   },
   "source": [
    "#### anyNA() \n",
    "anyNA() can be used to evaluate whether a vector contains any missing (NA) values:"
   ]
  },
  {
   "cell_type": "code",
   "execution_count": null,
   "id": "32dff790",
   "metadata": {
    "id": "32dff790"
   },
   "outputs": [],
   "source": [
    "x <- c(\"a\", NA, \"c\", \"d\", \"e\")\n",
    "\n",
    "# x is the variable containing a vector with a misssing value\n",
    "anyNA(x)"
   ]
  },
  {
   "cell_type": "markdown",
   "id": "39557b2d",
   "metadata": {
    "id": "39557b2d"
   },
   "source": [
    "### Universal (built-in) functions that can be applied to vectors"
   ]
  },
  {
   "cell_type": "code",
   "execution_count": null,
   "id": "5d53b017",
   "metadata": {
    "id": "5d53b017"
   },
   "outputs": [],
   "source": [
    "# Create a vector \"v\":\n",
    "\n",
    "v = c(25, 9, 16, 4)\n",
    "v"
   ]
  },
  {
   "cell_type": "code",
   "execution_count": null,
   "id": "64b2746e",
   "metadata": {
    "id": "64b2746e"
   },
   "outputs": [],
   "source": [
    "# Return the mean value of the vector\n",
    "\n",
    "mean(v)"
   ]
  },
  {
   "cell_type": "code",
   "execution_count": null,
   "id": "4d4ef70a",
   "metadata": {
    "id": "4d4ef70a"
   },
   "outputs": [],
   "source": [
    "# Return the square root of each value in the vector\n",
    "\n",
    "sqrt(v)"
   ]
  },
  {
   "cell_type": "code",
   "execution_count": null,
   "id": "56bc779b",
   "metadata": {
    "id": "56bc779b"
   },
   "outputs": [],
   "source": [
    "# Return the maximum value in the vector\n",
    "\n",
    "max(v)"
   ]
  },
  {
   "cell_type": "code",
   "execution_count": null,
   "id": "6139dd32",
   "metadata": {
    "id": "6139dd32"
   },
   "outputs": [],
   "source": [
    "# Return the smallest value in the vector\n",
    "\n",
    "min(v)"
   ]
  },
  {
   "cell_type": "code",
   "execution_count": null,
   "id": "fded2c0c",
   "metadata": {
    "id": "fded2c0c"
   },
   "outputs": [],
   "source": [
    "# Return the sum of the values in the vector\n",
    "\n",
    "sum(v)"
   ]
  },
  {
   "cell_type": "code",
   "execution_count": null,
   "id": "ea237ba8",
   "metadata": {
    "id": "ea237ba8"
   },
   "outputs": [],
   "source": [
    "# Sort the values in a vector in ascending order\n",
    "\n",
    "sort(v)"
   ]
  },
  {
   "cell_type": "code",
   "execution_count": null,
   "id": "68f4c452",
   "metadata": {
    "id": "68f4c452"
   },
   "outputs": [],
   "source": [
    "# Sort the values in a vector in descending order\n",
    "\n",
    "sort(v, decreasing=TRUE)"
   ]
  },
  {
   "cell_type": "code",
   "execution_count": null,
   "id": "ea0479be",
   "metadata": {
    "id": "ea0479be"
   },
   "outputs": [],
   "source": [
    "# Count the frequency of occurrence for each element in a vector:\n",
    "\n",
    "table(c(20,30,50,20,40,10,40,20))"
   ]
  },
  {
   "cell_type": "markdown",
   "id": "4f886d7b",
   "metadata": {
    "id": "4f886d7b"
   },
   "source": [
    "### Functions for logical vectors"
   ]
  },
  {
   "cell_type": "code",
   "execution_count": null,
   "id": "cc376f7a",
   "metadata": {
    "id": "cc376f7a"
   },
   "outputs": [],
   "source": [
    "# Test each value in the vector v as to whether it is greater than 10 or not (returns TRUE or FALSE):\n",
    "\n",
    "v = c(25, 9, 16, 4)\n",
    "\n",
    "v > 10"
   ]
  },
  {
   "cell_type": "code",
   "execution_count": null,
   "id": "8c866192",
   "metadata": {
    "id": "8c866192"
   },
   "outputs": [],
   "source": [
    "# any() returns TRUE if any of the logicals are TRUE:\n",
    "\n",
    "any(v > 10)"
   ]
  },
  {
   "cell_type": "code",
   "execution_count": null,
   "id": "9ca8de2a",
   "metadata": {
    "id": "9ca8de2a"
   },
   "outputs": [],
   "source": [
    "# all() returns TRUE if all of the logicals are TRUE:\n",
    "\n",
    "all(v > 10)"
   ]
  },
  {
   "cell_type": "code",
   "execution_count": null,
   "id": "def12a2f",
   "metadata": {
    "id": "def12a2f"
   },
   "outputs": [],
   "source": [
    "# which() returns the indices/locations of the TRUE values (interpreted as as \"Which index positions are TRUE?\"):\n",
    "\n",
    "which(v > 10)"
   ]
  },
  {
   "cell_type": "markdown",
   "id": "fde1354f",
   "metadata": {
    "id": "fde1354f"
   },
   "source": [
    "<div class=\"alert alert-block alert-warning\">\n",
    "<b>Alert:</b> The index positions of a vector in R begin counting from 1. \n",
    "</div>"
   ]
  },
  {
   "cell_type": "code",
   "execution_count": null,
   "id": "3bfdb909",
   "metadata": {
    "id": "3bfdb909",
    "scrolled": true
   },
   "outputs": [],
   "source": [
    "# sum() returns the number of logicals that are TRUE:\n",
    "\n",
    "sum(v > 10)"
   ]
  },
  {
   "cell_type": "markdown",
   "id": "155437e8",
   "metadata": {
    "id": "155437e8"
   },
   "source": [
    "### Vector Subsetting\n",
    "The index position of the items within a vector begin counting from 1. You can get slices or subsets of a vector by placing the index position of items between square brackets:"
   ]
  },
  {
   "cell_type": "code",
   "execution_count": null,
   "id": "33dc66d3",
   "metadata": {
    "id": "33dc66d3"
   },
   "outputs": [],
   "source": [
    "# Create a vector named \"items\":\n",
    "\n",
    "items <- c(5,10,15,20,25,30,35,40)\n",
    "items"
   ]
  },
  {
   "cell_type": "code",
   "execution_count": null,
   "id": "89d4edb4",
   "metadata": {
    "id": "89d4edb4"
   },
   "outputs": [],
   "source": [
    "# Return the first element in the vector; the element at index position 1:\n",
    "\n",
    "items[1]"
   ]
  },
  {
   "cell_type": "code",
   "execution_count": null,
   "id": "54f055f6",
   "metadata": {
    "id": "54f055f6"
   },
   "outputs": [],
   "source": [
    "# Return a vector containing the third element:\n",
    "\n",
    "items[3]"
   ]
  },
  {
   "cell_type": "code",
   "execution_count": null,
   "id": "a9ff596d",
   "metadata": {
    "id": "a9ff596d"
   },
   "outputs": [],
   "source": [
    "# A negative value means to exclude the index position.\n",
    "# Return a vector with everything except the third element:\n",
    "\n",
    "items[-3]"
   ]
  },
  {
   "cell_type": "code",
   "execution_count": null,
   "id": "71c6894b",
   "metadata": {
    "id": "71c6894b"
   },
   "outputs": [],
   "source": [
    "# Return a vector with the first through second elements (inclusive):\n",
    "\n",
    "items[1:2]"
   ]
  },
  {
   "cell_type": "code",
   "execution_count": null,
   "id": "55cbd173",
   "metadata": {
    "id": "55cbd173"
   },
   "outputs": [],
   "source": [
    "# You can use a vector to do the subsetting (particularly when the indices are non-consecutive).\n",
    "# Return a vector with the first and fourth elements:\n",
    "                                                         \n",
    "items[c(1,4)]                                                     "
   ]
  },
  {
   "cell_type": "code",
   "execution_count": null,
   "id": "d021deaf",
   "metadata": {
    "id": "d021deaf"
   },
   "outputs": [],
   "source": [
    "# Return a vector with the first, third, and first element again:\n",
    "\n",
    "items[c(1,3,1)]"
   ]
  },
  {
   "cell_type": "code",
   "execution_count": null,
   "id": "b49ed1c0",
   "metadata": {
    "id": "b49ed1c0"
   },
   "outputs": [],
   "source": [
    "# Return a vector without the first through second elements:\n",
    "\n",
    "items[-1:-2]"
   ]
  },
  {
   "cell_type": "markdown",
   "id": "c0438af9",
   "metadata": {
    "id": "c0438af9"
   },
   "source": [
    "### Vector Assignment"
   ]
  },
  {
   "cell_type": "code",
   "execution_count": null,
   "id": "d55153f9",
   "metadata": {
    "id": "d55153f9"
   },
   "outputs": [],
   "source": [
    "# Create a vector named \"items\":\n",
    "\n",
    "items <- c(5,10,15,20,25,30,35,40)\n",
    "items"
   ]
  },
  {
   "cell_type": "code",
   "execution_count": null,
   "id": "2a0bb2c8",
   "metadata": {
    "id": "2a0bb2c8"
   },
   "outputs": [],
   "source": [
    "# Assign 100 to the item at index position 2:\n",
    "\n",
    "items[2] <- 100\n",
    "items"
   ]
  },
  {
   "cell_type": "code",
   "execution_count": null,
   "id": "747e4d9f",
   "metadata": {
    "id": "747e4d9f"
   },
   "outputs": [],
   "source": [
    "# Assign 0 to every index position except 2:\n",
    "\n",
    "items[-2] <- 0\n",
    "items"
   ]
  },
  {
   "cell_type": "markdown",
   "id": "1bf18794",
   "metadata": {
    "id": "1bf18794"
   },
   "source": [
    "### Vectorized Operations\n",
    "A vectorized operation applies an operation to a vector element-wise: "
   ]
  },
  {
   "cell_type": "code",
   "execution_count": null,
   "id": "68bdd74a",
   "metadata": {
    "id": "68bdd74a"
   },
   "outputs": [],
   "source": [
    "# Create a vector named \"items\":\n",
    "\n",
    "items <- c(5,10,15,20,25,30,35,40)\n",
    "items"
   ]
  },
  {
   "cell_type": "code",
   "execution_count": null,
   "id": "b7e43f5a",
   "metadata": {
    "id": "b7e43f5a"
   },
   "outputs": [],
   "source": [
    "# Divide each item in a vector by 5, and return a new vector containing the result\n",
    "\n",
    "items/5"
   ]
  },
  {
   "cell_type": "code",
   "execution_count": null,
   "id": "b86d6f86",
   "metadata": {
    "id": "b86d6f86"
   },
   "outputs": [],
   "source": [
    "# Multiply two vectors together (element-wise).  Return a new vector with the results:\n",
    "\n",
    "c(1,2,3) * c(2,4,6)"
   ]
  },
  {
   "cell_type": "markdown",
   "id": "49fc1511",
   "metadata": {
    "id": "49fc1511"
   },
   "source": [
    "### ✅ Exercise 4\n",
    "\n",
    "- Create a vector of numbers from 1-12. \n",
    "- Square the vector, returning a new vector containing the square of each number from the original vector."
   ]
  },
  {
   "cell_type": "code",
   "execution_count": null,
   "id": "1423903b",
   "metadata": {
    "id": "1423903b"
   },
   "outputs": [],
   "source": []
  },
  {
   "cell_type": "markdown",
   "id": "af8d3765",
   "metadata": {
    "id": "af8d3765"
   },
   "source": [
    "---"
   ]
  },
  {
   "cell_type": "markdown",
   "id": "35c09785",
   "metadata": {
    "id": "35c09785"
   },
   "source": [
    "### Using Logicals to Perform Compound Operations on Vectors\n",
    "A compound operation is when you test two or more conditions for whether a value in a vector returns TRUE:"
   ]
  },
  {
   "cell_type": "code",
   "execution_count": null,
   "id": "ce4859b2",
   "metadata": {
    "id": "ce4859b2"
   },
   "outputs": [],
   "source": [
    "# & is the \"AND\" operation in R.\n",
    "# Return TRUE where each item at a given index position between the vectors is TRUE:\n",
    "\n",
    "c(FALSE, TRUE, FALSE) & c(TRUE, TRUE, TRUE)"
   ]
  },
  {
   "cell_type": "code",
   "execution_count": null,
   "id": "6347c3a0",
   "metadata": {
    "id": "6347c3a0"
   },
   "outputs": [],
   "source": [
    "# | is the \"OR\" operation in R.\n",
    "# Return TRUE where either item at a given index position between the vectors is TRUE:\n",
    "\n",
    "c(FALSE, TRUE, FALSE) | c(TRUE, TRUE, TRUE)"
   ]
  },
  {
   "cell_type": "code",
   "execution_count": null,
   "id": "6efef068",
   "metadata": {
    "id": "6efef068"
   },
   "outputs": [],
   "source": [
    "# Create the vector \"v\":\n",
    "\n",
    "v = c(25, 9, 16, 4)\n",
    "\n",
    "# Test whether a value in the vector v is either less than 5 or (|) greater than 20:\n",
    "(v < 5) | (v > 20)"
   ]
  },
  {
   "cell_type": "code",
   "execution_count": null,
   "id": "149c497e",
   "metadata": {
    "id": "149c497e"
   },
   "outputs": [],
   "source": [
    "# Place the logical operation from above between the square brackets of \"v\" to return the actual values.\n",
    "# In otherwords, v will return any value whose index position is TRUE:\n",
    "\n",
    "v[(v < 5) | (v > 20)]"
   ]
  },
  {
   "cell_type": "markdown",
   "id": "66f97ad9",
   "metadata": {
    "id": "66f97ad9"
   },
   "source": [
    "<div class=\"alert alert-block alert-info\">\n",
    "<b>Tip:</b> The use of logical (conditional) operations will become very useful when you desire to explore and analyze your data.\n",
    "</div>"
   ]
  },
  {
   "cell_type": "markdown",
   "id": "17884606",
   "metadata": {
    "id": "17884606"
   },
   "source": [
    "### ✅ Exercise 5\n",
    "\n",
    "- Create a vector named \"nums\" containing numbers from 1 through 10. \n",
    "- Within the square brackets of \"nums\", perform a compound operation so that only values that are either less than 4 or greater than 8 are returned."
   ]
  },
  {
   "cell_type": "code",
   "execution_count": null,
   "id": "fd9184e6",
   "metadata": {
    "id": "fd9184e6"
   },
   "outputs": [],
   "source": []
  },
  {
   "cell_type": "markdown",
   "id": "42502ef5",
   "metadata": {
    "id": "42502ef5"
   },
   "source": [
    "---"
   ]
  },
  {
   "cell_type": "markdown",
   "id": "7dc5f657",
   "metadata": {
    "id": "7dc5f657"
   },
   "source": [
    "### Naming Vectors\n",
    "If desired, you can use key/value pairs to assign a name to each element within a vector. You can then use the element's name to access its value:"
   ]
  },
  {
   "cell_type": "code",
   "execution_count": null,
   "id": "70a6e58f",
   "metadata": {
    "id": "70a6e58f"
   },
   "outputs": [],
   "source": [
    "# Create a vector giving names to each element:\n",
    "\n",
    "groceries <- c(\"milk\"=3.56, \"bread\"=4.29, \"rice\"=5.98)\n",
    "groceries"
   ]
  },
  {
   "cell_type": "code",
   "execution_count": null,
   "id": "e24d9e15",
   "metadata": {
    "id": "e24d9e15"
   },
   "outputs": [],
   "source": [
    "# Place the element's name within the square brackets of the vector to return its value:\n",
    "\n",
    "groceries[\"rice\"]"
   ]
  },
  {
   "cell_type": "code",
   "execution_count": null,
   "id": "71a253eb",
   "metadata": {
    "id": "71a253eb",
    "scrolled": true
   },
   "outputs": [],
   "source": [
    "# Use a vector of names to return more than one element's value:\n",
    "\n",
    "groceries[c(\"rice\", \"bread\")]"
   ]
  },
  {
   "cell_type": "markdown",
   "id": "893ea251",
   "metadata": {
    "id": "893ea251"
   },
   "source": [
    "---"
   ]
  },
  {
   "cell_type": "markdown",
   "id": "57ef0e20",
   "metadata": {
    "id": "57ef0e20"
   },
   "source": [
    "## Lists\n",
    "A list is a collection of items but unlike vectors, lists can contain any mixture of elements of any type. Lists can even contain other lists.\n",
    "\n",
    "You can use the **list()** function to crerate a list:"
   ]
  },
  {
   "cell_type": "code",
   "execution_count": null,
   "id": "077aa7e2",
   "metadata": {
    "id": "077aa7e2"
   },
   "outputs": [],
   "source": [
    "L <- list(\"a\", 1, 2.5, TRUE)\n",
    "L"
   ]
  },
  {
   "cell_type": "markdown",
   "id": "79ff550d",
   "metadata": {
    "id": "79ff550d"
   },
   "source": [
    "Elements within a list can be accessed by placing the element's index position within square brackets:"
   ]
  },
  {
   "cell_type": "code",
   "execution_count": null,
   "id": "e5c27a14",
   "metadata": {
    "id": "e5c27a14"
   },
   "outputs": [],
   "source": [
    "L[4]"
   ]
  },
  {
   "cell_type": "code",
   "execution_count": null,
   "id": "2662dbf0",
   "metadata": {
    "id": "2662dbf0"
   },
   "outputs": [],
   "source": [
    "L[2:3]"
   ]
  },
  {
   "cell_type": "markdown",
   "id": "d3265780",
   "metadata": {
    "id": "d3265780"
   },
   "source": [
    "#### Named lists\n",
    "Lists can also use names by creating key/value pairs to assign a name to each element within the list. You can then access an element within the list by using the element's name/key:"
   ]
  },
  {
   "cell_type": "code",
   "execution_count": null,
   "id": "7b5b961f",
   "metadata": {
    "id": "7b5b961f"
   },
   "outputs": [],
   "source": [
    "a_list <- list(\"San Francisco\"= 1, \"Santa Clara\" = 2, \"San Jose\" = 3)\n",
    "a_list"
   ]
  },
  {
   "cell_type": "markdown",
   "id": "609f3cd1",
   "metadata": {
    "id": "609f3cd1"
   },
   "source": [
    "<div class=\"alert alert-block alert-success\">\n",
    "<b>Note:</b> The '$' preceding the characters in the output above indicates that the characters are a key from the named list as opposed to a value.\n",
    "</div>"
   ]
  },
  {
   "cell_type": "code",
   "execution_count": null,
   "id": "6dcd760f",
   "metadata": {
    "id": "6dcd760f"
   },
   "outputs": [],
   "source": [
    "a_list[\"San Jose\"]"
   ]
  },
  {
   "cell_type": "markdown",
   "id": "a3c29d7a",
   "metadata": {
    "id": "a3c29d7a"
   },
   "source": [
    "---"
   ]
  },
  {
   "cell_type": "markdown",
   "id": "8df101e8",
   "metadata": {
    "id": "8df101e8"
   },
   "source": [
    "## Matrix\n",
    "A matrix is a two-dimensional collection of data elements. Like vectors, matrices can only contain a single data type. You can create a matrix by using the **matrix( )** function. "
   ]
  },
  {
   "cell_type": "markdown",
   "id": "3d231aa0",
   "metadata": {
    "id": "3d231aa0"
   },
   "source": [
    "To create a matrix, you first specify a vector and then you can specify the desired dimensions (rows x cols)."
   ]
  },
  {
   "cell_type": "code",
   "execution_count": null,
   "id": "6385475e",
   "metadata": {
    "id": "6385475e"
   },
   "outputs": [],
   "source": [
    "matrix(1:12, nrow=3, ncol=4)"
   ]
  },
  {
   "cell_type": "markdown",
   "id": "13a553ae",
   "metadata": {
    "id": "13a553ae"
   },
   "source": [
    "Alternatively, after specifying a vector, you can indicate the desired number of rows and the number of columns will be calculated."
   ]
  },
  {
   "cell_type": "code",
   "execution_count": null,
   "id": "bd033718",
   "metadata": {
    "id": "bd033718"
   },
   "outputs": [],
   "source": [
    "matrix(c(1:12), nrow = 3)"
   ]
  },
  {
   "cell_type": "markdown",
   "id": "f03d36de",
   "metadata": {
    "id": "f03d36de"
   },
   "source": [
    "Alternatively, after specifying a vector, you can indicate the desired number of columns and the number of rows will be calculated."
   ]
  },
  {
   "cell_type": "code",
   "execution_count": null,
   "id": "ab71ab1f",
   "metadata": {
    "id": "ab71ab1f"
   },
   "outputs": [],
   "source": [
    "matrix(c(1:12), ncol = 2)"
   ]
  },
  {
   "cell_type": "markdown",
   "id": "641a8c09",
   "metadata": {
    "id": "641a8c09"
   },
   "source": [
    "#### rbind( )\n",
    "The rbind() function is used to bind vectors into a matrix (row-wise):"
   ]
  },
  {
   "cell_type": "code",
   "execution_count": null,
   "id": "e2f0069a",
   "metadata": {
    "id": "e2f0069a"
   },
   "outputs": [],
   "source": [
    "rbind(c(1,2,3), c(4,5,6))"
   ]
  },
  {
   "cell_type": "markdown",
   "id": "04e9dc72",
   "metadata": {
    "id": "04e9dc72"
   },
   "source": [
    "#### cbind( )\n",
    "The cbind() function is used to bind vectors into a matrix (column-wise):"
   ]
  },
  {
   "cell_type": "code",
   "execution_count": null,
   "id": "84cc2f34",
   "metadata": {
    "id": "84cc2f34"
   },
   "outputs": [],
   "source": [
    "cbind(c(1,2,3), c(4,5,6))"
   ]
  },
  {
   "cell_type": "markdown",
   "id": "4f79d6d7",
   "metadata": {
    "id": "4f79d6d7"
   },
   "source": [
    "#### dim( )\n",
    "The dim() function will return the dimensions (rows, cols) of a matrix:"
   ]
  },
  {
   "cell_type": "code",
   "execution_count": null,
   "id": "311ef09e",
   "metadata": {
    "id": "311ef09e"
   },
   "outputs": [],
   "source": [
    "nums <- matrix(1:12, 3, 4)\n",
    "\n",
    "dim(nums)"
   ]
  },
  {
   "cell_type": "markdown",
   "id": "a936b259",
   "metadata": {
    "id": "a936b259"
   },
   "source": [
    "#### nrow( )\n",
    "The nrow() function will return the number of rows in a matrix:"
   ]
  },
  {
   "cell_type": "code",
   "execution_count": null,
   "id": "1d3cb30f",
   "metadata": {
    "id": "1d3cb30f"
   },
   "outputs": [],
   "source": [
    "nums <- matrix(1:12, 3, 4)\n",
    "\n",
    "nrow(nums)"
   ]
  },
  {
   "cell_type": "markdown",
   "id": "f8ae2a9b",
   "metadata": {
    "id": "f8ae2a9b"
   },
   "source": [
    "#### ncol( )\n",
    "The ncol() function will return the number of columns in a matrix:"
   ]
  },
  {
   "cell_type": "code",
   "execution_count": null,
   "id": "5d087fbe",
   "metadata": {
    "id": "5d087fbe"
   },
   "outputs": [],
   "source": [
    "nums <- matrix(1:12, 3, 4)\n",
    "\n",
    "ncol(nums)"
   ]
  },
  {
   "cell_type": "markdown",
   "id": "e2d61872",
   "metadata": {
    "id": "e2d61872"
   },
   "source": [
    "### Matrix Subsetting\n",
    "You can select a subset of a matrix by placing the desired rows and columns, separated by a comma, within square brackets."
   ]
  },
  {
   "cell_type": "code",
   "execution_count": null,
   "id": "d405966d",
   "metadata": {
    "id": "d405966d"
   },
   "outputs": [],
   "source": [
    "# Create a matrix named \"nums\":\n",
    "\n",
    "nums <- matrix(1:12, 3, 4)\n",
    "nums"
   ]
  },
  {
   "cell_type": "code",
   "execution_count": null,
   "id": "b9b0f40a",
   "metadata": {
    "id": "b9b0f40a"
   },
   "outputs": [],
   "source": [
    "# Return the element located in the second row of the third column:\n",
    "\n",
    "nums[2,3]"
   ]
  },
  {
   "cell_type": "code",
   "execution_count": null,
   "id": "9104cd66",
   "metadata": {
    "id": "9104cd66"
   },
   "outputs": [],
   "source": [
    "# Return rows 1 and 2 of columns 3 and 4:\n",
    "\n",
    "nums[1:2, 3:4]"
   ]
  },
  {
   "cell_type": "code",
   "execution_count": null,
   "id": "f328a1ee",
   "metadata": {
    "id": "f328a1ee"
   },
   "outputs": [],
   "source": [
    "# An alternative way to get the same results as above...\n",
    "# Return all rows except the third, and all columns except the first and second:\n",
    "\n",
    "nums[-3, -1:-2]"
   ]
  },
  {
   "cell_type": "code",
   "execution_count": null,
   "id": "eb840f74",
   "metadata": {
    "id": "eb840f74"
   },
   "outputs": [],
   "source": [
    "# Return just row two (must be followed by a comma) and all of the columns:\n",
    "\n",
    "nums[2, ]"
   ]
  },
  {
   "cell_type": "code",
   "execution_count": null,
   "id": "b7890b34",
   "metadata": {
    "id": "b7890b34"
   },
   "outputs": [],
   "source": [
    "# Return just column four (must be preceded by a comma) and all of the rows:\n",
    "\n",
    "nums[, 4]"
   ]
  },
  {
   "cell_type": "markdown",
   "id": "f186dddd",
   "metadata": {
    "id": "f186dddd"
   },
   "source": [
    "#### colnames()\n",
    "The colnames() function can be used to assign names to the columns:"
   ]
  },
  {
   "cell_type": "code",
   "execution_count": null,
   "id": "3562bef6",
   "metadata": {
    "id": "3562bef6"
   },
   "outputs": [],
   "source": [
    "colnames(nums) <- c(\"col1\", \"col2\", \"col3\", \"col4\")\n",
    "nums"
   ]
  },
  {
   "cell_type": "markdown",
   "id": "cca53c9c",
   "metadata": {
    "id": "cca53c9c"
   },
   "source": [
    "#### rownames()\n",
    "The rownames() function can be used to assign names to the rows:"
   ]
  },
  {
   "cell_type": "code",
   "execution_count": null,
   "id": "34f38f91",
   "metadata": {
    "id": "34f38f91"
   },
   "outputs": [],
   "source": [
    "rownames(nums) <- c(\"row1\", \"row2\", \"row3\")\n",
    "nums"
   ]
  },
  {
   "cell_type": "markdown",
   "id": "8356611c",
   "metadata": {
    "id": "8356611c"
   },
   "source": [
    "### ✅ Exercise 6\n",
    "\n",
    "Create a matrix by passing it a vector with numbers from 21 to 40. Shape the matrix to have 4 rows and 5 columns. Assign the names of the weekdays (i.e., Monday through Friday) to the five columns. Name the four rows \"California\", \"Texas\", \"Florida\", \"New York\". Name the matrix \"states\". Display the matrix."
   ]
  },
  {
   "cell_type": "code",
   "execution_count": null,
   "id": "f093a9e9",
   "metadata": {
    "id": "f093a9e9"
   },
   "outputs": [],
   "source": []
  },
  {
   "cell_type": "markdown",
   "id": "4696b619",
   "metadata": {
    "id": "4696b619"
   },
   "source": [
    "---"
   ]
  },
  {
   "cell_type": "markdown",
   "id": "65a7d388",
   "metadata": {
    "id": "65a7d388"
   },
   "source": [
    "### Subsetting Named Matrixes"
   ]
  },
  {
   "cell_type": "code",
   "execution_count": null,
   "id": "4b77f397",
   "metadata": {
    "id": "4b77f397"
   },
   "outputs": [],
   "source": [
    "# Create a matrix with named rows and columns:\n",
    "\n",
    "nums <- matrix(1:12, 3, 4)\n",
    "colnames(nums) <- c(\"col1\", \"col2\", \"col3\", \"col4\")\n",
    "rownames(nums) <- c(\"row1\", \"row2\", \"row3\")\n",
    "\n",
    "nums"
   ]
  },
  {
   "cell_type": "markdown",
   "id": "59d7aee3",
   "metadata": {
    "id": "59d7aee3"
   },
   "source": [
    "#### Use the row/col names to subset the matrix:"
   ]
  },
  {
   "cell_type": "code",
   "execution_count": null,
   "id": "1b4e1475",
   "metadata": {
    "id": "1b4e1475"
   },
   "outputs": [],
   "source": [
    "# Return \"row1\" and every column:\n",
    "\n",
    "print(nums[\"row1\",])"
   ]
  },
  {
   "cell_type": "code",
   "execution_count": null,
   "id": "d9b7aa9f",
   "metadata": {
    "id": "d9b7aa9f"
   },
   "outputs": [],
   "source": [
    "# Return all rows and just \"col2\" and \"col4\":\n",
    "\n",
    "nums[, c(\"col2\",\"col4\")]"
   ]
  },
  {
   "cell_type": "code",
   "execution_count": null,
   "id": "c0b6481d",
   "metadata": {
    "id": "c0b6481d"
   },
   "outputs": [],
   "source": [
    "# Return \"row2\" and \"row3\" of \"col1\" and \"col4\":\n",
    "\n",
    "nums[c(\"row2\", \"row3\"), c(\"col1\",\"col4\")]"
   ]
  },
  {
   "cell_type": "markdown",
   "id": "c59f2ac6",
   "metadata": {
    "id": "c59f2ac6"
   },
   "source": [
    "---"
   ]
  },
  {
   "cell_type": "markdown",
   "id": "8747b045",
   "metadata": {
    "id": "8747b045"
   },
   "source": [
    "## Data Frames\n",
    "Data frames are the most common way of storing and analyzing data in R. The columns (which are vectors) can be of different types, but they must be the same length."
   ]
  },
  {
   "cell_type": "markdown",
   "id": "5e5f0e42",
   "metadata": {
    "id": "5e5f0e42"
   },
   "source": [
    "You can think of a data frame as a collection of vectors that all must be the same length."
   ]
  },
  {
   "cell_type": "code",
   "execution_count": null,
   "id": "490f710d",
   "metadata": {
    "id": "490f710d",
    "scrolled": true
   },
   "outputs": [],
   "source": [
    "df <- data.frame(name=c(\"Carl\",\"Diane\",\"Sally\",\"Ben\",\"Kimmy\"),\n",
    "                 age=c(42,40,17,14,12),\n",
    "                 sex=c(\"Male\",\"Female\",\"Female\",\"Male\",\"Female\"))\n",
    "\n",
    "df"
   ]
  },
  {
   "cell_type": "markdown",
   "id": "ed3b4105",
   "metadata": {
    "id": "ed3b4105"
   },
   "source": [
    "#### dim()\n",
    "The dim() function is used to get the dimensions (rows x cols) of a data frame:"
   ]
  },
  {
   "cell_type": "code",
   "execution_count": null,
   "id": "ac6e4e3b",
   "metadata": {
    "id": "ac6e4e3b"
   },
   "outputs": [],
   "source": [
    "dim(df)"
   ]
  },
  {
   "cell_type": "markdown",
   "id": "e30fc65b",
   "metadata": {
    "id": "e30fc65b"
   },
   "source": [
    "#### nrow()\n",
    "The nrow() function is used to get the number of rows in a data frame:"
   ]
  },
  {
   "cell_type": "code",
   "execution_count": null,
   "id": "453e7b93",
   "metadata": {
    "id": "453e7b93"
   },
   "outputs": [],
   "source": [
    "nrow(df)"
   ]
  },
  {
   "cell_type": "markdown",
   "id": "0fa75718",
   "metadata": {
    "id": "0fa75718"
   },
   "source": [
    "#### ncol()\n",
    "The ncol() function is used to get the number of columns in a data frame:"
   ]
  },
  {
   "cell_type": "code",
   "execution_count": null,
   "id": "f853a849",
   "metadata": {
    "id": "f853a849"
   },
   "outputs": [],
   "source": [
    "ncol(df)"
   ]
  },
  {
   "cell_type": "markdown",
   "id": "8c0deca7",
   "metadata": {
    "id": "8c0deca7"
   },
   "source": [
    "#### colnames()\n",
    "The colnames() function is used to get the column names of a data frame:"
   ]
  },
  {
   "cell_type": "code",
   "execution_count": null,
   "id": "1c19604a",
   "metadata": {
    "id": "1c19604a"
   },
   "outputs": [],
   "source": [
    "colnames(df)"
   ]
  },
  {
   "cell_type": "markdown",
   "id": "45bb3081",
   "metadata": {
    "id": "45bb3081"
   },
   "source": [
    "### Data Frame Subsetting\n",
    "You can select a subset of a data frame by placing the desired rows and columns, separated by a comma, within square brackets. You can use either an index position or a name. "
   ]
  },
  {
   "cell_type": "code",
   "execution_count": null,
   "id": "84236fe7",
   "metadata": {
    "id": "84236fe7"
   },
   "outputs": [],
   "source": [
    "# Create a data frame:\n",
    "\n",
    "df <- data.frame(name=c(\"Carl\",\"Diane\",\"Sally\",\"Ben\",\"Kimmy\"),\n",
    "                 age=c(42,40,17,14,12),\n",
    "                 sex=c(\"Male\",\"Female\",\"Female\",\"Male\",\"Female\"))\n",
    "\n",
    "df"
   ]
  },
  {
   "cell_type": "markdown",
   "id": "feae8e9e",
   "metadata": {
    "id": "feae8e9e"
   },
   "source": [
    "#### Subsets of rows"
   ]
  },
  {
   "cell_type": "code",
   "execution_count": null,
   "id": "8978aaad",
   "metadata": {
    "id": "8978aaad"
   },
   "outputs": [],
   "source": [
    "# Return the first two rows with all of the columns:\n",
    "\n",
    "df[1:2, ]"
   ]
  },
  {
   "cell_type": "code",
   "execution_count": null,
   "id": "7bed2754",
   "metadata": {
    "id": "7bed2754"
   },
   "outputs": [],
   "source": [
    "# Return the first and third row (with all of the columns); a comma follows the vector so it indicates rows):\n",
    "\n",
    "df[c(1,3), ]"
   ]
  },
  {
   "cell_type": "markdown",
   "id": "e7fc9097",
   "metadata": {
    "id": "e7fc9097"
   },
   "source": [
    "#### Subsets of columns"
   ]
  },
  {
   "cell_type": "code",
   "execution_count": null,
   "id": "d32d4e77",
   "metadata": {
    "id": "d32d4e77"
   },
   "outputs": [],
   "source": [
    "# Return the first and third columns (with all of the rows); no comma follows the vector so it indicates columns:\n",
    "\n",
    "df[c(1, 3)] "
   ]
  },
  {
   "cell_type": "markdown",
   "id": "c1182d64",
   "metadata": {
    "id": "c1182d64"
   },
   "source": [
    "<div class=\"alert alert-block alert-warning\">\n",
    "<b>Alert:</b> To subset a data frame, placing a vector within square brackets, not followed by a comma, indicates the desired columns that you would like returned. If the vector is followed by a comma, this indicates that these are the rows that you would like returned.</div>"
   ]
  },
  {
   "cell_type": "code",
   "execution_count": null,
   "id": "77b3e7ad",
   "metadata": {
    "id": "77b3e7ad"
   },
   "outputs": [],
   "source": [
    "# Return the column named \"name\" with all of the rows (returns a data frame):\n",
    "\n",
    "df[\"name\"]"
   ]
  },
  {
   "cell_type": "code",
   "execution_count": null,
   "id": "97f37af5",
   "metadata": {
    "id": "97f37af5"
   },
   "outputs": [],
   "source": [
    "# Return the column named \"name\" with all of the rows (using \"$\" returns the vector):\n",
    "\n",
    "df$name"
   ]
  },
  {
   "cell_type": "code",
   "execution_count": null,
   "id": "5f8c2a18",
   "metadata": {
    "id": "5f8c2a18"
   },
   "outputs": [],
   "source": [
    "# Using a vector for the names of the columns returns those columns in the selected order (with all of the rows):\n",
    "\n",
    "df[c(\"sex\", \"age\", \"name\")] "
   ]
  },
  {
   "cell_type": "markdown",
   "id": "72976114",
   "metadata": {
    "id": "72976114"
   },
   "source": [
    "#### Row and Column subsetting"
   ]
  },
  {
   "cell_type": "code",
   "execution_count": null,
   "id": "09164e3d",
   "metadata": {
    "id": "09164e3d"
   },
   "outputs": [],
   "source": [
    "# Return the first two rows of the first two columns:\n",
    "\n",
    "df[1:2, 1:2]"
   ]
  },
  {
   "cell_type": "code",
   "execution_count": null,
   "id": "8b6e3666",
   "metadata": {
    "id": "8b6e3666"
   },
   "outputs": [],
   "source": [
    "# Return the first two rows of the columns named \"name\" and \"age\":\n",
    "\n",
    "df[1:2, c(\"name\", \"age\")]"
   ]
  },
  {
   "cell_type": "code",
   "execution_count": null,
   "id": "de633138",
   "metadata": {
    "id": "de633138"
   },
   "outputs": [],
   "source": [
    "# Another way to return the same values as above.\n",
    "# Return all rows except the third through the fifth, and all columns except the third one:\n",
    "\n",
    "df[-3:-5, -3]"
   ]
  },
  {
   "cell_type": "markdown",
   "id": "27ff4811",
   "metadata": {
    "id": "27ff4811"
   },
   "source": [
    "#### Logical subsetting\n",
    "A logical expression is a question and can only return TRUE or FALSE."
   ]
  },
  {
   "cell_type": "code",
   "execution_count": null,
   "id": "eaaa8747",
   "metadata": {
    "id": "eaaa8747"
   },
   "outputs": [],
   "source": [
    "# Here, you are asking each value in the column \"age\" if it is less than 18:\n",
    "\n",
    "df$age < 18"
   ]
  },
  {
   "cell_type": "code",
   "execution_count": null,
   "id": "2ea1a317",
   "metadata": {
    "id": "2ea1a317"
   },
   "outputs": [],
   "source": [
    "# By placing the logical expression from above within the square brackets of the data frame, \n",
    "# only the TRUE rows will be returned.\n",
    "\n",
    "\n",
    "# Return the rows where the column \"age\" is less than 18, and return the columns \"age\" and \"name\": \n",
    "\n",
    "df[df$age < 18, c(\"age\", \"name\")]"
   ]
  },
  {
   "cell_type": "markdown",
   "id": "b10d0e72",
   "metadata": {
    "id": "b10d0e72"
   },
   "source": [
    "<div class=\"alert alert-block alert-success\">\n",
    "<b>Note:</b> A logical expression can only return TRUE or FALSE. By placing a logical expression within the square brackets following a data frame, only the rows that are TRUE will be returned. Using logical expressions is primarily how you will explore and wrangle your data.\n",
    "</div>"
   ]
  },
  {
   "cell_type": "markdown",
   "id": "c17e2a53",
   "metadata": {
    "id": "c17e2a53"
   },
   "source": [
    "#### Compound operation"
   ]
  },
  {
   "cell_type": "code",
   "execution_count": null,
   "id": "9e4754df",
   "metadata": {
    "id": "9e4754df"
   },
   "outputs": [],
   "source": [
    "# Here, you are asking the data frame which rows have an \"age\" less than 18 AND a \"sex\" equivalent to \"Female\":\n",
    "(df$age<18) & (df$sex==\"Female\")"
   ]
  },
  {
   "cell_type": "code",
   "execution_count": null,
   "id": "175df1c5",
   "metadata": {
    "id": "175df1c5"
   },
   "outputs": [],
   "source": [
    "# By placing the logical expression from above between the square brackets of the data frame,\n",
    "# you will return the rows where \"age\" is less than 18 AND \"sex\" is \"Female\", and all of the columns: \n",
    "\n",
    "df <- data.frame(name=c(\"Carl\",\"Diane\",\"Sally\",\"Ben\",\"Kimmy\"),\n",
    "                 age=c(42,40,17,14,12),\n",
    "                 sex=c(\"Male\",\"Female\",\"Female\",\"Male\",\"Female\"))\n",
    "\n",
    "df[(df$age<18) & (df$sex==\"Female\"), ]"
   ]
  },
  {
   "cell_type": "markdown",
   "id": "53be633e",
   "metadata": {
    "id": "53be633e"
   },
   "source": [
    "### ✅ Exercise 7\n",
    "\n",
    "From the following data frame, select only the rows where \"age\" is over 30 and \"sex\" is \"Male\", and return only the columns \"age\" and \"sex\"."
   ]
  },
  {
   "cell_type": "code",
   "execution_count": null,
   "id": "9e3f6dbe",
   "metadata": {
    "id": "9e3f6dbe"
   },
   "outputs": [],
   "source": []
  },
  {
   "cell_type": "markdown",
   "id": "75f23a99",
   "metadata": {
    "id": "75f23a99"
   },
   "source": [
    "---"
   ]
  },
  {
   "cell_type": "markdown",
   "id": "47aeb7ae",
   "metadata": {
    "id": "47aeb7ae"
   },
   "source": [
    "# 🌟 Ready for the next one?\n",
    "<br>\n",
    "\n",
    "- [**Lesson 3: Importing Data**](Lesson_3_Importing_Data.ipynb)\n",
    "\n",
    "- [**Lesson 4: Conditionals and Loops**](Lesson_4_Conditionals_and_Loops.ipynb)\n",
    "\n",
    "- [**Lesson 5: Functions**](Lesson_5_Functions.ipynb)"
   ]
  },
  {
   "cell_type": "markdown",
   "id": "a078eea4",
   "metadata": {
    "id": "a078eea4"
   },
   "source": [
    "---"
   ]
  },
  {
   "cell_type": "markdown",
   "id": "6417d0b1",
   "metadata": {
    "id": "6417d0b1"
   },
   "source": [
    "# Contributions & acknowledgment"
   ]
  },
  {
   "cell_type": "markdown",
   "id": "f8a28fa0",
   "metadata": {
    "id": "f8a28fa0"
   },
   "source": [
    "Thanks Antony Ross for contributing the content for this notebook."
   ]
  },
  {
   "cell_type": "markdown",
   "id": "d366f518",
   "metadata": {
    "id": "d366f518"
   },
   "source": [
    "---"
   ]
  },
  {
   "cell_type": "markdown",
   "id": "8e2cf8c6",
   "metadata": {
    "id": "8e2cf8c6"
   },
   "source": [
    "Copyright (c) 2022 Stanford Data Ocean (SDO)\n",
    "\n",
    "All rights reserved."
   ]
  }
 ],
 "metadata": {
  "colab": {
   "provenance": []
  },
  "kernelspec": {
   "display_name": "R",
   "language": "R",
   "name": "ir"
  },
  "language_info": {
   "codemirror_mode": "r",
   "file_extension": ".r",
   "mimetype": "text/x-r-source",
   "name": "R",
   "pygments_lexer": "r",
   "version": "4.2.2"
  }
 },
 "nbformat": 4,
 "nbformat_minor": 5
}
