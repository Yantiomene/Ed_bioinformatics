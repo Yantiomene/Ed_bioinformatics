{
 "cells": [
  {
   "cell_type": "markdown",
   "id": "884c204c",
   "metadata": {
    "id": "884c204c"
   },
   "source": [
    "<img src=\"materials/images/introduction-to-r-programming-cover.png\"/>"
   ]
  },
  {
   "cell_type": "markdown",
   "id": "eae7842d-3143-4460-af05-16161c663658",
   "metadata": {
    "id": "eae7842d-3143-4460-af05-16161c663658",
    "tags": []
   },
   "source": [
    "\n",
    "# 👋 Welcome, before you start\n",
    "<br>\n",
    "\n",
    "### 📚 Module overview\n",
    "\n",
    "R is a statistical programming language that is very effective for computation and high-level graphics. It is commonly used for data analytics and data science.\n",
    "\n",
    "We are going through five lessons in this module:\n",
    "\n",
    "- [**Lesson 1: R Basic Data Types**](Lesson_1_R_Basic_Data_Types.ipynb)\n",
    "\n",
    "- [**Lesson 2: R Data Structures**](Lesson_2_R_Data_Structures.ipynb)\n",
    "\n",
    "- <font color=#E98300>**Lesson 3: Importing Data**</font>    `📍You are here.`\n",
    "\n",
    "- [**Lesson 4: Conditionals and Loops**](Lesson_4_Conditionals_and_Loops.ipynb)\n",
    "\n",
    "- [**Lesson 5: Functions**](Lesson_5_Functions.ipynb)\n",
    "\n",
    "</br>\n",
    "\n",
    "### ✅ Exercises\n",
    "We encourage you to try the exercise questions in this module, and use the [**solutions to the exercises**](Exercise_solutions.ipynb) to help you study.\n",
    "\n",
    "</br>\n",
    "\n",
    "<div class=\"alert alert-block alert-info\">\n",
    "<h3>⌨️ Keyboard shortcut</h3>\n",
    "\n",
    "These common shortcut could save your time going through this notebook:\n",
    "- Run the current cell: **`Enter + Shift`**.\n",
    "- Add a cell above the current cell: Press **`A`**.\n",
    "- Add a cell below the current cell: Press **`B`**.\n",
    "- Change a code cell to markdown cell: Select the cell, and then press **`M`**.\n",
    "- Delete a cell: Press **`D`** twice.\n",
    "\n",
    "Need more help with keyboard shortcut? Press **`H`** to look it up.\n",
    "</div>"
   ]
  },
  {
   "cell_type": "markdown",
   "id": "4a685263-adc3-49aa-a4c1-94b82737ae64",
   "metadata": {
    "id": "4a685263-adc3-49aa-a4c1-94b82737ae64"
   },
   "source": [
    "---"
   ]
  },
  {
   "cell_type": "markdown",
   "id": "15f6dc98",
   "metadata": {
    "id": "15f6dc98"
   },
   "source": [
    "# Lesson 3: Importing Data\n",
    "\n",
    "Data can be formatted in various ways so we use parsers to import the data as a data frame.\n",
    "\n",
    "\n",
    "`🕒 This module should take about 10 minutes to complete.`\n",
    "\n",
    "`✍️ This notebook is written using R.`"
   ]
  },
  {
   "cell_type": "markdown",
   "id": "ebf5dd38",
   "metadata": {
    "id": "ebf5dd38"
   },
   "source": [
    "### csv file\n",
    "Comma separated values (csv) is a common way that data can be formatted. To import a csv file, read.csv() is used. The name of the file is passed in and the dataset will be imported as a data frame.\n",
    "\n",
    "For example:"
   ]
  },
  {
   "cell_type": "code",
   "execution_count": null,
   "id": "8738b402",
   "metadata": {
    "id": "8738b402"
   },
   "outputs": [],
   "source": [
    "df <- read.csv(\"data/heart_disease.csv\")"
   ]
  },
  {
   "cell_type": "markdown",
   "id": "198dfbca",
   "metadata": {
    "id": "198dfbca"
   },
   "source": [
    "<div class=\"alert alert-block alert-success\">\n",
    "<b>Note:</b> Comma Separated Values (CSV) is one of the most common file formats for storing data, and CSV files are supported by nearly all data upload interfaces.\n",
    "</div>"
   ]
  },
  {
   "cell_type": "markdown",
   "id": "1e7a033a",
   "metadata": {
    "id": "1e7a033a"
   },
   "source": [
    "#### head()\n",
    "The head() function displays the first six rows (by default):"
   ]
  },
  {
   "cell_type": "code",
   "execution_count": null,
   "id": "75010ec9",
   "metadata": {
    "id": "75010ec9"
   },
   "outputs": [],
   "source": [
    "head(df)"
   ]
  },
  {
   "cell_type": "code",
   "execution_count": null,
   "id": "765e3566",
   "metadata": {
    "id": "765e3566"
   },
   "outputs": [],
   "source": [
    "# Display the first 15 rows:\n",
    "\n",
    "head(df, 15)"
   ]
  },
  {
   "cell_type": "markdown",
   "id": "fdb13c89",
   "metadata": {
    "id": "fdb13c89"
   },
   "source": [
    "#### tail()\n",
    "The tail() function displays the last six rows (by default):"
   ]
  },
  {
   "cell_type": "code",
   "execution_count": null,
   "id": "46de6c3f",
   "metadata": {
    "id": "46de6c3f"
   },
   "outputs": [],
   "source": [
    "tail(df)"
   ]
  },
  {
   "cell_type": "markdown",
   "id": "1a7a491a",
   "metadata": {
    "id": "1a7a491a"
   },
   "source": [
    "#### unique()\n",
    "The unique() function will display the unique values within a column:"
   ]
  },
  {
   "cell_type": "code",
   "execution_count": null,
   "id": "e42c9405",
   "metadata": {
    "id": "e42c9405"
   },
   "outputs": [],
   "source": [
    "unique(df$sex)"
   ]
  },
  {
   "cell_type": "markdown",
   "id": "4b83356d",
   "metadata": {
    "id": "4b83356d"
   },
   "source": [
    "#### table()\n",
    "The table() function will display the count of each unique value within a column:"
   ]
  },
  {
   "cell_type": "code",
   "execution_count": null,
   "id": "bdb86fd9",
   "metadata": {
    "id": "bdb86fd9"
   },
   "outputs": [],
   "source": [
    "# Count the frequency of each category in a column/vector:\n",
    "\n",
    "table(df$sex)"
   ]
  },
  {
   "cell_type": "markdown",
   "id": "a727b14d",
   "metadata": {
    "id": "a727b14d"
   },
   "source": [
    "<div class=\"alert alert-block alert-success\">\n",
    "<b>Keep in mind:</b> Each column requested with \"$\" is a vector, so any function that can be applied to a vector can also be applied to a column (e.g., table(), length(), mean(), sort() ).\n",
    "</div>"
   ]
  },
  {
   "cell_type": "markdown",
   "id": "44dad679",
   "metadata": {
    "id": "44dad679"
   },
   "source": [
    "### Table format\n",
    "\n",
    "Another way that we can import data is by using read.table(). This reads a file in table format and creates a data frame from it. We can set its `sep` parameter to indicate how the data is separated (e.g., sep=\",\" for comma separated values). Setting the `header` parameter to TRUE indicates that the first row contains the names of the columns.\n",
    "\n",
    "For example:"
   ]
  },
  {
   "cell_type": "code",
   "execution_count": null,
   "id": "b2c235a1",
   "metadata": {
    "id": "b2c235a1"
   },
   "outputs": [],
   "source": [
    "df_table <- read.table(\"data/heart_disease.csv\", sep=\",\", header=TRUE, )"
   ]
  },
  {
   "cell_type": "code",
   "execution_count": null,
   "id": "756c3353",
   "metadata": {
    "id": "756c3353"
   },
   "outputs": [],
   "source": [
    "# Preview the data imported via read.table():\n",
    "\n",
    "head(df_table)"
   ]
  },
  {
   "cell_type": "markdown",
   "id": "6ef19379",
   "metadata": {
    "id": "6ef19379"
   },
   "source": [
    "---"
   ]
  },
  {
   "cell_type": "markdown",
   "id": "47aeb7ae",
   "metadata": {
    "id": "47aeb7ae"
   },
   "source": [
    "# 🌟 Ready for the next one?\n",
    "<br>\n",
    "\n",
    "- [**Lesson 4: Conditionals and Loops**](Lesson_4_Conditionals_and_Loops.ipynb)\n",
    "\n",
    "- [**Lesson 5: Functions**](Lesson_5_Functions.ipynb)"
   ]
  },
  {
   "cell_type": "markdown",
   "id": "a078eea4",
   "metadata": {
    "id": "a078eea4"
   },
   "source": [
    "---"
   ]
  },
  {
   "cell_type": "markdown",
   "id": "6417d0b1",
   "metadata": {
    "id": "6417d0b1"
   },
   "source": [
    "# Contributions & acknowledgment"
   ]
  },
  {
   "cell_type": "markdown",
   "id": "f8a28fa0",
   "metadata": {
    "id": "f8a28fa0"
   },
   "source": [
    "Thanks Antony Ross for contributing the content for this notebook."
   ]
  },
  {
   "cell_type": "markdown",
   "id": "d366f518",
   "metadata": {
    "id": "d366f518"
   },
   "source": [
    "---"
   ]
  },
  {
   "cell_type": "markdown",
   "id": "8e2cf8c6",
   "metadata": {
    "id": "8e2cf8c6"
   },
   "source": [
    "Copyright (c) 2022 Stanford Data Ocean (SDO)\n",
    "\n",
    "All rights reserved."
   ]
  }
 ],
 "metadata": {
  "colab": {
   "provenance": []
  },
  "kernelspec": {
   "display_name": "R",
   "language": "R",
   "name": "ir"
  },
  "language_info": {
   "codemirror_mode": "r",
   "file_extension": ".r",
   "mimetype": "text/x-r-source",
   "name": "R",
   "pygments_lexer": "r",
   "version": "4.2.2"
  }
 },
 "nbformat": 4,
 "nbformat_minor": 5
}
