{
 "cells": [
  {
   "cell_type": "markdown",
   "metadata": {
    "id": "TPa01c7amAIa"
   },
   "source": [
    "<img src=\"materials/images/introduction-to-pandas-cover.png\"/>"
   ]
  },
  {
   "cell_type": "markdown",
   "metadata": {
    "id": "O5Qg_d1c7E0C"
   },
   "source": [
    "\n",
    "# 👋 Welcome, before you start\n",
    "<br>\n",
    "\n",
    "### 📚 Module overview\n",
    "\n",
    "This module introduces you to the pandas library for working with structured data. Pandas is powerful and expressive, and it's one of the primary reasons that Python has become a leading option for doing data science. Pandas provides data structures and intuitive capabilities for performing fast and easy **data cleaning, preparation, manipulation, aggregation, and sophisticated analysis**. \n",
    "\n",
    "We will go through seven lessons with you:\n",
    "\n",
    "- <font color=#E98300>**Lesson 1: Pandas Data Structures**</font>    `📍You are here.`\n",
    "    \n",
    "- [**Lesson 2: Dropping Rows and Columns**](Lesson_2_Dropping_Rows_and_Columns.ipynb)\n",
    "    \n",
    "- [**Lesson 3: Selecting and Filtering Rows and Columns**](Lesson_3_Selecting_and_Filtering_Rows_and_Columns.ipynb)\n",
    "\n",
    "- [**Lesson 4: Importing Data**](Lesson_4_Importing_Data.ipynb)\n",
    "\n",
    "- [**Lesson 5: Data Exploration**](Lesson_5_Data_Exploration.ipynb)\n",
    "\n",
    "- [**Lesson 6: Data Transformation**](Lesson_6_Data_Transformation.ipynb)\n",
    "\n",
    "- [**Lesson 7: Data Analysis**](Lesson_7_Data_Analysis.ipynb)\n",
    "    \n",
    "</br>\n",
    "\n",
    "### ✅ Exercises\n",
    "We encourage you to try the exercise questions in this module, and use the [**solutions to the exercises**](Exercise_solutions.ipynb) to help you study.\n",
    "\n",
    "</br>\n",
    "\n",
    "<div class=\"alert alert-block alert-info\">\n",
    "<h3>⌨️ Keyboard shortcut</h3>\n",
    "\n",
    "These common shortcut could save your time going through this notebook:\n",
    "- Run the current cell: **`Enter + Shift`**.\n",
    "- Add a cell above the current cell: Press **`A`**.\n",
    "- Add a cell below the current cell: Press **`B`**.\n",
    "- Change a code cell to markdown cell: Select the cell, and then press **`M`**.\n",
    "- Delete a cell: Press **`D`** twice.\n",
    "\n",
    "Need more help with keyboard shortcut? Press **`H`** to look it up.\n",
    "</div>"
   ]
  },
  {
   "cell_type": "markdown",
   "metadata": {
    "id": "hxAwv-bV7E0D"
   },
   "source": [
    "---"
   ]
  },
  {
   "cell_type": "markdown",
   "metadata": {
    "id": "K8m4gE-N7E0E"
   },
   "source": [
    "# Lesson 1: Pandas Data Structures"
   ]
  },
  {
   "cell_type": "markdown",
   "metadata": {
    "id": "H2KhFCd_7E0F"
   },
   "source": [
    "We are going to go through these concepts in this module:"
   ]
  },
  {
   "cell_type": "markdown",
   "metadata": {
    "id": "PYaqAoqgjqDp"
   },
   "source": [
    "- [Series](#Series)\n",
    "- [DataFrame](#DataFrame)\n",
    "\n",
    "\n",
    "`🕒 This module should take about 20 minutes to complete.`\n",
    "\n",
    "`✍️ This notebook is written using Python.`"
   ]
  },
  {
   "cell_type": "markdown",
   "metadata": {
    "id": "emxKgX45jqDq"
   },
   "source": [
    "### Import the pandas data analysis library\n",
    "\n",
    "First, we'll import the pandas library into our notebook so that it's functionality is available to us. Traditionally, \"pd\" is used as the alias for pandas. Therefore, whenever you see `pd`. in the code, it's referring to the use of pandas and its capabilities."
   ]
  },
  {
   "cell_type": "code",
   "execution_count": null,
   "metadata": {
    "id": "1dXq_VNZ7E0H"
   },
   "outputs": [],
   "source": [
    "import pandas as pd"
   ]
  },
  {
   "cell_type": "markdown",
   "metadata": {
    "id": "e5rdpm-gjqDu"
   },
   "source": [
    "## Series\n",
    "\n",
    "**A Series** is a ***one-dimensional object*** containing a sequence of values, very similar to a column of data in an Excel spreadsheet. The Series data structure has an associated index which can be either numbers, or strings (ie. named labels). "
   ]
  },
  {
   "cell_type": "code",
   "execution_count": null,
   "metadata": {
    "id": "KLHxcKJ0jqDv",
    "scrolled": false
   },
   "outputs": [],
   "source": [
    "series_obj = pd.Series([10,20,30,40,50])\n",
    "series_obj"
   ]
  },
  {
   "cell_type": "markdown",
   "metadata": {
    "id": "0r1TYr7ujqDw"
   },
   "source": [
    "<div class=\"alert alert-block alert-success\">\n",
    "<b>Note:</b> The index of the Series object is displayed on the left, the values are displayed on the right and the data type is displayed beneath.\n",
    "</div>"
   ]
  },
  {
   "cell_type": "markdown",
   "metadata": {
    "id": "84VfyHv3jqDx"
   },
   "source": [
    "<div class=\"alert alert-block alert-success\">\n",
    "<b>Note:</b> \"dtype: int64\" in the above output means data is stored as integers. Data type (dtype) represents how a value is stored in memory and, for numbers, it indicates how precisely it can be represented in memory. \n",
    "\n",
    "It is helpful to know the data type of a value because different data types have different capabilities that dictate how they can be handled and dictate the result of any operations performed on them. For example, knowing whether the value 10 is stored as an integer or as a string (e.g., “10”) is important. Math can’t be applied to the string “10” so perhaps it would need to be converted to an integer (int64) data type in order to get descriptive statistics of the column (e.g., mean, standard deviation) or to perform machine learning.\n",
    "\n",
    "Wearable data is somewhat unique and can be represented as any of the data types depending upon the values being collected. For example, the date of collection would be represented as type **date64** in Pandas. The delta or difference between two time points would be stored as type **timedelta**. Moreover, wearable data is typically time series data that is stored as **float64**.\n",
    "</div>"
   ]
  },
  {
   "cell_type": "markdown",
   "metadata": {
    "id": "AGpSxykkjqDx"
   },
   "source": [
    "### Accessing values by index position\n",
    "The values, in a Series object, can be accessed by **placing the associated index position within square brackets**. It is similar to how we access values from within a Python List."
   ]
  },
  {
   "cell_type": "code",
   "execution_count": null,
   "metadata": {
    "id": "hGLy1sK2jqDy"
   },
   "outputs": [],
   "source": [
    "series_obj = pd.Series([10,20,30,40,50])\n",
    "series_obj[0]"
   ]
  },
  {
   "cell_type": "markdown",
   "metadata": {
    "id": "ba3Id6a9TJS3"
   },
   "source": [
    "### Accessing a slice of the data"
   ]
  },
  {
   "cell_type": "code",
   "execution_count": null,
   "metadata": {
    "id": "JguSFiG-jqDz"
   },
   "outputs": [],
   "source": [
    "series_obj[0:3]"
   ]
  },
  {
   "cell_type": "markdown",
   "metadata": {
    "id": "vBHC06YfTJS4"
   },
   "source": [
    "<div class=\"alert alert-block alert-warning\">\n",
    "<b>Alert:</b> Remember, Python considers the first item to be at index position 0. And the ending index position that you provide will not be included in what is returned. The closing index position should be just beyond the position you would like included in the slice. That's why, in the example above, index position 3 is not included in the values returned.\n",
    "</div>"
   ]
  },
  {
   "cell_type": "markdown",
   "metadata": {
    "id": "mPtzwInOjqDz"
   },
   "source": [
    "### Using named labels\n",
    "A label can be used to identify each data point (row) by providing a list of the desired labels to the index property of the Series object."
   ]
  },
  {
   "cell_type": "code",
   "execution_count": null,
   "metadata": {
    "id": "QrKI4NxMjqD0"
   },
   "outputs": [],
   "source": [
    "series_obj = pd.Series([10,20,30,40,50], index = [\"CA\", \"FL\", \"NY\", \"PA\", \"TX\"])\n",
    "series_obj"
   ]
  },
  {
   "cell_type": "markdown",
   "metadata": {
    "id": "0T9LqEdOjqD0"
   },
   "source": [
    "### Accessing values by named label\n",
    "When the values in a Series object have labels, you can use the labels to select values. "
   ]
  },
  {
   "cell_type": "code",
   "execution_count": null,
   "metadata": {
    "id": "ahZ3U7pQjqD1",
    "scrolled": true
   },
   "outputs": [],
   "source": [
    "series_obj[\"CA\"]"
   ]
  },
  {
   "cell_type": "code",
   "execution_count": null,
   "metadata": {
    "id": "NZkx5VrhjqD1"
   },
   "outputs": [],
   "source": [
    "series_obj[\"CA\":\"TX\"]"
   ]
  },
  {
   "cell_type": "markdown",
   "metadata": {
    "id": "cLSzfETSjqD2"
   },
   "source": [
    "<div class=\"alert alert-block alert-success\">\n",
    "<b>Note:</b> When selecting a slice of entries using named labels, the end point (stopping point) is inclusive.\n",
    "</div>"
   ]
  },
  {
   "cell_type": "code",
   "execution_count": null,
   "metadata": {
    "id": "O07-Ck-_jqD2"
   },
   "outputs": [],
   "source": [
    "# If you're requesting more than one label (index), they must be placed within a list:\n",
    "\n",
    "series_obj[[\"CA\", \"NY\", \"TX\"]]"
   ]
  },
  {
   "cell_type": "markdown",
   "metadata": {
    "id": "Q19f64O5jqD3"
   },
   "source": [
    "<div class=\"alert alert-block alert-success\">\n",
    "<b>Note:</b> Even though the index above uses named labels, you can still use the numerical index position of a value to access it.\n",
    "</div>"
   ]
  },
  {
   "cell_type": "markdown",
   "metadata": {
    "id": "FRcW0xE_jqD3"
   },
   "source": [
    "### Element-wise operations"
   ]
  },
  {
   "cell_type": "code",
   "execution_count": null,
   "metadata": {
    "id": "WiQYQJ5CjqD4"
   },
   "outputs": [],
   "source": [
    "# Create a Series object.\n",
    "\n",
    "series_obj = pd.Series([10,20,30,40,50])\n",
    "series_obj"
   ]
  },
  {
   "cell_type": "markdown",
   "metadata": {
    "id": "nXQHiqzWjqD4"
   },
   "source": [
    "An operation can be applied to each element in a Series object. Element-wise operations are convenient as we don't need to use a for loop to apply the operation. Pandas will apply the operation to each element in the Series for us."
   ]
  },
  {
   "cell_type": "code",
   "execution_count": null,
   "metadata": {
    "id": "_leTTbF5jqD5"
   },
   "outputs": [],
   "source": [
    "series_obj * 2"
   ]
  },
  {
   "cell_type": "code",
   "execution_count": null,
   "metadata": {
    "id": "_G7kfX-LjqD5"
   },
   "outputs": [],
   "source": [
    "series_obj + 100"
   ]
  },
  {
   "cell_type": "code",
   "execution_count": null,
   "metadata": {
    "id": "DH7bG2osjqD5",
    "scrolled": true
   },
   "outputs": [],
   "source": [
    "# Create a new Series object.\n",
    "\n",
    "series_obj2 = pd.Series([1,2,3,4,5])\n",
    "series_obj2"
   ]
  },
  {
   "cell_type": "markdown",
   "metadata": {
    "id": "1slDFL8ujqD6",
    "scrolled": true
   },
   "source": [
    "We can apply element-wise operations to combine two Series objects."
   ]
  },
  {
   "cell_type": "code",
   "execution_count": null,
   "metadata": {
    "id": "96wTID52jqD6"
   },
   "outputs": [],
   "source": [
    "# Combine the two Series objects, element-wise.\n",
    "\n",
    "series_obj + series_obj2"
   ]
  },
  {
   "cell_type": "markdown",
   "metadata": {
    "id": "LqyfvQ13jqD7"
   },
   "source": [
    "### Boolean selection\n",
    "We can filter the values that we want by using a boolean array."
   ]
  },
  {
   "cell_type": "code",
   "execution_count": null,
   "metadata": {
    "id": "Ap5_0SuOjqD8"
   },
   "outputs": [],
   "source": [
    "# We can query each item in the Series, returning True or False boolean values.\n",
    "\n",
    "series_obj >20"
   ]
  },
  {
   "cell_type": "markdown",
   "metadata": {
    "id": "JVL9IR6ojqD9"
   },
   "source": [
    "We can use the results (the boolean array) of the boolean query in order to filter the values. By placing the query between the square brackets of the Series object, only the values whose index position returns True will be returned."
   ]
  },
  {
   "cell_type": "code",
   "execution_count": null,
   "metadata": {
    "id": "HwwS1NY_jqD-"
   },
   "outputs": [],
   "source": [
    "series_obj[series_obj > 20]"
   ]
  },
  {
   "cell_type": "markdown",
   "metadata": {
    "id": "BR46VETbjqD-"
   },
   "source": [
    "<div class=\"alert alert-block alert-success\">\n",
    "<b>Remember:</b> When filtering the values by using a boolean query, you're asking the Series object a question. For every index location that returns True to your question, only those associated values (rows) will be returned.\n",
    "</div>"
   ]
  },
  {
   "cell_type": "markdown",
   "metadata": {
    "id": "FpFaEhJkjqD_"
   },
   "source": [
    "## DataFrame\n",
    "\n",
    "The **DataFrame** is another data structure in pandas. A DataFrame is a ***two-dimensional*** array of values. Much like an Excel spreadsheet, it is a rectangular table of columns and rows with both a row index and a column index. It can, somewhat, be thought of as a collection of Series objects, each of which can have a different data type (e.g., strings, numbers). \n",
    "\n",
    "Typically, pandas will import data (e.g., from a csv file) as a DataFrame. However, a DataFrame may be constructed, for example, by using a dictionary (key/value pairs) with the key being the column name and the value being a list of row values."
   ]
  },
  {
   "cell_type": "code",
   "execution_count": null,
   "metadata": {
    "id": "kRbheU4gjqD_"
   },
   "outputs": [],
   "source": [
    "# Creating a sample DataFrame using a dictionary of lists of values.\n",
    "\n",
    "data = {\"Name\": [\"Tim Miller\", \"Ann Carter\", \"Ellen Lee\", \"Sam Carr\", \"Al Ball\", \"Carl Zee\", \"Sara Martin\"], \n",
    "        \"Gender\": [\"Male\", \"Female\", \"Female\", \"Male\", \"Male\", \"Male\", \"Female\"],\n",
    "        \"Age\": [32, 44, 21, 19, 45, 27, 39]}\n",
    "df = pd.DataFrame(data)\n",
    "df"
   ]
  },
  {
   "cell_type": "markdown",
   "metadata": {
    "id": "RQ3go6DQjqD_"
   },
   "source": [
    "### Preview a DataFrame"
   ]
  },
  {
   "cell_type": "markdown",
   "metadata": {
    "id": "34X-hFBdjqEA"
   },
   "source": [
    "#### head()"
   ]
  },
  {
   "cell_type": "code",
   "execution_count": null,
   "metadata": {
    "id": "r5-OCO8MjqEA"
   },
   "outputs": [],
   "source": [
    "# The head() method is used to display only the first 5 rows.\n",
    "\n",
    "df.head() # == df.head(5)"
   ]
  },
  {
   "cell_type": "markdown",
   "metadata": {
    "id": "GQptwfLQjqEB"
   },
   "source": [
    "#### tail()"
   ]
  },
  {
   "cell_type": "code",
   "execution_count": null,
   "metadata": {
    "id": "2nyAKefwjqEC"
   },
   "outputs": [],
   "source": [
    "# The tail() method is used to display only the last 5 rows.\n",
    "\n",
    "df.tail()  # == df.tail(5)"
   ]
  },
  {
   "cell_type": "markdown",
   "metadata": {
    "id": "evhyqBfljqEC"
   },
   "source": [
    "<div class=\"alert alert-block alert-success\">\n",
    "<b>Note:</b> The DataFrame's head() and tail() methods default to displaying five rows. To display a different number of rows, place the desired number within the method's parentheses (e.g. df.head(25)) and that number of rows wil be displayed. </div>"
   ]
  },
  {
   "cell_type": "markdown",
   "metadata": {
    "id": "lMdrRCS3jqEC"
   },
   "source": [
    "### Column selection\n",
    "You can retrieve a column from a DataFrame by using the column's name between square brackets. (A Series object is returned.):"
   ]
  },
  {
   "cell_type": "code",
   "execution_count": null,
   "metadata": {
    "id": "0ZgTs57ujqED"
   },
   "outputs": [],
   "source": [
    "# Returns a column/Series object\n",
    "\n",
    "df['Name']     # Dictionary notation"
   ]
  },
  {
   "cell_type": "markdown",
   "metadata": {
    "id": "haLHlE1CjqED"
   },
   "source": [
    "You can also use dot notation to retrieve a column (Series) from a DataFrame, but only if the column name is a valid Python variable name (e.g., no spaces):"
   ]
  },
  {
   "cell_type": "code",
   "execution_count": null,
   "metadata": {
    "id": "LnbdFyW8jqED"
   },
   "outputs": [],
   "source": [
    "df.Name     # Attribute (dot) notation"
   ]
  },
  {
   "cell_type": "code",
   "execution_count": null,
   "metadata": {
    "id": "AmALx5dxTJTC"
   },
   "outputs": [],
   "source": [
    "df"
   ]
  },
  {
   "cell_type": "markdown",
   "metadata": {
    "id": "JRY6DIX2jqED"
   },
   "source": [
    "<div class=\"alert alert-block alert-info\">\n",
    "<b>Tip:</b> When using dot notation (attribute notation), following the dot, you can use the tab key to complete the column name (or any other attribute). For example, using the above DataFrame, try typing just 'df.N'. Then use the tab key, and Jupyter will complete the rest, or present any other options that begin with 'df.N'. This is known as tab completion and is provided as a convenience by Jupyter.\n",
    "</div>"
   ]
  },
  {
   "cell_type": "markdown",
   "metadata": {
    "id": "niaqKTyHjqEE"
   },
   "source": [
    "You can determine the order of your columns by placing the names in a list, in the desired order:"
   ]
  },
  {
   "cell_type": "code",
   "execution_count": null,
   "metadata": {
    "id": "St9PfuvZjqEE"
   },
   "outputs": [],
   "source": [
    "df[[\"Age\", \"Gender\", \"Name\"]]    "
   ]
  },
  {
   "cell_type": "markdown",
   "metadata": {
    "id": "fezpRRxAjqEE"
   },
   "source": [
    "<div class=\"alert alert-block alert-warning\">\n",
    "<b>Alert:</b> By default, pandas returns a copy of the original DataFrame with the requested modifications. The original DataFrame remains unmodified.</div>"
   ]
  },
  {
   "cell_type": "markdown",
   "metadata": {
    "id": "K35wqxY5jqEF"
   },
   "source": [
    "### Row selection\n",
    "You can retrieve specific rows from a DataFrame by using index notation and slicing as with Lists in Python:"
   ]
  },
  {
   "cell_type": "code",
   "execution_count": null,
   "metadata": {
    "id": "iy0w8jVijqEF"
   },
   "outputs": [],
   "source": [
    "df[0:1]"
   ]
  },
  {
   "cell_type": "code",
   "execution_count": null,
   "metadata": {
    "id": "53DoLdpbjqEF"
   },
   "outputs": [],
   "source": [
    "df[:3]"
   ]
  },
  {
   "cell_type": "markdown",
   "metadata": {
    "id": "VFuwlaWBjqEF"
   },
   "source": [
    "<div class=\"alert alert-block alert-success\">\n",
    "<b>Note:</b> Row selection syntax is used to select rows (e.g., df[:3]).\n",
    "    Passing the string name of a column selects columns (e.g., df[\"Age\"]). \n",
    "</div>"
   ]
  },
  {
   "cell_type": "markdown",
   "metadata": {
    "id": "JYK4jxChTJTq"
   },
   "source": [
    "---"
   ]
  },
  {
   "cell_type": "markdown",
   "metadata": {
    "id": "7xbiL2MWjqEi"
   },
   "source": [
    "# 🌟 Ready for the next one?\n",
    "<br>\n",
    "\n",
    "- [**Lesson 2: Dropping Rows and Columns**](Lesson_2_Dropping_Rows_and_Columns.ipynb)\n",
    "    \n",
    "- [**Lesson 3: Selecting and Filtering Rows and Columns**](Lesson_3_Selecting_and_Filtering_Rows_and_Columns.ipynb)\n",
    "\n",
    "- [**Lesson 4: Importing Data**](Lesson_4_Importing_Data.ipynb)\n",
    "\n",
    "- [**Lesson 5: Data Exploration**](Lesson_5_Data_Exploration.ipynb)\n",
    "\n",
    "- [**Lesson 6: Data Transformation**](Lesson_6_Data_Transformation.ipynb)\n",
    "\n",
    "- [**Lesson 7: Data Analysis**](Lesson_7_Data_Analysis.ipynb)"
   ]
  },
  {
   "cell_type": "markdown",
   "metadata": {
    "id": "XQjJMNajjqEi"
   },
   "source": [
    "---"
   ]
  },
  {
   "cell_type": "markdown",
   "metadata": {
    "id": "ofFv5_wLjqEi"
   },
   "source": [
    "# Contributions & acknowledgment"
   ]
  },
  {
   "cell_type": "markdown",
   "metadata": {
    "id": "S6sMkfBZjqEi"
   },
   "source": [
    "Thanks Antony Ross for contributing the content for this notebook."
   ]
  },
  {
   "cell_type": "markdown",
   "metadata": {
    "id": "UkjIXqd6jqEj"
   },
   "source": [
    "---"
   ]
  },
  {
   "cell_type": "markdown",
   "metadata": {
    "id": "T2FtRP-ojqEj"
   },
   "source": [
    "Copyright (c) 2022 Stanford Data Ocean (SDO)\n",
    "\n",
    "All rights reserved."
   ]
  }
 ],
 "metadata": {
  "colab": {
   "collapsed_sections": [
    "mPtzwInOjqDz",
    "0T9LqEdOjqD0",
    "FRcW0xE_jqD3",
    "LqyfvQ13jqD7",
    "FpFaEhJkjqD_",
    "RQ3go6DQjqD_",
    "34X-hFBdjqEA",
    "GQptwfLQjqEB",
    "lMdrRCS3jqEC",
    "K35wqxY5jqEF",
    "NVOBFIqFjqEG",
    "PmqDlIrhjqEJ",
    "qH7E8nD6jqEL",
    "e5OolRl9jqEO",
    "gfxW3q76jqEQ",
    "T3kyrzWKjqEQ",
    "F311SzJ5jqES",
    "dmR0v2p7jqET",
    "Czu3M1PrjqET",
    "VvVw_sIljqET",
    "r6_3TXJajqEU",
    "uR1baOi3jqEV",
    "bmnoI-B4jqEW",
    "_GXCR6vTjqEX",
    "_Flz7TcQjqEX",
    "7rsDdb6KjqEe",
    "MYqNTn4GjqEY",
    "cEbx9hk7jqEZ",
    "Ry8wr_S4jqEa",
    "j7_k4-XljqEa",
    "5HThXgW-jqEb",
    "ApKr_PUojqEb",
    "Xmxigv4fjqEb",
    "ZDz1solsjqEc",
    "7F4HRA0gjqEd",
    "oZ6VUmhPjqEd",
    "DYK47tZkjqEe",
    "748nTIC1jqEf",
    "_oRXMVm7jqEf",
    "Q3-L58rYjqEg",
    "iBl37Q12jqEg",
    "QT4bYAsBjqEg",
    "zZg-5iBNjqEh",
    "CTa0L3BkjqEh",
    "qbh-ZnPzjqEh"
   ],
   "provenance": []
  },
  "kernelspec": {
   "display_name": "Python 3 (ipykernel)",
   "language": "python",
   "name": "python3"
  },
  "language_info": {
   "codemirror_mode": {
    "name": "ipython",
    "version": 3
   },
   "file_extension": ".py",
   "mimetype": "text/x-python",
   "name": "python",
   "nbconvert_exporter": "python",
   "pygments_lexer": "ipython3",
   "version": "3.10.12"
  }
 },
 "nbformat": 4,
 "nbformat_minor": 1
}
