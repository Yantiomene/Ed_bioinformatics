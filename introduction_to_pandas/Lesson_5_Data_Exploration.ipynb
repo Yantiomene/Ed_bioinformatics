{
 "cells": [
  {
   "cell_type": "markdown",
   "metadata": {
    "id": "TPa01c7amAIa"
   },
   "source": [
    "<img src=\"materials/images/introduction-to-pandas-cover.png\"/>"
   ]
  },
  {
   "cell_type": "markdown",
   "metadata": {
    "id": "_IWMwaOx7iuV"
   },
   "source": [
    "\n",
    "# 👋 Welcome, before you start\n",
    "<br>\n",
    "\n",
    "### 📚 Module overview\n",
    "\n",
    "This module introduces you to the pandas library for working with structured data. Pandas is powerful and expressive, and it's one of the primary reasons that Python has become a leading option for doing data science. Pandas provides data structures and intuitive capabilities for performing fast and easy **data cleaning, preparation, manipulation, aggregation, and sophisticated analysis**. \n",
    "\n",
    "We will go through seven lessons with you:\n",
    "\n",
    "- [**Lesson 1: Pandas Data Structures**](Lesson_1_Pandas_Data_Structures.ipynb)\n",
    "\n",
    "- [**Lesson 2: Dropping Rows and Columns**](Lesson_2_Dropping_Rows_and_Columns.ipynb)\n",
    "\n",
    "- [**Lesson 3: Selecting and Filtering Rows and Columns**](Lesson_3_Selecting_and_Filtering_Rows_and_Columns.ipynb)\n",
    "\n",
    "- [**Lesson 4: Importing Data**](Lesson_4_Importing_Data.ipynb)\n",
    "\n",
    "- <font color=#E98300>**Lesson 5: Data Exploration**</font>    `📍You are here.`\n",
    "\n",
    "- [**Lesson 6: Data Transformation**](Lesson_6_Data_Transformation.ipynb)\n",
    "\n",
    "- [**Lesson 7: Data Analysis**](Lesson_7_Data_Analysis.ipynb)\n",
    "    \n",
    "</br>\n",
    "\n",
    "### ✅ Exercises\n",
    "We encourage you to try the exercise questions in this module, and use the [**solutions to the exercises**](Exercise_solutions.ipynb) to help you study.\n",
    "\n",
    "</br>\n",
    "\n",
    "<div class=\"alert alert-block alert-info\">\n",
    "<h3>⌨️ Keyboard shortcut</h3>\n",
    "\n",
    "These common shortcut could save your time going through this notebook:\n",
    "- Run the current cell: **`Enter + Shift`**.\n",
    "- Add a cell above the current cell: Press **`A`**.\n",
    "- Add a cell below the current cell: Press **`B`**.\n",
    "- Change a code cell to markdown cell: Select the cell, and then press **`M`**.\n",
    "- Delete a cell: Press **`D`** twice.\n",
    "\n",
    "Need more help with keyboard shortcut? Press **`H`** to look it up.\n",
    "</div>"
   ]
  },
  {
   "cell_type": "markdown",
   "metadata": {
    "id": "Ze7cplti7iuW"
   },
   "source": [
    "---"
   ]
  },
  {
   "cell_type": "markdown",
   "metadata": {
    "id": "QHYzEZ6p7iuX"
   },
   "source": [
    "# Lesson 5: Data Exploration"
   ]
  },
  {
   "cell_type": "markdown",
   "metadata": {
    "id": "VKQ0HcMV7iuY"
   },
   "source": [
    "We are going to go through these concepts in this module:\n",
    "\n",
    "- [Descriptive and summary statistics](#Descriptive-and-summary-statistics)\n",
    "- [Correlation](#Correlation)\n",
    "\n",
    "`🕒 This module should take about 20 minutes to complete.`\n",
    "\n",
    "`✍️ This notebook is written using Python.`"
   ]
  },
  {
   "cell_type": "markdown",
   "metadata": {
    "id": "uR1baOi3jqEV"
   },
   "source": [
    "## Descriptive and summary statistics"
   ]
  },
  {
   "cell_type": "code",
   "execution_count": null,
   "metadata": {
    "id": "vk92DANCxliL"
   },
   "outputs": [],
   "source": [
    "import pandas as pd"
   ]
  },
  {
   "cell_type": "code",
   "execution_count": null,
   "metadata": {
    "id": "qOXxDwXdXODL"
   },
   "outputs": [],
   "source": [
    "df = pd.read_csv(\"data/heart_disease.csv\")"
   ]
  },
  {
   "cell_type": "code",
   "execution_count": null,
   "metadata": {
    "id": "RLHLA3fUjqEV"
   },
   "outputs": [],
   "source": [
    "# The describe() method displays the descriptive statistics about a DataFrame including the mean, median, min,\n",
    "# max and quartile values for each numerical column.\n",
    "\n",
    "df.describe()"
   ]
  },
  {
   "cell_type": "code",
   "execution_count": null,
   "metadata": {
    "id": "vwVMg0XYjqEV"
   },
   "outputs": [],
   "source": [
    "# You can also call individual methods on a column (Series object) to get a particular descriptive value\n",
    "# for that column:\n",
    "\n",
    "df[\"age\"].min()\n",
    "# df[\"chol\"].mean()"
   ]
  },
  {
   "cell_type": "markdown",
   "metadata": {
    "id": "bmnoI-B4jqEW"
   },
   "source": [
    "## ✅ Exercise 1\n",
    "Display the average values for max_hr and rest_bp. "
   ]
  },
  {
   "cell_type": "code",
   "execution_count": null,
   "metadata": {
    "id": "af6uJfN9jqEW"
   },
   "outputs": [],
   "source": []
  },
  {
   "cell_type": "markdown",
   "metadata": {
    "id": "6SFyBXcAjqEW"
   },
   "source": [
    "---"
   ]
  },
  {
   "cell_type": "markdown",
   "metadata": {
    "id": "z3Z0-xqTjqEW"
   },
   "source": [
    "<div class=\"alert alert-block alert-info\">\n",
    "<b>Tip:</b> To view a summary of non-numerical (categorical) columns, you should set the \"include\" parameter of the describe method equal to \"object\". In pandas, categorical variables are of type \"object\". \n",
    "    \n",
    "    For example:  df.describe(include=\"object\")\n",
    "\n",
    "The summary will include the top occurring category for each column along with its frequency. \n",
    "</div>"
   ]
  },
  {
   "cell_type": "code",
   "execution_count": null,
   "metadata": {
    "id": "EXloCgNEjqEW"
   },
   "outputs": [],
   "source": [
    "df.describe(include=\"object\")"
   ]
  },
  {
   "cell_type": "code",
   "execution_count": null,
   "metadata": {
    "id": "Gxd_B1L8jqEW",
    "scrolled": true
   },
   "outputs": [],
   "source": [
    "df[\"sex\"].describe()"
   ]
  },
  {
   "cell_type": "markdown",
   "metadata": {
    "id": "UlsqfPtljqEX"
   },
   "source": [
    "<div class=\"alert alert-block alert-success\">\n",
    "<b>Note:</b> If the describe() method is called on a categorical column (as above), then include=\"object\" is assumed and thus does not need to be passed to the method. </div>"
   ]
  },
  {
   "cell_type": "markdown",
   "metadata": {
    "id": "_GXCR6vTjqEX"
   },
   "source": [
    "### info()\n",
    "The info() method displays information about a DataFrame including column data type (dtype) and non-null values."
   ]
  },
  {
   "cell_type": "code",
   "execution_count": null,
   "metadata": {
    "id": "SPkoxHARjqEX"
   },
   "outputs": [],
   "source": [
    "df.info()"
   ]
  },
  {
   "cell_type": "markdown",
   "metadata": {
    "id": "otIy6Bi-TJTb"
   },
   "source": [
    "<div class=\"alert alert-block alert-success\">\n",
    "    <b>Note:</b> Using the <b>info()</b> method can be a valuable way to determine if there are any missing values in our dataset. Above, note that info() indicates that the dataset has <b>\"303 entries\"</b>. Also, note that it indicates that each column has <b>\"303 non-null\"</b> values. A \"null\" value indicates a missing value, so the above suggests that there are no missing values in the dataset. Further, info() helpfully provides information about the datatype (Dtype) of each column.</div>"
   ]
  },
  {
   "cell_type": "markdown",
   "metadata": {
    "id": "_Flz7TcQjqEX"
   },
   "source": [
    "### Displaying the unique values"
   ]
  },
  {
   "cell_type": "code",
   "execution_count": null,
   "metadata": {
    "id": "erHI9_1EjqEY"
   },
   "outputs": [],
   "source": [
    "# The Series object's (a single column) unique() method will return the column's unique values.\n",
    "\n",
    "df[\"target\"].unique()"
   ]
  },
  {
   "cell_type": "code",
   "execution_count": null,
   "metadata": {
    "id": "hTrCrAuIjqEY"
   },
   "outputs": [],
   "source": [
    "# A Series object (single column) can be passed into Python's built-in set() function \n",
    "#   to see the column's unique values.\n",
    "\n",
    "set(df[\"target\"])"
   ]
  },
  {
   "cell_type": "markdown",
   "metadata": {
    "id": "5GzVeEQyjqEY"
   },
   "source": [
    "<div class=\"alert alert-block alert-success\">\n",
    "<b>Note:</b> The unique() method tends to be faster. Python's set() function can be a little slower primarily because it sorts the returned values, which can be helpful in locating a specific category when there are a lot of distinct values within a given column. </div>"
   ]
  },
  {
   "cell_type": "markdown",
   "metadata": {
    "id": "kv1e0pu8TJTc"
   },
   "source": [
    "<div class=\"alert alert-block alert-info\">\n",
    "<b>Uses</b>: We often need to convert categorical variable names into numbers for data analysis and machine learning, so being able to determine the number of unique values within a column can be helpful.  For example, knowing that there are only two categories within a column, as shown above, we would know that we could perhaps convert <b>'Yes'</b> to 1 and <b>'No'</b> to 0, when numbers are required. If we hadn't determined the unique values with the column, perhaps we could have missed that there was a <b>'Maybe'</b> option that also needed to be converted. <div>"
   ]
  },
  {
   "cell_type": "markdown",
   "metadata": {
    "id": "7rsDdb6KjqEe"
   },
   "source": [
    "## ✅ Exercise 2\n",
    "Display the unique values for the variable \"chest_pain\"."
   ]
  },
  {
   "cell_type": "code",
   "execution_count": null,
   "metadata": {
    "id": "EH0TTJGOjqEe"
   },
   "outputs": [],
   "source": []
  },
  {
   "cell_type": "markdown",
   "metadata": {
    "id": "-Mz1Oh6ZTJTd"
   },
   "source": [
    "---"
   ]
  },
  {
   "cell_type": "markdown",
   "metadata": {
    "id": "MYqNTn4GjqEY"
   },
   "source": [
    "## Correlation\n",
    "The DataFrame's corr() method will display the pairwise correlations among the DataFrame's columns."
   ]
  },
  {
   "cell_type": "code",
   "execution_count": null,
   "metadata": {
    "id": "TGJSr-hjjqEY"
   },
   "outputs": [],
   "source": [
    "df.corr(numeric_only=True)"
   ]
  },
  {
   "cell_type": "markdown",
   "metadata": {
    "id": "lbFiS26cTJTd"
   },
   "source": [
    "<div class=\"alert alert-block alert-info\">\n",
    "<b>Uses</b>: \n",
    "    \n",
    "    It's important to be able to interpret correlation coefficients. \n",
    "    In general, the degree of correlation is as follows:\n",
    "\n",
    "<b>Perfect</b>: If the value is near ± 1, then as one variable increases, the other variable tends to also increase (if positive) or decrease (if negative).\n",
    "    \n",
    "<b>High</b>: If the value lies between ± 0.50 and ± 1, then it is said to be a strong correlation.\n",
    "    \n",
    "<b>Moderate</b>: If the value lies between ± 0.30 and ± 0.49, then it is said to be a moderate correlation.\n",
    "    \n",
    "<b>Low</b>: When the value lies between ± .29 and 0, then it is said to be a small correlation.\n",
    "    \n",
    "<b>No correlation</b>: When the value is zero there is no correlation between the variables.<div>\n",
    "    \n",
    "    \n",
    "   \n",
    "    Correlation is a very valuable tool when performing data analysis. We will discuss this in more detail  in subsequent modules that cover data analysis. "
   ]
  },
  {
   "cell_type": "code",
   "execution_count": null,
   "metadata": {
    "id": "kmzioRc0jqEZ"
   },
   "outputs": [],
   "source": [
    "# You also can select specific columns of interest and use the corr() method to see the pairwise correlations.\n",
    "\n",
    "df[[\"age\", \"max_hr\"]].corr()"
   ]
  },
  {
   "cell_type": "markdown",
   "metadata": {
    "id": "EVcbW4urjqEZ"
   },
   "source": [
    "<div class=\"alert alert-block alert-success\">\n",
    "<b>Note:</b> Identifying correlations among the columns (independent variables) in a dataset can be very important.  This is known as <b>collinearity</b> and can be detrimental to training a machine learning model.</div>"
   ]
  },
  {
   "cell_type": "markdown",
   "metadata": {
    "id": "cEbx9hk7jqEZ"
   },
   "source": [
    "## ✅ Exercise 3\n",
    "Display the correlation between max_hr and chest_pain."
   ]
  },
  {
   "cell_type": "code",
   "execution_count": null,
   "metadata": {
    "id": "8bKiGIt9jqEZ"
   },
   "outputs": [],
   "source": []
  },
  {
   "cell_type": "markdown",
   "metadata": {
    "id": "_Nnj6gtLjqEZ"
   },
   "source": [
    "---"
   ]
  },
  {
   "cell_type": "markdown",
   "metadata": {
    "id": "Ry8wr_S4jqEa"
   },
   "source": [
    "## Sorting\n",
    "The DataFrame's sort_values() method takes a \"by\" parameter to indicate which column the DataFrame should be sorted by:\n",
    "\n",
    "\n"
   ]
  },
  {
   "cell_type": "code",
   "execution_count": null,
   "metadata": {
    "id": "u0-C6O0ijqEa"
   },
   "outputs": [],
   "source": [
    "df.sort_values(by=\"age\").head()"
   ]
  },
  {
   "cell_type": "markdown",
   "metadata": {
    "id": "EYAAwUPcTJTe"
   },
   "source": [
    "<div class=\"alert alert-block alert-warning\">\n",
    "<b>Alert:</b> By default, sort_values() will sort the values from <b>smallest to largest</b>.\n",
    "</div>"
   ]
  },
  {
   "cell_type": "markdown",
   "metadata": {
    "id": "OG4RulgojqEa"
   },
   "source": [
    "<div class=\"alert alert-block alert-warning\">\n",
    "<b>Alert:</b> Remember, when modifying a DataFrame, pandas typically returns a copy so that the original DataFrame is unchanged. To transfer the modification to the original Dataframe, you can either set the original Dataframe (df) equal to what pandas returns:\n",
    "\n",
    "    df = df.sort_values(by=\"age\")\n",
    "\n",
    "Or you can set the method's \"inplace\" parameter to True so that the Dataframe itself is changed:\n",
    "    \n",
    "    df.sort_values(by=\"age\", inplace=True)\n",
    "    \n",
    "</div>"
   ]
  },
  {
   "cell_type": "code",
   "execution_count": null,
   "metadata": {
    "id": "MyfysL50jqEa"
   },
   "outputs": [],
   "source": [
    "# Setting the \"ascending\" parameter of the sort_values() method to False will sort the values in descending order:\n",
    "\n",
    "df.sort_values(by=\"age\", ascending=False).head()"
   ]
  },
  {
   "cell_type": "markdown",
   "metadata": {
    "id": "iVktITdgTJTf"
   },
   "source": [
    "<div class=\"alert alert-block alert-warning\">\n",
    "<b>Alert:</b> To sort the values from <b>largest to smallest</b>, you can set the \"ascending\" parameter of the sort_values() method to  <b>False</b>.\n",
    "</div>"
   ]
  },
  {
   "cell_type": "markdown",
   "metadata": {
    "id": "j7_k4-XljqEa"
   },
   "source": [
    "## ✅ Exercise 4\n",
    "Sort the DataFrame by max_hr in descending order."
   ]
  },
  {
   "cell_type": "code",
   "execution_count": null,
   "metadata": {
    "id": "nVAsgVC0jqEa"
   },
   "outputs": [],
   "source": []
  },
  {
   "cell_type": "markdown",
   "metadata": {
    "id": "CP6wlknSjqEb"
   },
   "source": [
    "---"
   ]
  },
  {
   "cell_type": "markdown",
   "metadata": {
    "id": "5HThXgW-jqEb"
   },
   "source": [
    "### We can also sort by requesting the \"nlargest\" or \"nsmallest\" of a given column:"
   ]
  },
  {
   "cell_type": "markdown",
   "metadata": {
    "id": "ApKr_PUojqEb"
   },
   "source": [
    "### Get the top n of a feature\n",
    "Use the nlargest() method to sort by a given column and display n number of rows. Pass in the value of n (the number of rows to display) and use the \"column\" parameter to indicate which row to sort by:\n",
    "\n",
    "\n"
   ]
  },
  {
   "cell_type": "code",
   "execution_count": null,
   "metadata": {
    "id": "CTwZ3cwZjqEb"
   },
   "outputs": [],
   "source": [
    "df[[\"age\", \"sex\", \"max_hr\"]].nlargest(10, columns=\"age\")"
   ]
  },
  {
   "cell_type": "markdown",
   "metadata": {
    "id": "Xmxigv4fjqEb"
   },
   "source": [
    "### Get the bottom n of a feature\n",
    "Use the nsmallest() method to sort by a given column and display n number of rows. Pass in the value of n (the number of rows to display) and use the \"column\" parameter to indicate which row to sort by:"
   ]
  },
  {
   "cell_type": "code",
   "execution_count": null,
   "metadata": {
    "id": "CWqPlFMDjqEb"
   },
   "outputs": [],
   "source": [
    "df[[\"age\", \"sex\", \"max_hr\"]].nsmallest(10, columns=[\"max_hr\"])"
   ]
  },
  {
   "cell_type": "markdown",
   "metadata": {
    "id": "6KIu5yKTjqEc"
   },
   "source": [
    "You can sort by multiple columns by passing in a list of the desired columns to sort by, in order:"
   ]
  },
  {
   "cell_type": "code",
   "execution_count": null,
   "metadata": {
    "id": "0kW8SqtljqEc"
   },
   "outputs": [],
   "source": [
    "df[[\"age\", \"sex\", \"max_hr\"]].nsmallest(10, columns=[\"max_hr\", \"age\"])"
   ]
  },
  {
   "cell_type": "markdown",
   "metadata": {
    "id": "JYK4jxChTJTq"
   },
   "source": [
    "---"
   ]
  },
  {
   "cell_type": "markdown",
   "metadata": {
    "id": "7xbiL2MWjqEi"
   },
   "source": [
    "# 🌟 Ready for the next one?\n",
    "<br>\n",
    "\n",
    "\n",
    "\n",
    "- [**Lesson 6: Data Transformation**](Lesson_6_Data_Transformation.ipynb)\n",
    "\n",
    "- [**Lesson 7: Data Analysis**](Lesson_7_Data_Analysis.ipynb)"
   ]
  },
  {
   "cell_type": "markdown",
   "metadata": {
    "id": "XQjJMNajjqEi"
   },
   "source": [
    "---"
   ]
  },
  {
   "cell_type": "markdown",
   "metadata": {
    "id": "ofFv5_wLjqEi"
   },
   "source": [
    "# Contributions & acknowledgment"
   ]
  },
  {
   "cell_type": "markdown",
   "metadata": {
    "id": "S6sMkfBZjqEi"
   },
   "source": [
    "Thanks Antony Ross for contributing the content for this notebook."
   ]
  },
  {
   "cell_type": "markdown",
   "metadata": {
    "id": "UkjIXqd6jqEj"
   },
   "source": [
    "---"
   ]
  },
  {
   "cell_type": "markdown",
   "metadata": {
    "id": "T2FtRP-ojqEj"
   },
   "source": [
    "Copyright (c) 2022 Stanford Data Ocean (SDO)\n",
    "\n",
    "All rights reserved."
   ]
  }
 ],
 "metadata": {
  "colab": {
   "collapsed_sections": [
    "_GXCR6vTjqEX",
    "_Flz7TcQjqEX",
    "7rsDdb6KjqEe",
    "cEbx9hk7jqEZ",
    "Ry8wr_S4jqEa",
    "j7_k4-XljqEa",
    "5HThXgW-jqEb",
    "ApKr_PUojqEb",
    "Xmxigv4fjqEb"
   ],
   "provenance": []
  },
  "kernelspec": {
   "display_name": "Python 3 (ipykernel)",
   "language": "python",
   "name": "python3"
  },
  "language_info": {
   "codemirror_mode": {
    "name": "ipython",
    "version": 3
   },
   "file_extension": ".py",
   "mimetype": "text/x-python",
   "name": "python",
   "nbconvert_exporter": "python",
   "pygments_lexer": "ipython3",
   "version": "3.10.12"
  }
 },
 "nbformat": 4,
 "nbformat_minor": 1
}
