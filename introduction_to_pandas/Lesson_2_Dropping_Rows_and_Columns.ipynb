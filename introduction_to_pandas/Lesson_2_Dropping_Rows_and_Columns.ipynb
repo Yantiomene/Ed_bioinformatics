{
 "cells": [
  {
   "cell_type": "markdown",
   "metadata": {
    "id": "TPa01c7amAIa"
   },
   "source": [
    "<img src=\"materials/images/introduction-to-pandas-cover.png\"/>"
   ]
  },
  {
   "cell_type": "markdown",
   "metadata": {
    "id": "VO1ktbKE7F9R"
   },
   "source": [
    "\n",
    "# 👋 Welcome, before you start\n",
    "<br>\n",
    "\n",
    "### 📚 Module overview\n",
    "\n",
    "This module introduces you to the pandas library for working with structured data. Pandas is powerful and expressive, and it's one of the primary reasons that Python has become a leading option for doing data science. Pandas provides data structures and intuitive capabilities for performing fast and easy **data cleaning, preparation, manipulation, aggregation, and sophisticated analysis**. \n",
    "\n",
    "We will go through seven lessons with you:\n",
    "\n",
    "- [**Lesson 1: Pandas Data Structures**](Lesson_1_Pandas_Data_Structures.ipynb)\n",
    "\n",
    "- <font color=#E98300>**Lesson 2 Dropping Rows and Columns**</font>    `📍You are here.`\n",
    "    \n",
    "- [**Lesson 3: Selecting and Filtering Rows and Columns**](Lesson_3_Selecting_and_Filtering_Rows_and_Columns.ipynb)\n",
    "\n",
    "- [**Lesson 4: Importing Data**](Lesson_4_Importing_Data.ipynb)\n",
    "\n",
    "- [**Lesson 5: Data Exploration**](Lesson_5_Data_Exploration.ipynb)\n",
    "\n",
    "- [**Lesson 6: Data Transformation**](Lesson_6_Data_Transformation.ipynb)\n",
    "\n",
    "- [**Lesson 7: Data Analysis**](Lesson_7_Data_Analysis.ipynb)\n",
    "    \n",
    "</br>\n",
    "\n",
    "### ✅ Exercises\n",
    "We encourage you to try the exercise questions in this module, and use the [**solutions to the exercises**](Exercise_solutions.ipynb) to help you study.\n",
    "\n",
    "</br>\n",
    "\n",
    "<div class=\"alert alert-block alert-info\">\n",
    "<h3>⌨️ Keyboard shortcut</h3>\n",
    "\n",
    "These common shortcut could save your time going through this notebook:\n",
    "- Run the current cell: **`Enter + Shift`**.\n",
    "- Add a cell above the current cell: Press **`A`**.\n",
    "- Add a cell below the current cell: Press **`B`**.\n",
    "- Change a code cell to markdown cell: Select the cell, and then press **`M`**.\n",
    "- Delete a cell: Press **`D`** twice.\n",
    "\n",
    "Need more help with keyboard shortcut? Press **`H`** to look it up.\n",
    "</div>"
   ]
  },
  {
   "cell_type": "markdown",
   "metadata": {
    "id": "TMu7RSQz7F9S"
   },
   "source": [
    "---"
   ]
  },
  {
   "cell_type": "markdown",
   "metadata": {
    "id": "Morhe65M7F9T"
   },
   "source": [
    "# Lesson 2: Dropping Rows and Columns"
   ]
  },
  {
   "cell_type": "markdown",
   "metadata": {
    "id": "SCm5YgnW7F9T"
   },
   "source": [
    "We are going to go through these concepts in this module:"
   ]
  },
  {
   "cell_type": "markdown",
   "metadata": {
    "id": "PYaqAoqgjqDp"
   },
   "source": [
    "- [Dropping rows](#Dropping-rows)\n",
    "- [Dropping columns](#Dropping-columns)\n",
    "\n",
    "`🕒 This module should take about 10 minutes to complete.`\n",
    "\n",
    "`✍️ This notebook is written using Python.`"
   ]
  },
  {
   "cell_type": "markdown",
   "metadata": {
    "id": "WQRtcb7sjqEG"
   },
   "source": [
    "You can use the drop() method on the DataFrame to drop entries. Adding the desired axis will determine whether rows or columns will be dropped. There are two axes in pandas:\n",
    "\n",
    "- Axis 0 indicates that you intend to drop a row. \n",
    "- Axis 1 indicates that you intend to drop a column."
   ]
  },
  {
   "cell_type": "code",
   "execution_count": null,
   "metadata": {
    "id": "eBgdM3r9xWkJ"
   },
   "outputs": [],
   "source": [
    "import pandas as pd"
   ]
  },
  {
   "cell_type": "code",
   "execution_count": null,
   "metadata": {
    "id": "tzPTFu4LVwZr"
   },
   "outputs": [],
   "source": [
    "data = {\"Name\": [\"Tim Miller\", \"Ann Carter\", \"Ellen Lee\", \"Sam Carr\", \"Al Ball\", \"Carl Zee\", \"Sara Martin\"], \n",
    "        \"Gender\": [\"Male\", \"Female\", \"Female\", \"Male\", \"Male\", \"Male\", \"Female\"],\n",
    "        \"Age\": [32, 44, 21, 19, 45, 27, 39]}"
   ]
  },
  {
   "cell_type": "code",
   "execution_count": null,
   "metadata": {
    "id": "b5E1OMRgjqEG"
   },
   "outputs": [],
   "source": [
    "# Resetting the DataFrame\n",
    "\n",
    "df = pd.DataFrame(data)\n",
    "df"
   ]
  },
  {
   "cell_type": "markdown",
   "metadata": {
    "id": "NVOBFIqFjqEG"
   },
   "source": [
    "## Dropping  rows"
   ]
  },
  {
   "cell_type": "code",
   "execution_count": null,
   "metadata": {
    "id": "DIhsyaIfjqEH"
   },
   "outputs": [],
   "source": [
    "# Row with index 6 will be dropped\n",
    "\n",
    "df.drop(6, axis = 0)"
   ]
  },
  {
   "cell_type": "markdown",
   "metadata": {
    "id": "THeAn_ZaTJTI"
   },
   "source": [
    "<div class=\"alert alert-block alert-warning\">\n",
    "<b>Alert:</b> Axis = 0 indicates that you intend for <b>rows</b> to be dropped. In the example above, you are indicating that you would like for the row at index position 6 to be dropped. Using axis = 1 would indicate that you intend for <b>columns</b> to be dropped. For example, you could type `df.drop(\"Age\", axis = 1). This would indicate that you intend to drop the column 'Age'. Using any other value other than 0 or 1 for axis will return an error. Alternatively, you could use 'df.drop(index = 6)' to drop the row at index position 6. And you could use 'df.drop(columns = \"Age\")' to drop the column 'Age'. </div>"
   ]
  },
  {
   "cell_type": "markdown",
   "metadata": {
    "id": "X9QDdAQBjqEH"
   },
   "source": [
    "Note that drop() returns a copy of the DataFrame so that the original DataFrame (df) remains unmodified:"
   ]
  },
  {
   "cell_type": "code",
   "execution_count": null,
   "metadata": {
    "id": "6Z0eRz38jqEH"
   },
   "outputs": [],
   "source": [
    "# Original DataFrame is unmodified.\n",
    "\n",
    "df"
   ]
  },
  {
   "cell_type": "markdown",
   "metadata": {
    "id": "fne8wj2WjqEI"
   },
   "source": [
    "<div class=\"alert alert-block alert-success\">\n",
    "<b>Remember:</b> By default, when modifications are made to a DataFrame, pandas returns a copy, leaving the original DataFrame unmodified. If you would like for the changes to be reflected in the original DataFrame (df), then you can set the original DataFrame (df) equivalent to the returned copy following the drop, as demonstrated below. </div>"
   ]
  },
  {
   "cell_type": "code",
   "execution_count": null,
   "metadata": {
    "id": "QtCRemKdjqEI"
   },
   "outputs": [],
   "source": [
    "# The returned copy replaces the original DataFrame so that df is now modified.\n",
    "\n",
    "df = df.drop(6, axis = 0)\n",
    "\n",
    "df"
   ]
  },
  {
   "cell_type": "markdown",
   "metadata": {
    "id": "L2UT6CubjqEI"
   },
   "source": [
    "<div class=\"alert alert-block alert-success\">\n",
    "<b>Note:</b> If you prefer to just have the DataFrame modify itself in place rather than return a copy of itself, then you can set the drop method's <b>\"inplace\"</b> parameter to <b>True</b>, as shown below:<div>  \n",
    "    \n",
    "```python\n",
    "df.drop(6, axis=0, inplace=True)\n",
    "```"
   ]
  },
  {
   "cell_type": "markdown",
   "metadata": {
    "id": "ggEaaazYTJTM"
   },
   "source": [
    "<div class=\"alert alert-block alert-warning\">\n",
    "    <b>Alert:</b> Be careful when making changes <b>\"inplace\"</b>. Inplace changes modify the original data and the only way to get it back is by reimporting it. Alternatively, by working with a copy, you can easily return to the original DataFrame when circumstances require it without needing to reimport data.</div>"
   ]
  },
  {
   "cell_type": "code",
   "execution_count": null,
   "metadata": {
    "id": "a2nwBmSDjqEI"
   },
   "outputs": [],
   "source": [
    "# Resetting the DataFrame\n",
    "\n",
    "df = pd.DataFrame(data)\n",
    "df"
   ]
  },
  {
   "cell_type": "markdown",
   "metadata": {
    "id": "j5t1Ua5NjqEJ"
   },
   "source": [
    "Alternatively, instead of setting the axis parameter to 0, you can set the drop method's `index` parameter which signals that rows will be dropped:"
   ]
  },
  {
   "cell_type": "code",
   "execution_count": null,
   "metadata": {
    "id": "Fcymn1IEjqEJ"
   },
   "outputs": [],
   "source": [
    "df = df.drop(index = [3, 6])\n",
    "\n",
    "df"
   ]
  },
  {
   "cell_type": "markdown",
   "metadata": {
    "id": "Ara8fzeoTJTO"
   },
   "source": [
    "<div class=\"alert alert-block alert-warning\">\n",
    "<b>Alert:</b> If you would like for more than one row or column to be dropped, then you must put them in a list, as shown above. </div>"
   ]
  },
  {
   "cell_type": "markdown",
   "metadata": {
    "id": "PmqDlIrhjqEJ"
   },
   "source": [
    "## Dropping columns"
   ]
  },
  {
   "cell_type": "code",
   "execution_count": null,
   "metadata": {
    "id": "4YnvkccPjqEJ"
   },
   "outputs": [],
   "source": [
    "# # By setting the axis to 1, the column with the name \"Age\" will be dropped.\n",
    "\n",
    "df = df.drop(\"Age\", axis = 1)\n",
    "df"
   ]
  },
  {
   "cell_type": "code",
   "execution_count": null,
   "metadata": {
    "id": "ILUdnMZJjqEK"
   },
   "outputs": [],
   "source": [
    "# Resetting the DataFrame\n",
    "\n",
    "df = pd.DataFrame(data)\n",
    "df"
   ]
  },
  {
   "cell_type": "markdown",
   "metadata": {
    "id": "bkJJWUDIjqEK"
   },
   "source": [
    "Alternatively, instead of setting the axis parameter to 1, you can set the drop method's `columns` parameter which signals that columns will be dropped:"
   ]
  },
  {
   "cell_type": "code",
   "execution_count": null,
   "metadata": {
    "id": "UqR8rHs-jqEK"
   },
   "outputs": [],
   "source": [
    "# Columns \"Gender\" and \"Age\" will be dropped.\n",
    "\n",
    "df = df.drop(columns = [\"Gender\", \"Age\"])\n",
    "\n",
    "df"
   ]
  },
  {
   "cell_type": "markdown",
   "metadata": {
    "id": "W2vHC7W2jqEK"
   },
   "source": [
    "<div class=\"alert alert-block alert-warning\">\n",
    "<b>Alert:</b> To drop more than one row or column, you must place the entries within a list.</div>"
   ]
  },
  {
   "cell_type": "markdown",
   "metadata": {
    "id": "JYK4jxChTJTq"
   },
   "source": [
    "---"
   ]
  },
  {
   "cell_type": "markdown",
   "metadata": {
    "id": "7xbiL2MWjqEi"
   },
   "source": [
    "# 🌟 Ready for the next one?\n",
    "<br>\n",
    "\n",
    "    \n",
    "- [**Lesson 3: Selecting and Filtering Rows and Columns**](Lesson_3_Selecting_and_Filtering_Rows_and_Columns.ipynb)\n",
    "\n",
    "- [**Lesson 4: Importing Data**](Lesson_4_Importing_Data.ipynb)\n",
    "\n",
    "- [**Lesson 5: Data Exploration**](Lesson_5_Data_Exploration.ipynb)\n",
    "\n",
    "- [**Lesson 6: Data Transformation**](Lesson_6_Data_Transformation.ipynb)\n",
    "\n",
    "- [**Lesson 7: Data Analysis**](Lesson_7_Data_Analysis.ipynb)"
   ]
  },
  {
   "cell_type": "markdown",
   "metadata": {
    "id": "XQjJMNajjqEi"
   },
   "source": [
    "---"
   ]
  },
  {
   "cell_type": "markdown",
   "metadata": {
    "id": "ofFv5_wLjqEi"
   },
   "source": [
    "# Contributions & acknowledgment"
   ]
  },
  {
   "cell_type": "markdown",
   "metadata": {
    "id": "S6sMkfBZjqEi"
   },
   "source": [
    "Thanks Antony Ross for contributing the content for this notebook."
   ]
  },
  {
   "cell_type": "markdown",
   "metadata": {
    "id": "UkjIXqd6jqEj"
   },
   "source": [
    "---"
   ]
  },
  {
   "cell_type": "markdown",
   "metadata": {
    "id": "T2FtRP-ojqEj"
   },
   "source": [
    "Copyright (c) 2022 Stanford Data Ocean (SDO)\n",
    "\n",
    "All rights reserved."
   ]
  }
 ],
 "metadata": {
  "colab": {
   "collapsed_sections": [
    "NVOBFIqFjqEG",
    "PmqDlIrhjqEJ"
   ],
   "provenance": []
  },
  "kernelspec": {
   "display_name": "Python 3 (ipykernel)",
   "language": "python",
   "name": "python3"
  },
  "language_info": {
   "codemirror_mode": {
    "name": "ipython",
    "version": 3
   },
   "file_extension": ".py",
   "mimetype": "text/x-python",
   "name": "python",
   "nbconvert_exporter": "python",
   "pygments_lexer": "ipython3",
   "version": "3.10.12"
  }
 },
 "nbformat": 4,
 "nbformat_minor": 1
}
