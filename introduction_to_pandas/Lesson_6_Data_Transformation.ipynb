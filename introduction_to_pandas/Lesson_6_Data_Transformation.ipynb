{
 "cells": [
  {
   "cell_type": "markdown",
   "metadata": {
    "id": "TPa01c7amAIa"
   },
   "source": [
    "<img src=\"materials/images/introduction-to-pandas-cover.png\"/>"
   ]
  },
  {
   "cell_type": "markdown",
   "metadata": {
    "id": "xoLM9Wzh7jXH"
   },
   "source": [
    "\n",
    "# 👋 Welcome, before you start\n",
    "<br>\n",
    "\n",
    "### 📚 Module overview\n",
    "\n",
    "This module introduces you to the pandas library for working with structured data. Pandas is powerful and expressive, and it's one of the primary reasons that Python has become a leading option for doing data science. Pandas provides data structures and intuitive capabilities for performing fast and easy **data cleaning, preparation, manipulation, aggregation, and sophisticated analysis**. \n",
    "\n",
    "We will go through seven lessons with you:\n",
    "\n",
    "- [**Lesson 1: Pandas Data Structures**](Lesson_1_Pandas_Data_Structures.ipynb)\n",
    "\n",
    "- [**Lesson 2: Dropping Rows and Columns**](Lesson_2_Dropping_Rows_and_Columns.ipynb)\n",
    "\n",
    "- [**Lesson 3: Selecting and Filtering Rows and Columns**](Lesson_3_Selecting_and_Filtering_Rows_and_Columns.ipynb)\n",
    "\n",
    "- [**Lesson 4: Importing Data**](Lesson_4_Importing_Data.ipynb)\n",
    "\n",
    "- [**Lesson 5: Data Exploration**](Lesson_5_Data_Exploration.ipynb)\n",
    "\n",
    "- <font color=#E98300>**Lesson 6: Data Transformation**</font>    `📍You are here.`\n",
    "\n",
    "- [**Lesson 7: Data Analysis**](Lesson_7_Data_Analysis.ipynb)\n",
    "    \n",
    "</br>\n",
    "\n",
    "### ✅ Exercises\n",
    "We encourage you to try the exercise questions in this module, and use the [**solutions to the exercises**](Exercise_solutions.ipynb) to help you study.\n",
    "\n",
    "\n",
    "</br>\n",
    "\n",
    "<div class=\"alert alert-block alert-info\">\n",
    "<h3>⌨️ Keyboard shortcut</h3>\n",
    "\n",
    "These common shortcut could save your time going through this notebook:\n",
    "- Run the current cell: **`Enter + Shift`**.\n",
    "- Add a cell above the current cell: Press **`A`**.\n",
    "- Add a cell below the current cell: Press **`B`**.\n",
    "- Change a code cell to markdown cell: Select the cell, and then press **`M`**.\n",
    "- Delete a cell: Press **`D`** twice.\n",
    "\n",
    "Need more help with keyboard shortcut? Press **`H`** to look it up.\n",
    "</div>"
   ]
  },
  {
   "cell_type": "markdown",
   "metadata": {
    "id": "MN67mrzN7jXI"
   },
   "source": [
    "---"
   ]
  },
  {
   "cell_type": "markdown",
   "metadata": {
    "id": "8mg3g3_g7jXJ"
   },
   "source": [
    "# Lesson 6: Data Transformation"
   ]
  },
  {
   "cell_type": "markdown",
   "metadata": {
    "id": "BiZumQ547jXK"
   },
   "source": [
    "We are going to go through these concepts in this module:\n",
    "\n",
    "- [Rename a column](#Rename-a-column)\n",
    "- [Tranform categorical variables to numbers](#Tranform-categorical-variables-to-numbers)\n",
    "\n",
    "\n",
    "`🕒 This module should take about 10 minutes to complete.`\n",
    "\n",
    "`✍️ This notebook is written using Python.`"
   ]
  },
  {
   "cell_type": "code",
   "execution_count": null,
   "metadata": {
    "id": "AU3BPylvx5r9"
   },
   "outputs": [],
   "source": [
    "import pandas as pd"
   ]
  },
  {
   "cell_type": "code",
   "execution_count": null,
   "metadata": {
    "id": "8k9gDaAkjqEc"
   },
   "outputs": [],
   "source": [
    "# The original heart disease dataset.\n",
    "\n",
    "df = pd.read_csv(\"data/heart_disease.csv\")\n",
    "df.head()"
   ]
  },
  {
   "cell_type": "markdown",
   "metadata": {
    "id": "7F4HRA0gjqEd"
   },
   "source": [
    "## Rename a column\n",
    "When working with a dataset, it can helpful if the column (feature) names are clearly understood. For example, even though the target variable (what we are trying to learn to predict) is whether an individual has heart disease, the name \"target\" may not be very clear, especially to others who may be less familiar with the data set. Thus, renaming the column to \"heart disease\" may be helpful.\n",
    "\n",
    "The DataFrame's `rename()` method uses a column parameter. Set the column parameter equal to a dictionary representing the present column name paired with the name that you would like the column renamed to: "
   ]
  },
  {
   "cell_type": "code",
   "execution_count": null,
   "metadata": {
    "id": "2rQFMRiFjqEd"
   },
   "outputs": [],
   "source": [
    "df = df.rename(columns={\"target\":\"heart_disease\"})\n",
    "df.head()"
   ]
  },
  {
   "cell_type": "markdown",
   "metadata": {
    "id": "DCWU1-k8jqEd"
   },
   "source": [
    "---"
   ]
  },
  {
   "cell_type": "markdown",
   "metadata": {
    "id": "oZ6VUmhPjqEd"
   },
   "source": [
    "## Transform categorical variables to numbers\n",
    "Most machine learning algorithms require numbers, so it can be imperative to convert all categorical variables to numerical representations.\n",
    "\n",
    "The DataFrame's map() method takes a dictionary of pairs representing the present value paired with the desired transformed value:"
   ]
  },
  {
   "cell_type": "code",
   "execution_count": null,
   "metadata": {
    "id": "ug0j7bUbTJTi"
   },
   "outputs": [],
   "source": [
    "df.head()"
   ]
  },
  {
   "cell_type": "code",
   "execution_count": null,
   "metadata": {
    "id": "Dq1UFXUyjqEe"
   },
   "outputs": [],
   "source": [
    "df[\"sex\"] = df[\"sex\"].map({\"Male\":0, \"Female\":1})\n",
    "df.head()"
   ]
  },
  {
   "cell_type": "markdown",
   "metadata": {
    "id": "9GcAq0A_jqEe"
   },
   "source": [
    "<div class=\"alert alert-block alert-warning\">\n",
    "<b>Alert:</b> Remember, a copy is returned so we set the existing column equal to the transformed values. \n",
    "</div>"
   ]
  },
  {
   "cell_type": "markdown",
   "metadata": {
    "id": "DYK47tZkjqEe"
   },
   "source": [
    "## ✅ Exercise 5\n",
    "Transform the target variable \"heart_disease\" to numbers. Transform \"No\" to 0 and \"Yes\" to 1."
   ]
  },
  {
   "cell_type": "code",
   "execution_count": null,
   "metadata": {
    "id": "2I2wW4OUjqEe"
   },
   "outputs": [],
   "source": []
  },
  {
   "cell_type": "markdown",
   "metadata": {
    "id": "VGOPRUw-TJTi"
   },
   "source": [
    "<div class=\"alert alert-block alert-warning\">\n",
    "<b>Alert:</b> It is extremely useful to confirm a column's unique values prior to tranformation. It can clarify spelling and whether uppercase or lowercase was used. And, importantly, it can expose hidden spaces preceding or following a value.\n",
    "    \n",
    "    (e.g. \" yes\", \" No \")\n",
    "</div>"
   ]
  },
  {
   "cell_type": "markdown",
   "metadata": {
    "id": "JYK4jxChTJTq"
   },
   "source": [
    "---"
   ]
  },
  {
   "cell_type": "markdown",
   "metadata": {
    "id": "7xbiL2MWjqEi"
   },
   "source": [
    "# 🌟 Ready for the next one?\n",
    "<br>\n",
    "\n",
    "\n",
    "\n",
    "- [**Lesson 7: Data Analysis**](Lesson_7_Data_Analysis.ipynb)"
   ]
  },
  {
   "cell_type": "markdown",
   "metadata": {
    "id": "XQjJMNajjqEi"
   },
   "source": [
    "---"
   ]
  },
  {
   "cell_type": "markdown",
   "metadata": {
    "id": "ofFv5_wLjqEi"
   },
   "source": [
    "# Contributions & acknowledgment"
   ]
  },
  {
   "cell_type": "markdown",
   "metadata": {
    "id": "S6sMkfBZjqEi"
   },
   "source": [
    "Thanks Antony Ross for contributing the content for this notebook."
   ]
  },
  {
   "cell_type": "markdown",
   "metadata": {
    "id": "UkjIXqd6jqEj"
   },
   "source": [
    "---"
   ]
  },
  {
   "cell_type": "markdown",
   "metadata": {
    "id": "T2FtRP-ojqEj"
   },
   "source": [
    "Copyright (c) 2022 Stanford Data Ocean (SDO)\n",
    "\n",
    "All rights reserved."
   ]
  }
 ],
 "metadata": {
  "colab": {
   "collapsed_sections": [
    "7F4HRA0gjqEd",
    "oZ6VUmhPjqEd",
    "DYK47tZkjqEe"
   ],
   "provenance": []
  },
  "kernelspec": {
   "display_name": "Python 3 (ipykernel)",
   "language": "python",
   "name": "python3"
  },
  "language_info": {
   "codemirror_mode": {
    "name": "ipython",
    "version": 3
   },
   "file_extension": ".py",
   "mimetype": "text/x-python",
   "name": "python",
   "nbconvert_exporter": "python",
   "pygments_lexer": "ipython3",
   "version": "3.10.12"
  }
 },
 "nbformat": 4,
 "nbformat_minor": 1
}
