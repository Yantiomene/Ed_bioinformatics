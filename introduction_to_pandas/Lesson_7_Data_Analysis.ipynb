{
 "cells": [
  {
   "cell_type": "markdown",
   "metadata": {
    "id": "TPa01c7amAIa"
   },
   "source": [
    "<img src=\"materials/images/introduction-to-pandas-cover.png\"/>"
   ]
  },
  {
   "cell_type": "markdown",
   "metadata": {
    "id": "Usri3fci7kgd"
   },
   "source": [
    "\n",
    "# 👋 Welcome, before you start\n",
    "<br>\n",
    "\n",
    "### 📚 Module overview\n",
    "\n",
    "This module introduces you to the pandas library for working with structured data. Pandas is powerful and expressive, and it's one of the primary reasons that Python has become a leading option for doing data science. Pandas provides data structures and intuitive capabilities for performing fast and easy **data cleaning, preparation, manipulation, aggregation, and sophisticated analysis**.\n",
    "\n",
    "We will go through seven lessons with you:\n",
    "\n",
    "- [**Lesson 1: Pandas Data Structures**](Lesson_1_Pandas_Data_Structures.ipynb)\n",
    "\n",
    "- [**Lesson 2: Dropping Rows and Columns**](Lesson_2_Dropping_Rows_and_Columns.ipynb)\n",
    "\n",
    "- [**Lesson 3: Selecting and Filtering Rows and Columns**](Lesson_3_Selecting_and_Filtering_Rows_and_Columns.ipynb)\n",
    "\n",
    "- [**Lesson 4: Importing Data**](Lesson_4_Importing_Data.ipynb)\n",
    "\n",
    "- [**Lesson 5: Data Exploration**](Lesson_5_Data_Exploration.ipynb)\n",
    "\n",
    "- [**Lesson 6: Data Transformation**](Lesson_6_Data_Transformation.ipynb)\n",
    "\n",
    "- <font color=#E98300>**Lesson 7: Data Analysis**</font>    `📍You are here.`\n",
    "    \n",
    "</br>\n",
    "\n",
    "\n",
    "### ✅ Exercises\n",
    "We encourage you to try the exercise questions in this module, and use the [**solutions to the exercises**](Exercise_solutions.ipynb) to help you study.\n",
    "\n",
    "</br>\n",
    "\n",
    "\n",
    "<div class=\"alert alert-block alert-info\">\n",
    "<h3>⌨️ Keyboard shortcut</h3>\n",
    "\n",
    "These common shortcut could save your time going through this notebook:\n",
    "- Run the current cell: **`Enter + Shift`**.\n",
    "- Add a cell above the current cell: Press **`A`**.\n",
    "- Add a cell below the current cell: Press **`B`**.\n",
    "- Change a code cell to markdown cell: Select the cell, and then press **`M`**.\n",
    "- Delete a cell: Press **`D`** twice.\n",
    "\n",
    "Need more help with keyboard shortcut? Press **`H`** to look it up.\n",
    "</div>"
   ]
  },
  {
   "cell_type": "markdown",
   "metadata": {
    "id": "LpKL7qzR7kgf"
   },
   "source": [
    "---"
   ]
  },
  {
   "cell_type": "markdown",
   "metadata": {
    "id": "cBo8AA-b7kgg"
   },
   "source": [
    "# Lesson 7: Data Analysis"
   ]
  },
  {
   "cell_type": "markdown",
   "metadata": {
    "id": "lZ9JriZH7kgg"
   },
   "source": [
    "We are going to go through these concepts in this module:\n",
    "\n",
    "- [Conditional selection](#Conditional-selection)\n",
    "- [Multiple conditions](#Multiple-conditions)\n",
    "\n",
    "`🕒 This module should take about 10 minutes to complete.`\n",
    "\n",
    "`✍️ This notebook is written using Python.`"
   ]
  },
  {
   "cell_type": "code",
   "execution_count": null,
   "metadata": {
    "id": "t6XhhA_QyB7i"
   },
   "outputs": [],
   "source": [
    "import pandas as pd"
   ]
  },
  {
   "cell_type": "code",
   "execution_count": null,
   "metadata": {
    "id": "lf6xoCYbjqEf"
   },
   "outputs": [],
   "source": [
    "# We renamed the \"target\" column to \"heart_disease\" column in Lesson 6. Here, we will do this again.\n",
    "\n",
    "df = pd.read_csv(\"data/heart_disease.csv\")\n",
    "df = df.rename(columns={\"target\":\"heart_disease\"})\n",
    "df[\"sex\"] = df[\"sex\"].map({\"Male\":0, \"Female\":1})\n",
    "\n",
    "# Preview the heart disease dataset.\n",
    "\n",
    "df.head()"
   ]
  },
  {
   "cell_type": "markdown",
   "metadata": {
    "id": "748nTIC1jqEf"
   },
   "source": [
    "## Conditional selection"
   ]
  },
  {
   "cell_type": "code",
   "execution_count": null,
   "metadata": {
    "id": "cvkcdHIYjqEf"
   },
   "outputs": [],
   "source": [
    "# Asking each value in the column \"sex\" whether it is equivalent to 1 (\"Female\"):\n",
    "\n",
    "df[\"sex\"]==1"
   ]
  },
  {
   "cell_type": "markdown",
   "metadata": {
    "id": "8pMKhufWjqEf"
   },
   "source": [
    "<div class=\"alert alert-block alert-warning\">\n",
    "<b>Alert:</b> Conditional (boolean) selection is a question and always returns either True or False. This result can be placed within the square brackets of a DataFrame, using .loc, and only the rows that were True will be returned.\n",
    "</div>"
   ]
  },
  {
   "cell_type": "markdown",
   "metadata": {
    "id": "_oRXMVm7jqEf"
   },
   "source": [
    "### Use booleans for row selection\n",
    "(Review the use of [.loc](#Using-loc) if needed.)\n",
    "\n",
    "*Select the rows where the column \"sex\" is equivalent to 1 (\"Female\"). Then display just the column \"age\"*:"
   ]
  },
  {
   "cell_type": "code",
   "execution_count": null,
   "metadata": {
    "id": "PPikvLRwjqEf"
   },
   "outputs": [],
   "source": [
    "df.loc[df[\"sex\"]==1, \"age\"]"
   ]
  },
  {
   "cell_type": "markdown",
   "metadata": {
    "id": "Q3-L58rYjqEg"
   },
   "source": [
    "### count()\n",
    "The `count()` method displays the number of rows that are included in a selection.\n",
    "\n",
    "*Get the rows where the column chest_pain is equivalent to 3. Return only the column \"sex\", and display the number of rows returned*:"
   ]
  },
  {
   "cell_type": "code",
   "execution_count": null,
   "metadata": {
    "id": "m_psppJNjqEg"
   },
   "outputs": [],
   "source": [
    "# Use count() to get the number of rows (returned) in a selection.\n",
    "\n",
    "df.loc[df[\"chest_pain\"]== 3, \"sex\"].count()"
   ]
  },
  {
   "cell_type": "markdown",
   "metadata": {
    "id": "iBl37Q12jqEg"
   },
   "source": [
    "### value_counts()\n",
    "The `value_counts()` method displays the itemized counts of each category within a column. In other words, it breaks the column down into its individual categories then sums by category. For example, if the column \"sex\" contained the values [M, F, F, M, F, M, F, F], value_counts() would return that there are 5 of the category F and 3 of the category M:\n",
    "\n",
    "    F 5\n",
    "    M 3\n",
    "\n",
    "*Get the rows where the column chest_pain is equivalent to 3. Return only the column \"sex\", and itemize the number of rows returned by gender*:"
   ]
  },
  {
   "cell_type": "code",
   "execution_count": null,
   "metadata": {
    "id": "vVYpmUTDjqEg"
   },
   "outputs": [],
   "source": [
    "# Use value_counts() to get the count of each unique category within a column.\n",
    "\n",
    "df.loc[df[\"chest_pain\"]== 3, \"sex\"].value_counts()"
   ]
  },
  {
   "cell_type": "markdown",
   "metadata": {
    "id": "QT4bYAsBjqEg"
   },
   "source": [
    "## ✅ Exercise 6\n",
    "Display how many people had heart disease in this dataset."
   ]
  },
  {
   "cell_type": "code",
   "execution_count": null,
   "metadata": {
    "id": "30myfCdgjqEg"
   },
   "outputs": [],
   "source": []
  },
  {
   "cell_type": "markdown",
   "metadata": {
    "id": "ts0sxkbXjqEh"
   },
   "source": [
    "---"
   ]
  },
  {
   "cell_type": "markdown",
   "metadata": {
    "id": "zZg-5iBNjqEh"
   },
   "source": [
    "## Multiple conditions\n",
    "\n",
    "Using `.loc`, you can set multiple conditions for a query. The ampersand (&) means \"and\" and the pipe symbol (|) means \"or\"."
   ]
  },
  {
   "cell_type": "markdown",
   "metadata": {
    "id": "CTa0L3BkjqEh"
   },
   "source": [
    "### And (&) operation\n",
    "*Get the rows where the column \"sex\" is equivalent to 1 (\"Female\") **AND** where the column \"max_hr\" is greater than the average \"max_hr\". Return only the column \"sex\", and display the number of rows returned*:"
   ]
  },
  {
   "cell_type": "code",
   "execution_count": null,
   "metadata": {
    "id": "mxGSasr7jqEh"
   },
   "outputs": [],
   "source": [
    "mean_max_heart_rate = df[\"max_hr\"].mean()\n",
    "\n",
    "df.loc[(df[\"sex\"]== 1) & (df[\"max_hr\"] > mean_max_heart_rate), \"sex\"].count()"
   ]
  },
  {
   "cell_type": "markdown",
   "metadata": {
    "id": "qbh-ZnPzjqEh"
   },
   "source": [
    "### Or ( | ) operation\n",
    "*Get the rows where the column \"chest_pain\" is equivalent to 0 **OR** the column \"age\" is greater than 60; **AND**, from among those rows, get the rows where the column \"sex\" is equivalent to 0 (\"Male\"). Return only the column \"heart disease\", and display the itemized count of how many did and did not have heart disease*:"
   ]
  },
  {
   "cell_type": "code",
   "execution_count": null,
   "metadata": {
    "id": "9tuhJsoQjqEh"
   },
   "outputs": [],
   "source": [
    "df.loc[((df[\"chest_pain\"] == 0) | (df[\"age\"] > 60)) &\n",
    "        (df[\"sex\"] == 0), \"heart_disease\"].value_counts()"
   ]
  },
  {
   "cell_type": "markdown",
   "metadata": {
    "id": "_gNM4eCIjqEi"
   },
   "source": [
    "<div class=\"alert alert-block alert-warning\">\n",
    "<b>Alert:</b> Because of precedence and the order of operations, it's important to place parentheses around each condition to clarify the desired order of operations.\n",
    "</div>"
   ]
  },
  {
   "cell_type": "markdown",
   "metadata": {
    "id": "7zDANiKyjqEi"
   },
   "source": [
    "## ✅ Exercise 7\n",
    "Get the rows where the column \"max_hr\" is less than 120 OR the column \"chol\" is greater than 300; AND, from among those rows, get the rows where the column \"sex\" is equivalent to 1 (\"Female\"). Then display the itemized count of the patients who had and did not have heart disease."
   ]
  },
  {
   "cell_type": "code",
   "execution_count": null,
   "metadata": {
    "id": "1q4UDQaajqEi"
   },
   "outputs": [],
   "source": []
  },
  {
   "cell_type": "markdown",
   "metadata": {
    "id": "JYK4jxChTJTq"
   },
   "source": [
    "---"
   ]
  },
  {
   "cell_type": "markdown",
   "metadata": {
    "id": "7xbiL2MWjqEi"
   },
   "source": [
    "# 🌟 You are done!\n",
    "<br>\n",
    "Review previous lessons often to consolidate the learnings.\n",
    "\n",
    "\n",
    "- [**Lesson 1: Pandas Data Structures**](Lesson_1_Pandas_Data_Structures.ipynb)\n",
    "\n",
    "- [**Lesson 2: Dropping Rows and Columns**](Lesson_2_Dropping_Rows_and_Columns.ipynb)\n",
    "\n",
    "- [**Lesson 3: Selecting and Filtering Rows and Columns**](Lesson_3_Selecting_and_Filtering_Rows_and_Columns.ipynb)\n",
    "\n",
    "- [**Lesson 4: Importing Data**](Lesson_4_Importing_Data.ipynb)\n",
    "\n",
    "- [**Lesson 5: Data Exploration**](Lesson_5_Data_Exploration.ipynb)\n",
    "\n",
    "- [**Lesson 6: Data Transformation**](Lesson_6_Data_Transformation.ipynb)"
   ]
  },
  {
   "cell_type": "markdown",
   "metadata": {
    "id": "XQjJMNajjqEi"
   },
   "source": [
    "---"
   ]
  },
  {
   "cell_type": "markdown",
   "metadata": {
    "id": "ofFv5_wLjqEi"
   },
   "source": [
    "# Contributions & acknowledgment"
   ]
  },
  {
   "cell_type": "markdown",
   "metadata": {
    "id": "S6sMkfBZjqEi"
   },
   "source": [
    "Thanks Antony Ross for contributing the content for this notebook."
   ]
  },
  {
   "cell_type": "markdown",
   "metadata": {
    "id": "UkjIXqd6jqEj"
   },
   "source": [
    "---"
   ]
  },
  {
   "cell_type": "markdown",
   "metadata": {
    "id": "T2FtRP-ojqEj"
   },
   "source": [
    "Copyright (c) 2022 Stanford Data Ocean (SDO)\n",
    "\n",
    "All rights reserved."
   ]
  }
 ],
 "metadata": {
  "colab": {
   "collapsed_sections": [
    "748nTIC1jqEf",
    "_oRXMVm7jqEf",
    "Q3-L58rYjqEg",
    "iBl37Q12jqEg",
    "QT4bYAsBjqEg",
    "zZg-5iBNjqEh",
    "CTa0L3BkjqEh",
    "qbh-ZnPzjqEh"
   ],
   "provenance": []
  },
  "kernelspec": {
   "display_name": "Python 3 (ipykernel)",
   "language": "python",
   "name": "python3"
  },
  "language_info": {
   "codemirror_mode": {
    "name": "ipython",
    "version": 3
   },
   "file_extension": ".py",
   "mimetype": "text/x-python",
   "name": "python",
   "nbconvert_exporter": "python",
   "pygments_lexer": "ipython3",
   "version": "3.10.12"
  }
 },
 "nbformat": 4,
 "nbformat_minor": 1
}
