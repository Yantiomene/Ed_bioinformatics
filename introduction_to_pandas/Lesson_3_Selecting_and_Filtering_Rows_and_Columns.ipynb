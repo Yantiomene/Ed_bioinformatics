{
 "cells": [
  {
   "cell_type": "markdown",
   "metadata": {
    "id": "TPa01c7amAIa"
   },
   "source": [
    "<img src=\"materials/images/introduction-to-pandas-cover.png\"/>"
   ]
  },
  {
   "cell_type": "markdown",
   "metadata": {
    "id": "HWPjuek07HHh"
   },
   "source": [
    "\n",
    "# 👋 Welcome, before you start\n",
    "<br>\n",
    "\n",
    "### 📚 Module overview\n",
    "\n",
    "This module introduces you to the pandas library for working with structured data. Pandas is powerful and expressive, and it's one of the primary reasons that Python has become a leading option for doing data science. Pandas provides data structures and intuitive capabilities for performing fast and easy **data cleaning, preparation, manipulation, aggregation, and sophisticated analysis**. \n",
    "\n",
    "We will go through seven lessons with you:\n",
    "\n",
    "- [**Lesson 1: Pandas Data Structures**](Lesson_1_Pandas_Data_Structures.ipynb)\n",
    "\n",
    "- [**Lesson 2: Dropping Rows and Columns**](Lesson_2_Dropping_Rows_and_Columns.ipynb)\n",
    "\n",
    "- <font color=#E98300>**Lesson 3: Selecting and Filtering Rows and Columns**</font>    `📍You are here.`\n",
    "\n",
    "- [**Lesson 4: Importing Data**](Lesson_4_Importing_Data.ipynb)\n",
    "\n",
    "- [**Lesson 5: Data Exploration**](Lesson_5_Data_Exploration.ipynb)\n",
    "\n",
    "- [**Lesson 6: Data Transformation**](Lesson_6_Data_Transformation.ipynb)\n",
    "\n",
    "- [**Lesson 7: Data Analysis**](Lesson_7_Data_Analysis.ipynb)\n",
    "    \n",
    "</br>\n",
    "\n",
    "\n",
    "### ✅ Exercises\n",
    "We encourage you to try the exercise questions in this module, and use the [**solutions to the exercises**](Exercise_solutions.ipynb) to help you study.\n",
    "\n",
    "</br>\n",
    "\n",
    "<div class=\"alert alert-block alert-info\">\n",
    "<h3>⌨️ Keyboard shortcut</h3>\n",
    "\n",
    "These common shortcut could save your time going through this notebook:\n",
    "- Run the current cell: **`Enter + Shift`**.\n",
    "- Add a cell above the current cell: Press **`A`**.\n",
    "- Add a cell below the current cell: Press **`B`**.\n",
    "- Change a code cell to markdown cell: Select the cell, and then press **`M`**.\n",
    "- Delete a cell: Press **`D`** twice.\n",
    "\n",
    "Need more help with keyboard shortcut? Press **`H`** to look it up.\n",
    "</div>"
   ]
  },
  {
   "cell_type": "markdown",
   "metadata": {
    "id": "Eaan1qod7HHi"
   },
   "source": [
    "---"
   ]
  },
  {
   "cell_type": "markdown",
   "metadata": {
    "id": "EFHpQ4ez7HHj"
   },
   "source": [
    "# Lesson 3: Selecting and Filtering Rows and Columns"
   ]
  },
  {
   "cell_type": "markdown",
   "metadata": {
    "id": "Hg7pOgVw7HHj"
   },
   "source": [
    "We are going to go through these concepts in this module:"
   ]
  },
  {
   "cell_type": "markdown",
   "metadata": {
    "id": "PYaqAoqgjqDp"
   },
   "source": [
    "- [Using loc](#Using-loc)\n",
    "- [Using iloc](#Using-iloc)\n",
    "- [Setting values](#Setting-values)\n",
    "\n",
    "\n",
    "`🕒 This module should take about 20 minutes to complete.`\n",
    "\n",
    "`✍️ This notebook is written using Python.`"
   ]
  },
  {
   "cell_type": "markdown",
   "metadata": {
    "id": "psGwh_p_jqEL"
   },
   "source": [
    "### Using `loc` and `iloc` to select a subset of the rows and columns within the DataFrame."
   ]
  },
  {
   "cell_type": "code",
   "execution_count": null,
   "metadata": {
    "id": "BKKcSozExasc"
   },
   "outputs": [],
   "source": [
    "import pandas as pd"
   ]
  },
  {
   "cell_type": "code",
   "execution_count": null,
   "metadata": {
    "id": "5slm8NjMjqEL"
   },
   "outputs": [],
   "source": [
    "# Create a new DataFrame\n",
    "\n",
    "sample_data = [\n",
    "                [0,1,2,3,4,5,6,7,8,9],\n",
    "                [10,11,12,13,14,15,16,17,18,19],\n",
    "                [20,21,22,23,24,25,26,27,28,29],\n",
    "                [30,31,32,33,34,35,36,37,38,39],\n",
    "                [40,41,42,43,44,45,46,47,48,49],\n",
    "                [50,51,52,53,54,55,56,57,58,59],\n",
    "                [70,71,72,73,74,75,76,77,78,79],\n",
    "                [80,81,82,83,84,85,86,87,88,89],\n",
    "                [90,91,92,93,94,95,96,97,98,99],\n",
    "              ]\n",
    "\n",
    "data = pd.DataFrame(data = sample_data, columns = ['a', 'b', 'c', 'd', 'e', 'f', 'g', 'h', 'i', 'j'])\n",
    "data"
   ]
  },
  {
   "cell_type": "markdown",
   "metadata": {
    "id": "qH7E8nD6jqEL"
   },
   "source": [
    "## Using loc\n",
    "Using `loc` (short for location) allows you to select a subset of the rows and columns **using the label/name of the row/column**. If the rows were not given labels (named), then their index position is their label.\n",
    "\n",
    "Within the square brackets, the selection preceding the (optional) comma refers to the rows you would like selected. Following the (optional) comma is the selection referring to the desired columns. The selection is inclusive of the end position."
   ]
  },
  {
   "cell_type": "markdown",
   "metadata": {
    "id": "JM8B0BK_jqEL"
   },
   "source": [
    "*Selecting the rows 0 through (and including) 5, and the column \"b\"*:"
   ]
  },
  {
   "cell_type": "code",
   "execution_count": null,
   "metadata": {
    "id": "X07ZLOtojqEM"
   },
   "outputs": [],
   "source": [
    "# .loc indicates that you're selecting by using the label (inclusive) of the row and column.\n",
    "\n",
    "data.loc[:5, \"b\"]"
   ]
  },
  {
   "cell_type": "code",
   "execution_count": null,
   "metadata": {
    "id": "8kmz7iPsjqEM"
   },
   "outputs": [],
   "source": [
    "# The comma is optional. No comma assumes all columns will be returned.\n",
    "\n",
    "data.loc[:5]"
   ]
  },
  {
   "cell_type": "markdown",
   "metadata": {
    "id": "vAVFk5_PjqEM"
   },
   "source": [
    "<div class=\"alert alert-block alert-success\">\n",
    "<b>Note:</b> If no comma follows the row selection then all columns are returned. </div>"
   ]
  },
  {
   "cell_type": "markdown",
   "metadata": {
    "id": "8nTWkX1sjqEN"
   },
   "source": [
    "*Selecting the rows 6 through to the end of the DataFrame, and the columns \"a\" through \"e\" (inclusive)*:"
   ]
  },
  {
   "cell_type": "code",
   "execution_count": null,
   "metadata": {
    "id": "3ninieoKjqEN"
   },
   "outputs": [],
   "source": [
    "data.loc[6:, 'a':'e']     # consecutive (loc selection is inclusive)"
   ]
  },
  {
   "cell_type": "markdown",
   "metadata": {
    "id": "IVIi7tQTjqEN"
   },
   "source": [
    "*Selecting all of the rows of the DataFrame, and the columns \"c\", \"f\" and \"i\" (in that order)*:"
   ]
  },
  {
   "cell_type": "code",
   "execution_count": null,
   "metadata": {
    "id": "t8am7jVRjqEN"
   },
   "outputs": [],
   "source": [
    "data.loc[:, ['c', 'f', 'i']]     # not consecutive"
   ]
  },
  {
   "cell_type": "markdown",
   "metadata": {
    "id": "pKP0VixkjqEN"
   },
   "source": [
    "<div class=\"alert alert-block alert-warning\">\n",
    "<b>Alert:</b> When selecting by label, the end point (stopping position) is included, for both rows and columns.</div>"
   ]
  },
  {
   "cell_type": "markdown",
   "metadata": {
    "id": "e5OolRl9jqEO"
   },
   "source": [
    "## Using iloc\n",
    "Using `iloc` allows you to select a subset of the rows and columns **using their index position**. Thus, only integers can be used.\n",
    "\n",
    "Within the square brackets, the selection preceding the (optional) comma refers to the rows you would like selected. Following the (optional) comma is the selection referring to the desired columns. The selections will **_not_** include the end position."
   ]
  },
  {
   "cell_type": "markdown",
   "metadata": {
    "id": "WLqCSC4LjqEO"
   },
   "source": [
    "*Selecting the rows from the beginning of the DataFrame (the first row) through to index position 5 (but not including index position 5). Then, selecting the columns located at index positions 2 through 5 (but not including index 5)*:"
   ]
  },
  {
   "cell_type": "code",
   "execution_count": null,
   "metadata": {
    "id": "oaWId-drjqEO"
   },
   "outputs": [],
   "source": [
    "# iloc indicates that you're selecting by using the index position (exclusive) of the rows and columns.\n",
    "\n",
    "data.iloc[:5, 2:5]"
   ]
  },
  {
   "cell_type": "markdown",
   "metadata": {
    "id": "zYB4HyKQjqEO"
   },
   "source": [
    "<div class=\"alert alert-block alert-warning\">\n",
    "<b>Alert:</b> When selecting by index position (location), the end point (stopping position) is NOT included.</div>"
   ]
  },
  {
   "cell_type": "markdown",
   "metadata": {
    "id": "n6CwbsJcjqEP"
   },
   "source": [
    "*Selecting the rows from the beginning of the DataFrame (the first row) through to index position 5 (but not including index position 5). No comma following the row selection assumes that all columns will be returned*:"
   ]
  },
  {
   "cell_type": "code",
   "execution_count": null,
   "metadata": {
    "id": "MXF-FsGijqEP"
   },
   "outputs": [],
   "source": [
    "data.iloc[:5]  # No comma assumes all of the columns will be returned."
   ]
  },
  {
   "cell_type": "markdown",
   "metadata": {
    "id": "aH5RB_BmjqEP"
   },
   "source": [
    "*Selecting rows at index 5, 0 and 3 (in that order). Then selecting columns located at index 9, 5 and 0 (in that order)*:"
   ]
  },
  {
   "cell_type": "code",
   "execution_count": null,
   "metadata": {
    "id": "Hmy2fG_qjqEP"
   },
   "outputs": [],
   "source": [
    "data.iloc[[5, 0, 3], [9, 5, 0]]  # Returns rows and columns in the order listed."
   ]
  },
  {
   "cell_type": "markdown",
   "metadata": {
    "id": "gfxW3q76jqEQ"
   },
   "source": [
    "## Setting values\n",
    "You can modify values within a DataFrame by first selecting the rows and columns to be changed, and then setting that selection to the desired value:"
   ]
  },
  {
   "cell_type": "code",
   "execution_count": null,
   "metadata": {
    "id": "2hgTTsVEjqEQ"
   },
   "outputs": [],
   "source": [
    "# View the original DataFrame.\n",
    "\n",
    "data"
   ]
  },
  {
   "cell_type": "markdown",
   "metadata": {
    "id": "T3kyrzWKjqEQ"
   },
   "source": [
    "#### Using loc\n",
    "*Select the rows where column \"j\" is greater than 50 (indicated by everything before the comma). Then, just select column \"j\" (indicated by what follows the comma). Now, set those values equal to 100*:"
   ]
  },
  {
   "cell_type": "code",
   "execution_count": null,
   "metadata": {
    "id": "I1_JzEPPjqER"
   },
   "outputs": [],
   "source": [
    "data.loc[data[\"j\"] > 50, 'j'] = 100\n",
    "\n",
    "data"
   ]
  },
  {
   "cell_type": "markdown",
   "metadata": {
    "id": "F311SzJ5jqES"
   },
   "source": [
    "#### Using iloc\n",
    "*Select the rows with index positions 5 through 8, but not including 8 (indicated by everything before the comma). Then, just select the column at index position 0, the first column (indicated by what follows the comma). Now, set those values equal to -100*:"
   ]
  },
  {
   "cell_type": "code",
   "execution_count": null,
   "metadata": {
    "id": "KC8xmDDNjqES"
   },
   "outputs": [],
   "source": [
    "data.iloc[5:8, 0] = -100\n",
    "\n",
    "data"
   ]
  },
  {
   "cell_type": "markdown",
   "metadata": {
    "id": "JYK4jxChTJTq"
   },
   "source": [
    "---"
   ]
  },
  {
   "cell_type": "markdown",
   "metadata": {
    "id": "7xbiL2MWjqEi"
   },
   "source": [
    "# 🌟 Ready for the next one?\n",
    "<br>\n",
    "\n",
    "\n",
    "- [**Lesson 4: Importing Data**](Lesson_4_Importing_Data.ipynb)\n",
    "\n",
    "- [**Lesson 5: Data Exploration**](Lesson_5_Data_Exploration.ipynb)\n",
    "\n",
    "- [**Lesson 6: Data Transformation**](Lesson_6_Data_Transformation.ipynb)\n",
    "\n",
    "- [**Lesson 7: Data Analysis**](Lesson_7_Data_Analysis.ipynb)"
   ]
  },
  {
   "cell_type": "markdown",
   "metadata": {
    "id": "XQjJMNajjqEi"
   },
   "source": [
    "---"
   ]
  },
  {
   "cell_type": "markdown",
   "metadata": {
    "id": "ofFv5_wLjqEi"
   },
   "source": [
    "# Contributions & acknowledgment"
   ]
  },
  {
   "cell_type": "markdown",
   "metadata": {
    "id": "S6sMkfBZjqEi"
   },
   "source": [
    "Thanks Antony Ross for contributing the content for this notebook."
   ]
  },
  {
   "cell_type": "markdown",
   "metadata": {
    "id": "UkjIXqd6jqEj"
   },
   "source": [
    "---"
   ]
  },
  {
   "cell_type": "markdown",
   "metadata": {
    "id": "T2FtRP-ojqEj"
   },
   "source": [
    "Copyright (c) 2022 Stanford Data Ocean (SDO)\n",
    "\n",
    "All rights reserved."
   ]
  }
 ],
 "metadata": {
  "colab": {
   "collapsed_sections": [
    "qH7E8nD6jqEL",
    "e5OolRl9jqEO",
    "gfxW3q76jqEQ",
    "T3kyrzWKjqEQ",
    "F311SzJ5jqES"
   ],
   "provenance": []
  },
  "kernelspec": {
   "display_name": "Python 3 (ipykernel)",
   "language": "python",
   "name": "python3"
  },
  "language_info": {
   "codemirror_mode": {
    "name": "ipython",
    "version": 3
   },
   "file_extension": ".py",
   "mimetype": "text/x-python",
   "name": "python",
   "nbconvert_exporter": "python",
   "pygments_lexer": "ipython3",
   "version": "3.10.12"
  }
 },
 "nbformat": 4,
 "nbformat_minor": 1
}
