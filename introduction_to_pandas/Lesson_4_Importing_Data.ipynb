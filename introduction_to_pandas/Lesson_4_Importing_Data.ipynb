{
 "cells": [
  {
   "cell_type": "markdown",
   "metadata": {
    "id": "TPa01c7amAIa"
   },
   "source": [
    "<img src=\"materials/images/introduction-to-pandas-cover.png\"/>"
   ]
  },
  {
   "cell_type": "markdown",
   "metadata": {
    "id": "8qILg3Cz7h5a"
   },
   "source": [
    "\n",
    "# 👋 Welcome, before you start\n",
    "<br>\n",
    "\n",
    "### 📚 Module overview\n",
    "\n",
    "This module introduces you to the pandas library for working with structured data. Pandas is powerful and expressive, and it's one of the primary reasons that Python has become a leading option for doing data science. Pandas provides data structures and intuitive capabilities for performing fast and easy **data cleaning, preparation, manipulation, aggregation, and sophisticated analysis**. \n",
    "\n",
    "We will go through seven lessons with you:\n",
    "\n",
    "- [**Lesson 1: Pandas Data Structures**](Lesson_1_Pandas_Data_Structures.ipynb)\n",
    "\n",
    "- [**Lesson 2: Dropping Rows and Columns**](Lesson_2_Dropping_Rows_and_Columns.ipynb)\n",
    "\n",
    "- [**Lesson 3: Selecting and Filtering Rows and Columns**](Lesson_3_Selecting_and_Filtering_Rows_and_Columns.ipynb)\n",
    "\n",
    "- <font color=#E98300>**Lesson 4: Importing Data**</font>    `📍You are here.`\n",
    "\n",
    "- [**Lesson 5: Data Exploration**](Lesson_5_Data_Exploration.ipynb)\n",
    "\n",
    "- [**Lesson 6: Data Transformation**](Lesson_6_Data_Transformation.ipynb)\n",
    "\n",
    "- [**Lesson 7: Data Analysis**](Lesson_7_Data_Analysis.ipynb)\n",
    "    \n",
    "</br>\n",
    "\n",
    "### ✅ Exercises\n",
    "We encourage you to try the exercise questions in this module, and use the [**solutions to the exercises**](Exercise_solutions.ipynb) to help you study.\n",
    "\n",
    "</br>\n",
    "\n",
    "\n",
    "<div class=\"alert alert-block alert-info\">\n",
    "<h3>⌨️ Keyboard shortcut</h3>\n",
    "\n",
    "These common shortcut could save your time going through this notebook:\n",
    "- Run the current cell: **`Enter + Shift`**.\n",
    "- Add a cell above the current cell: Press **`A`**.\n",
    "- Add a cell below the current cell: Press **`B`**.\n",
    "- Change a code cell to markdown cell: Select the cell, and then press **`M`**.\n",
    "- Delete a cell: Press **`D`** twice.\n",
    "\n",
    "Need more help with keyboard shortcut? Press **`H`** to look it up.\n",
    "</div>"
   ]
  },
  {
   "cell_type": "markdown",
   "metadata": {
    "id": "14GYOKug7h5b"
   },
   "source": [
    "---"
   ]
  },
  {
   "cell_type": "markdown",
   "metadata": {
    "id": "CV0mEnva7h5c"
   },
   "source": [
    "# Lesson 4: Importing Data"
   ]
  },
  {
   "cell_type": "markdown",
   "metadata": {
    "id": "vRAywZ_a7h5c"
   },
   "source": [
    "We are going to go through these concepts in this module:"
   ]
  },
  {
   "cell_type": "markdown",
   "metadata": {
    "id": "PYaqAoqgjqDp"
   },
   "source": [
    "- [csv file](#csv-file)\n",
    "- [Preview dataset](#Preview-dataset)\n",
    "\n",
    "\n",
    "`🕒 This module should take about 10 minutes to complete.`\n",
    "\n",
    "`✍️ This notebook is written using Python.`"
   ]
  },
  {
   "cell_type": "markdown",
   "metadata": {
    "id": "dmR0v2p7jqET"
   },
   "source": [
    "## csv file\n",
    "Below, we will use pandas' read_csv() function to import a heart disease dataset. Pandas imports the dataset as a DataFrame."
   ]
  },
  {
   "cell_type": "code",
   "execution_count": null,
   "metadata": {
    "id": "nRz2-zMrxhBG"
   },
   "outputs": [],
   "source": [
    "import pandas as pd"
   ]
  },
  {
   "cell_type": "code",
   "execution_count": null,
   "metadata": {
    "id": "7oYb9wyAjqET"
   },
   "outputs": [],
   "source": [
    "df = pd.read_csv(\"data/heart_disease.csv\")"
   ]
  },
  {
   "cell_type": "markdown",
   "metadata": {
    "id": "Czu3M1PrjqET"
   },
   "source": [
    "## Preview dataset"
   ]
  },
  {
   "cell_type": "markdown",
   "metadata": {
    "id": "VvVw_sIljqET"
   },
   "source": [
    "### head()"
   ]
  },
  {
   "cell_type": "code",
   "execution_count": null,
   "metadata": {
    "id": "ip2ZZbmjjqET"
   },
   "outputs": [],
   "source": [
    "df.head()"
   ]
  },
  {
   "cell_type": "markdown",
   "metadata": {
    "id": "FFA9CpBNjqEU"
   },
   "source": [
    "<div class=\"alert alert-block alert-info\">\n",
    "<b>Dataset:</b> This heart disease dataset, from the University of California Irvine's Machine Learning Repository, enables the evaluation of some of the variables that may be predictive of heart disease. Datasets like this, which have a series of predictive variables (called \"features\" in data science) paired with a known outcome variable (called the \"target\"), are exteremly useful toward developing machine learning models that can be trained to accurately predict patient outcomes. For example, using this dataset, we could train a model to predict which patients are most likely to suffer from heart disease in the future and are at risk of having a heart attack or stroke.\n",
    "</div>"
   ]
  },
  {
   "cell_type": "markdown",
   "metadata": {
    "id": "r6_3TXJajqEU"
   },
   "source": [
    "### sample()\n",
    "Instead of having the DataFrame simply return the first five or last five rows, as head() and tail(), respectively, do, the DataFrame's sample() method returns a random sampling of rows from the dataset. The number passed to the method determines the number of rows returned."
   ]
  },
  {
   "cell_type": "code",
   "execution_count": null,
   "metadata": {
    "id": "YGrdT40SjqEU"
   },
   "outputs": [],
   "source": [
    "df.sample(10)"
   ]
  },
  {
   "cell_type": "markdown",
   "metadata": {
    "id": "JYK4jxChTJTq"
   },
   "source": [
    "---"
   ]
  },
  {
   "cell_type": "markdown",
   "metadata": {
    "id": "7xbiL2MWjqEi"
   },
   "source": [
    "# 🌟 Ready for the next one?\n",
    "<br>\n",
    "\n",
    "\n",
    "- [**Lesson 5: Data Exploration**](Lesson_5_Data_Exploration.ipynb)\n",
    "\n",
    "- [**Lesson 6: Data Transformation**](Lesson_6_Data_Transformation.ipynb)\n",
    "\n",
    "- [**Lesson 7: Data Analysis**](Lesson_7_Data_Analysis.ipynb)"
   ]
  },
  {
   "cell_type": "markdown",
   "metadata": {
    "id": "XQjJMNajjqEi"
   },
   "source": [
    "---"
   ]
  },
  {
   "cell_type": "markdown",
   "metadata": {
    "id": "ofFv5_wLjqEi"
   },
   "source": [
    "# Contributions & acknowledgment"
   ]
  },
  {
   "cell_type": "markdown",
   "metadata": {
    "id": "S6sMkfBZjqEi"
   },
   "source": [
    "Thanks Antony Ross for contributing the content for this notebook."
   ]
  },
  {
   "cell_type": "markdown",
   "metadata": {
    "id": "UkjIXqd6jqEj"
   },
   "source": [
    "---"
   ]
  },
  {
   "cell_type": "markdown",
   "metadata": {
    "id": "T2FtRP-ojqEj"
   },
   "source": [
    "Copyright (c) 2022 Stanford Data Ocean (SDO)\n",
    "\n",
    "All rights reserved."
   ]
  }
 ],
 "metadata": {
  "colab": {
   "collapsed_sections": [
    "dmR0v2p7jqET",
    "Czu3M1PrjqET",
    "VvVw_sIljqET",
    "r6_3TXJajqEU"
   ],
   "provenance": []
  },
  "kernelspec": {
   "display_name": "Python 3 (ipykernel)",
   "language": "python",
   "name": "python3"
  },
  "language_info": {
   "codemirror_mode": {
    "name": "ipython",
    "version": 3
   },
   "file_extension": ".py",
   "mimetype": "text/x-python",
   "name": "python",
   "nbconvert_exporter": "python",
   "pygments_lexer": "ipython3",
   "version": "3.10.12"
  }
 },
 "nbformat": 4,
 "nbformat_minor": 1
}
