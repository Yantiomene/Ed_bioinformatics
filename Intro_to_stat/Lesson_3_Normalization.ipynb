{
 "cells": [
  {
   "cell_type": "markdown",
   "id": "38e3e19b",
   "metadata": {
    "id": "38e3e19b",
    "scrolled": false
   },
   "source": [
    "<img src=\"materials/images/introduction-to-statistics-I-cover.png\"/>"
   ]
  },
  {
   "cell_type": "markdown",
   "id": "9be2cdf8",
   "metadata": {
    "id": "9be2cdf8"
   },
   "source": [
    "\n",
    "# 👋 Welcome, before you start\n",
    "<br>\n",
    "\n",
    "### 📚 Module overview\n",
    "\n",
    "    \n",
    "- [**Lesson 1: Central Tendency: Mean, Median, Mode**](Lesson_1_Central_Tendency__Mean_Median_Mode.ipynb)\n",
    "\n",
    "- [**Lesson 2: Standard Deviation**](Lesson_2_Standard_Deviation.ipynb)\n",
    "\n",
    "- <font color=E98300>**Lesson 3: Normalization**</font>    `📍You are here.`\n",
    "</br>\n",
    "\n",
    "\n",
    "<div class=\"alert alert-block alert-info\">\n",
    "<h3>⌨️ Keyboard shortcut</h3>\n",
    "\n",
    "These common shortcut could save your time going through this notebook:\n",
    "- Run the current cell: **`Enter + Shift`**.\n",
    "- Add a cell above the current cell: Press **`A`**.\n",
    "- Add a cell below the current cell: Press **`B`**.\n",
    "- Change a code cell to markdown cell: Select the cell, and then press **`M`**.\n",
    "- Delete a cell: Press **`D`** twice.\n",
    "\n",
    "Need more help with keyboard shortcut? Press **`H`** to look it up.\n",
    "</div>"
   ]
  },
  {
   "cell_type": "markdown",
   "id": "d5e7cf4c",
   "metadata": {
    "id": "d5e7cf4c"
   },
   "source": [
    "---"
   ]
  },
  {
   "cell_type": "markdown",
   "id": "5bde2b6a",
   "metadata": {
    "id": "5bde2b6a"
   },
   "source": [
    "# Lesson 3: Normalization"
   ]
  },
  {
   "cell_type": "markdown",
   "id": "YGnyPr6L_Yb4",
   "metadata": {
    "id": "YGnyPr6L_Yb4"
   },
   "source": [
    "`🕒 This module should take about 20 minutes to complete.`\n",
    "\n",
    "`✍️ This notebook is written using Python.`"
   ]
  },
  {
   "cell_type": "markdown",
   "id": "dd7d3ad4",
   "metadata": {
    "id": "dd7d3ad4"
   },
   "source": [
    "<mark>**Normalization**</mark>, in the **_general sense_**, refers to scaling our numeric columns to bring them into the **same terms** so that they fall within a smaller and standard range of values, making it easier to compare them. \n",
    "\n",
    "This is useful because data variables are typically measured in varied units with varied magnitudes. For example, a patient's age is measured in terms of years while heart rate is measured in terms of beats per minute. These variables are measured in completely different terms which makes it difficult to make a comparison as to which may be better or worse than the other."
   ]
  },
  {
   "cell_type": "markdown",
   "id": "cd379461",
   "metadata": {
    "id": "cd379461"
   },
   "source": [
    "However, normalization, in the **_specific sense_**, refers to scaling variables so that their values fall strictly between 0 and 1, making it easier to compare them. This is also known as min-max scaling."
   ]
  },
  {
   "cell_type": "markdown",
   "id": "fc3b82c0",
   "metadata": {
    "id": "fc3b82c0"
   },
   "source": [
    "## Normalization (min-max scaling)\n",
    "Normalization scales down the data values to between 0 and 1."
   ]
  },
  {
   "cell_type": "markdown",
   "id": "4dd01527",
   "metadata": {
    "id": "4dd01527"
   },
   "source": [
    "$$\\large\\ normalization = \\frac{X-X_{min}}{X_{max}-X_{min}}$$"
   ]
  },
  {
   "cell_type": "markdown",
   "id": "b6a3ebd3",
   "metadata": {
    "id": "b6a3ebd3"
   },
   "source": [
    "To normalize the values in the age column below, we first need to identify the minimum and maximum values."
   ]
  },
  {
   "cell_type": "markdown",
   "id": "3e332213",
   "metadata": {
    "id": "3e332213"
   },
   "source": [
    "<img src=\"materials/images/images_normalization/norm_1.png\"/>"
   ]
  },
  {
   "cell_type": "markdown",
   "id": "8a959e91",
   "metadata": {
    "id": "8a959e91"
   },
   "source": [
    "We then will need to calculate the difference between the maximum and minimum values (known as the <mark>range</mark>). In this case (74 - 29), the max-min difference is **45**. This becomes the denominator for our scaling."
   ]
  },
  {
   "cell_type": "markdown",
   "id": "5727cc70",
   "metadata": {
    "id": "5727cc70"
   },
   "source": [
    "<img src=\"materials/images/images_normalization/norm_2.png\"/>"
   ]
  },
  {
   "cell_type": "markdown",
   "id": "4df0a33c",
   "metadata": {
    "id": "4df0a33c"
   },
   "source": [
    "Now, let's try scaling the first age in the column. We will take 41 and subtract the minimum age from it."
   ]
  },
  {
   "cell_type": "markdown",
   "id": "3e091b24",
   "metadata": {
    "id": "3e091b24"
   },
   "source": [
    "<img src=\"materials/images/images_normalization/norm_3.png\"/>"
   ]
  },
  {
   "cell_type": "markdown",
   "id": "c5dd008b",
   "metadata": {
    "id": "c5dd008b"
   },
   "source": [
    "That's 41 - 29 which yields 12. So to scale the first age, we will divide 12 by 45 (the max-min difference calculated above). The scaled age would be **.27**."
   ]
  },
  {
   "cell_type": "markdown",
   "id": "9eac547c",
   "metadata": {
    "id": "9eac547c"
   },
   "source": [
    "<img src=\"materials/images/images_normalization/norm_4.png\"/>"
   ]
  },
  {
   "cell_type": "markdown",
   "id": "57cc2c3a",
   "metadata": {
    "id": "57cc2c3a"
   },
   "source": [
    "Following is a normalized version of the age column where all values are scaled to be between 0 and 1:"
   ]
  },
  {
   "cell_type": "markdown",
   "id": "af8d42ee",
   "metadata": {
    "id": "af8d42ee"
   },
   "source": [
    "<img src=\"materials/images/images_normalization/norm_5.png\"/>"
   ]
  },
  {
   "cell_type": "markdown",
   "id": "07ff0356",
   "metadata": {
    "id": "07ff0356"
   },
   "source": [
    "Normalization conveys the proportion of the range, from min to max, that is covered by a given value within a column. So, in our example, from 29 (min age) to 74 (max age), each age value will cover some proportion of that range, and that is its normalized value."
   ]
  },
  {
   "cell_type": "markdown",
   "id": "a228543a",
   "metadata": {
    "id": "a228543a"
   },
   "source": [
    "<img src=\"materials/images/images_normalization/norm_6.png\"/>"
   ]
  },
  {
   "cell_type": "markdown",
   "id": "fa240236",
   "metadata": {
    "id": "fa240236"
   },
   "source": [
    "<div class=\"alert alert-block alert-warning\">\n",
    "    <b>Note:</b> The <b>minimum age of 29</b> has a normalized value of 0 because it covers <b>0%</b> of the range from min age to max age. The <b>max age of 74</b> has a normalized value of 1 because it covers <b>100%</b> of that range.\n",
    "</div>"
   ]
  },
  {
   "cell_type": "markdown",
   "id": "a9b3719e",
   "metadata": {
    "id": "a9b3719e"
   },
   "source": [
    "---"
   ]
  },
  {
   "cell_type": "markdown",
   "id": "135fa385",
   "metadata": {
    "id": "135fa385"
   },
   "source": [
    "## Normalizing a sample heart disease dataset\n",
    "\n",
    "In the sample dataset below, \"age\", cholesterol (\"chol\"), and max heart rate (\"max_hr\") are all measured in different units and have different magnitudes and ranges of values. Let's <mark>**normalize**</mark> the dataset."
   ]
  },
  {
   "cell_type": "markdown",
   "id": "c8b93afc",
   "metadata": {
    "id": "c8b93afc"
   },
   "source": [
    "### ✅ `Run` each of the cells below:"
   ]
  },
  {
   "cell_type": "code",
   "execution_count": null,
   "id": "fUCTqT_Gw2w2",
   "metadata": {
    "id": "fUCTqT_Gw2w2"
   },
   "outputs": [],
   "source": [
    "import pandas as pd"
   ]
  },
  {
   "cell_type": "code",
   "execution_count": null,
   "id": "a351a423",
   "metadata": {
    "id": "a351a423"
   },
   "outputs": [],
   "source": [
    "df = pd.read_csv(\"data/data_normalization/heart-disease.csv\", usecols=[0,4,5])\n",
    "df.head()"
   ]
  },
  {
   "cell_type": "markdown",
   "id": "1148418b",
   "metadata": {
    "id": "1148418b"
   },
   "source": [
    "### The minimum value for each column:"
   ]
  },
  {
   "cell_type": "code",
   "execution_count": null,
   "id": "3e884790",
   "metadata": {
    "id": "3e884790"
   },
   "outputs": [],
   "source": [
    "df.min()"
   ]
  },
  {
   "cell_type": "markdown",
   "id": "f93ef031",
   "metadata": {
    "id": "f93ef031"
   },
   "source": [
    "### The maximum value for each column:"
   ]
  },
  {
   "cell_type": "code",
   "execution_count": null,
   "id": "c73c567a",
   "metadata": {
    "id": "c73c567a"
   },
   "outputs": [],
   "source": [
    "df.max()"
   ]
  },
  {
   "cell_type": "markdown",
   "id": "97e3dda6",
   "metadata": {
    "id": "97e3dda6"
   },
   "source": [
    "### The normalized dataset:"
   ]
  },
  {
   "cell_type": "code",
   "execution_count": null,
   "id": "242e30af",
   "metadata": {
    "id": "242e30af"
   },
   "outputs": [],
   "source": [
    "(df - df.min())/(df.max() - df.min())"
   ]
  },
  {
   "cell_type": "markdown",
   "id": "72af4106",
   "metadata": {
    "id": "72af4106"
   },
   "source": [
    "Each column is now in similar terms. Each of the values falls between 0 and 1, so we have a <mark>**better comparison for the magnitude**</mark> of a given value relative to the other columns."
   ]
  },
  {
   "cell_type": "markdown",
   "id": "495e0847",
   "metadata": {
    "id": "495e0847"
   },
   "source": [
    "---"
   ]
  },
  {
   "cell_type": "markdown",
   "id": "c50b2934",
   "metadata": {
    "id": "c50b2934"
   },
   "source": [
    "It should now be clear why normalizing values is useful. It's an effective way of comparing values that are measured in different units and it scales values down into a standard range. "
   ]
  },
  {
   "cell_type": "markdown",
   "id": "63729efd",
   "metadata": {
    "id": "63729efd"
   },
   "source": [
    "<div class=\"alert alert-block alert-success\">\n",
    "<b>Tip: </b>Another scaling technique that is used to transform variables so that they are in similar terms is called <b>standardization</b>. This technique scales values so that they are in terms of how far they are from their respective means (in terms of standard deviations). Rather than falling between 0 and 1 as normalization does, standardized values are scaled to fall typically between -3 and 3 (see Z-score).\n",
    "</div>"
   ]
  },
  {
   "cell_type": "markdown",
   "id": "3028c90b",
   "metadata": {
    "id": "3028c90b"
   },
   "source": [
    "---"
   ]
  },
  {
   "cell_type": "markdown",
   "id": "f2d2fe75",
   "metadata": {
    "id": "f2d2fe75"
   },
   "source": [
    "# 🌟 You are done!\n",
    "<br>\n",
    "Review previous lessons often to consolidate the learnings.\n",
    "\n",
    "    \n",
    "- [**Lesson 1: Central Tendency: Mean, Median, Mode**](Lesson_1_Central_Tendency__Mean_Median_Mode.ipynb)\n",
    "\n",
    "- [**Lesson 2: Standard Deviation**](Lesson_2_Standard_Deviation.ipynb)"
   ]
  },
  {
   "cell_type": "markdown",
   "id": "001556c0",
   "metadata": {
    "id": "001556c0"
   },
   "source": [
    "---"
   ]
  },
  {
   "cell_type": "markdown",
   "id": "afe68e99",
   "metadata": {
    "id": "afe68e99"
   },
   "source": [
    "# Contributions & acknowledgment"
   ]
  },
  {
   "cell_type": "markdown",
   "id": "190726d9",
   "metadata": {
    "id": "190726d9"
   },
   "source": [
    "Thanks Antony Ross for contributing the content for this notebook."
   ]
  },
  {
   "cell_type": "markdown",
   "id": "2a6a7461",
   "metadata": {
    "id": "2a6a7461"
   },
   "source": [
    "---"
   ]
  },
  {
   "cell_type": "markdown",
   "id": "971e31d1",
   "metadata": {
    "id": "971e31d1"
   },
   "source": [
    "Copyright (c) 2022 Stanford Data Ocean (SDO)\n",
    "\n",
    "All rights reserved."
   ]
  }
 ],
 "metadata": {
  "colab": {
   "provenance": []
  },
  "kernelspec": {
   "display_name": "Python 3 (ipykernel)",
   "language": "python",
   "name": "python3"
  },
  "language_info": {
   "codemirror_mode": {
    "name": "ipython",
    "version": 3
   },
   "file_extension": ".py",
   "mimetype": "text/x-python",
   "name": "python",
   "nbconvert_exporter": "python",
   "pygments_lexer": "ipython3",
   "version": "3.10.9"
  }
 },
 "nbformat": 4,
 "nbformat_minor": 5
}
