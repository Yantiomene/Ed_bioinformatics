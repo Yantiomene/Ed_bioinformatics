{
 "cells": [
  {
   "cell_type": "markdown",
   "id": "38e3e19b",
   "metadata": {
    "id": "38e3e19b",
    "scrolled": false
   },
   "source": [
    "<img src=\"materials/images/introduction-to-statistics-I-cover.png\"/>"
   ]
  },
  {
   "cell_type": "markdown",
   "id": "9be2cdf8",
   "metadata": {
    "id": "9be2cdf8"
   },
   "source": [
    "\n",
    "# 👋 Welcome, before you start\n",
    "<br>\n",
    "\n",
    "### 📚 Module overview\n",
    "\n",
    "    \n",
    "- [**Lesson 1: Central Tendency: Mean, Median, Mode**](Lesson_1_Central_Tendency__Mean_Median_Mode.ipynb)\n",
    "\n",
    "- <font color=E98300>**Lesson 2: Standard Deviation**</font>    `📍You are here.`\n",
    "    \n",
    "- [**Lesson 3: Normalization**](Lesson_3_Normalization.ipynb)\n",
    "</br>\n",
    "\n",
    "\n",
    "\n",
    "<div class=\"alert alert-block alert-info\">\n",
    "<h3>⌨️ Keyboard shortcut</h3>\n",
    "\n",
    "These common shortcut could save your time going through this notebook:\n",
    "- Run the current cell: **`Enter + Shift`**.\n",
    "- Add a cell above the current cell: Press **`A`**.\n",
    "- Add a cell below the current cell: Press **`B`**.\n",
    "- Change a code cell to markdown cell: Select the cell, and then press **`M`**.\n",
    "- Delete a cell: Press **`D`** twice.\n",
    "\n",
    "Need more help with keyboard shortcut? Press **`H`** to look it up.\n",
    "</div>"
   ]
  },
  {
   "cell_type": "markdown",
   "id": "fe40e0a7",
   "metadata": {
    "id": "fe40e0a7"
   },
   "source": [
    "---"
   ]
  },
  {
   "cell_type": "markdown",
   "id": "028d1535",
   "metadata": {
    "id": "028d1535"
   },
   "source": [
    "# Lesson 2: Standard Deviation"
   ]
  },
  {
   "cell_type": "markdown",
   "id": "JmDbNC_c_DhQ",
   "metadata": {
    "id": "JmDbNC_c_DhQ"
   },
   "source": [
    "`🕒 This module should take about 20 minutes to complete.`\n",
    "\n",
    "`✍️ This notebook is written using Python.`\n"
   ]
  },
  {
   "cell_type": "markdown",
   "id": "6d21b6c6",
   "metadata": {
    "id": "6d21b6c6"
   },
   "source": [
    "An important characteristic of datasets is how much variability exists among individual samples. Without a measure of variability, you can’t effectively compare two datasets. \n",
    "\n",
    "For example, if one dataset consists of the values <mark>[99, 100, 101]</mark>, and another dataset consists of the values <mark>[0, 100, 200]</mark>, they both have the same mean and median values of 100, yet they have very different amounts of variability. There is a large amount of variability in the second dataset compared to the first. \n",
    "\n",
    "The variability is often a defining characteristic of a dataset. The **`standard deviation`** is perhaps the most informative and certainly the most widely used measure of a dataset's variability.  Let's look at how it's calculated."
   ]
  },
  {
   "cell_type": "markdown",
   "id": "326973f7",
   "metadata": {
    "id": "326973f7"
   },
   "source": [
    "Let's use the ten values below to calculate the standard deviation of a dataset. We are interested in the average difference between each value in the distribution and the mean of the distribution. \n",
    "\n",
    "We first need to calculate the mean, as shown below."
   ]
  },
  {
   "cell_type": "markdown",
   "id": "3fd335a5",
   "metadata": {
    "id": "3fd335a5"
   },
   "source": [
    "<img src=\"materials/images/images_standard_deviation/stdev_1.png\"/>"
   ]
  },
  {
   "cell_type": "markdown",
   "id": "d108ac86",
   "metadata": {
    "id": "d108ac86"
   },
   "source": [
    "Next, the **average difference (or deviation)** is calculated by taking each individual value and subtracting the mean from that value. Once we calculate a deviation score for each individual value in the distribution, we can then sum the deviation scores and divide by n to get the average, which would be the standard deviation. \n",
    "\n",
    "However, there's one problem. Half of the deviation scores fall below the mean, and half fall above the mean. This means that when we sum these deviation scores together, we will get zero, as shown below. And zero divided by any number will be zero. Therefore, we need to do something to work around this issue."
   ]
  },
  {
   "cell_type": "markdown",
   "id": "5ff4b7ca",
   "metadata": {
    "id": "5ff4b7ca"
   },
   "source": [
    "<img src=\"materials/images/images_standard_deviation/stdev_2.png\"/>"
   ]
  },
  {
   "cell_type": "markdown",
   "id": "5d926be3",
   "metadata": {
    "id": "5d926be3"
   },
   "source": [
    "We can make each deviation score positive by squaring it. Hence, for each value in the distribution, we subtract the mean of the distribution and then square the deviation. We then add up all of these squared deviations, giving us the <mark>**sum of the squared deviations**</mark>. The calculations are shown below."
   ]
  },
  {
   "cell_type": "markdown",
   "id": "0596e7cf",
   "metadata": {
    "id": "0596e7cf"
   },
   "source": [
    "<img src=\"materials/images/images_standard_deviation/stdev_3.png\"/>"
   ]
  },
  {
   "cell_type": "markdown",
   "id": "9be06196",
   "metadata": {
    "id": "9be06196"
   },
   "source": [
    "<div class=\"alert alert-block alert-success\">\n",
    "    <b>Note:</b> In the image above, notice that the original column is named <b>\"Feature\"</b>. In bioinformatics, what some may call a column, field, or independent variable is called a \"feature\". A feature is the generic name for any column within a dataset. It will be helpful to get used to the terminology commonly used in data science and bioinformatics.\n",
    "</div>"
   ]
  },
  {
   "cell_type": "markdown",
   "id": "98aa14d6",
   "metadata": {
    "id": "98aa14d6"
   },
   "source": [
    "We next divide by n (the number of samples in the distribution) minus one to get the average of the squared deviations. This is known as the <mark>**variance**</mark>. See the calculation below."
   ]
  },
  {
   "cell_type": "markdown",
   "id": "a14b38bc",
   "metadata": {
    "id": "a14b38bc"
   },
   "source": [
    "<div class=\"alert alert-block alert-warning\">\n",
    "    <b>Alert:</b> To get the variance, if the dataset is a sample, then we divide the <b>sum of squares</b> by n-1. If the dataset is a population, then we divide by n. Here, we divide by n-1 (10 - 1 = 9) as we assume that this small dataset is a sample from a larger population. In brief, the reason that this is done is because most of the time we do not know the population average and we estimate it with the sample average. The sample average tends to underestimate the population average, so we compensate for this by dividing by n-1 rather than n.\n",
    "</div>\n",
    "\n"
   ]
  },
  {
   "cell_type": "markdown",
   "id": "8f919ca7",
   "metadata": {
    "id": "8f919ca7"
   },
   "source": [
    "<img src=\"materials/images/images_standard_deviation/stdev_4.png\"/>"
   ]
  },
  {
   "cell_type": "markdown",
   "id": "f6733228",
   "metadata": {
    "id": "f6733228"
   },
   "source": [
    "Because we previously needed to square each deviation score to avoid getting a sum of zero, we now need to reverse that process. This is accomplished by taking the square root of the variance, and the result gets our values back into their original terms. The <mark>**square root of the variance**</mark> is known as the <mark>**standard deviation**</mark>."
   ]
  },
  {
   "cell_type": "markdown",
   "id": "2d0bb98e",
   "metadata": {
    "id": "2d0bb98e"
   },
   "source": [
    "<img src=\"materials/images/images_standard_deviation/stdev_5.png\"/>"
   ]
  },
  {
   "cell_type": "markdown",
   "id": "041b2084",
   "metadata": {
    "id": "041b2084"
   },
   "source": [
    "<img src=\"materials/images/images_standard_deviation/stdev_6.png\"/>"
   ]
  },
  {
   "cell_type": "markdown",
   "id": "c24ad63b",
   "metadata": {
    "id": "c24ad63b"
   },
   "source": [
    "<div class=\"alert alert-block alert-success\">\n",
    "    <b>Note:</b> You rarely, if ever, will need to calculate the standard deviation on your own, but it can be instructive to understand how it's calculated and, particularly, what it means. It is a measure of, on average, <b>how much individual samples within a data set vary from the middle</b>. This enables us to <b>compare the columns within a data set</b> that may be measured on different scales. And it allows a to <b>compare differences between different data sets</b>.\n",
    "</div>"
   ]
  },
  {
   "cell_type": "markdown",
   "id": "9c359cd0",
   "metadata": {
    "id": "9c359cd0"
   },
   "source": [
    "---"
   ]
  },
  {
   "cell_type": "markdown",
   "id": "9bb2c407",
   "metadata": {
    "id": "9bb2c407"
   },
   "source": [
    "## Create the above sample dataset"
   ]
  },
  {
   "cell_type": "code",
   "execution_count": null,
   "id": "c4301cfc",
   "metadata": {
    "id": "c4301cfc"
   },
   "outputs": [],
   "source": [
    "import pandas as pd\n",
    "dataset = pd.DataFrame(data =[0, 1, 2, 3, 4, 5, 5, 6, 7, 7], columns = [\"numbers\"])"
   ]
  },
  {
   "cell_type": "markdown",
   "id": "6b111eeb",
   "metadata": {
    "id": "6b111eeb"
   },
   "source": [
    "### Preview the dataset"
   ]
  },
  {
   "cell_type": "code",
   "execution_count": null,
   "id": "60d12e32",
   "metadata": {
    "id": "60d12e32"
   },
   "outputs": [],
   "source": [
    "dataset"
   ]
  },
  {
   "cell_type": "markdown",
   "id": "3e06b034",
   "metadata": {
    "id": "3e06b034"
   },
   "source": [
    "### Display the standard deviation"
   ]
  },
  {
   "cell_type": "code",
   "execution_count": null,
   "id": "4caa9ce6",
   "metadata": {
    "id": "4caa9ce6"
   },
   "outputs": [],
   "source": [
    "dataset[\"numbers\"].std()"
   ]
  },
  {
   "cell_type": "markdown",
   "id": "17ae9660",
   "metadata": {
    "id": "17ae9660"
   },
   "source": [
    "---"
   ]
  },
  {
   "cell_type": "markdown",
   "id": "8024d7a6",
   "metadata": {
    "id": "8024d7a6"
   },
   "source": [
    "The standard deviation of a dataset represents the typical, or expected distance of a point in the dataset from the center. In other words, it is roughly the average distance of a data point from the center."
   ]
  },
  {
   "cell_type": "markdown",
   "id": "76264e43",
   "metadata": {
    "id": "76264e43"
   },
   "source": [
    " The standard deviation is extremely useful in helping us to understand our data. It effectively enables us to compare different data points within our dataset to each other. And it's especially effective in allowing us to compare values between different datasets."
   ]
  },
  {
   "cell_type": "markdown",
   "id": "ba54d024",
   "metadata": {
    "id": "ba54d024"
   },
   "source": [
    "\n",
    "The formula for the **`standard deviation`** of a dataset is:  \n",
    "\n",
    "\n",
    "$$\\Large\\sqrt[]{\\frac {\\Sigma (x_{i}-\\bar{x})^{2}}{n-1} }$$\n",
    "\n",
    "_Let's walk through the above formula and summarize what we've discussed: The numerator is simply the sum of the squared distance that each value is from the mean. We then divide that sum by n-1 (we'll assume that the data is a sample from larger a population) to get the average squared distance or deviation from the mean. Finally, because we squared the deviations from the mean, we'll now take the square root of the calculated quantity to undo the squaring and put everything back into the original terms._"
   ]
  },
  {
   "cell_type": "markdown",
   "id": "eaa4ff08",
   "metadata": {
    "id": "eaa4ff08"
   },
   "source": [
    "<div class=\"alert alert-block alert-info\">\n",
    "    <b>Tip:</b> You can think of the standard deviation as the expected range of values around the mean. For example, if you were interested in purchasing a used car, and you were unsure how much to pay for a given vehicle, you might ask a friend who had some experience with the cost of such car. That friend might respond with, \"Hmm, I would expect to pay around twelve thousand dollars, give or take a thousand.\" The <b>\"give or take a thousand\"</b> can be interpreted as <b>the standard deviation</b>--some reasonable or expected range of values around the expected cost.\n",
    "</div>"
   ]
  },
  {
   "cell_type": "markdown",
   "id": "8f34e6d3",
   "metadata": {
    "id": "8f34e6d3"
   },
   "source": [
    "<div class=\"alert alert-block alert-success\">\n",
    "    <b>Success:</b> The <b>mean</b> is interpreted as the expected value, and the <b>standard deviation</b> can be interpreted as the expected range of values around the mean.\n",
    "</div>"
   ]
  },
  {
   "cell_type": "markdown",
   "id": "001556c0",
   "metadata": {
    "id": "001556c0"
   },
   "source": [
    "---"
   ]
  },
  {
   "cell_type": "markdown",
   "id": "f6104400",
   "metadata": {
    "id": "f6104400"
   },
   "source": [
    "# 🌟 Ready for the next one?\n",
    "<br>\n",
    "\n",
    "\n",
    "- [**Lesson 3: Normalization**](Lesson_3_Normalization.ipynb)"
   ]
  },
  {
   "cell_type": "markdown",
   "id": "578445a3",
   "metadata": {
    "id": "578445a3"
   },
   "source": [
    "---"
   ]
  },
  {
   "cell_type": "markdown",
   "id": "afe68e99",
   "metadata": {
    "id": "afe68e99"
   },
   "source": [
    "# Contributions & acknowledgment"
   ]
  },
  {
   "cell_type": "markdown",
   "id": "190726d9",
   "metadata": {
    "id": "190726d9"
   },
   "source": [
    "Thanks Antony Ross for contributing the content for this notebook."
   ]
  },
  {
   "cell_type": "markdown",
   "id": "2a6a7461",
   "metadata": {
    "id": "2a6a7461"
   },
   "source": [
    "---"
   ]
  },
  {
   "cell_type": "markdown",
   "id": "1c180a32",
   "metadata": {
    "id": "1c180a32"
   },
   "source": [
    "Copyright (c) 2022 Stanford Data Ocean (SDO)\n",
    "\n",
    "All rights reserved."
   ]
  }
 ],
 "metadata": {
  "colab": {
   "provenance": []
  },
  "kernelspec": {
   "display_name": "Python 3 (ipykernel)",
   "language": "python",
   "name": "python3"
  },
  "language_info": {
   "codemirror_mode": {
    "name": "ipython",
    "version": 3
   },
   "file_extension": ".py",
   "mimetype": "text/x-python",
   "name": "python",
   "nbconvert_exporter": "python",
   "pygments_lexer": "ipython3",
   "version": "3.10.9"
  }
 },
 "nbformat": 4,
 "nbformat_minor": 5
}
