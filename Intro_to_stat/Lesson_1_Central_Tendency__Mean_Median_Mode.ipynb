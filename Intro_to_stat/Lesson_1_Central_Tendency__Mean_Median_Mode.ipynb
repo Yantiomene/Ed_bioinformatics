{
 "cells": [
  {
   "cell_type": "markdown",
   "id": "b43ff089",
   "metadata": {
    "id": "b43ff089",
    "scrolled": false
   },
   "source": [
    "<img src=\"materials/images/introduction-to-statistics-I-cover.png\"/>"
   ]
  },
  {
   "cell_type": "markdown",
   "id": "9be2cdf8",
   "metadata": {
    "id": "9be2cdf8"
   },
   "source": [
    "\n",
    "# 👋 Welcome, before you start\n",
    "<br>\n",
    "\n",
    "### 📚 Module overview\n",
    "\n",
    "We will go through three lessons with you:\n",
    "\n",
    "- <font color=#E98300>**Lesson 1: Central Tendency: Mean, Median, Mode**</font>    `📍You are here.`\n",
    "    \n",
    "- [**Lesson 2: Standard Deviation**](Lesson_2_Standard_Deviation.ipynb)\n",
    "    \n",
    "- [**Lesson 3: Normalization**](Lesson_3_Normalization.ipynb)\n",
    "</br>\n",
    "\n",
    "\n",
    "\n",
    "<div class=\"alert alert-block alert-info\">\n",
    "<h3>⌨️ Keyboard shortcut</h3>\n",
    "\n",
    "These common shortcut could save your time going through this notebook:\n",
    "- Run the current cell: **`Enter + Shift`**.\n",
    "- Add a cell above the current cell: Press **`A`**.\n",
    "- Add a cell below the current cell: Press **`B`**.\n",
    "- Change a code cell to markdown cell: Select the cell, and then press **`M`**.\n",
    "- Delete a cell: Press **`D`** twice.\n",
    "\n",
    "Need more help with keyboard shortcut? Press **`H`** to look it up.\n",
    "</div>"
   ]
  },
  {
   "cell_type": "markdown",
   "id": "68c4c3b0",
   "metadata": {
    "id": "68c4c3b0"
   },
   "source": [
    "---"
   ]
  },
  {
   "cell_type": "markdown",
   "id": "09418424",
   "metadata": {
    "id": "09418424"
   },
   "source": [
    "# Lesson 1: Central Tendency: Mean, Median, Mode"
   ]
  },
  {
   "cell_type": "markdown",
   "id": "0732eb7e",
   "metadata": {
    "id": "0732eb7e"
   },
   "source": [
    "`🕒 This module should take about 10 minutes to complete.`\n",
    "\n",
    "`✍️ This notebook is written using Python.`"
   ]
  },
  {
   "cell_type": "markdown",
   "id": "4cb20aba",
   "metadata": {
    "id": "4cb20aba"
   },
   "source": [
    "<img src=\"materials/images/images_central_tendency/dataset.png\"/>"
   ]
  },
  {
   "cell_type": "markdown",
   "id": "3f6c5710",
   "metadata": {
    "id": "3f6c5710"
   },
   "source": [
    "An effective way to understand a data distribution is to describe the center of the data--it's central tendency. The **mean**, **median** and **mode** are the fundamental ways to do this and are the most basic descriptive statistics functions. "
   ]
  },
  {
   "cell_type": "markdown",
   "id": "ecf71946",
   "metadata": {
    "id": "ecf71946"
   },
   "source": [
    "---"
   ]
  },
  {
   "cell_type": "markdown",
   "id": "27bb0301",
   "metadata": {
    "id": "27bb0301"
   },
   "source": [
    "### ✅ `Run` each of the cells below:"
   ]
  },
  {
   "cell_type": "markdown",
   "id": "4cfd1048",
   "metadata": {
    "id": "4cfd1048"
   },
   "source": [
    "## Create a basic data set\n",
    "We'll create a Pandas DataFrame containing ten values. We'll name the column \"numbers\"."
   ]
  },
  {
   "cell_type": "code",
   "execution_count": null,
   "id": "0b4fd304",
   "metadata": {
    "id": "0b4fd304",
    "scrolled": true
   },
   "outputs": [],
   "source": [
    "import pandas as pd\n",
    "dataset = pd.DataFrame(data =[0, 1, 2, 3, 4, 5, 5, 5, 7, 8], columns = [\"numbers\"])"
   ]
  },
  {
   "cell_type": "markdown",
   "id": "51ced677",
   "metadata": {
    "id": "51ced677"
   },
   "source": [
    "### Preview our dataset"
   ]
  },
  {
   "cell_type": "code",
   "execution_count": null,
   "id": "2d3fb7c0",
   "metadata": {
    "id": "2d3fb7c0",
    "scrolled": true
   },
   "outputs": [],
   "source": [
    "# The numbers on the right are the values in our dataset. \n",
    "# The numbers on the left are the index positions of the respective values.\n",
    "\n",
    "dataset[\"numbers\"]"
   ]
  },
  {
   "cell_type": "markdown",
   "id": "cd8958a4",
   "metadata": {
    "id": "cd8958a4"
   },
   "source": [
    "---"
   ]
  },
  {
   "cell_type": "markdown",
   "id": "69df9954",
   "metadata": {
    "id": "69df9954"
   },
   "source": [
    "# Mean"
   ]
  },
  {
   "cell_type": "markdown",
   "id": "c2aec1d1",
   "metadata": {
    "id": "c2aec1d1"
   },
   "source": [
    "<img src=\"materials/images/images_central_tendency/mean.png\"/>"
   ]
  },
  {
   "cell_type": "markdown",
   "id": "fcf73ad6",
   "metadata": {
    "id": "fcf73ad6"
   },
   "source": [
    "The **<mark>mean</mark>** is the average of a set of values. To attain the mean value, we sum the values and then divide by the number of values. The mean of our dataset is **<mark>4.0</mark>**. \n",
    "\n",
    "The mean is useful because it typically indicates where the \"center of gravity\" is for a set of values."
   ]
  },
  {
   "cell_type": "markdown",
   "id": "fc80b02e",
   "metadata": {
    "id": "fc80b02e"
   },
   "source": [
    "### Sum the values"
   ]
  },
  {
   "cell_type": "code",
   "execution_count": null,
   "id": "87ddaf0b",
   "metadata": {
    "id": "87ddaf0b",
    "scrolled": true
   },
   "outputs": [],
   "source": [
    "# sum() is the method that adds up a set of values.\n",
    "\n",
    "dataset[\"numbers\"].sum()"
   ]
  },
  {
   "cell_type": "markdown",
   "id": "3dc1c107",
   "metadata": {
    "id": "3dc1c107"
   },
   "source": [
    "### Get the number of values"
   ]
  },
  {
   "cell_type": "code",
   "execution_count": null,
   "id": "74252a50",
   "metadata": {
    "id": "74252a50",
    "scrolled": true
   },
   "outputs": [],
   "source": [
    "# len() is the \"length\" function and returns how many values are in the dataset passed to it.\n",
    "\n",
    "len(dataset[\"numbers\"])"
   ]
  },
  {
   "cell_type": "markdown",
   "id": "0298fa02",
   "metadata": {
    "id": "0298fa02"
   },
   "source": [
    "### Calculate the mean value"
   ]
  },
  {
   "cell_type": "code",
   "execution_count": null,
   "id": "8e6d5c10",
   "metadata": {
    "id": "8e6d5c10",
    "scrolled": true
   },
   "outputs": [],
   "source": [
    "dataset[\"numbers\"].sum()/len(dataset)"
   ]
  },
  {
   "cell_type": "markdown",
   "id": "009f6106",
   "metadata": {
    "id": "009f6106"
   },
   "source": [
    "### Get the mean value"
   ]
  },
  {
   "cell_type": "code",
   "execution_count": null,
   "id": "cb3083c0",
   "metadata": {
    "id": "cb3083c0",
    "scrolled": true
   },
   "outputs": [],
   "source": [
    "# mean() is the method that returns the average value of a set of values.\n",
    "\n",
    "dataset[\"numbers\"].mean()"
   ]
  },
  {
   "cell_type": "markdown",
   "id": "c9b9c878",
   "metadata": {
    "id": "c9b9c878"
   },
   "source": [
    "---"
   ]
  },
  {
   "cell_type": "markdown",
   "id": "efa4ab99",
   "metadata": {
    "id": "efa4ab99"
   },
   "source": [
    "# Median"
   ]
  },
  {
   "cell_type": "markdown",
   "id": "8592f3cd",
   "metadata": {
    "id": "8592f3cd"
   },
   "source": [
    "<img src=\"materials/images/images_central_tendency/median.png\"/>"
   ]
  },
  {
   "cell_type": "markdown",
   "id": "26c09df3",
   "metadata": {
    "id": "26c09df3"
   },
   "source": [
    "If our values are ordered (as the values in our dataset are), the **<mark>median</mark>** is the middle-most value if there are an odd number of values. If there are an even number of values, then we average the two center-most values. In our dataset, we have an even number of values so we will average the two center values ( 4 and 5) to attain a median value of **<mark>4.5</mark>**. This value is slightly different from our mean value, but is another way to describe the center of our data.\n",
    "\n",
    "The median is useful in that, unlike the mean, it is fairly unaffected by outliers."
   ]
  },
  {
   "cell_type": "markdown",
   "id": "f9ab6847",
   "metadata": {
    "id": "f9ab6847"
   },
   "source": [
    "### Get the median value"
   ]
  },
  {
   "cell_type": "code",
   "execution_count": null,
   "id": "3651003c",
   "metadata": {
    "id": "3651003c",
    "scrolled": true
   },
   "outputs": [],
   "source": [
    "dataset[\"numbers\"].median()"
   ]
  },
  {
   "cell_type": "markdown",
   "id": "ff2f02d1",
   "metadata": {
    "id": "ff2f02d1"
   },
   "source": [
    "---"
   ]
  },
  {
   "cell_type": "markdown",
   "id": "cbf5239b",
   "metadata": {
    "id": "cbf5239b"
   },
   "source": [
    "# Mode"
   ]
  },
  {
   "cell_type": "markdown",
   "id": "11fd8412",
   "metadata": {
    "id": "11fd8412"
   },
   "source": [
    "<img src=\"materials/images/images_central_tendency/mode.png\"/>"
   ]
  },
  {
   "cell_type": "markdown",
   "id": "c2148ad9",
   "metadata": {
    "id": "c2148ad9"
   },
   "source": [
    "The **<mark>mode</mark>** is the most frequently occurring value or set of values. If any values are tied in terms of their frequency, then those values will be reported as modes together, and the dataset is said to be bimodal or multimodal. It's most useful when your data is repetitive and you want to identify which values occur most frequently. For our dataset, the most frequently occuring value is **<mark>5</mark>**.\n",
    "\n",
    "Our mode value is a little different from both the mean (4.0) and median (4.5) values, but can also be used to describe the central tendency of a dataset."
   ]
  },
  {
   "cell_type": "markdown",
   "id": "bf55c844",
   "metadata": {
    "id": "bf55c844"
   },
   "source": [
    "### Get the mode value"
   ]
  },
  {
   "cell_type": "code",
   "execution_count": null,
   "id": "64784fcd",
   "metadata": {
    "id": "64784fcd",
    "scrolled": true
   },
   "outputs": [],
   "source": [
    "# mode() is the method that returns the most frequently occuring value(s) within a set of values.\n",
    "\n",
    "dataset[\"numbers\"].mode()[0]"
   ]
  },
  {
   "cell_type": "markdown",
   "id": "8c58446d",
   "metadata": {
    "id": "8c58446d"
   },
   "source": [
    "Using these measures (**`mean, median`, and `mode`**), we can summarize and get a basic underdstanding of our data. Although these measures of central tendency are limitated in the information they provide, they are an effective starting point for describing our data."
   ]
  },
  {
   "cell_type": "markdown",
   "id": "f1233e83",
   "metadata": {
    "id": "f1233e83"
   },
   "source": [
    "---"
   ]
  },
  {
   "cell_type": "markdown",
   "id": "2f5529aa",
   "metadata": {
    "id": "2f5529aa"
   },
   "source": [
    "# <p style=\"text-align: center;\">Comparing mean, median, and mode</p>"
   ]
  },
  {
   "cell_type": "markdown",
   "id": "f4beb3d6",
   "metadata": {
    "id": "f4beb3d6"
   },
   "source": [
    "<img src=\"materials/images/images_central_tendency/normal.png\"/>"
   ]
  },
  {
   "cell_type": "markdown",
   "id": "053e71e0",
   "metadata": {
    "id": "053e71e0"
   },
   "source": [
    "If our data is normally distributed with a bell-shaped curve, then the **mean**, **median** and **mode** are nearly identical."
   ]
  },
  {
   "cell_type": "markdown",
   "id": "eb5220be",
   "metadata": {
    "id": "eb5220be"
   },
   "source": [
    "<img src=\"materials/images/images_central_tendency/skew.png\"/>"
   ]
  },
  {
   "cell_type": "markdown",
   "id": "c34e0a4d",
   "metadata": {
    "id": "c34e0a4d"
   },
   "source": [
    "However, if there are extreme outliers (a value that is much higher or lower than the rest of the values), they will cause the **mean** to shift significantly in the direction of the outliers, whereas the **median** is fairly unaffected. "
   ]
  },
  {
   "cell_type": "markdown",
   "id": "7a1f63dc",
   "metadata": {
    "id": "7a1f63dc"
   },
   "source": [
    "<div class=\"alert alert-block alert-warning\">\n",
    "    <b>Alert:</b> When the <mark>mean</mark> and <mark>median</mark> have a wide difference between them, that means the data is skewed and there are outliers present.\n",
    "</div>"
   ]
  },
  {
   "cell_type": "markdown",
   "id": "641c8510",
   "metadata": {
    "id": "641c8510"
   },
   "source": [
    "Therefore, the **median** is especially useful when the **mean** is skewed by outliers -- it can more accurately describe the center of the data."
   ]
  },
  {
   "cell_type": "markdown",
   "id": "471a3c59",
   "metadata": {
    "id": "471a3c59"
   },
   "source": [
    "<div class=\"alert alert-block alert-info\">\n",
    "<b>Tip:</b> Feel free to edit the sample numbers and observe how it affects the mean, median, and mode. You will notice that if you skew the data with very large or very small values, the median is fairly unaffected, while the mean will be pulled in the direction of the outlier. \n",
    "</div>"
   ]
  },
  {
   "cell_type": "markdown",
   "id": "ade7052b",
   "metadata": {
    "id": "ade7052b"
   },
   "source": [
    "The NightSignal Algorithm uses wearable data to detect pre-symptomatic and asymptomatic COVID-19 infections. The **NightSignal Algorithm** module on the Research page provides an example of the use of central tendency. \n",
    "\n",
    "It calculates the average resting heart rate (RHR) overnight each day for each individual, and then uses the **`median`**  value as the healthy baseline. The median often gives a better sense of what a “typical” value is, which helps provide an intuition about the dataset. "
   ]
  },
  {
   "cell_type": "markdown",
   "id": "ddb04e82",
   "metadata": {
    "id": "ddb04e82"
   },
   "source": [
    "---"
   ]
  },
  {
   "cell_type": "markdown",
   "id": "e47f6533",
   "metadata": {
    "id": "e47f6533"
   },
   "source": [
    "# 🌟 Ready for the next one?\n",
    "<br>\n",
    "\n",
    "- [**Lesson 2: Standard Deviation**](Lesson_2_Standard_Deviation.ipynb)\n",
    "    \n",
    "- [**Lesson 3: Normalization**](Lesson_3_Normalization.ipynb)"
   ]
  },
  {
   "cell_type": "markdown",
   "id": "2da5dadf",
   "metadata": {
    "id": "2da5dadf"
   },
   "source": [
    "---"
   ]
  },
  {
   "cell_type": "markdown",
   "id": "afe68e99",
   "metadata": {
    "id": "afe68e99"
   },
   "source": [
    "# Contributions & acknowledgment"
   ]
  },
  {
   "cell_type": "markdown",
   "id": "190726d9",
   "metadata": {
    "id": "190726d9"
   },
   "source": [
    "Thanks Antony Ross for contributing the content for this notebook."
   ]
  },
  {
   "cell_type": "markdown",
   "id": "2a6a7461",
   "metadata": {
    "id": "2a6a7461"
   },
   "source": [
    "---"
   ]
  },
  {
   "cell_type": "markdown",
   "id": "434948b0",
   "metadata": {
    "id": "434948b0"
   },
   "source": [
    "Copyright (c) 2022 Stanford Data Ocean (SDO)\n",
    "\n",
    "All rights reserved."
   ]
  }
 ],
 "metadata": {
  "colab": {
   "provenance": []
  },
  "kernelspec": {
   "display_name": "Python 3 (ipykernel)",
   "language": "python",
   "name": "python3"
  },
  "language_info": {
   "codemirror_mode": {
    "name": "ipython",
    "version": 3
   },
   "file_extension": ".py",
   "mimetype": "text/x-python",
   "name": "python",
   "nbconvert_exporter": "python",
   "pygments_lexer": "ipython3",
   "version": "3.10.9"
  }
 },
 "nbformat": 4,
 "nbformat_minor": 5
}
